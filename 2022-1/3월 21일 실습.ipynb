{
 "cells": [
  {
   "cell_type": "code",
   "execution_count": 1,
   "id": "af5bed36",
   "metadata": {},
   "outputs": [
    {
     "name": "stdout",
     "output_type": "stream",
     "text": [
      "56088\n"
     ]
    }
   ],
   "source": [
    "print(123*456)"
   ]
  },
  {
   "cell_type": "code",
   "execution_count": 5,
   "id": "31549a93",
   "metadata": {},
   "outputs": [
    {
     "name": "stdout",
     "output_type": "stream",
     "text": [
      "8\n"
     ]
    }
   ],
   "source": [
    "print(2**3)"
   ]
  },
  {
   "cell_type": "code",
   "execution_count": null,
   "id": "ad396fe2",
   "metadata": {},
   "outputs": [],
   "source": [
    "#//와 %\n",
    "print(5048/123)\n",
    "print(33%5)"
   ]
  },
  {
   "cell_type": "markdown",
   "id": "8da18047",
   "metadata": {},
   "source": [
    "# 논리연산"
   ]
  },
  {
   "cell_type": "code",
   "execution_count": 8,
   "id": "2d2c1a7e",
   "metadata": {},
   "outputs": [
    {
     "name": "stdout",
     "output_type": "stream",
     "text": [
      "True\n",
      "False\n",
      "True\n"
     ]
    }
   ],
   "source": [
    "# True or False\n",
    "# and, or, not\n",
    "print(True or False)\n",
    "print(False or False)\n",
    "print(False or True)"
   ]
  },
  {
   "cell_type": "code",
   "execution_count": 9,
   "id": "051cd2c7",
   "metadata": {},
   "outputs": [
    {
     "name": "stdout",
     "output_type": "stream",
     "text": [
      "False\n",
      "True\n"
     ]
    }
   ],
   "source": [
    "#not - 부정(원래의 것을 반대로 생각)\n",
    "print(not True)\n",
    "print(not False)"
   ]
  },
  {
   "cell_type": "code",
   "execution_count": 10,
   "id": "280483ba",
   "metadata": {},
   "outputs": [
    {
     "name": "stdout",
     "output_type": "stream",
     "text": [
      "False\n"
     ]
    }
   ],
   "source": [
    "print(7!=7)"
   ]
  },
  {
   "cell_type": "code",
   "execution_count": 11,
   "id": "8b98bf0e",
   "metadata": {},
   "outputs": [
    {
     "name": "stdout",
     "output_type": "stream",
     "text": [
      "True\n"
     ]
    }
   ],
   "source": [
    "print(1>=1)"
   ]
  },
  {
   "cell_type": "code",
   "execution_count": 15,
   "id": "2edfc5b9",
   "metadata": {},
   "outputs": [
    {
     "name": "stdout",
     "output_type": "stream",
     "text": [
      "True\n"
     ]
    }
   ],
   "source": [
    "#객체비교\n",
    "print(1==1.0)"
   ]
  },
  {
   "cell_type": "markdown",
   "id": "b113e81e",
   "metadata": {},
   "source": [
    "# 변수(Variables)"
   ]
  },
  {
   "cell_type": "code",
   "execution_count": 16,
   "id": "292819b7",
   "metadata": {},
   "outputs": [
    {
     "name": "stdout",
     "output_type": "stream",
     "text": [
      "155\n"
     ]
    },
    {
     "data": {
      "text/plain": [
       "int"
      ]
     },
     "execution_count": 16,
     "metadata": {},
     "output_type": "execute_result"
    }
   ],
   "source": [
    "x=155\n",
    "print(x)\n",
    "type(x)"
   ]
  },
  {
   "cell_type": "code",
   "execution_count": 18,
   "id": "efebcac6",
   "metadata": {},
   "outputs": [
    {
     "name": "stdout",
     "output_type": "stream",
     "text": [
      "Hello Python\n"
     ]
    },
    {
     "data": {
      "text/plain": [
       "str"
      ]
     },
     "execution_count": 18,
     "metadata": {},
     "output_type": "execute_result"
    }
   ],
   "source": [
    "y=\"Hello Python\"\n",
    "print(y)\n",
    "type(y)"
   ]
  },
  {
   "cell_type": "code",
   "execution_count": 19,
   "id": "ade19d06",
   "metadata": {},
   "outputs": [
    {
     "name": "stdout",
     "output_type": "stream",
     "text": [
      "100\n",
      "200\n",
      "300\n"
     ]
    }
   ],
   "source": [
    "x,y,z=100,200,300\n",
    "print(x)\n",
    "print(y)\n",
    "print(z)"
   ]
  },
  {
   "cell_type": "code",
   "execution_count": 20,
   "id": "afaebc86",
   "metadata": {},
   "outputs": [
    {
     "ename": "NameError",
     "evalue": "name 'x' is not defined",
     "output_type": "error",
     "traceback": [
      "\u001b[1;31m---------------------------------------------------------------------------\u001b[0m",
      "\u001b[1;31mNameError\u001b[0m                                 Traceback (most recent call last)",
      "\u001b[1;32m~\\AppData\\Local\\Temp/ipykernel_10628/3147098456.py\u001b[0m in \u001b[0;36m<module>\u001b[1;34m\u001b[0m\n\u001b[0;32m      1\u001b[0m \u001b[0mx\u001b[0m\u001b[1;33m=\u001b[0m\u001b[1;36m10\u001b[0m\u001b[1;33m\u001b[0m\u001b[1;33m\u001b[0m\u001b[0m\n\u001b[0;32m      2\u001b[0m \u001b[1;32mdel\u001b[0m \u001b[0mx\u001b[0m\u001b[1;33m\u001b[0m\u001b[1;33m\u001b[0m\u001b[0m\n\u001b[1;32m----> 3\u001b[1;33m \u001b[0mprint\u001b[0m\u001b[1;33m(\u001b[0m\u001b[0mx\u001b[0m\u001b[1;33m)\u001b[0m\u001b[1;33m\u001b[0m\u001b[1;33m\u001b[0m\u001b[0m\n\u001b[0m",
      "\u001b[1;31mNameError\u001b[0m: name 'x' is not defined"
     ]
    }
   ],
   "source": [
    "x=10\n",
    "del x\n",
    "print(x)"
   ]
  },
  {
   "cell_type": "markdown",
   "id": "ef90eb5f",
   "metadata": {},
   "source": [
    "# 자료형"
   ]
  },
  {
   "cell_type": "code",
   "execution_count": 21,
   "id": "b83da8d9",
   "metadata": {},
   "outputs": [
    {
     "name": "stdout",
     "output_type": "stream",
     "text": [
      "10\n"
     ]
    },
    {
     "data": {
      "text/plain": [
       "int"
      ]
     },
     "execution_count": 21,
     "metadata": {},
     "output_type": "execute_result"
    }
   ],
   "source": [
    "#숫자: 정수, 실수, 복소수\n",
    "int_var1=10\n",
    "print(int_var1)\n",
    "type(int_var1)"
   ]
  },
  {
   "cell_type": "code",
   "execution_count": 23,
   "id": "42fe1ebf",
   "metadata": {},
   "outputs": [
    {
     "name": "stdout",
     "output_type": "stream",
     "text": [
      "15.2\n"
     ]
    },
    {
     "data": {
      "text/plain": [
       "float"
      ]
     },
     "execution_count": 23,
     "metadata": {},
     "output_type": "execute_result"
    }
   ],
   "source": [
    "float_var1=15.20\n",
    "print(float_var1)\n",
    "type(float_var1)"
   ]
  },
  {
   "cell_type": "code",
   "execution_count": 24,
   "id": "d116c723",
   "metadata": {},
   "outputs": [
    {
     "name": "stdout",
     "output_type": "stream",
     "text": [
      "3.14j\n"
     ]
    },
    {
     "data": {
      "text/plain": [
       "complex"
      ]
     },
     "execution_count": 24,
     "metadata": {},
     "output_type": "execute_result"
    }
   ],
   "source": [
    "complex_var1=3.14j\n",
    "print(complex_var1)\n",
    "type(complex_var1)"
   ]
  },
  {
   "cell_type": "markdown",
   "id": "eedbe884",
   "metadata": {},
   "source": [
    "# 문자형"
   ]
  },
  {
   "cell_type": "code",
   "execution_count": 25,
   "id": "907d54a0",
   "metadata": {},
   "outputs": [
    {
     "name": "stdout",
     "output_type": "stream",
     "text": [
      "Hello World!\n",
      "1\n"
     ]
    },
    {
     "data": {
      "text/plain": [
       "str"
      ]
     },
     "execution_count": 25,
     "metadata": {},
     "output_type": "execute_result"
    }
   ],
   "source": [
    "str=\"Hello World!\"\n",
    "str2=\"1\"\n",
    "print(str)\n",
    "print(str2)\n",
    "type(str2)"
   ]
  },
  {
   "cell_type": "code",
   "execution_count": 26,
   "id": "96337efb",
   "metadata": {},
   "outputs": [
    {
     "name": "stdout",
     "output_type": "stream",
     "text": [
      "H\n",
      "llo\n"
     ]
    }
   ],
   "source": [
    "#index\n",
    "print(str[0])\n",
    "print(str[2:5])"
   ]
  },
  {
   "cell_type": "code",
   "execution_count": 27,
   "id": "8b2569e2",
   "metadata": {},
   "outputs": [
    {
     "name": "stdout",
     "output_type": "stream",
     "text": [
      "World!\n",
      "Hello World!\n",
      "Hel\n"
     ]
    }
   ],
   "source": [
    "#[:]\n",
    "print(str[6:])\n",
    "print(str[0:]) \n",
    "print(str[:3]) # 마지막 거는 뺌"
   ]
  },
  {
   "cell_type": "markdown",
   "id": "030988c7",
   "metadata": {},
   "source": [
    "# 복합데이터형\n"
   ]
  },
  {
   "cell_type": "code",
   "execution_count": 34,
   "id": "14a77fbc",
   "metadata": {},
   "outputs": [
    {
     "name": "stdout",
     "output_type": "stream",
     "text": [
      "('abc', 786, 2.23)\n",
      "abc\n",
      "('abc', 786, 2.23)\n",
      "(786, 2.23)\n",
      "('abc', 786, 2.23, 'abc', 786, 2.23)\n",
      "('abc', 786, 2.23, 123, 'john')\n"
     ]
    }
   ],
   "source": [
    "### 튜플: 값의 삽입 삭제 불가능, 한 번 만들면 끝\n",
    "tuple=(\"abc\",786,2.23)\n",
    "print(tuple)\n",
    "type(tuple)\n",
    "\n",
    "#tuple의 index\n",
    "print(tuple[0])\n",
    "\n",
    "#연속 index 활용\n",
    "print(tuple[0:])\n",
    "print(tuple[1:])\n",
    "\n",
    "#tuple 반복, 합치기\n",
    "tuple2=(123,\"john\")\n",
    "print(tuple*2)\n",
    "print(tuple+tuple2) "
   ]
  },
  {
   "cell_type": "code",
   "execution_count": null,
   "id": "03d7d4b5",
   "metadata": {},
   "outputs": [],
   "source": [
    "### 리스트\n",
    "list=[\"abcd\",786,2.53]\n",
    "list2=[123,\"john\"]\n",
    "print(list)\n",
    "#튜플과 실습 똑같음..ㅋㅋ\n"
   ]
  },
  {
   "cell_type": "code",
   "execution_count": 46,
   "id": "18403853",
   "metadata": {},
   "outputs": [
    {
     "name": "stdout",
     "output_type": "stream",
     "text": [
      "{'one': 'this is one!', 'two': 'this is two!'}\n",
      "{'name': 'john', 2: '6734'}\n",
      "6734\n",
      "dict_keys(['one', 'two'])\n",
      "dict_values(['this is one!', 'this is two!'])\n"
     ]
    }
   ],
   "source": [
    "### 딕셔너리\n",
    "dict={} #사전 초기화, 틀 형성\n",
    "dict[\"one\"]=\"this is one!\" #키-값\n",
    "dict[\"two\"]=\"this is two!\"\n",
    "\n",
    "print(dict)\n",
    "\n",
    "dict2={\"name\":\"john\",2:\"6734\"}\n",
    "print(dict2)\n",
    "print(dict2[2]) #해당 키의 값 뽑아내기\n",
    "\n",
    "print(dict.keys()) #키만\n",
    "print(dict.values()) #값만"
   ]
  }
 ],
 "metadata": {
  "kernelspec": {
   "display_name": "Python 3 (ipykernel)",
   "language": "python",
   "name": "python3"
  },
  "language_info": {
   "codemirror_mode": {
    "name": "ipython",
    "version": 3
   },
   "file_extension": ".py",
   "mimetype": "text/x-python",
   "name": "python",
   "nbconvert_exporter": "python",
   "pygments_lexer": "ipython3",
   "version": "3.9.7"
  }
 },
 "nbformat": 4,
 "nbformat_minor": 5
}
