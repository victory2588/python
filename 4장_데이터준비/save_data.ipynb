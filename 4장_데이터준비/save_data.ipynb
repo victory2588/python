{
 "cells": [
  {
   "cell_type": "code",
   "execution_count": 11,
   "metadata": {},
   "outputs": [],
   "source": [
    "import pandas as pd    # import 후\n",
    "file_path='C:/python_data/4장데이터/bicycle.csv'\n",
    "df=pd.read_csv(file_path,encoding='euc-kr')"
   ]
  },
  {
   "attachments": {},
   "cell_type": "markdown",
   "metadata": {},
   "source": [
    "### CSV 파일로 저장"
   ]
  },
  {
   "cell_type": "code",
   "execution_count": 12,
   "metadata": {},
   "outputs": [],
   "source": [
    "df.to_csv('C:/python_data/4장데이터/bicycle_copy.csv')"
   ]
  },
  {
   "attachments": {},
   "cell_type": "markdown",
   "metadata": {},
   "source": [
    "### 저장한 CSV 불러오기"
   ]
  },
  {
   "cell_type": "code",
   "execution_count": 10,
   "metadata": {},
   "outputs": [
    {
     "name": "stdout",
     "output_type": "stream",
     "text": [
      "     Unnamed: 0      자전거번호              대여일시  대여소번호               대여소명  대여거치대  \\\n",
      "0             0  SPB-23220   2019-11-01 8:48    646  장한평역 1번출구 (국민은행앞)    3.0   \n",
      "1             1  SPB-16216   2019-11-04 8:38    646  장한평역 1번출구 (국민은행앞)    2.0   \n",
      "2             2  SPB-21097   2019-11-04 8:46    646  장한평역 1번출구 (국민은행앞)    1.0   \n",
      "3             3  SPB-22292   2019-11-05 8:34    646  장한평역 1번출구 (국민은행앞)    1.0   \n",
      "4             4  SPB-07935  2019-11-05 12:29    512        뚝섬역 1번 출구 옆   11.0   \n",
      "..          ...        ...               ...    ...                ...    ...   \n",
      "415         415  SPB-12116   2019-11-15 4:22    112            극동방송국 앞    5.0   \n",
      "416         416  SPB-17768   2019-11-15 9:31    103         망원역 2번출구 앞   14.0   \n",
      "417         417  SPB-18841  2019-11-15 20:40    113       홍대입구역 2번출구 앞   24.0   \n",
      "418         418  SPB-24467  2019-11-15 21:55    152         마포구민체육센터 앞   18.0   \n",
      "419         419  SPB-17570  2019-11-15 22:16    391              정동길입구    7.0   \n",
      "\n",
      "                 반납일시  반납대여소번호       반납대여소명  반납거치대  이용시간    이용거리  \n",
      "0     2019-11-01 9:01        3         중랑센터    7.0  12.0  1100.0  \n",
      "1     2019-11-04 8:56        3         중랑센터    2.0   7.0  1420.0  \n",
      "2     2019-11-04 8:57        3         중랑센터    7.0  10.0     NaN  \n",
      "3     2019-11-05 8:45        3         중랑센터    NaN  10.0  1380.0  \n",
      "4    2019-11-05 12:39        3         중랑센터    7.0  10.0  1650.0  \n",
      "..                ...      ...          ...    ...   ...     ...  \n",
      "415   2019-11-15 4:33      101  (구)합정동 주민센터    1.0  11.0  2200.0  \n",
      "416   2019-11-15 9:37      101  (구)합정동 주민센터    NaN   5.0     NaN  \n",
      "417  2019-11-15 20:53      101  (구)합정동 주민센터    1.0  12.0  2280.0  \n",
      "418  2019-11-15 22:05      101  (구)합정동 주민센터    1.0  10.0  1180.0  \n",
      "419  2019-11-15 23:04      101  (구)합정동 주민센터    5.0  48.0  8100.0  \n",
      "\n",
      "[420 rows x 12 columns]\n"
     ]
    }
   ],
   "source": [
    "file_path2='C:/python_data/4장데이터/bicycle_copy.csv'\n",
    "df2=pd.read_csv(file_path2)\n",
    "print(df2)"
   ]
  }
 ],
 "metadata": {
  "kernelspec": {
   "display_name": "Python 3",
   "language": "python",
   "name": "python3"
  },
  "language_info": {
   "codemirror_mode": {
    "name": "ipython",
    "version": 3
   },
   "file_extension": ".py",
   "mimetype": "text/x-python",
   "name": "python",
   "nbconvert_exporter": "python",
   "pygments_lexer": "ipython3",
   "version": "3.10.9"
  },
  "orig_nbformat": 4,
  "vscode": {
   "interpreter": {
    "hash": "253cd15c32ffb283b0558be93b097dc27093fe6b891853f454fa08d2f15e4a97"
   }
  }
 },
 "nbformat": 4,
 "nbformat_minor": 2
}
