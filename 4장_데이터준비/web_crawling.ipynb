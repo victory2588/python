{
 "cells": [
  {
   "attachments": {},
   "cell_type": "markdown",
   "metadata": {},
   "source": [
    "### 네이버 날씨 웹페이지 가져오기"
   ]
  },
  {
   "cell_type": "code",
   "execution_count": 2,
   "metadata": {},
   "outputs": [],
   "source": [
    "from bs4 import BeautifulSoup as bs\n",
    "from pprint import pprint\n",
    "import requests\n",
    "\n",
    "html=requests.get('https://search.naver.com/search.naver?where=nexearch&sm=top_hty&fbm=1&ie=utf8&query=날씨')\n",
    "#print(html.text)"
   ]
  },
  {
   "attachments": {},
   "cell_type": "markdown",
   "metadata": {},
   "source": [
    "### 파싱\n",
    "HTML 구성\n",
    " - 태그(div)\n",
    " - 속성(class)\n",
    " - 속성값(detail_box)"
   ]
  },
  {
   "cell_type": "code",
   "execution_count": 3,
   "metadata": {},
   "outputs": [
    {
     "name": "stdout",
     "output_type": "stream",
     "text": [
      "<div class=\"list_box _weekly_weather\"> <ul class=\"week_list\"> <li class=\"week_item today\"> <div class=\"day_data\"> <div class=\"cell_date\"> <span class=\"date_inner\"> <strong class=\"day\">오늘</strong> <span class=\"date\">1.30.</span> </span> </div> <div class=\"cell_weather\"> <span class=\"weather_inner\"> <span class=\"weather_left\"> <strong class=\"time\">오전</strong> <span class=\"rainfall\">0%</span> </span> <i class=\"wt_icon ico_wt1\"><span class=\"blind\">맑음</span></i> </span> <span class=\"weather_inner\"> <span class=\"weather_left\"> <strong class=\"time\">오후</strong> <span class=\"rainfall\">0%</span> </span> <i class=\"wt_icon ico_wt1\"><span class=\"blind\">맑음</span></i> </span> </div> <div class=\"cell_temperature\"> <span class=\"temperature_inner\"> <span class=\"lowest\"><span class=\"blind\">최저기온</span>-6°</span> <span class=\"bar\">/</span> <span class=\"highest\"><span class=\"blind\">최고기온</span>3°</span> </span> </div> </div> </li> <li class=\"week_item today\"> <div class=\"day_data\"> <div class=\"cell_date\"> <span class=\"date_inner\"> <strong class=\"day\">내일</strong> <span class=\"date\">1.31.</span> </span> </div> <div class=\"cell_weather\"> <span class=\"weather_inner\"> <span class=\"weather_left\"> <span class=\"rainfall\">20%</span> </span> <i class=\"wt_icon ico_wt5\"><span class=\"blind\">구름많음</span></i> </span> <span class=\"weather_inner\"> <span class=\"weather_left\"> <span class=\"rainfall\">30%</span> </span> <i class=\"wt_icon ico_wt5\"><span class=\"blind\">구름많음</span></i> </span> </div> <div class=\"cell_temperature\"> <span class=\"temperature_inner\"> <span class=\"lowest\"><span class=\"blind\">최저기온</span>-3°</span> <span class=\"bar\">/</span> <span class=\"highest\"><span class=\"blind\">최고기온</span>6°</span> </span> </div> </div> </li> <li class=\"week_item\"> <div class=\"day_data\"> <div class=\"cell_date\"> <span class=\"date_inner\"> <strong class=\"day\">수</strong> <span class=\"date\">2.01.</span> </span> </div> <div class=\"cell_weather\"> <span class=\"weather_inner\"> <span class=\"weather_left\"> <span class=\"rainfall\">30%</span> </span> <i class=\"wt_icon ico_wt5\"><span class=\"blind\">구름많음</span></i> </span> <span class=\"weather_inner\"> <span class=\"weather_left\"> <span class=\"rainfall\">0%</span> </span> <i class=\"wt_icon ico_wt1\"><span class=\"blind\">맑음</span></i> </span> </div> <div class=\"cell_temperature\"> <span class=\"temperature_inner\"> <span class=\"lowest\"><span class=\"blind\">최저기온</span>1°</span> <span class=\"bar\">/</span> <span class=\"highest\"><span class=\"blind\">최고기온</span>3°</span> </span> </div> </div> </li> <li class=\"week_item\"> <div class=\"day_data\"> <div class=\"cell_date\"> <span class=\"date_inner\"> <strong class=\"day\">목</strong> <span class=\"date\">2.02.</span> </span> </div> <div class=\"cell_weather\"> <span class=\"weather_inner\"> <span class=\"weather_left\"> <span class=\"rainfall\">30%</span> </span> <i class=\"wt_icon ico_wt5\"><span class=\"blind\">구름많음</span></i> </span> <span class=\"weather_inner\"> <span class=\"weather_left\"> <span class=\"rainfall\">30%</span> </span> <i class=\"wt_icon ico_wt5\"><span class=\"blind\">구름많음</span></i> </span> </div> <div class=\"cell_temperature\"> <span class=\"temperature_inner\"> <span class=\"lowest\"><span class=\"blind\">최저기온</span>-7°</span> <span class=\"bar\">/</span> <span class=\"highest\"><span class=\"blind\">최고기온</span>1°</span> </span> </div> </div> </li> <li class=\"week_item\"> <div class=\"day_data\"> <div class=\"cell_date\"> <span class=\"date_inner\"> <strong class=\"day\">금</strong> <span class=\"date\">2.03.</span> </span> </div> <div class=\"cell_weather\"> <span class=\"weather_inner\"> <span class=\"weather_left\"> <span class=\"rainfall\">30%</span> </span> <i class=\"wt_icon ico_wt5\"><span class=\"blind\">구름많음</span></i> </span> <span class=\"weather_inner\"> <span class=\"weather_left\"> <span class=\"rainfall\">0%</span> </span> <i class=\"wt_icon ico_wt1\"><span class=\"blind\">맑음</span></i> </span> </div> <div class=\"cell_temperature\"> <span class=\"temperature_inner\"> <span class=\"lowest\"><span class=\"blind\">최저기온</span>-6°</span> <span class=\"bar\">/</span> <span class=\"highest\"><span class=\"blind\">최고기온</span>2°</span> </span> </div> </div> </li> <li class=\"week_item\"> <div class=\"day_data\"> <div class=\"cell_date\"> <span class=\"date_inner\"> <strong class=\"day\">토</strong> <span class=\"date\">2.04.</span> </span> </div> <div class=\"cell_weather\"> <span class=\"weather_inner\"> <span class=\"weather_left\"> <span class=\"rainfall\">0%</span> </span> <i class=\"wt_icon ico_wt1\"><span class=\"blind\">맑음</span></i> </span> <span class=\"weather_inner\"> <span class=\"weather_left\"> <span class=\"rainfall\">0%</span> </span> <i class=\"wt_icon ico_wt1\"><span class=\"blind\">맑음</span></i> </span> </div> <div class=\"cell_temperature\"> <span class=\"temperature_inner\"> <span class=\"lowest\"><span class=\"blind\">최저기온</span>-4°</span> <span class=\"bar\">/</span> <span class=\"highest\"><span class=\"blind\">최고기온</span>4°</span> </span> </div> </div> </li> <li class=\"week_item holiday\"> <div class=\"day_data\"> <div class=\"cell_date\"> <span class=\"date_inner\"> <strong class=\"day\">일</strong> <span class=\"date\">2.05.</span> </span> </div> <div class=\"cell_weather\"> <span class=\"weather_inner\"> <span class=\"weather_left\"> <span class=\"rainfall\">0%</span> </span> <i class=\"wt_icon ico_wt1\"><span class=\"blind\">맑음</span></i> </span> <span class=\"weather_inner\"> <span class=\"weather_left\"> <span class=\"rainfall\">0%</span> </span> <i class=\"wt_icon ico_wt1\"><span class=\"blind\">맑음</span></i> </span> </div> <div class=\"cell_temperature\"> <span class=\"temperature_inner\"> <span class=\"lowest\"><span class=\"blind\">최저기온</span>-5°</span> <span class=\"bar\">/</span> <span class=\"highest\"><span class=\"blind\">최고기온</span>3°</span> </span> </div> </div> </li> <li class=\"week_item\"> <div class=\"day_data\"> <div class=\"cell_date\"> <span class=\"date_inner\"> <strong class=\"day\">월</strong> <span class=\"date\">2.06.</span> </span> </div> <div class=\"cell_weather\"> <span class=\"weather_inner\"> <span class=\"weather_left\"> <span class=\"rainfall\">0%</span> </span> <i class=\"wt_icon ico_wt1\"><span class=\"blind\">맑음</span></i> </span> <span class=\"weather_inner\"> <span class=\"weather_left\"> <span class=\"rainfall\">0%</span> </span> <i class=\"wt_icon ico_wt1\"><span class=\"blind\">맑음</span></i> </span> </div> <div class=\"cell_temperature\"> <span class=\"temperature_inner\"> <span class=\"lowest\"><span class=\"blind\">최저기온</span>-4°</span> <span class=\"bar\">/</span> <span class=\"highest\"><span class=\"blind\">최고기온</span>4°</span> </span> </div> </div> </li> <li class=\"week_item\"> <div class=\"day_data\"> <div class=\"cell_date\"> <span class=\"date_inner\"> <strong class=\"day\">화</strong> <span class=\"date\">2.07.</span> </span> </div> <div class=\"cell_weather\"> <span class=\"weather_inner\"> <span class=\"weather_left\"> <span class=\"rainfall\">0%</span> </span> <i class=\"wt_icon ico_wt1\"><span class=\"blind\">맑음</span></i> </span> <span class=\"weather_inner\"> <span class=\"weather_left\"> <span class=\"rainfall\">0%</span> </span> <i class=\"wt_icon ico_wt1\"><span class=\"blind\">맑음</span></i> </span> </div> <div class=\"cell_temperature\"> <span class=\"temperature_inner\"> <span class=\"lowest\"><span class=\"blind\">최저기온</span>-4°</span> <span class=\"bar\">/</span> <span class=\"highest\"><span class=\"blind\">최고기온</span>3°</span> </span> </div> </div> </li> <li class=\"week_item\"> <div class=\"day_data\"> <div class=\"cell_date\"> <span class=\"date_inner\"> <strong class=\"day\">수</strong> <span class=\"date\">2.08.</span> </span> </div> <div class=\"cell_weather\"> <span class=\"weather_inner\"> <span class=\"weather_left\"> <span class=\"rainfall\">30%</span> </span> <i class=\"wt_icon ico_wt5\"><span class=\"blind\">구름많음</span></i> </span> <span class=\"weather_inner\"> <span class=\"weather_left\"> <span class=\"rainfall\">30%</span> </span> <i class=\"wt_icon ico_wt5\"><span class=\"blind\">구름많음</span></i> </span> </div> <div class=\"cell_temperature\"> <span class=\"temperature_inner\"> <span class=\"lowest\"><span class=\"blind\">최저기온</span>-5°</span> <span class=\"bar\">/</span> <span class=\"highest\"><span class=\"blind\">최고기온</span>3°</span> </span> </div> </div> </li> </ul> </div>\n"
     ]
    }
   ],
   "source": [
    "soup=bs(html.text,'html.parser')\n",
    "weekly_forecast=soup.find('div',{'class':'list_box _weekly_weather'})\n",
    "\n",
    "print(weekly_forecast)"
   ]
  },
  {
   "cell_type": "code",
   "execution_count": 4,
   "metadata": {},
   "outputs": [
    {
     "name": "stdout",
     "output_type": "stream",
     "text": [
      "[<li class=\"week_item today\"> <div class=\"day_data\"> <div class=\"cell_date\"> <span class=\"date_inner\"> <strong class=\"day\">오늘</strong> <span class=\"date\">1.30.</span> </span> </div> <div class=\"cell_weather\"> <span class=\"weather_inner\"> <span class=\"weather_left\"> <strong class=\"time\">오전</strong> <span class=\"rainfall\">0%</span> </span> <i class=\"wt_icon ico_wt1\"><span class=\"blind\">맑음</span></i> </span> <span class=\"weather_inner\"> <span class=\"weather_left\"> <strong class=\"time\">오후</strong> <span class=\"rainfall\">0%</span> </span> <i class=\"wt_icon ico_wt1\"><span class=\"blind\">맑음</span></i> </span> </div> <div class=\"cell_temperature\"> <span class=\"temperature_inner\"> <span class=\"lowest\"><span class=\"blind\">최저기온</span>-6°</span> <span class=\"bar\">/</span> <span class=\"highest\"><span class=\"blind\">최고기온</span>3°</span> </span> </div> </div> </li>,\n",
      " <li class=\"week_item today\"> <div class=\"day_data\"> <div class=\"cell_date\"> <span class=\"date_inner\"> <strong class=\"day\">내일</strong> <span class=\"date\">1.31.</span> </span> </div> <div class=\"cell_weather\"> <span class=\"weather_inner\"> <span class=\"weather_left\"> <span class=\"rainfall\">20%</span> </span> <i class=\"wt_icon ico_wt5\"><span class=\"blind\">구름많음</span></i> </span> <span class=\"weather_inner\"> <span class=\"weather_left\"> <span class=\"rainfall\">30%</span> </span> <i class=\"wt_icon ico_wt5\"><span class=\"blind\">구름많음</span></i> </span> </div> <div class=\"cell_temperature\"> <span class=\"temperature_inner\"> <span class=\"lowest\"><span class=\"blind\">최저기온</span>-3°</span> <span class=\"bar\">/</span> <span class=\"highest\"><span class=\"blind\">최고기온</span>6°</span> </span> </div> </div> </li>,\n",
      " <li class=\"week_item\"> <div class=\"day_data\"> <div class=\"cell_date\"> <span class=\"date_inner\"> <strong class=\"day\">수</strong> <span class=\"date\">2.01.</span> </span> </div> <div class=\"cell_weather\"> <span class=\"weather_inner\"> <span class=\"weather_left\"> <span class=\"rainfall\">30%</span> </span> <i class=\"wt_icon ico_wt5\"><span class=\"blind\">구름많음</span></i> </span> <span class=\"weather_inner\"> <span class=\"weather_left\"> <span class=\"rainfall\">0%</span> </span> <i class=\"wt_icon ico_wt1\"><span class=\"blind\">맑음</span></i> </span> </div> <div class=\"cell_temperature\"> <span class=\"temperature_inner\"> <span class=\"lowest\"><span class=\"blind\">최저기온</span>1°</span> <span class=\"bar\">/</span> <span class=\"highest\"><span class=\"blind\">최고기온</span>3°</span> </span> </div> </div> </li>,\n",
      " <li class=\"week_item\"> <div class=\"day_data\"> <div class=\"cell_date\"> <span class=\"date_inner\"> <strong class=\"day\">목</strong> <span class=\"date\">2.02.</span> </span> </div> <div class=\"cell_weather\"> <span class=\"weather_inner\"> <span class=\"weather_left\"> <span class=\"rainfall\">30%</span> </span> <i class=\"wt_icon ico_wt5\"><span class=\"blind\">구름많음</span></i> </span> <span class=\"weather_inner\"> <span class=\"weather_left\"> <span class=\"rainfall\">30%</span> </span> <i class=\"wt_icon ico_wt5\"><span class=\"blind\">구름많음</span></i> </span> </div> <div class=\"cell_temperature\"> <span class=\"temperature_inner\"> <span class=\"lowest\"><span class=\"blind\">최저기온</span>-7°</span> <span class=\"bar\">/</span> <span class=\"highest\"><span class=\"blind\">최고기온</span>1°</span> </span> </div> </div> </li>,\n",
      " <li class=\"week_item\"> <div class=\"day_data\"> <div class=\"cell_date\"> <span class=\"date_inner\"> <strong class=\"day\">금</strong> <span class=\"date\">2.03.</span> </span> </div> <div class=\"cell_weather\"> <span class=\"weather_inner\"> <span class=\"weather_left\"> <span class=\"rainfall\">30%</span> </span> <i class=\"wt_icon ico_wt5\"><span class=\"blind\">구름많음</span></i> </span> <span class=\"weather_inner\"> <span class=\"weather_left\"> <span class=\"rainfall\">0%</span> </span> <i class=\"wt_icon ico_wt1\"><span class=\"blind\">맑음</span></i> </span> </div> <div class=\"cell_temperature\"> <span class=\"temperature_inner\"> <span class=\"lowest\"><span class=\"blind\">최저기온</span>-6°</span> <span class=\"bar\">/</span> <span class=\"highest\"><span class=\"blind\">최고기온</span>2°</span> </span> </div> </div> </li>,\n",
      " <li class=\"week_item\"> <div class=\"day_data\"> <div class=\"cell_date\"> <span class=\"date_inner\"> <strong class=\"day\">토</strong> <span class=\"date\">2.04.</span> </span> </div> <div class=\"cell_weather\"> <span class=\"weather_inner\"> <span class=\"weather_left\"> <span class=\"rainfall\">0%</span> </span> <i class=\"wt_icon ico_wt1\"><span class=\"blind\">맑음</span></i> </span> <span class=\"weather_inner\"> <span class=\"weather_left\"> <span class=\"rainfall\">0%</span> </span> <i class=\"wt_icon ico_wt1\"><span class=\"blind\">맑음</span></i> </span> </div> <div class=\"cell_temperature\"> <span class=\"temperature_inner\"> <span class=\"lowest\"><span class=\"blind\">최저기온</span>-4°</span> <span class=\"bar\">/</span> <span class=\"highest\"><span class=\"blind\">최고기온</span>4°</span> </span> </div> </div> </li>,\n",
      " <li class=\"week_item holiday\"> <div class=\"day_data\"> <div class=\"cell_date\"> <span class=\"date_inner\"> <strong class=\"day\">일</strong> <span class=\"date\">2.05.</span> </span> </div> <div class=\"cell_weather\"> <span class=\"weather_inner\"> <span class=\"weather_left\"> <span class=\"rainfall\">0%</span> </span> <i class=\"wt_icon ico_wt1\"><span class=\"blind\">맑음</span></i> </span> <span class=\"weather_inner\"> <span class=\"weather_left\"> <span class=\"rainfall\">0%</span> </span> <i class=\"wt_icon ico_wt1\"><span class=\"blind\">맑음</span></i> </span> </div> <div class=\"cell_temperature\"> <span class=\"temperature_inner\"> <span class=\"lowest\"><span class=\"blind\">최저기온</span>-5°</span> <span class=\"bar\">/</span> <span class=\"highest\"><span class=\"blind\">최고기온</span>3°</span> </span> </div> </div> </li>,\n",
      " <li class=\"week_item\"> <div class=\"day_data\"> <div class=\"cell_date\"> <span class=\"date_inner\"> <strong class=\"day\">월</strong> <span class=\"date\">2.06.</span> </span> </div> <div class=\"cell_weather\"> <span class=\"weather_inner\"> <span class=\"weather_left\"> <span class=\"rainfall\">0%</span> </span> <i class=\"wt_icon ico_wt1\"><span class=\"blind\">맑음</span></i> </span> <span class=\"weather_inner\"> <span class=\"weather_left\"> <span class=\"rainfall\">0%</span> </span> <i class=\"wt_icon ico_wt1\"><span class=\"blind\">맑음</span></i> </span> </div> <div class=\"cell_temperature\"> <span class=\"temperature_inner\"> <span class=\"lowest\"><span class=\"blind\">최저기온</span>-4°</span> <span class=\"bar\">/</span> <span class=\"highest\"><span class=\"blind\">최고기온</span>4°</span> </span> </div> </div> </li>,\n",
      " <li class=\"week_item\"> <div class=\"day_data\"> <div class=\"cell_date\"> <span class=\"date_inner\"> <strong class=\"day\">화</strong> <span class=\"date\">2.07.</span> </span> </div> <div class=\"cell_weather\"> <span class=\"weather_inner\"> <span class=\"weather_left\"> <span class=\"rainfall\">0%</span> </span> <i class=\"wt_icon ico_wt1\"><span class=\"blind\">맑음</span></i> </span> <span class=\"weather_inner\"> <span class=\"weather_left\"> <span class=\"rainfall\">0%</span> </span> <i class=\"wt_icon ico_wt1\"><span class=\"blind\">맑음</span></i> </span> </div> <div class=\"cell_temperature\"> <span class=\"temperature_inner\"> <span class=\"lowest\"><span class=\"blind\">최저기온</span>-4°</span> <span class=\"bar\">/</span> <span class=\"highest\"><span class=\"blind\">최고기온</span>3°</span> </span> </div> </div> </li>,\n",
      " <li class=\"week_item\"> <div class=\"day_data\"> <div class=\"cell_date\"> <span class=\"date_inner\"> <strong class=\"day\">수</strong> <span class=\"date\">2.08.</span> </span> </div> <div class=\"cell_weather\"> <span class=\"weather_inner\"> <span class=\"weather_left\"> <span class=\"rainfall\">30%</span> </span> <i class=\"wt_icon ico_wt5\"><span class=\"blind\">구름많음</span></i> </span> <span class=\"weather_inner\"> <span class=\"weather_left\"> <span class=\"rainfall\">30%</span> </span> <i class=\"wt_icon ico_wt5\"><span class=\"blind\">구름많음</span></i> </span> </div> <div class=\"cell_temperature\"> <span class=\"temperature_inner\"> <span class=\"lowest\"><span class=\"blind\">최저기온</span>-5°</span> <span class=\"bar\">/</span> <span class=\"highest\"><span class=\"blind\">최고기온</span>3°</span> </span> </div> </div> </li>]\n"
     ]
    }
   ],
   "source": [
    "weekly_forecast_all=weekly_forecast.find_all('li')\n",
    "pprint(weekly_forecast_all)"
   ]
  },
  {
   "cell_type": "code",
   "execution_count": 13,
   "metadata": {},
   "outputs": [
    {
     "name": "stdout",
     "output_type": "stream",
     "text": [
      "오늘 최고기온3°\n"
     ]
    }
   ],
   "source": [
    "date=weekly_forecast_all[0].find('strong',{'class':'day'}).text\n",
    "gion=weekly_forecast_all[0].find('span',{'class':'highest'}).text\n",
    "print(date,gion)"
   ]
  }
 ],
 "metadata": {
  "kernelspec": {
   "display_name": "Python 3",
   "language": "python",
   "name": "python3"
  },
  "language_info": {
   "codemirror_mode": {
    "name": "ipython",
    "version": 3
   },
   "file_extension": ".py",
   "mimetype": "text/x-python",
   "name": "python",
   "nbconvert_exporter": "python",
   "pygments_lexer": "ipython3",
   "version": "3.10.9"
  },
  "orig_nbformat": 4,
  "vscode": {
   "interpreter": {
    "hash": "253cd15c32ffb283b0558be93b097dc27093fe6b891853f454fa08d2f15e4a97"
   }
  }
 },
 "nbformat": 4,
 "nbformat_minor": 2
}
