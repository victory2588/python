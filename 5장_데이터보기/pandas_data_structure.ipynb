{
 "cells": [
  {
   "attachments": {},
   "cell_type": "markdown",
   "metadata": {},
   "source": [
    "### 시리즈(1차원), 데이터프레임(2차원), 패널(3차원)"
   ]
  },
  {
   "attachments": {},
   "cell_type": "markdown",
   "metadata": {},
   "source": [
    "- 시리즈(series)"
   ]
  },
  {
   "cell_type": "code",
   "execution_count": 3,
   "metadata": {},
   "outputs": [
    {
     "name": "stdout",
     "output_type": "stream",
     "text": [
      "a    1\n",
      "b    2\n",
      "c    3\n",
      "dtype: int64\n"
     ]
    }
   ],
   "source": [
    "# 딕셔너리로 만들기\n",
    "import pandas as pd\n",
    "dict={'a':1,'b':2,'c':3}\n",
    "sd1=pd.Series(dict)\n",
    "\n",
    "print(sd1)"
   ]
  },
  {
   "cell_type": "code",
   "execution_count": 4,
   "metadata": {},
   "outputs": [
    {
     "name": "stdout",
     "output_type": "stream",
     "text": [
      "1    a\n",
      "2    b\n",
      "3    c\n",
      "dtype: object\n"
     ]
    }
   ],
   "source": [
    "# 리스트로 만들기\n",
    "sd2=pd.Series(['a','b','c'],index=[1,2,3])  # 인덱스도 리스트 안에 넣기\n",
    "print(sd2)\n"
   ]
  },
  {
   "cell_type": "code",
   "execution_count": 6,
   "metadata": {},
   "outputs": [
    {
     "name": "stdout",
     "output_type": "stream",
     "text": [
      "1    a\n",
      "2    b\n",
      "3    c\n",
      "dtype: object\n"
     ]
    }
   ],
   "source": [
    "# 튜플로 만들기\n",
    "sd3=pd.Series(('a','b','c'),index=[1,2,3])\n",
    "print(sd3)"
   ]
  },
  {
   "attachments": {},
   "cell_type": "markdown",
   "metadata": {},
   "source": [
    "- 데이터 프레임"
   ]
  },
  {
   "cell_type": "code",
   "execution_count": 8,
   "metadata": {},
   "outputs": [
    {
     "name": "stdout",
     "output_type": "stream",
     "text": [
      "    동물  나이\n",
      "0    개   2\n",
      "1  고양이   5\n",
      "2   사자   6\n"
     ]
    }
   ],
   "source": [
    "# 딕셔너리로 만들기\n",
    "import pandas as pd\n",
    "\n",
    "dict2={'동물':['개','고양이','사자'],'나이':[2,5,6]}  # 열 쌓기\n",
    "df1=pd.DataFrame(dict2)\n",
    "\n",
    "print(df1)"
   ]
  },
  {
   "cell_type": "code",
   "execution_count": 12,
   "metadata": {},
   "outputs": [
    {
     "name": "stdout",
     "output_type": "stream",
     "text": [
      "  알파벳 숫자\n",
      "1   a  1\n",
      "2   b  2\n",
      "3   c  3\n"
     ]
    }
   ],
   "source": [
    "# 리스트로 만들기\n",
    "df2=pd.DataFrame([['a','1'],['b','2'],['c','3']],index=[1,2,3],columns=['알파벳','숫자'])\n",
    "# 행 쌓기, 인덱스와 열 이름 정해주기\n",
    "print(df2)"
   ]
  }
 ],
 "metadata": {
  "kernelspec": {
   "display_name": "Python 3",
   "language": "python",
   "name": "python3"
  },
  "language_info": {
   "codemirror_mode": {
    "name": "ipython",
    "version": 3
   },
   "file_extension": ".py",
   "mimetype": "text/x-python",
   "name": "python",
   "nbconvert_exporter": "python",
   "pygments_lexer": "ipython3",
   "version": "3.10.9"
  },
  "orig_nbformat": 4,
  "vscode": {
   "interpreter": {
    "hash": "253cd15c32ffb283b0558be93b097dc27093fe6b891853f454fa08d2f15e4a97"
   }
  }
 },
 "nbformat": 4,
 "nbformat_minor": 2
}
