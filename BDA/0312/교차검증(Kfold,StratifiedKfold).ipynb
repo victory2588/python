{
 "cells": [
  {
   "attachments": {},
   "cell_type": "markdown",
   "metadata": {},
   "source": [
    "# 0312\n",
    "- 회귀 문제에서 사용되는 교차 검증\n",
    "- 데이터의 편중을 막기 위해!\n",
    "- KFold, StratifiedKFold 사용"
   ]
  },
  {
   "cell_type": "code",
   "execution_count": 1,
   "metadata": {},
   "outputs": [],
   "source": [
    "from sklearn.datasets import load_iris\n",
    "\n",
    "from sklearn.tree import DecisionTreeClassifier\n",
    "from sklearn.model_selection import train_test_split\n",
    "from sklearn.model_selection import KFold\n",
    "from sklearn.metrics import accuracy_score,precision_score,recall_score\n",
    "from sklearn.metrics import classification_report\n",
    "\n",
    "import numpy as np\n",
    "import pandas as pd"
   ]
  },
  {
   "attachments": {},
   "cell_type": "markdown",
   "metadata": {},
   "source": [
    "## 교차검증(KFold)\n",
    "- 회귀 문제에서 사용\n",
    "- train/test로 나누게 되면 과적합이 발생할 확률이 높다(overfitting)\n",
    "- 이런 부분을 해결하기 위해서 교차검증을 진행\n",
    "- 교차검증은 데이터의 편중을 막기위해 여러 개의 별도의 세트로 구성된 학습 데이터와 검증 데이터 세트로 학습과 평가를 수행하는 것\n",
    "- 그 수행결과에 따라 하이퍼파라미터를 튜닝하는 등 모델 최적화를 진행"
   ]
  },
  {
   "cell_type": "code",
   "execution_count": 4,
   "metadata": {},
   "outputs": [],
   "source": [
    "iris=load_iris()\n",
    "fold_iris=iris.data\n",
    "label=iris.target\n",
    "\n",
    "fold_clf=DecisionTreeClassifier()"
   ]
  },
  {
   "attachments": {},
   "cell_type": "markdown",
   "metadata": {},
   "source": [
    "### 교차검증 코드"
   ]
  },
  {
   "cell_type": "code",
   "execution_count": 11,
   "metadata": {},
   "outputs": [
    {
     "data": {
      "text/plain": [
       "<generator object _BaseKFold.split at 0x0000028819182560>"
      ]
     },
     "execution_count": 11,
     "metadata": {},
     "output_type": "execute_result"
    }
   ],
   "source": [
    "kfold=KFold(n_splits=5)     # 5번 폴드 세트별로 정확도를 볼 것이다.\n",
    "\n",
    "cv_accuracy=[]     # 정확도\n",
    "cv_precision=[]    # 정밀도\n",
    "cv_recall=[]       # 재현율\n",
    "\n",
    "kfold.split(fold_iris)      # 나누기?"
   ]
  },
  {
   "cell_type": "code",
   "execution_count": 12,
   "metadata": {},
   "outputs": [
    {
     "name": "stdout",
     "output_type": "stream",
     "text": [
      "\n",
      "1 교차검증 정확도 : 1.0, 교차검증 precision :[], 교차검증 recall :[]\n",
      "\n",
      "2 교차검증 정확도 : 1.0, 교차검증 precision :[], 교차검증 recall :[]\n",
      "\n",
      "3 교차검증 정확도 : 0.9, 교차검증 precision :[], 교차검증 recall :[]\n",
      "\n",
      "4 교차검증 정확도 : 0.93333, 교차검증 precision :[], 교차검증 recall :[]\n",
      "\n",
      "5 교차검증 정확도 : 0.73333, 교차검증 precision :[], 교차검증 recall :[]\n"
     ]
    }
   ],
   "source": [
    "n_iter=0\n",
    "for train_idx,test_idx in kfold.split(fold_iris):\n",
    "    x_train,x_test=fold_iris[train_idx],fold_iris[test_idx]\n",
    "    y_train,y_test=label[train_idx],label[test_idx]\n",
    "\n",
    "    # 학습 진행\n",
    "    fold_clf.fit(x_train,y_train)\n",
    "    #예측\n",
    "    fold_pred=fold_clf.predict(x_test)\n",
    "\n",
    "    # 정확도 측정\n",
    "    n_iter +=1\n",
    "    accuracy=np.round(accuracy_score(y_test,fold_pred),5)\n",
    "    #precision = np.round(precision_score(y_test,fold_pred),5)\n",
    "    #recall = np.round(recall_score(y_test, fold_pred),5)\n",
    "    print('\\n{} 교차검증 정확도 : {}, 교차검증 precision :{}, 교차검증 recall :{}'.format(n_iter, accuracy, precision, recall))\n",
    "    cv_accuracy.append(accuracy)\n",
    "    #cv_precision.append(precision)\n",
    "    #cv_recall.append(recall)"
   ]
  },
  {
   "attachments": {},
   "cell_type": "markdown",
   "metadata": {},
   "source": [
    "- recall, precision 은 타겟값이 이진이 아니면 계산할 때 문제가 생긴다."
   ]
  },
  {
   "cell_type": "code",
   "execution_count": 19,
   "metadata": {},
   "outputs": [
    {
     "name": "stdout",
     "output_type": "stream",
     "text": [
      "0    50\n",
      "1    50\n",
      "2    50\n",
      "Name: target, dtype: int64\n"
     ]
    }
   ],
   "source": [
    "iris_df=pd.DataFrame(data=iris.data,columns=iris.feature_names)     # iris 데이터의 컬럼명을 열로 해서 데이터프레임 생성\n",
    "iris_df['target']=iris.target       # 타겟 컬럼 생성\n",
    "iris_df\n",
    "print(iris_df['target'].value_counts())     # 타겟값의 종류별 개수\n"
   ]
  },
  {
   "cell_type": "code",
   "execution_count": 21,
   "metadata": {},
   "outputs": [
    {
     "name": "stdout",
     "output_type": "stream",
     "text": [
      "교차검증 :1\n",
      "학습 레이블데이터 분포\n",
      " 1    50\n",
      "2    50\n",
      "Name: target, dtype: int64\n",
      "검증 레이블데이터 분포\n",
      " 0    50\n",
      "Name: target, dtype: int64\n",
      "교차검증 :2\n",
      "학습 레이블데이터 분포\n",
      " 0    50\n",
      "2    50\n",
      "Name: target, dtype: int64\n",
      "검증 레이블데이터 분포\n",
      " 1    50\n",
      "Name: target, dtype: int64\n",
      "교차검증 :3\n",
      "학습 레이블데이터 분포\n",
      " 0    50\n",
      "1    50\n",
      "Name: target, dtype: int64\n",
      "검증 레이블데이터 분포\n",
      " 2    50\n",
      "Name: target, dtype: int64\n"
     ]
    }
   ],
   "source": [
    "# kfold의 문제점\n",
    "\n",
    "kfold_iris=KFold(n_splits=3)\n",
    "kfold_iris.split(iris_df)\n",
    "\n",
    "cnt_iter=0\n",
    "for train_idx,test_idx in kfold_iris.split(iris_df):\n",
    "    cnt_iter+=1\n",
    "    label_train=iris_df['target'].iloc[train_idx]\n",
    "    label_test = iris_df['target'].iloc[test_idx]\n",
    "    print('교차검증 :{}'.format(cnt_iter))\n",
    "    print('학습 레이블데이터 분포\\n', label_train.value_counts())\n",
    "    print('검증 레이블데이터 분포\\n', label_test.value_counts())"
   ]
  },
  {
   "attachments": {},
   "cell_type": "markdown",
   "metadata": {},
   "source": [
    "- kfold의 문제점 \n",
    "    -> 정답비중에 대해서 고르게 나눠지는 게 아니라 랜덤하게 나눠짐, kfold 나눴을 때 0,1 만 포함되거나 0만 포함되거나, 2만 포함되거나 1,2 포함되거나 이런식으로 데이터가 나눠질 수 있다."
   ]
  },
  {
   "attachments": {},
   "cell_type": "markdown",
   "metadata": {},
   "source": [
    "## StratifiedKFold\n",
    "- 분류 문제에서 사용\n",
    "- target 값에서 데이터가 한 쪽으로 몰리지 않게"
   ]
  },
  {
   "cell_type": "code",
   "execution_count": 22,
   "metadata": {},
   "outputs": [],
   "source": [
    "from sklearn.model_selection import StratifiedKFold"
   ]
  },
  {
   "cell_type": "code",
   "execution_count": 23,
   "metadata": {},
   "outputs": [
    {
     "name": "stdout",
     "output_type": "stream",
     "text": [
      "교차검증 :1\n",
      "학습 레이블데이터 분포\n",
      " 2    34\n",
      "0    33\n",
      "1    33\n",
      "Name: target, dtype: int64\n",
      "검증 레이블데이터 분포\n",
      " 0    17\n",
      "1    17\n",
      "2    16\n",
      "Name: target, dtype: int64\n",
      "교차검증 :2\n",
      "학습 레이블데이터 분포\n",
      " 1    34\n",
      "0    33\n",
      "2    33\n",
      "Name: target, dtype: int64\n",
      "검증 레이블데이터 분포\n",
      " 0    17\n",
      "2    17\n",
      "1    16\n",
      "Name: target, dtype: int64\n",
      "교차검증 :3\n",
      "학습 레이블데이터 분포\n",
      " 0    34\n",
      "1    33\n",
      "2    33\n",
      "Name: target, dtype: int64\n",
      "검증 레이블데이터 분포\n",
      " 1    17\n",
      "2    17\n",
      "0    16\n",
      "Name: target, dtype: int64\n"
     ]
    }
   ],
   "source": [
    "skf_iris=StratifiedKFold(n_splits=3)\n",
    "\n",
    "cnt_iter=0\n",
    "for train_idx,test_idx in skf_iris.split(iris_df,iris_df['target']):\n",
    "    cnt_iter += 1\n",
    "    label_train = iris_df['target'].iloc[train_idx]\n",
    "    label_test = iris_df['target'].iloc[test_idx]\n",
    "    print('교차검증 :{}'.format(cnt_iter))\n",
    "    print('학습 레이블데이터 분포\\n', label_train.value_counts())\n",
    "    print('검증 레이블데이터 분포\\n', label_test.value_counts())"
   ]
  },
  {
   "cell_type": "code",
   "execution_count": 30,
   "metadata": {},
   "outputs": [
    {
     "name": "stdout",
     "output_type": "stream",
     "text": [
      "\n",
      "1 교차검증 정확도 : 0.98, 교차검증 precision :0.981, 교차검증 recall :0.98\n",
      "\n",
      "2 교차검증 정확도 : 0.92, 교차검증 precision :0.92, 교차검증 recall :0.92\n",
      "\n",
      "3 교차검증 정확도 : 0.96, 교차검증 precision :0.96, 교차검증 recall :0.96\n",
      "\n",
      "\n",
      "\n",
      " 평균 검증 정확도 0.9533333333333333 0.9536666666666666 0.9533333333333333\n"
     ]
    }
   ],
   "source": [
    "result_skfold=StratifiedKFold(n_splits=3)\n",
    "result_clf=DecisionTreeClassifier(random_state=100)\n",
    "n_iter=0\n",
    "\n",
    "cv_accuracy=[]\n",
    "cv_precision=[]\n",
    "cv_recall=[]\n",
    "\n",
    "for train_idx, test_idx in result_skfold.split(fold_iris, label):\n",
    "    X_train, X_test = fold_iris[train_idx], fold_iris[test_idx]\n",
    "    y_train, y_test = label[train_idx], label[test_idx]\n",
    "    \n",
    "    #학습을 진행\n",
    "    result_clf.fit(X_train, y_train)\n",
    "    #예측\n",
    "    pred = result_clf.predict(X_test)\n",
    "    \n",
    "    #정확도 관련해서 측정\n",
    "    n_iter +=1 \n",
    "    accuracy = np.round(accuracy_score(y_test, pred),3)\n",
    "    precision = np.round(precision_score(y_test,pred, average='weighted'),3)\n",
    "    recall = np.round(recall_score(y_test, pred, average='weighted'),3)\n",
    "    print('\\n{} 교차검증 정확도 : {}, 교차검증 precision :{}, 교차검증 recall :{}'.format(n_iter, accuracy, precision, recall))\n",
    "    cv_accuracy.append(accuracy)\n",
    "    cv_precision.append(precision)\n",
    "    cv_recall.append(recall)\n",
    "    \n",
    "print('\\n')\n",
    "#print('\\n 평균 정확도 ', np.mean(accuracy))\n",
    "print('\\n 평균 검증 정확도', np.mean(cv_accuracy), np.mean(cv_precision), np.mean(cv_recall))"
   ]
  },
  {
   "attachments": {},
   "cell_type": "markdown",
   "metadata": {},
   "source": [
    "- 타겟 값이 이진이라면 문제가 없지만, 그 이상이라면 precision, recall 값 계산에 오류가 생긴다.\n",
    "- 다르게 계산하기 위해서는 average= 를 이용\n",
    "    - micro(전체의 평균)\n",
    "    - macro(평균 중의 평균)\n",
    "    - weighted (가중 평균)"
   ]
  }
 ],
 "metadata": {
  "kernelspec": {
   "display_name": "Python 3",
   "language": "python",
   "name": "python3"
  },
  "language_info": {
   "codemirror_mode": {
    "name": "ipython",
    "version": 3
   },
   "file_extension": ".py",
   "mimetype": "text/x-python",
   "name": "python",
   "nbconvert_exporter": "python",
   "pygments_lexer": "ipython3",
   "version": "3.11.1"
  },
  "orig_nbformat": 4
 },
 "nbformat": 4,
 "nbformat_minor": 2
}
