{
  "nbformat": 4,
  "nbformat_minor": 0,
  "metadata": {
    "colab": {
      "provenance": []
    },
    "kernelspec": {
      "name": "python3",
      "display_name": "Python 3"
    },
    "language_info": {
      "name": "python"
    }
  },
  "cells": [
    {
      "cell_type": "code",
      "execution_count": 1,
      "metadata": {
        "colab": {
          "base_uri": "https://localhost:8080/"
        },
        "id": "5vEgwkVnfk5v",
        "outputId": "259d28a4-7933-4836-c7a3-369242121c52"
      },
      "outputs": [
        {
          "output_type": "stream",
          "name": "stdout",
          "text": [
            "Reading package lists... Done\n",
            "Building dependency tree       \n",
            "Reading state information... Done\n",
            "The following NEW packages will be installed:\n",
            "  fonts-nanum\n",
            "0 upgraded, 1 newly installed, 0 to remove and 24 not upgraded.\n",
            "Need to get 9,599 kB of archives.\n",
            "After this operation, 29.6 MB of additional disk space will be used.\n",
            "Get:1 http://archive.ubuntu.com/ubuntu focal/universe amd64 fonts-nanum all 20180306-3 [9,599 kB]\n",
            "Fetched 9,599 kB in 2s (5,386 kB/s)\n",
            "debconf: unable to initialize frontend: Dialog\n",
            "debconf: (No usable dialog-like program is installed, so the dialog based frontend cannot be used. at /usr/share/perl5/Debconf/FrontEnd/Dialog.pm line 76, <> line 1.)\n",
            "debconf: falling back to frontend: Readline\n",
            "debconf: unable to initialize frontend: Readline\n",
            "debconf: (This frontend requires a controlling tty.)\n",
            "debconf: falling back to frontend: Teletype\n",
            "dpkg-preconfigure: unable to re-open stdin: \n",
            "Selecting previously unselected package fonts-nanum.\n",
            "(Reading database ... 122349 files and directories currently installed.)\n",
            "Preparing to unpack .../fonts-nanum_20180306-3_all.deb ...\n",
            "Unpacking fonts-nanum (20180306-3) ...\n",
            "Setting up fonts-nanum (20180306-3) ...\n",
            "Processing triggers for fontconfig (2.13.1-2ubuntu3) ...\n",
            "/usr/share/fonts: caching, new cache contents: 0 fonts, 1 dirs\n",
            "/usr/share/fonts/truetype: caching, new cache contents: 0 fonts, 3 dirs\n",
            "/usr/share/fonts/truetype/humor-sans: caching, new cache contents: 1 fonts, 0 dirs\n",
            "/usr/share/fonts/truetype/liberation: caching, new cache contents: 16 fonts, 0 dirs\n",
            "/usr/share/fonts/truetype/nanum: caching, new cache contents: 10 fonts, 0 dirs\n",
            "/usr/local/share/fonts: caching, new cache contents: 0 fonts, 0 dirs\n",
            "/root/.local/share/fonts: skipping, no such directory\n",
            "/root/.fonts: skipping, no such directory\n",
            "/usr/share/fonts/truetype: skipping, looped directory detected\n",
            "/usr/share/fonts/truetype/humor-sans: skipping, looped directory detected\n",
            "/usr/share/fonts/truetype/liberation: skipping, looped directory detected\n",
            "/usr/share/fonts/truetype/nanum: skipping, looped directory detected\n",
            "/var/cache/fontconfig: cleaning cache directory\n",
            "/root/.cache/fontconfig: not cleaning non-existent cache directory\n",
            "/root/.fontconfig: not cleaning non-existent cache directory\n",
            "fc-cache: succeeded\n"
          ]
        }
      ],
      "source": [
        "!sudo apt-get install -y fonts-nanum\n",
        "!sudo fc-cache -fv\n",
        "!rm ~/.cache/matplotlib -rf"
      ]
    },
    {
      "cell_type": "markdown",
      "source": [
        "### 필수과제 2\n",
        "- 고객데이터를 올릴 것\n",
        "- 해당 고객데이터를 기반으로 여러분들이 가설을 세워서 어떤 컬럼을 사용할 것인지 정리하고\n",
        "- 해당 컬럼을 기반으로 kmeans를 진행하여서 분석에 대한 인사이트를 정리해 주세요!\n",
        "- 군집에 대해서 몇 개를 선정하는지에 대한 질문의 답변은 위에 적어놨으니\n",
        "- 가능하신 분은 구글링을 통해서 해당 지표도 만들어 보시면 좋을 것 같습니다.\n",
        "\n",
        "- 인사이트입니다.\n",
        "- 기존에 데이터가 어떤 패턴을 보였고\n",
        "- 우리가 선정한 컬럼을 통해서 만들어진 군집 ( 고객군 ) 어떤 패턴을 보이는지"
      ],
      "metadata": {
        "id": "Xzi6U02X4ckO"
      }
    },
    {
      "cell_type": "code",
      "source": [
        "from google.colab import drive\n",
        "drive.mount('/content/drive')"
      ],
      "metadata": {
        "colab": {
          "base_uri": "https://localhost:8080/"
        },
        "id": "FqLb-nWcfuvo",
        "outputId": "fcbd6379-7252-4925-cec3-59746c566839"
      },
      "execution_count": 2,
      "outputs": [
        {
          "output_type": "stream",
          "name": "stdout",
          "text": [
            "Mounted at /content/drive\n"
          ]
        }
      ]
    },
    {
      "cell_type": "code",
      "source": [
        "from sklearn.cluster import KMeans\n",
        "from sklearn.preprocessing import scale,MinMaxScaler\n",
        "import matplotlib.pyplot as plt\n",
        "import numpy as np\n",
        "import pandas as pd\n",
        "%matplotlib inline"
      ],
      "metadata": {
        "id": "DShjTTH0f8Zz"
      },
      "execution_count": 71,
      "outputs": []
    },
    {
      "cell_type": "code",
      "source": [
        "customer=pd.read_csv('/content/drive/MyDrive/Colab Notebooks/Dataset/NHcustomer.csv')"
      ],
      "metadata": {
        "id": "_uvvDCy8gCsl"
      },
      "execution_count": 54,
      "outputs": []
    },
    {
      "cell_type": "code",
      "source": [
        "ct=customer[['성별','연령구간','투자성향','고객자산구간','총투자기간','주거래상품군','LIFESTAGE','고객등급','주거래업종구분']]"
      ],
      "metadata": {
        "id": "yL5fefEFhdx0"
      },
      "execution_count": 55,
      "outputs": []
    },
    {
      "cell_type": "code",
      "source": [
        "ct"
      ],
      "metadata": {
        "colab": {
          "base_uri": "https://localhost:8080/",
          "height": 468
        },
        "id": "xkR9oNyv-l4H",
        "outputId": "318f016d-0200-4229-e997-33349073c32f"
      },
      "execution_count": 56,
      "outputs": [
        {
          "output_type": "execute_result",
          "data": {
            "text/plain": [
              "      성별  연령구간  투자성향  고객자산구간  총투자기간  주거래상품군  LIFESTAGE  고객등급  주거래업종구분\n",
              "0      1     4    99       1      6       2          3     3       16\n",
              "1      1     6     4       4      6       2          5     2        1\n",
              "2      2     7     4       3      6       2          5     5        9\n",
              "3      2     6     4       4      6       8          5     3       16\n",
              "4      1     5     2       2      5       2          5     5       16\n",
              "...   ..   ...   ...     ...    ...     ...        ...   ...      ...\n",
              "9995   1     9     4       2      2       2          9     5       16\n",
              "9996   2     2     3       1      1       2          2     9       16\n",
              "9997   2     7     4       2      2       2          5     5       16\n",
              "9998   1     5    99       5      2       2          5     3        5\n",
              "9999   1     6     0       5      5       2          5     3        2\n",
              "\n",
              "[10000 rows x 9 columns]"
            ],
            "text/html": [
              "\n",
              "  <div id=\"df-603b8105-6f06-4a5a-a1ed-913694b23410\">\n",
              "    <div class=\"colab-df-container\">\n",
              "      <div>\n",
              "<style scoped>\n",
              "    .dataframe tbody tr th:only-of-type {\n",
              "        vertical-align: middle;\n",
              "    }\n",
              "\n",
              "    .dataframe tbody tr th {\n",
              "        vertical-align: top;\n",
              "    }\n",
              "\n",
              "    .dataframe thead th {\n",
              "        text-align: right;\n",
              "    }\n",
              "</style>\n",
              "<table border=\"1\" class=\"dataframe\">\n",
              "  <thead>\n",
              "    <tr style=\"text-align: right;\">\n",
              "      <th></th>\n",
              "      <th>성별</th>\n",
              "      <th>연령구간</th>\n",
              "      <th>투자성향</th>\n",
              "      <th>고객자산구간</th>\n",
              "      <th>총투자기간</th>\n",
              "      <th>주거래상품군</th>\n",
              "      <th>LIFESTAGE</th>\n",
              "      <th>고객등급</th>\n",
              "      <th>주거래업종구분</th>\n",
              "    </tr>\n",
              "  </thead>\n",
              "  <tbody>\n",
              "    <tr>\n",
              "      <th>0</th>\n",
              "      <td>1</td>\n",
              "      <td>4</td>\n",
              "      <td>99</td>\n",
              "      <td>1</td>\n",
              "      <td>6</td>\n",
              "      <td>2</td>\n",
              "      <td>3</td>\n",
              "      <td>3</td>\n",
              "      <td>16</td>\n",
              "    </tr>\n",
              "    <tr>\n",
              "      <th>1</th>\n",
              "      <td>1</td>\n",
              "      <td>6</td>\n",
              "      <td>4</td>\n",
              "      <td>4</td>\n",
              "      <td>6</td>\n",
              "      <td>2</td>\n",
              "      <td>5</td>\n",
              "      <td>2</td>\n",
              "      <td>1</td>\n",
              "    </tr>\n",
              "    <tr>\n",
              "      <th>2</th>\n",
              "      <td>2</td>\n",
              "      <td>7</td>\n",
              "      <td>4</td>\n",
              "      <td>3</td>\n",
              "      <td>6</td>\n",
              "      <td>2</td>\n",
              "      <td>5</td>\n",
              "      <td>5</td>\n",
              "      <td>9</td>\n",
              "    </tr>\n",
              "    <tr>\n",
              "      <th>3</th>\n",
              "      <td>2</td>\n",
              "      <td>6</td>\n",
              "      <td>4</td>\n",
              "      <td>4</td>\n",
              "      <td>6</td>\n",
              "      <td>8</td>\n",
              "      <td>5</td>\n",
              "      <td>3</td>\n",
              "      <td>16</td>\n",
              "    </tr>\n",
              "    <tr>\n",
              "      <th>4</th>\n",
              "      <td>1</td>\n",
              "      <td>5</td>\n",
              "      <td>2</td>\n",
              "      <td>2</td>\n",
              "      <td>5</td>\n",
              "      <td>2</td>\n",
              "      <td>5</td>\n",
              "      <td>5</td>\n",
              "      <td>16</td>\n",
              "    </tr>\n",
              "    <tr>\n",
              "      <th>...</th>\n",
              "      <td>...</td>\n",
              "      <td>...</td>\n",
              "      <td>...</td>\n",
              "      <td>...</td>\n",
              "      <td>...</td>\n",
              "      <td>...</td>\n",
              "      <td>...</td>\n",
              "      <td>...</td>\n",
              "      <td>...</td>\n",
              "    </tr>\n",
              "    <tr>\n",
              "      <th>9995</th>\n",
              "      <td>1</td>\n",
              "      <td>9</td>\n",
              "      <td>4</td>\n",
              "      <td>2</td>\n",
              "      <td>2</td>\n",
              "      <td>2</td>\n",
              "      <td>9</td>\n",
              "      <td>5</td>\n",
              "      <td>16</td>\n",
              "    </tr>\n",
              "    <tr>\n",
              "      <th>9996</th>\n",
              "      <td>2</td>\n",
              "      <td>2</td>\n",
              "      <td>3</td>\n",
              "      <td>1</td>\n",
              "      <td>1</td>\n",
              "      <td>2</td>\n",
              "      <td>2</td>\n",
              "      <td>9</td>\n",
              "      <td>16</td>\n",
              "    </tr>\n",
              "    <tr>\n",
              "      <th>9997</th>\n",
              "      <td>2</td>\n",
              "      <td>7</td>\n",
              "      <td>4</td>\n",
              "      <td>2</td>\n",
              "      <td>2</td>\n",
              "      <td>2</td>\n",
              "      <td>5</td>\n",
              "      <td>5</td>\n",
              "      <td>16</td>\n",
              "    </tr>\n",
              "    <tr>\n",
              "      <th>9998</th>\n",
              "      <td>1</td>\n",
              "      <td>5</td>\n",
              "      <td>99</td>\n",
              "      <td>5</td>\n",
              "      <td>2</td>\n",
              "      <td>2</td>\n",
              "      <td>5</td>\n",
              "      <td>3</td>\n",
              "      <td>5</td>\n",
              "    </tr>\n",
              "    <tr>\n",
              "      <th>9999</th>\n",
              "      <td>1</td>\n",
              "      <td>6</td>\n",
              "      <td>0</td>\n",
              "      <td>5</td>\n",
              "      <td>5</td>\n",
              "      <td>2</td>\n",
              "      <td>5</td>\n",
              "      <td>3</td>\n",
              "      <td>2</td>\n",
              "    </tr>\n",
              "  </tbody>\n",
              "</table>\n",
              "<p>10000 rows × 9 columns</p>\n",
              "</div>\n",
              "      <button class=\"colab-df-convert\" onclick=\"convertToInteractive('df-603b8105-6f06-4a5a-a1ed-913694b23410')\"\n",
              "              title=\"Convert this dataframe to an interactive table.\"\n",
              "              style=\"display:none;\">\n",
              "        \n",
              "  <svg xmlns=\"http://www.w3.org/2000/svg\" height=\"24px\"viewBox=\"0 0 24 24\"\n",
              "       width=\"24px\">\n",
              "    <path d=\"M0 0h24v24H0V0z\" fill=\"none\"/>\n",
              "    <path d=\"M18.56 5.44l.94 2.06.94-2.06 2.06-.94-2.06-.94-.94-2.06-.94 2.06-2.06.94zm-11 1L8.5 8.5l.94-2.06 2.06-.94-2.06-.94L8.5 2.5l-.94 2.06-2.06.94zm10 10l.94 2.06.94-2.06 2.06-.94-2.06-.94-.94-2.06-.94 2.06-2.06.94z\"/><path d=\"M17.41 7.96l-1.37-1.37c-.4-.4-.92-.59-1.43-.59-.52 0-1.04.2-1.43.59L10.3 9.45l-7.72 7.72c-.78.78-.78 2.05 0 2.83L4 21.41c.39.39.9.59 1.41.59.51 0 1.02-.2 1.41-.59l7.78-7.78 2.81-2.81c.8-.78.8-2.07 0-2.86zM5.41 20L4 18.59l7.72-7.72 1.47 1.35L5.41 20z\"/>\n",
              "  </svg>\n",
              "      </button>\n",
              "      \n",
              "  <style>\n",
              "    .colab-df-container {\n",
              "      display:flex;\n",
              "      flex-wrap:wrap;\n",
              "      gap: 12px;\n",
              "    }\n",
              "\n",
              "    .colab-df-convert {\n",
              "      background-color: #E8F0FE;\n",
              "      border: none;\n",
              "      border-radius: 50%;\n",
              "      cursor: pointer;\n",
              "      display: none;\n",
              "      fill: #1967D2;\n",
              "      height: 32px;\n",
              "      padding: 0 0 0 0;\n",
              "      width: 32px;\n",
              "    }\n",
              "\n",
              "    .colab-df-convert:hover {\n",
              "      background-color: #E2EBFA;\n",
              "      box-shadow: 0px 1px 2px rgba(60, 64, 67, 0.3), 0px 1px 3px 1px rgba(60, 64, 67, 0.15);\n",
              "      fill: #174EA6;\n",
              "    }\n",
              "\n",
              "    [theme=dark] .colab-df-convert {\n",
              "      background-color: #3B4455;\n",
              "      fill: #D2E3FC;\n",
              "    }\n",
              "\n",
              "    [theme=dark] .colab-df-convert:hover {\n",
              "      background-color: #434B5C;\n",
              "      box-shadow: 0px 1px 3px 1px rgba(0, 0, 0, 0.15);\n",
              "      filter: drop-shadow(0px 1px 2px rgba(0, 0, 0, 0.3));\n",
              "      fill: #FFFFFF;\n",
              "    }\n",
              "  </style>\n",
              "\n",
              "      <script>\n",
              "        const buttonEl =\n",
              "          document.querySelector('#df-603b8105-6f06-4a5a-a1ed-913694b23410 button.colab-df-convert');\n",
              "        buttonEl.style.display =\n",
              "          google.colab.kernel.accessAllowed ? 'block' : 'none';\n",
              "\n",
              "        async function convertToInteractive(key) {\n",
              "          const element = document.querySelector('#df-603b8105-6f06-4a5a-a1ed-913694b23410');\n",
              "          const dataTable =\n",
              "            await google.colab.kernel.invokeFunction('convertToInteractive',\n",
              "                                                     [key], {});\n",
              "          if (!dataTable) return;\n",
              "\n",
              "          const docLinkHtml = 'Like what you see? Visit the ' +\n",
              "            '<a target=\"_blank\" href=https://colab.research.google.com/notebooks/data_table.ipynb>data table notebook</a>'\n",
              "            + ' to learn more about interactive tables.';\n",
              "          element.innerHTML = '';\n",
              "          dataTable['output_type'] = 'display_data';\n",
              "          await google.colab.output.renderOutput(dataTable, element);\n",
              "          const docLink = document.createElement('div');\n",
              "          docLink.innerHTML = docLinkHtml;\n",
              "          element.appendChild(docLink);\n",
              "        }\n",
              "      </script>\n",
              "    </div>\n",
              "  </div>\n",
              "  "
            ]
          },
          "metadata": {},
          "execution_count": 56
        }
      ]
    },
    {
      "cell_type": "code",
      "source": [
        "print(ct['고객등급'].unique())\n",
        "ct['고객등급'].value_counts()"
      ],
      "metadata": {
        "colab": {
          "base_uri": "https://localhost:8080/"
        },
        "id": "5L1UXWLXJQl4",
        "outputId": "3478faa0-4d54-4f69-ccfa-76ceb0759177"
      },
      "execution_count": 78,
      "outputs": [
        {
          "output_type": "stream",
          "name": "stdout",
          "text": [
            "[ 3  2  5  4  9  1 99]\n"
          ]
        },
        {
          "output_type": "execute_result",
          "data": {
            "text/plain": [
              "9     3366\n",
              "5     2687\n",
              "4     2298\n",
              "3     1184\n",
              "2      345\n",
              "1       83\n",
              "99      37\n",
              "Name: 고객등급, dtype: int64"
            ]
          },
          "metadata": {},
          "execution_count": 78
        }
      ]
    },
    {
      "cell_type": "code",
      "source": [
        "print(ct['총투자기간'].unique())    # 투자기간을 기준으로 분류하자\n",
        "ct['총투자기간'].value_counts()"
      ],
      "metadata": {
        "colab": {
          "base_uri": "https://localhost:8080/"
        },
        "id": "Np-AUXoTJJXl",
        "outputId": "eb05ccbc-9f5e-4f7d-efb7-0425b8603916"
      },
      "execution_count": 77,
      "outputs": [
        {
          "output_type": "stream",
          "name": "stdout",
          "text": [
            "[6 5 4 3 2 1]\n"
          ]
        },
        {
          "output_type": "execute_result",
          "data": {
            "text/plain": [
              "3    4271\n",
              "2    3315\n",
              "4     992\n",
              "1     962\n",
              "5     312\n",
              "6     148\n",
              "Name: 총투자기간, dtype: int64"
            ]
          },
          "metadata": {},
          "execution_count": 77
        }
      ]
    },
    {
      "cell_type": "code",
      "source": [
        "print(ct['투자성향'].unique())\n",
        "ct['투자성향'].value_counts()"
      ],
      "metadata": {
        "colab": {
          "base_uri": "https://localhost:8080/"
        },
        "id": "UV2SHHyLDTdp",
        "outputId": "660bfa98-3ca6-45cc-a218-7a7aa3e7cf84"
      },
      "execution_count": 76,
      "outputs": [
        {
          "output_type": "stream",
          "name": "stdout",
          "text": [
            "[99  4  2  3  5  1  9  0]\n"
          ]
        },
        {
          "output_type": "execute_result",
          "data": {
            "text/plain": [
              "99    3687\n",
              "4     1858\n",
              "3     1669\n",
              "2     1467\n",
              "5      935\n",
              "1      210\n",
              "0      171\n",
              "9        3\n",
              "Name: 투자성향, dtype: int64"
            ]
          },
          "metadata": {},
          "execution_count": 76
        }
      ]
    },
    {
      "cell_type": "code",
      "source": [
        "ct['주거래상품군'].unique()\n",
        "ct['주거래상품군'].value_counts()   # 주거래상품군 컬럼은 2에 몰려있다."
      ],
      "metadata": {
        "colab": {
          "base_uri": "https://localhost:8080/"
        },
        "id": "c-QJ--tCGLKd",
        "outputId": "42a02737-6b6d-4995-ab84-3996f4e66a6b"
      },
      "execution_count": 74,
      "outputs": [
        {
          "output_type": "execute_result",
          "data": {
            "text/plain": [
              "2     9659\n",
              "3      261\n",
              "1       34\n",
              "15      10\n",
              "10       9\n",
              "8        8\n",
              "5        7\n",
              "9        5\n",
              "11       3\n",
              "6        3\n",
              "12       1\n",
              "Name: 주거래상품군, dtype: int64"
            ]
          },
          "metadata": {},
          "execution_count": 74
        }
      ]
    },
    {
      "cell_type": "markdown",
      "source": [
        "### 컬럼 선택"
      ],
      "metadata": {
        "id": "Mz5KOr6uBYbR"
      }
    },
    {
      "cell_type": "code",
      "source": [
        "for i in list(ct.columns):\n",
        "  print('-----------------',i ,'mean 비교')\n",
        "  print(ct.groupby(['총투자기간'])[i].mean())"
      ],
      "metadata": {
        "colab": {
          "base_uri": "https://localhost:8080/"
        },
        "id": "9-MFmU1tBaOi",
        "outputId": "224431f9-34fb-40e4-b9a4-d81aeef68d6b"
      },
      "execution_count": 57,
      "outputs": [
        {
          "output_type": "stream",
          "name": "stdout",
          "text": [
            "----------------- 성별 mean 비교\n",
            "총투자기간\n",
            "1    1.457380\n",
            "2    1.433786\n",
            "3    1.384922\n",
            "4    1.337702\n",
            "5    1.339744\n",
            "6    1.351351\n",
            "Name: 성별, dtype: float64\n",
            "----------------- 연령구간 mean 비교\n",
            "총투자기간\n",
            "1    3.644491\n",
            "2    4.444947\n",
            "3    4.790213\n",
            "4    5.318548\n",
            "5    6.032051\n",
            "6    6.520270\n",
            "Name: 연령구간, dtype: float64\n",
            "----------------- 투자성향 mean 비교\n",
            "총투자기간\n",
            "1    50.565489\n",
            "2    42.289593\n",
            "3    34.072583\n",
            "4    38.217742\n",
            "5    28.394231\n",
            "6    28.168919\n",
            "Name: 투자성향, dtype: float64\n",
            "----------------- 고객자산구간 mean 비교\n",
            "총투자기간\n",
            "1    1.422037\n",
            "2    2.234992\n",
            "3    2.541793\n",
            "4    3.050403\n",
            "5    3.506410\n",
            "6    3.770270\n",
            "Name: 고객자산구간, dtype: float64\n",
            "----------------- 총투자기간 mean 비교\n",
            "총투자기간\n",
            "1    1.0\n",
            "2    2.0\n",
            "3    3.0\n",
            "4    4.0\n",
            "5    5.0\n",
            "6    6.0\n",
            "Name: 총투자기간, dtype: float64\n",
            "----------------- 주거래상품군 mean 비교\n",
            "총투자기간\n",
            "1    2.028067\n",
            "2    2.047360\n",
            "3    2.059471\n",
            "4    2.029234\n",
            "5    2.246795\n",
            "6    2.256757\n",
            "Name: 주거래상품군, dtype: float64\n",
            "----------------- LIFESTAGE mean 비교\n",
            "총투자기간\n",
            "1    3.675676\n",
            "2    4.275415\n",
            "3    4.571295\n",
            "4    4.938508\n",
            "5    5.326923\n",
            "6    5.614865\n",
            "Name: LIFESTAGE, dtype: float64\n",
            "----------------- 고객등급 mean 비교\n",
            "총투자기간\n",
            "1    11.442827\n",
            "2     6.077225\n",
            "3     5.435027\n",
            "4     4.756048\n",
            "5     4.121795\n",
            "6     3.635135\n",
            "Name: 고객등급, dtype: float64\n",
            "----------------- 주거래업종구분 mean 비교\n",
            "총투자기간\n",
            "1     9.870062\n",
            "2    10.172851\n",
            "3    10.627488\n",
            "4    10.903226\n",
            "5    10.403846\n",
            "6    10.324324\n",
            "Name: 주거래업종구분, dtype: float64\n"
          ]
        }
      ]
    },
    {
      "cell_type": "markdown",
      "source": [
        "### 전체 컬럼으로 kmeans"
      ],
      "metadata": {
        "id": "2G6eeJXyT7Ua"
      }
    },
    {
      "cell_type": "code",
      "source": [
        "# 스케일링 x\n",
        "ct_x=ct[['성별','연령구간','투자성향','고객자산구간','주거래상품군','LIFESTAGE','고객등급','주거래업종구분']]\n",
        "kmeans=KMeans(n_clusters=6, init='k-means++', max_iter=300, random_state=111)\n",
        "kmeans.fit(ct_x)\n",
        "ct['cluster'] = kmeans.labels_\n",
        "ct.groupby(['cluster'])['성별'].count()"
      ],
      "metadata": {
        "colab": {
          "base_uri": "https://localhost:8080/"
        },
        "id": "MkHeQjkFT-bN",
        "outputId": "5d2885c7-c878-42ab-e3f8-8350f322a9f9"
      },
      "execution_count": 79,
      "outputs": [
        {
          "output_type": "stream",
          "name": "stderr",
          "text": [
            "/usr/local/lib/python3.9/dist-packages/sklearn/cluster/_kmeans.py:870: FutureWarning: The default value of `n_init` will change from 10 to 'auto' in 1.4. Set the value of `n_init` explicitly to suppress the warning\n",
            "  warnings.warn(\n",
            "<ipython-input-79-240527827dca>:5: SettingWithCopyWarning: \n",
            "A value is trying to be set on a copy of a slice from a DataFrame.\n",
            "Try using .loc[row_indexer,col_indexer] = value instead\n",
            "\n",
            "See the caveats in the documentation: https://pandas.pydata.org/pandas-docs/stable/user_guide/indexing.html#returning-a-view-versus-a-copy\n",
            "  ct['cluster'] = kmeans.labels_\n"
          ]
        },
        {
          "output_type": "execute_result",
          "data": {
            "text/plain": [
              "cluster\n",
              "0    2285\n",
              "1    2161\n",
              "2      23\n",
              "3    4014\n",
              "4      14\n",
              "5    1503\n",
              "Name: 성별, dtype: int64"
            ]
          },
          "metadata": {},
          "execution_count": 79
        }
      ]
    },
    {
      "cell_type": "markdown",
      "source": [
        "### 평균 차이가 크지 않은 컬럼 선택\n",
        "- 성별\n",
        "- 주거래상품군\n",
        "- 주거래업종구분"
      ],
      "metadata": {
        "id": "IG37oM4iC9f0"
      }
    },
    {
      "cell_type": "code",
      "source": [
        "# 스케일링 x\n",
        "ct_x=ct[['성별','주거래상품군','주거래업종구분']]\n",
        "kmeans=KMeans(n_clusters=6, init='k-means++', max_iter=300, random_state=111)\n",
        "kmeans.fit(ct_x)\n",
        "ct['cluster'] = kmeans.labels_\n",
        "ct.groupby(['cluster'])['성별'].count()"
      ],
      "metadata": {
        "colab": {
          "base_uri": "https://localhost:8080/"
        },
        "id": "T-npq4gm922i",
        "outputId": "912d8467-84b8-4463-e0b4-d9b7e3eccf4d"
      },
      "execution_count": 69,
      "outputs": [
        {
          "output_type": "stream",
          "name": "stderr",
          "text": [
            "/usr/local/lib/python3.9/dist-packages/sklearn/cluster/_kmeans.py:870: FutureWarning: The default value of `n_init` will change from 10 to 'auto' in 1.4. Set the value of `n_init` explicitly to suppress the warning\n",
            "  warnings.warn(\n",
            "<ipython-input-69-8532adab8bc9>:5: SettingWithCopyWarning: \n",
            "A value is trying to be set on a copy of a slice from a DataFrame.\n",
            "Try using .loc[row_indexer,col_indexer] = value instead\n",
            "\n",
            "See the caveats in the documentation: https://pandas.pydata.org/pandas-docs/stable/user_guide/indexing.html#returning-a-view-versus-a-copy\n",
            "  ct['cluster'] = kmeans.labels_\n"
          ]
        },
        {
          "output_type": "execute_result",
          "data": {
            "text/plain": [
              "cluster\n",
              "0    1688\n",
              "1     874\n",
              "2    3510\n",
              "3    2087\n",
              "4     476\n",
              "5    1365\n",
              "Name: 성별, dtype: int64"
            ]
          },
          "metadata": {},
          "execution_count": 69
        }
      ]
    },
    {
      "cell_type": "code",
      "source": [
        "ct_x=ct[['성별','주거래상품군','주거래업종구분']]\n",
        "kmeans=KMeans(n_clusters=6, init='k-means++', max_iter=300, random_state=111)\n",
        "\n",
        "# 스케일링\n",
        "mm_scaler=MinMaxScaler()\n",
        "mm_scaler.fit(ct_x)\n",
        "ct_xx=mm_scaler.transform(ct_x)\n",
        "df_ct_xx= pd.DataFrame(ct_xx, columns = ct_x.columns)\n",
        "\n",
        "kmeans.fit(df_ct_xx)\n",
        "ct['cluster'] = kmeans.labels_\n",
        "ct.groupby(['cluster'])['성별'].count()"
      ],
      "metadata": {
        "colab": {
          "base_uri": "https://localhost:8080/"
        },
        "id": "wYmX4BUdHUmt",
        "outputId": "026c3ee3-87b8-41d7-da3c-1043154fe7d1"
      },
      "execution_count": 72,
      "outputs": [
        {
          "output_type": "stream",
          "name": "stderr",
          "text": [
            "/usr/local/lib/python3.9/dist-packages/sklearn/cluster/_kmeans.py:870: FutureWarning: The default value of `n_init` will change from 10 to 'auto' in 1.4. Set the value of `n_init` explicitly to suppress the warning\n",
            "  warnings.warn(\n",
            "<ipython-input-72-abef102b73f1>:11: SettingWithCopyWarning: \n",
            "A value is trying to be set on a copy of a slice from a DataFrame.\n",
            "Try using .loc[row_indexer,col_indexer] = value instead\n",
            "\n",
            "See the caveats in the documentation: https://pandas.pydata.org/pandas-docs/stable/user_guide/indexing.html#returning-a-view-versus-a-copy\n",
            "  ct['cluster'] = kmeans.labels_\n"
          ]
        },
        {
          "output_type": "execute_result",
          "data": {
            "text/plain": [
              "cluster\n",
              "0    1326\n",
              "1     839\n",
              "2    2563\n",
              "3    1354\n",
              "4    1822\n",
              "5    2096\n",
              "Name: 성별, dtype: int64"
            ]
          },
          "metadata": {},
          "execution_count": 72
        }
      ]
    },
    {
      "cell_type": "markdown",
      "source": [
        "- 전체 컬럼을 사용했을 때보다는 클러스터링이 잘 됐다고 볼 수 있다.\n",
        "- MinMax스케일링 후의 분류가 더 안 된 것 같다.\n"
      ],
      "metadata": {
        "id": "Mn1G3lRQGoDx"
      }
    }
  ]
}