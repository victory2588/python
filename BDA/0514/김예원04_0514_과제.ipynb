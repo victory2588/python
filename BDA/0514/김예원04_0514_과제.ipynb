{
  "nbformat": 4,
  "nbformat_minor": 0,
  "metadata": {
    "colab": {
      "provenance": [],
      "gpuType": "T4"
    },
    "kernelspec": {
      "name": "python3",
      "display_name": "Python 3"
    },
    "language_info": {
      "name": "python"
    },
    "accelerator": "GPU",
    "gpuClass": "standard"
  },
  "cells": [
    {
      "cell_type": "code",
      "execution_count": 1,
      "metadata": {
        "id": "DY-DJVhIhi_s",
        "colab": {
          "base_uri": "https://localhost:8080/"
        },
        "outputId": "d510868c-7313-466e-feaf-ff68b05a1c9d"
      },
      "outputs": [
        {
          "output_type": "stream",
          "name": "stdout",
          "text": [
            "Mounted at /content/drive\n"
          ]
        }
      ],
      "source": [
        "from google.colab import drive\n",
        "drive.mount('/content/drive')"
      ]
    },
    {
      "cell_type": "code",
      "source": [
        "from sklearn.neighbors import KNeighborsRegressor\n",
        "from sklearn.model_selection import train_test_split\n",
        "from sklearn.metrics import mean_squared_error\n",
        "from sklearn import neighbors\n",
        "import matplotlib.pyplot as plt\n",
        "from math import sqrt\n",
        "import pandas as pd"
      ],
      "metadata": {
        "id": "dxrMPM8dUQyt"
      },
      "execution_count": 2,
      "outputs": []
    },
    {
      "cell_type": "code",
      "source": [
        "movie=pd.read_csv('/content/drive/MyDrive/Colab Notebooks/Dataset/basic_movie.tsv',sep='\\t')\n",
        "movie_data=movie[['numVotes']]"
      ],
      "metadata": {
        "id": "raYfpy5GUoKD"
      },
      "execution_count": 3,
      "outputs": []
    },
    {
      "cell_type": "code",
      "source": [
        "movie.info()    # null값 없음"
      ],
      "metadata": {
        "colab": {
          "base_uri": "https://localhost:8080/"
        },
        "id": "AL7381rUVS6o",
        "outputId": "b1a65f8b-39e5-412b-a56f-bb7b5244e84e"
      },
      "execution_count": 4,
      "outputs": [
        {
          "output_type": "stream",
          "name": "stdout",
          "text": [
            "<class 'pandas.core.frame.DataFrame'>\n",
            "RangeIndex: 1311568 entries, 0 to 1311567\n",
            "Data columns (total 3 columns):\n",
            " #   Column         Non-Null Count    Dtype  \n",
            "---  ------         --------------    -----  \n",
            " 0   tconst         1311568 non-null  object \n",
            " 1   averageRating  1311568 non-null  float64\n",
            " 2   numVotes       1311568 non-null  int64  \n",
            "dtypes: float64(1), int64(1), object(1)\n",
            "memory usage: 30.0+ MB\n"
          ]
        }
      ]
    },
    {
      "cell_type": "code",
      "source": [
        "target=movie.averageRating\n",
        "target"
      ],
      "metadata": {
        "colab": {
          "base_uri": "https://localhost:8080/"
        },
        "id": "7a1voX2oXElU",
        "outputId": "cd4fca8f-efc8-4f95-f1bb-fc80ea028654"
      },
      "execution_count": 5,
      "outputs": [
        {
          "output_type": "execute_result",
          "data": {
            "text/plain": [
              "0          5.7\n",
              "1          5.8\n",
              "2          6.5\n",
              "3          5.6\n",
              "4          6.2\n",
              "          ... \n",
              "1311563    8.3\n",
              "1311564    7.0\n",
              "1311565    7.2\n",
              "1311566    7.5\n",
              "1311567    7.0\n",
              "Name: averageRating, Length: 1311568, dtype: float64"
            ]
          },
          "metadata": {},
          "execution_count": 5
        }
      ]
    },
    {
      "cell_type": "code",
      "source": [
        "info=pd.read_csv('/content/drive/MyDrive/Colab Notebooks/Dataset/data-2.tsv',sep='\\t')\n",
        "info"
      ],
      "metadata": {
        "colab": {
          "base_uri": "https://localhost:8080/",
          "height": 424
        },
        "id": "Twlr_gFxU8O-",
        "outputId": "7b696b50-da97-4666-cfe9-00b220a7b91a"
      },
      "execution_count": 6,
      "outputs": [
        {
          "output_type": "execute_result",
          "data": {
            "text/plain": [
              "           tconst  titleType                     primaryTitle  \\\n",
              "0       tt0000001      short                       Carmencita   \n",
              "1       tt0000002      short           Le clown et ses chiens   \n",
              "2       tt0000003      short                   Pauvre Pierrot   \n",
              "3       tt0000004      short                      Un bon bock   \n",
              "4       tt0000005      short                 Blacksmith Scene   \n",
              "...           ...        ...                              ...   \n",
              "812187  tt0838676  tvEpisode        Kesshôsen da!! Kamehameha   \n",
              "812188  tt0838677  tvEpisode  Shôbu!! Kamehame-ha vs Dodon-pa   \n",
              "812189  tt0838678  tvEpisode            Makyô no seichi Karin   \n",
              "812190  tt0838679  tvEpisode                 Ayaushi! Kuririn   \n",
              "812191  tt0838680  tvEpisode                     Kuririn hiss   \n",
              "\n",
              "                          originalTitle  isAdult startYear endYear  \\\n",
              "0                            Carmencita      0.0      1894      \\N   \n",
              "1                Le clown et ses chiens      0.0      1892      \\N   \n",
              "2                        Pauvre Pierrot      0.0      1892      \\N   \n",
              "3                           Un bon bock      0.0      1892      \\N   \n",
              "4                      Blacksmith Scene      0.0      1893      \\N   \n",
              "...                                 ...      ...       ...     ...   \n",
              "812187        Kesshôsen da!! Kamehameha      0.0      1986      \\N   \n",
              "812188  Shôbu!! Kamehame-ha vs Dodon-pa      0.0      1987      \\N   \n",
              "812189            Makyô no seichi Karin      0.0      1987      \\N   \n",
              "812190                 Ayaushi! Kuririn      0.0      1986      \\N   \n",
              "812191                              NaN      NaN       NaN     NaN   \n",
              "\n",
              "       runtimeMinutes                      genres  \n",
              "0                   1           Documentary,Short  \n",
              "1                   5             Animation,Short  \n",
              "2                   4    Animation,Comedy,Romance  \n",
              "3                  12             Animation,Short  \n",
              "4                   1                Comedy,Short  \n",
              "...               ...                         ...  \n",
              "812187             24  Action,Adventure,Animation  \n",
              "812188             24  Action,Adventure,Animation  \n",
              "812189             24  Action,Adventure,Animation  \n",
              "812190             24  Action,Adventure,Animation  \n",
              "812191            NaN                         NaN  \n",
              "\n",
              "[812192 rows x 9 columns]"
            ],
            "text/html": [
              "\n",
              "  <div id=\"df-24af7fae-6c69-464f-9a46-19b6edab6958\">\n",
              "    <div class=\"colab-df-container\">\n",
              "      <div>\n",
              "<style scoped>\n",
              "    .dataframe tbody tr th:only-of-type {\n",
              "        vertical-align: middle;\n",
              "    }\n",
              "\n",
              "    .dataframe tbody tr th {\n",
              "        vertical-align: top;\n",
              "    }\n",
              "\n",
              "    .dataframe thead th {\n",
              "        text-align: right;\n",
              "    }\n",
              "</style>\n",
              "<table border=\"1\" class=\"dataframe\">\n",
              "  <thead>\n",
              "    <tr style=\"text-align: right;\">\n",
              "      <th></th>\n",
              "      <th>tconst</th>\n",
              "      <th>titleType</th>\n",
              "      <th>primaryTitle</th>\n",
              "      <th>originalTitle</th>\n",
              "      <th>isAdult</th>\n",
              "      <th>startYear</th>\n",
              "      <th>endYear</th>\n",
              "      <th>runtimeMinutes</th>\n",
              "      <th>genres</th>\n",
              "    </tr>\n",
              "  </thead>\n",
              "  <tbody>\n",
              "    <tr>\n",
              "      <th>0</th>\n",
              "      <td>tt0000001</td>\n",
              "      <td>short</td>\n",
              "      <td>Carmencita</td>\n",
              "      <td>Carmencita</td>\n",
              "      <td>0.0</td>\n",
              "      <td>1894</td>\n",
              "      <td>\\N</td>\n",
              "      <td>1</td>\n",
              "      <td>Documentary,Short</td>\n",
              "    </tr>\n",
              "    <tr>\n",
              "      <th>1</th>\n",
              "      <td>tt0000002</td>\n",
              "      <td>short</td>\n",
              "      <td>Le clown et ses chiens</td>\n",
              "      <td>Le clown et ses chiens</td>\n",
              "      <td>0.0</td>\n",
              "      <td>1892</td>\n",
              "      <td>\\N</td>\n",
              "      <td>5</td>\n",
              "      <td>Animation,Short</td>\n",
              "    </tr>\n",
              "    <tr>\n",
              "      <th>2</th>\n",
              "      <td>tt0000003</td>\n",
              "      <td>short</td>\n",
              "      <td>Pauvre Pierrot</td>\n",
              "      <td>Pauvre Pierrot</td>\n",
              "      <td>0.0</td>\n",
              "      <td>1892</td>\n",
              "      <td>\\N</td>\n",
              "      <td>4</td>\n",
              "      <td>Animation,Comedy,Romance</td>\n",
              "    </tr>\n",
              "    <tr>\n",
              "      <th>3</th>\n",
              "      <td>tt0000004</td>\n",
              "      <td>short</td>\n",
              "      <td>Un bon bock</td>\n",
              "      <td>Un bon bock</td>\n",
              "      <td>0.0</td>\n",
              "      <td>1892</td>\n",
              "      <td>\\N</td>\n",
              "      <td>12</td>\n",
              "      <td>Animation,Short</td>\n",
              "    </tr>\n",
              "    <tr>\n",
              "      <th>4</th>\n",
              "      <td>tt0000005</td>\n",
              "      <td>short</td>\n",
              "      <td>Blacksmith Scene</td>\n",
              "      <td>Blacksmith Scene</td>\n",
              "      <td>0.0</td>\n",
              "      <td>1893</td>\n",
              "      <td>\\N</td>\n",
              "      <td>1</td>\n",
              "      <td>Comedy,Short</td>\n",
              "    </tr>\n",
              "    <tr>\n",
              "      <th>...</th>\n",
              "      <td>...</td>\n",
              "      <td>...</td>\n",
              "      <td>...</td>\n",
              "      <td>...</td>\n",
              "      <td>...</td>\n",
              "      <td>...</td>\n",
              "      <td>...</td>\n",
              "      <td>...</td>\n",
              "      <td>...</td>\n",
              "    </tr>\n",
              "    <tr>\n",
              "      <th>812187</th>\n",
              "      <td>tt0838676</td>\n",
              "      <td>tvEpisode</td>\n",
              "      <td>Kesshôsen da!! Kamehameha</td>\n",
              "      <td>Kesshôsen da!! Kamehameha</td>\n",
              "      <td>0.0</td>\n",
              "      <td>1986</td>\n",
              "      <td>\\N</td>\n",
              "      <td>24</td>\n",
              "      <td>Action,Adventure,Animation</td>\n",
              "    </tr>\n",
              "    <tr>\n",
              "      <th>812188</th>\n",
              "      <td>tt0838677</td>\n",
              "      <td>tvEpisode</td>\n",
              "      <td>Shôbu!! Kamehame-ha vs Dodon-pa</td>\n",
              "      <td>Shôbu!! Kamehame-ha vs Dodon-pa</td>\n",
              "      <td>0.0</td>\n",
              "      <td>1987</td>\n",
              "      <td>\\N</td>\n",
              "      <td>24</td>\n",
              "      <td>Action,Adventure,Animation</td>\n",
              "    </tr>\n",
              "    <tr>\n",
              "      <th>812189</th>\n",
              "      <td>tt0838678</td>\n",
              "      <td>tvEpisode</td>\n",
              "      <td>Makyô no seichi Karin</td>\n",
              "      <td>Makyô no seichi Karin</td>\n",
              "      <td>0.0</td>\n",
              "      <td>1987</td>\n",
              "      <td>\\N</td>\n",
              "      <td>24</td>\n",
              "      <td>Action,Adventure,Animation</td>\n",
              "    </tr>\n",
              "    <tr>\n",
              "      <th>812190</th>\n",
              "      <td>tt0838679</td>\n",
              "      <td>tvEpisode</td>\n",
              "      <td>Ayaushi! Kuririn</td>\n",
              "      <td>Ayaushi! Kuririn</td>\n",
              "      <td>0.0</td>\n",
              "      <td>1986</td>\n",
              "      <td>\\N</td>\n",
              "      <td>24</td>\n",
              "      <td>Action,Adventure,Animation</td>\n",
              "    </tr>\n",
              "    <tr>\n",
              "      <th>812191</th>\n",
              "      <td>tt0838680</td>\n",
              "      <td>tvEpisode</td>\n",
              "      <td>Kuririn hiss</td>\n",
              "      <td>NaN</td>\n",
              "      <td>NaN</td>\n",
              "      <td>NaN</td>\n",
              "      <td>NaN</td>\n",
              "      <td>NaN</td>\n",
              "      <td>NaN</td>\n",
              "    </tr>\n",
              "  </tbody>\n",
              "</table>\n",
              "<p>812192 rows × 9 columns</p>\n",
              "</div>\n",
              "      <button class=\"colab-df-convert\" onclick=\"convertToInteractive('df-24af7fae-6c69-464f-9a46-19b6edab6958')\"\n",
              "              title=\"Convert this dataframe to an interactive table.\"\n",
              "              style=\"display:none;\">\n",
              "        \n",
              "  <svg xmlns=\"http://www.w3.org/2000/svg\" height=\"24px\"viewBox=\"0 0 24 24\"\n",
              "       width=\"24px\">\n",
              "    <path d=\"M0 0h24v24H0V0z\" fill=\"none\"/>\n",
              "    <path d=\"M18.56 5.44l.94 2.06.94-2.06 2.06-.94-2.06-.94-.94-2.06-.94 2.06-2.06.94zm-11 1L8.5 8.5l.94-2.06 2.06-.94-2.06-.94L8.5 2.5l-.94 2.06-2.06.94zm10 10l.94 2.06.94-2.06 2.06-.94-2.06-.94-.94-2.06-.94 2.06-2.06.94z\"/><path d=\"M17.41 7.96l-1.37-1.37c-.4-.4-.92-.59-1.43-.59-.52 0-1.04.2-1.43.59L10.3 9.45l-7.72 7.72c-.78.78-.78 2.05 0 2.83L4 21.41c.39.39.9.59 1.41.59.51 0 1.02-.2 1.41-.59l7.78-7.78 2.81-2.81c.8-.78.8-2.07 0-2.86zM5.41 20L4 18.59l7.72-7.72 1.47 1.35L5.41 20z\"/>\n",
              "  </svg>\n",
              "      </button>\n",
              "      \n",
              "  <style>\n",
              "    .colab-df-container {\n",
              "      display:flex;\n",
              "      flex-wrap:wrap;\n",
              "      gap: 12px;\n",
              "    }\n",
              "\n",
              "    .colab-df-convert {\n",
              "      background-color: #E8F0FE;\n",
              "      border: none;\n",
              "      border-radius: 50%;\n",
              "      cursor: pointer;\n",
              "      display: none;\n",
              "      fill: #1967D2;\n",
              "      height: 32px;\n",
              "      padding: 0 0 0 0;\n",
              "      width: 32px;\n",
              "    }\n",
              "\n",
              "    .colab-df-convert:hover {\n",
              "      background-color: #E2EBFA;\n",
              "      box-shadow: 0px 1px 2px rgba(60, 64, 67, 0.3), 0px 1px 3px 1px rgba(60, 64, 67, 0.15);\n",
              "      fill: #174EA6;\n",
              "    }\n",
              "\n",
              "    [theme=dark] .colab-df-convert {\n",
              "      background-color: #3B4455;\n",
              "      fill: #D2E3FC;\n",
              "    }\n",
              "\n",
              "    [theme=dark] .colab-df-convert:hover {\n",
              "      background-color: #434B5C;\n",
              "      box-shadow: 0px 1px 3px 1px rgba(0, 0, 0, 0.15);\n",
              "      filter: drop-shadow(0px 1px 2px rgba(0, 0, 0, 0.3));\n",
              "      fill: #FFFFFF;\n",
              "    }\n",
              "  </style>\n",
              "\n",
              "      <script>\n",
              "        const buttonEl =\n",
              "          document.querySelector('#df-24af7fae-6c69-464f-9a46-19b6edab6958 button.colab-df-convert');\n",
              "        buttonEl.style.display =\n",
              "          google.colab.kernel.accessAllowed ? 'block' : 'none';\n",
              "\n",
              "        async function convertToInteractive(key) {\n",
              "          const element = document.querySelector('#df-24af7fae-6c69-464f-9a46-19b6edab6958');\n",
              "          const dataTable =\n",
              "            await google.colab.kernel.invokeFunction('convertToInteractive',\n",
              "                                                     [key], {});\n",
              "          if (!dataTable) return;\n",
              "\n",
              "          const docLinkHtml = 'Like what you see? Visit the ' +\n",
              "            '<a target=\"_blank\" href=https://colab.research.google.com/notebooks/data_table.ipynb>data table notebook</a>'\n",
              "            + ' to learn more about interactive tables.';\n",
              "          element.innerHTML = '';\n",
              "          dataTable['output_type'] = 'display_data';\n",
              "          await google.colab.output.renderOutput(dataTable, element);\n",
              "          const docLink = document.createElement('div');\n",
              "          docLink.innerHTML = docLinkHtml;\n",
              "          element.appendChild(docLink);\n",
              "        }\n",
              "      </script>\n",
              "    </div>\n",
              "  </div>\n",
              "  "
            ]
          },
          "metadata": {},
          "execution_count": 6
        }
      ]
    },
    {
      "cell_type": "code",
      "source": [
        "info.info()     # null값 1개\n",
        "info=info.dropna(axis=0)"
      ],
      "metadata": {
        "colab": {
          "base_uri": "https://localhost:8080/"
        },
        "id": "WQU-r-kQVM0v",
        "outputId": "d5bab36d-78d7-45f2-afe5-8f185d4cc17d"
      },
      "execution_count": 7,
      "outputs": [
        {
          "output_type": "stream",
          "name": "stdout",
          "text": [
            "<class 'pandas.core.frame.DataFrame'>\n",
            "RangeIndex: 812192 entries, 0 to 812191\n",
            "Data columns (total 9 columns):\n",
            " #   Column          Non-Null Count   Dtype  \n",
            "---  ------          --------------   -----  \n",
            " 0   tconst          812192 non-null  object \n",
            " 1   titleType       812192 non-null  object \n",
            " 2   primaryTitle    812192 non-null  object \n",
            " 3   originalTitle   812191 non-null  object \n",
            " 4   isAdult         812191 non-null  float64\n",
            " 5   startYear       812191 non-null  object \n",
            " 6   endYear         812191 non-null  object \n",
            " 7   runtimeMinutes  812191 non-null  object \n",
            " 8   genres          812191 non-null  object \n",
            "dtypes: float64(1), object(8)\n",
            "memory usage: 55.8+ MB\n"
          ]
        }
      ]
    },
    {
      "cell_type": "markdown",
      "source": [
        "### train, test 세트 나누기"
      ],
      "metadata": {
        "id": "XjUjz9UpWiTj"
      }
    },
    {
      "cell_type": "code",
      "source": [
        "X_train, x_test, y_train, y_test = train_test_split(movie_data,target, test_size=0.2,random_state=123)\n",
        "y_test"
      ],
      "metadata": {
        "colab": {
          "base_uri": "https://localhost:8080/"
        },
        "id": "mVsdCPMFWhc6",
        "outputId": "683a751b-94ba-4b11-a1df-260fd8a5b1d7"
      },
      "execution_count": 8,
      "outputs": [
        {
          "output_type": "execute_result",
          "data": {
            "text/plain": [
              "612895     8.6\n",
              "814682     7.3\n",
              "1138030    7.9\n",
              "156208     7.0\n",
              "602862     6.4\n",
              "          ... \n",
              "750208     6.8\n",
              "219810     7.5\n",
              "646630     7.1\n",
              "1153666    5.2\n",
              "754405     6.0\n",
              "Name: averageRating, Length: 262314, dtype: float64"
            ]
          },
          "metadata": {},
          "execution_count": 8
        }
      ]
    },
    {
      "cell_type": "code",
      "source": [
        "rmse_val =[]\n",
        "for K in range(20):\n",
        "    K = K+1\n",
        "    model = neighbors.KNeighborsRegressor(n_neighbors = K,weights='distance',p=1)\n",
        "    model.fit(X_train, y_train)\n",
        "    pred = model.predict(x_test)\n",
        "    error = sqrt(mean_squared_error(y_test,pred))\n",
        "    rmse_val.append(error)\n",
        "    print('RMSE value k',K,'=',error)\n",
        "print('가장최소 rmse',min(rmse_val))"
      ],
      "metadata": {
        "colab": {
          "base_uri": "https://localhost:8080/"
        },
        "id": "SoNjmP9qXafB",
        "outputId": "deb48a7e-db6b-4618-8311-fb01e0ea41ef"
      },
      "execution_count": 12,
      "outputs": [
        {
          "output_type": "stream",
          "name": "stdout",
          "text": [
            "RMSE value k 1 = 2.1271323174574737\n",
            "RMSE value k 2 = 1.7252642295260583\n",
            "RMSE value k 3 = 1.6041369634896345\n",
            "RMSE value k 4 = 1.538793878904749\n",
            "RMSE value k 5 = 1.4997986627325834\n",
            "RMSE value k 6 = 1.4701682382308405\n",
            "RMSE value k 7 = 1.4665496471161148\n",
            "RMSE value k 8 = 1.4667248209219519\n",
            "RMSE value k 9 = 1.45794237399544\n",
            "RMSE value k 10 = 1.447937613459717\n",
            "RMSE value k 11 = 1.4411650021298148\n",
            "RMSE value k 12 = 1.4467320799884393\n",
            "RMSE value k 13 = 1.4461226343699307\n",
            "RMSE value k 14 = 1.4414171311567756\n",
            "RMSE value k 15 = 1.4347996075020877\n",
            "RMSE value k 16 = 1.429395227313746\n",
            "RMSE value k 17 = 1.4276610551124722\n",
            "RMSE value k 18 = 1.426179620037397\n",
            "RMSE value k 19 = 1.4224936778934358\n",
            "RMSE value k 20 = 1.421493226324326\n",
            "가장최소 rmse 1.421493226324326\n"
          ]
        }
      ]
    },
    {
      "cell_type": "code",
      "source": [
        "curve = pd.DataFrame(rmse_val)\n",
        "curve.plot()"
      ],
      "metadata": {
        "colab": {
          "base_uri": "https://localhost:8080/",
          "height": 448
        },
        "id": "RQZgrH0YdjTE",
        "outputId": "582d15b7-0b5c-4437-99fc-c98297624593"
      },
      "execution_count": 13,
      "outputs": [
        {
          "output_type": "execute_result",
          "data": {
            "text/plain": [
              "<Axes: >"
            ]
          },
          "metadata": {},
          "execution_count": 13
        },
        {
          "output_type": "display_data",
          "data": {
            "text/plain": [
              "<Figure size 640x480 with 1 Axes>"
            ],
            "image/png": "[encoded data removed]"
          },
          "metadata": {}
        }
      ]
    },
    {
      "cell_type": "markdown",
      "source": [
        "### 생각해본 것\n",
        "1. 20번 반복했는데 최소점이 안 나올 수 있나?\n",
        "2. data-2 파일과 합쳐서 돌려봤어야 했나?\n"
      ],
      "metadata": {
        "id": "xkP39B8tmYai"
      }
    }
  ]
}