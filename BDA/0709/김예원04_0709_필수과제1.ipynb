{
  "nbformat": 4,
  "nbformat_minor": 0,
  "metadata": {
    "colab": {
      "provenance": []
    },
    "kernelspec": {
      "name": "python3",
      "display_name": "Python 3"
    },
    "language_info": {
      "name": "python"
    }
  },
  "cells": [
    {
      "cell_type": "markdown",
      "source": [
        "#필수과제1\n",
        "- 3차 다항식을 만든 후 원리를 주석으로 정리"
      ],
      "metadata": {
        "id": "IEVzQGrnywTT"
      }
    },
    {
      "cell_type": "code",
      "source": [
        "from sklearn.preprocessing import PolynomialFeatures\n",
        "import numpy as np"
      ],
      "metadata": {
        "id": "AaFwh5C6y5L3"
      },
      "execution_count": null,
      "outputs": []
    },
    {
      "cell_type": "code",
      "source": [
        "X=np.arange(4).reshape(2,2)\n",
        "\n",
        "# 3차 다항식\n",
        "cubic = PolynomialFeatures(degree=3)\n",
        "cubic.fit(X)\n",
        "cubic_ftr = cubic.transform(X)\n",
        "print('변환된 3차 다항식 계수',cubic_ftr)"
      ],
      "metadata": {
        "colab": {
          "base_uri": "https://localhost:8080/"
        },
        "id": "UdmPkE0MzGr-",
        "outputId": "4fe1d1d1-cc90-4cdc-b8fe-e2598fbc47d3"
      },
      "execution_count": null,
      "outputs": [
        {
          "output_type": "stream",
          "name": "stdout",
          "text": [
            "변환된 3차 다항식 계수 [[ 1.  0.  1.  0.  0.  1.  0.  0.  0.  1.]\n",
            " [ 1.  2.  3.  4.  6.  9.  8. 12. 18. 27.]]\n"
          ]
        }
      ]
    },
    {
      "cell_type": "markdown",
      "source": [
        ">[1, X1, X2, X1^2, X1X2, X2^2, X1^2*X2, X2^2*X1, X1^3, X2^3] 이렇게 3차 다항식이 생성된다."
      ],
      "metadata": {
        "id": "B_pg8GKc2EpA"
      }
    }
  ]
}