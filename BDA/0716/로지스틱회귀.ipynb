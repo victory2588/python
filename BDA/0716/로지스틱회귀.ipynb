{
  "nbformat": 4,
  "nbformat_minor": 0,
  "metadata": {
    "colab": {
      "provenance": []
    },
    "kernelspec": {
      "name": "python3",
      "display_name": "Python 3"
    },
    "language_info": {
      "name": "python"
    }
  },
  "cells": [
    {
      "cell_type": "markdown",
      "source": [
        "# 분류 - 로지스틱 회귀\n",
        "- 이진분류 / 다중분류\n",
        "- 선형 회귀와 다른 점: **시그모이드 함수** 사용 -> 확률에 따른 분류\n",
        "- 시그모이드 함수와 오즈비(odds)의 관계: 오즈비에 로그함수 적용\n",
        "- odds(p)= p/(1-p) p\n",
        "- log(odds(p)) 0,1 밖에 안되는 확률의 범위를 -> 실수전체로 확장\n",
        "- x 값이 커지면 1로 근사, 작아지면 0에 근사, 0일 경우 0.5"
      ],
      "metadata": {
        "id": "93Xr94gA7_ui"
      }
    },
    {
      "cell_type": "markdown",
      "source": [
        "## 시그모이드 함수"
      ],
      "metadata": {
        "id": "9yc8a7yi-GFz"
      }
    },
    {
      "cell_type": "code",
      "source": [
        "import pandas as pd\n",
        "import numpy as np\n",
        "import matplotlib.pyplot as plt"
      ],
      "metadata": {
        "id": "2STrZOSM-KCf"
      },
      "execution_count": null,
      "outputs": []
    },
    {
      "cell_type": "code",
      "execution_count": null,
      "metadata": {
        "colab": {
          "base_uri": "https://localhost:8080/",
          "height": 430
        },
        "id": "a7YHnAan6pyY",
        "outputId": "b3c115d5-aeb7-4229-9da8-20d22bf1aac3"
      },
      "outputs": [
        {
          "output_type": "display_data",
          "data": {
            "text/plain": [
              "<Figure size 640x480 with 1 Axes>"
            ],
            "image/png": "[encoded data removed]"
          },
          "metadata": {}
        }
      ],
      "source": [
        "def sigmoid(x):\n",
        "    return 1 / (1+np.exp(-x))\n",
        "\n",
        "x = np.arange(-5.0, 5.0, 0.1)\n",
        "y = sigmoid(x)\n",
        "plt.plot(x,y)\n",
        "plt.ylim(-0.1, 1.1)\n",
        "plt.show()"
      ]
    },
    {
      "cell_type": "markdown",
      "source": [
        "##데이터 불러오기\n",
        "- 유방암 데이터"
      ],
      "metadata": {
        "id": "uHB206mUCqUA"
      }
    },
    {
      "cell_type": "code",
      "source": [
        "from sklearn.datasets import load_breast_cancer\n",
        "from sklearn.linear_model import LogisticRegression\n",
        "\n",
        "cancer = load_breast_cancer()"
      ],
      "metadata": {
        "id": "samzN4sPCm8q"
      },
      "execution_count": null,
      "outputs": []
    },
    {
      "cell_type": "markdown",
      "source": [
        "## 스케일링"
      ],
      "metadata": {
        "id": "6vqqhlVUCtKB"
      }
    },
    {
      "cell_type": "code",
      "source": [
        "from sklearn.preprocessing import StandardScaler\n",
        "from sklearn.model_selection import train_test_split\n",
        "\n",
        "# sc\n",
        "scaler = StandardScaler()\n",
        "data_scaled = scaler.fit_transform(cancer.data)\n",
        "X_train, X_test, y_train, y_test = train_test_split(data_scaled, cancer.target, test_size=0.3, random_state=111)"
      ],
      "metadata": {
        "id": "w83OKMOyCwE0"
      },
      "execution_count": null,
      "outputs": []
    },
    {
      "cell_type": "markdown",
      "source": [
        "##성능 확인\n",
        "- accuracy, roc 커브"
      ],
      "metadata": {
        "id": "YGAQwImDCzSG"
      }
    },
    {
      "cell_type": "code",
      "source": [
        "from sklearn.metrics import accuracy_score, roc_auc_score\n",
        "\n",
        "lr_clf = LogisticRegression()\n",
        "lr_clf.fit(X_train, y_train)\n",
        "lr_preds = lr_clf.predict(X_test)\n",
        "\n",
        "#정확도, Roc 측정\n",
        "print(accuracy_score(y_test,lr_preds), '정확도')\n",
        "print(roc_auc_score(y_test,lr_preds), 'roc')"
      ],
      "metadata": {
        "colab": {
          "base_uri": "https://localhost:8080/"
        },
        "id": "Dl6Fx-h2C4b3",
        "outputId": "f256b641-d5b9-47b7-b34f-07672ec7e16b"
      },
      "execution_count": null,
      "outputs": [
        {
          "output_type": "stream",
          "name": "stdout",
          "text": [
            "0.9766081871345029 정확도\n",
            "0.9730868075385495 roc\n"
          ]
        }
      ]
    },
    {
      "cell_type": "markdown",
      "source": [
        "##파라미터 조정"
      ],
      "metadata": {
        "id": "cYxo46zNDjmb"
      }
    },
    {
      "cell_type": "code",
      "source": [
        "solvers= ['lbfgs','liblinear','newton-cg','sag','saga']\n",
        "\n",
        "for solver in solvers:\n",
        "    lr_clf = LogisticRegression(solver = solver, max_iter = 800)\n",
        "    lr_clf.fit(X_train, y_train)\n",
        "    lr_preds = lr_clf.predict(X_test)\n",
        "\n",
        "    print('solver:{0}, accuracy:{1:.3f}, roc_auc:{2:.3f}'.format(solver, accuracy_score(y_test, lr_preds),\n",
        "                                                                roc_auc_score(y_test, lr_preds)))"
      ],
      "metadata": {
        "colab": {
          "base_uri": "https://localhost:8080/"
        },
        "id": "hCm205CWDlD1",
        "outputId": "08c66a6e-7133-439d-a854-6cb442d9c0dd"
      },
      "execution_count": null,
      "outputs": [
        {
          "output_type": "stream",
          "name": "stdout",
          "text": [
            "solver:lbfgs, accuracy:0.977, roc_auc:0.973\n",
            "solver:liblinear, accuracy:0.977, roc_auc:0.973\n",
            "solver:newton-cg, accuracy:0.977, roc_auc:0.973\n",
            "solver:sag, accuracy:0.977, roc_auc:0.973\n",
            "solver:saga, accuracy:0.977, roc_auc:0.973\n"
          ]
        }
      ]
    },
    {
      "cell_type": "markdown",
      "source": [
        "## 그리드서치"
      ],
      "metadata": {
        "id": "OZVAD_8OMcZh"
      }
    },
    {
      "cell_type": "code",
      "source": [
        "from sklearn.model_selection import GridSearchCV\n",
        "\n",
        "\n",
        "def log_tuning(train, y, params):\n",
        "    lr_clf = LogisticRegression(random_state=111)\n",
        "    grid = GridSearchCV(lr_clf, params, scoring='roc_auc',cv =7)\n",
        "    grid.fit(train,y)\n",
        "\n",
        "    print(grid.best_params_)\n",
        "    print(grid.best_score_)\n",
        "\n",
        "    return grid.best_estimator_"
      ],
      "metadata": {
        "id": "bcJRu5_pMfeH"
      },
      "execution_count": null,
      "outputs": []
    },
    {
      "cell_type": "code",
      "source": [
        "#파라미터 하나씩 정의해 보기\n",
        "param1 = {'penalty':['l2','l1'], 'C':[0.01, 0.1, 1, 5, 10 ,100], 'max_iter':[100,500]}\n",
        "log_tuning(X_train, y_train, params= param1)"
      ],
      "metadata": {
        "colab": {
          "base_uri": "https://localhost:8080/",
          "height": 1000
        },
        "id": "RP5F4jNwMiIO",
        "outputId": "6a91af33-b08c-46d1-f93b-d8ac990b9cff"
      },
      "execution_count": null,
      "outputs": [
        {
          "output_type": "stream",
          "name": "stderr",
          "text": [
            "/usr/local/lib/python3.10/dist-packages/sklearn/linear_model/_logistic.py:458: ConvergenceWarning: lbfgs failed to converge (status=1):\n",
            "STOP: TOTAL NO. of ITERATIONS REACHED LIMIT.\n",
            "\n",
            "Increase the number of iterations (max_iter) or scale the data as shown in:\n",
            "    https://scikit-learn.org/stable/modules/preprocessing.html\n",
            "Please also refer to the documentation for alternative solver options:\n",
            "    https://scikit-learn.org/stable/modules/linear_model.html#logistic-regression\n",
            "  n_iter_i = _check_optimize_result(\n",
            "/usr/local/lib/python3.10/dist-packages/sklearn/linear_model/_logistic.py:458: ConvergenceWarning: lbfgs failed to converge (status=1):\n",
            "STOP: TOTAL NO. of ITERATIONS REACHED LIMIT.\n",
            "\n",
            "Increase the number of iterations (max_iter) or scale the data as shown in:\n",
            "    https://scikit-learn.org/stable/modules/preprocessing.html\n",
            "Please also refer to the documentation for alternative solver options:\n",
            "    https://scikit-learn.org/stable/modules/linear_model.html#logistic-regression\n",
            "  n_iter_i = _check_optimize_result(\n",
            "/usr/local/lib/python3.10/dist-packages/sklearn/linear_model/_logistic.py:458: ConvergenceWarning: lbfgs failed to converge (status=1):\n",
            "STOP: TOTAL NO. of ITERATIONS REACHED LIMIT.\n",
            "\n",
            "Increase the number of iterations (max_iter) or scale the data as shown in:\n",
            "    https://scikit-learn.org/stable/modules/preprocessing.html\n",
            "Please also refer to the documentation for alternative solver options:\n",
            "    https://scikit-learn.org/stable/modules/linear_model.html#logistic-regression\n",
            "  n_iter_i = _check_optimize_result(\n",
            "/usr/local/lib/python3.10/dist-packages/sklearn/linear_model/_logistic.py:458: ConvergenceWarning: lbfgs failed to converge (status=1):\n",
            "STOP: TOTAL NO. of ITERATIONS REACHED LIMIT.\n",
            "\n",
            "Increase the number of iterations (max_iter) or scale the data as shown in:\n",
            "    https://scikit-learn.org/stable/modules/preprocessing.html\n",
            "Please also refer to the documentation for alternative solver options:\n",
            "    https://scikit-learn.org/stable/modules/linear_model.html#logistic-regression\n",
            "  n_iter_i = _check_optimize_result(\n",
            "/usr/local/lib/python3.10/dist-packages/sklearn/linear_model/_logistic.py:458: ConvergenceWarning: lbfgs failed to converge (status=1):\n",
            "STOP: TOTAL NO. of ITERATIONS REACHED LIMIT.\n",
            "\n",
            "Increase the number of iterations (max_iter) or scale the data as shown in:\n",
            "    https://scikit-learn.org/stable/modules/preprocessing.html\n",
            "Please also refer to the documentation for alternative solver options:\n",
            "    https://scikit-learn.org/stable/modules/linear_model.html#logistic-regression\n",
            "  n_iter_i = _check_optimize_result(\n",
            "/usr/local/lib/python3.10/dist-packages/sklearn/linear_model/_logistic.py:458: ConvergenceWarning: lbfgs failed to converge (status=1):\n",
            "STOP: TOTAL NO. of ITERATIONS REACHED LIMIT.\n",
            "\n",
            "Increase the number of iterations (max_iter) or scale the data as shown in:\n",
            "    https://scikit-learn.org/stable/modules/preprocessing.html\n",
            "Please also refer to the documentation for alternative solver options:\n",
            "    https://scikit-learn.org/stable/modules/linear_model.html#logistic-regression\n",
            "  n_iter_i = _check_optimize_result(\n",
            "/usr/local/lib/python3.10/dist-packages/sklearn/linear_model/_logistic.py:458: ConvergenceWarning: lbfgs failed to converge (status=1):\n",
            "STOP: TOTAL NO. of ITERATIONS REACHED LIMIT.\n",
            "\n",
            "Increase the number of iterations (max_iter) or scale the data as shown in:\n",
            "    https://scikit-learn.org/stable/modules/preprocessing.html\n",
            "Please also refer to the documentation for alternative solver options:\n",
            "    https://scikit-learn.org/stable/modules/linear_model.html#logistic-regression\n",
            "  n_iter_i = _check_optimize_result(\n"
          ]
        },
        {
          "output_type": "stream",
          "name": "stdout",
          "text": [
            "{'C': 0.1, 'max_iter': 100, 'penalty': 'l2'}\n",
            "0.9958251618965904\n"
          ]
        },
        {
          "output_type": "stream",
          "name": "stderr",
          "text": [
            "/usr/local/lib/python3.10/dist-packages/sklearn/model_selection/_validation.py:378: FitFailedWarning: \n",
            "84 fits failed out of a total of 168.\n",
            "The score on these train-test partitions for these parameters will be set to nan.\n",
            "If these failures are not expected, you can try to debug them by setting error_score='raise'.\n",
            "\n",
            "Below are more details about the failures:\n",
            "--------------------------------------------------------------------------------\n",
            "84 fits failed with the following error:\n",
            "Traceback (most recent call last):\n",
            "  File \"/usr/local/lib/python3.10/dist-packages/sklearn/model_selection/_validation.py\", line 686, in _fit_and_score\n",
            "    estimator.fit(X_train, y_train, **fit_params)\n",
            "  File \"/usr/local/lib/python3.10/dist-packages/sklearn/linear_model/_logistic.py\", line 1162, in fit\n",
            "    solver = _check_solver(self.solver, self.penalty, self.dual)\n",
            "  File \"/usr/local/lib/python3.10/dist-packages/sklearn/linear_model/_logistic.py\", line 54, in _check_solver\n",
            "    raise ValueError(\n",
            "ValueError: Solver lbfgs supports only 'l2' or 'none' penalties, got l1 penalty.\n",
            "\n",
            "  warnings.warn(some_fits_failed_message, FitFailedWarning)\n",
            "/usr/local/lib/python3.10/dist-packages/sklearn/model_selection/_search.py:952: UserWarning: One or more of the test scores are non-finite: [0.9929529         nan 0.9929529         nan 0.99582516        nan\n",
            " 0.99582516        nan 0.99582389        nan 0.99582389        nan\n",
            " 0.99334028        nan 0.99334028        nan 0.99277339        nan\n",
            " 0.99277339        nan 0.98936385        nan 0.98936385        nan]\n",
            "  warnings.warn(\n"
          ]
        },
        {
          "output_type": "execute_result",
          "data": {
            "text/plain": [
              "LogisticRegression(C=0.1, random_state=111)"
            ],
            "text/html": [
              "<style>#sk-container-id-1 {color: black;background-color: white;}#sk-container-id-1 pre{padding: 0;}#sk-container-id-1 div.sk-toggleable {background-color: white;}#sk-container-id-1 label.sk-toggleable__label {cursor: pointer;display: block;width: 100%;margin-bottom: 0;padding: 0.3em;box-sizing: border-box;text-align: center;}#sk-container-id-1 label.sk-toggleable__label-arrow:before {content: \"▸\";float: left;margin-right: 0.25em;color: #696969;}#sk-container-id-1 label.sk-toggleable__label-arrow:hover:before {color: black;}#sk-container-id-1 div.sk-estimator:hover label.sk-toggleable__label-arrow:before {color: black;}#sk-container-id-1 div.sk-toggleable__content {max-height: 0;max-width: 0;overflow: hidden;text-align: left;background-color: #f0f8ff;}#sk-container-id-1 div.sk-toggleable__content pre {margin: 0.2em;color: black;border-radius: 0.25em;background-color: #f0f8ff;}#sk-container-id-1 input.sk-toggleable__control:checked~div.sk-toggleable__content {max-height: 200px;max-width: 100%;overflow: auto;}#sk-container-id-1 input.sk-toggleable__control:checked~label.sk-toggleable__label-arrow:before {content: \"▾\";}#sk-container-id-1 div.sk-estimator input.sk-toggleable__control:checked~label.sk-toggleable__label {background-color: #d4ebff;}#sk-container-id-1 div.sk-label input.sk-toggleable__control:checked~label.sk-toggleable__label {background-color: #d4ebff;}#sk-container-id-1 input.sk-hidden--visually {border: 0;clip: rect(1px 1px 1px 1px);clip: rect(1px, 1px, 1px, 1px);height: 1px;margin: -1px;overflow: hidden;padding: 0;position: absolute;width: 1px;}#sk-container-id-1 div.sk-estimator {font-family: monospace;background-color: #f0f8ff;border: 1px dotted black;border-radius: 0.25em;box-sizing: border-box;margin-bottom: 0.5em;}#sk-container-id-1 div.sk-estimator:hover {background-color: #d4ebff;}#sk-container-id-1 div.sk-parallel-item::after {content: \"\";width: 100%;border-bottom: 1px solid gray;flex-grow: 1;}#sk-container-id-1 div.sk-label:hover label.sk-toggleable__label {background-color: #d4ebff;}#sk-container-id-1 div.sk-serial::before {content: \"\";position: absolute;border-left: 1px solid gray;box-sizing: border-box;top: 0;bottom: 0;left: 50%;z-index: 0;}#sk-container-id-1 div.sk-serial {display: flex;flex-direction: column;align-items: center;background-color: white;padding-right: 0.2em;padding-left: 0.2em;position: relative;}#sk-container-id-1 div.sk-item {position: relative;z-index: 1;}#sk-container-id-1 div.sk-parallel {display: flex;align-items: stretch;justify-content: center;background-color: white;position: relative;}#sk-container-id-1 div.sk-item::before, #sk-container-id-1 div.sk-parallel-item::before {content: \"\";position: absolute;border-left: 1px solid gray;box-sizing: border-box;top: 0;bottom: 0;left: 50%;z-index: -1;}#sk-container-id-1 div.sk-parallel-item {display: flex;flex-direction: column;z-index: 1;position: relative;background-color: white;}#sk-container-id-1 div.sk-parallel-item:first-child::after {align-self: flex-end;width: 50%;}#sk-container-id-1 div.sk-parallel-item:last-child::after {align-self: flex-start;width: 50%;}#sk-container-id-1 div.sk-parallel-item:only-child::after {width: 0;}#sk-container-id-1 div.sk-dashed-wrapped {border: 1px dashed gray;margin: 0 0.4em 0.5em 0.4em;box-sizing: border-box;padding-bottom: 0.4em;background-color: white;}#sk-container-id-1 div.sk-label label {font-family: monospace;font-weight: bold;display: inline-block;line-height: 1.2em;}#sk-container-id-1 div.sk-label-container {text-align: center;}#sk-container-id-1 div.sk-container {/* jupyter's `normalize.less` sets `[hidden] { display: none; }` but bootstrap.min.css set `[hidden] { display: none !important; }` so we also need the `!important` here to be able to override the default hidden behavior on the sphinx rendered scikit-learn.org. See: https://github.com/scikit-learn/scikit-learn/issues/21755 */display: inline-block !important;position: relative;}#sk-container-id-1 div.sk-text-repr-fallback {display: none;}</style><div id=\"sk-container-id-1\" class=\"sk-top-container\"><div class=\"sk-text-repr-fallback\"><pre>LogisticRegression(C=0.1, random_state=111)</pre><b>In a Jupyter environment, please rerun this cell to show the HTML representation or trust the notebook. <br />On GitHub, the HTML representation is unable to render, please try loading this page with nbviewer.org.</b></div><div class=\"sk-container\" hidden><div class=\"sk-item\"><div class=\"sk-estimator sk-toggleable\"><input class=\"sk-toggleable__control sk-hidden--visually\" id=\"sk-estimator-id-1\" type=\"checkbox\" checked><label for=\"sk-estimator-id-1\" class=\"sk-toggleable__label sk-toggleable__label-arrow\">LogisticRegression</label><div class=\"sk-toggleable__content\"><pre>LogisticRegression(C=0.1, random_state=111)</pre></div></div></div></div></div>"
            ]
          },
          "metadata": {},
          "execution_count": 8
        }
      ]
    },
    {
      "cell_type": "code",
      "source": [
        "#파라미터 하나씩 정의해 보기\n",
        "param2 = {'penalty':['l2'], 'C':[0.1,0.2,0.3,0.5, 1, 5, 10], 'max_iter':[100,200,300,400,500,700]}\n",
        "log_tuning(X_train, y_train, params= param2)"
      ],
      "metadata": {
        "colab": {
          "base_uri": "https://localhost:8080/",
          "height": 111
        },
        "id": "gJNuI_NLMohv",
        "outputId": "b87617e2-4461-4332-9753-dc0ff4ccc9e8"
      },
      "execution_count": null,
      "outputs": [
        {
          "output_type": "stream",
          "name": "stdout",
          "text": [
            "{'C': 0.5, 'max_iter': 100, 'penalty': 'l2'}\n",
            "0.9967781557067271\n"
          ]
        },
        {
          "output_type": "execute_result",
          "data": {
            "text/plain": [
              "LogisticRegression(C=0.5, random_state=111)"
            ],
            "text/html": [
              "<style>#sk-container-id-2 {color: black;background-color: white;}#sk-container-id-2 pre{padding: 0;}#sk-container-id-2 div.sk-toggleable {background-color: white;}#sk-container-id-2 label.sk-toggleable__label {cursor: pointer;display: block;width: 100%;margin-bottom: 0;padding: 0.3em;box-sizing: border-box;text-align: center;}#sk-container-id-2 label.sk-toggleable__label-arrow:before {content: \"▸\";float: left;margin-right: 0.25em;color: #696969;}#sk-container-id-2 label.sk-toggleable__label-arrow:hover:before {color: black;}#sk-container-id-2 div.sk-estimator:hover label.sk-toggleable__label-arrow:before {color: black;}#sk-container-id-2 div.sk-toggleable__content {max-height: 0;max-width: 0;overflow: hidden;text-align: left;background-color: #f0f8ff;}#sk-container-id-2 div.sk-toggleable__content pre {margin: 0.2em;color: black;border-radius: 0.25em;background-color: #f0f8ff;}#sk-container-id-2 input.sk-toggleable__control:checked~div.sk-toggleable__content {max-height: 200px;max-width: 100%;overflow: auto;}#sk-container-id-2 input.sk-toggleable__control:checked~label.sk-toggleable__label-arrow:before {content: \"▾\";}#sk-container-id-2 div.sk-estimator input.sk-toggleable__control:checked~label.sk-toggleable__label {background-color: #d4ebff;}#sk-container-id-2 div.sk-label input.sk-toggleable__control:checked~label.sk-toggleable__label {background-color: #d4ebff;}#sk-container-id-2 input.sk-hidden--visually {border: 0;clip: rect(1px 1px 1px 1px);clip: rect(1px, 1px, 1px, 1px);height: 1px;margin: -1px;overflow: hidden;padding: 0;position: absolute;width: 1px;}#sk-container-id-2 div.sk-estimator {font-family: monospace;background-color: #f0f8ff;border: 1px dotted black;border-radius: 0.25em;box-sizing: border-box;margin-bottom: 0.5em;}#sk-container-id-2 div.sk-estimator:hover {background-color: #d4ebff;}#sk-container-id-2 div.sk-parallel-item::after {content: \"\";width: 100%;border-bottom: 1px solid gray;flex-grow: 1;}#sk-container-id-2 div.sk-label:hover label.sk-toggleable__label {background-color: #d4ebff;}#sk-container-id-2 div.sk-serial::before {content: \"\";position: absolute;border-left: 1px solid gray;box-sizing: border-box;top: 0;bottom: 0;left: 50%;z-index: 0;}#sk-container-id-2 div.sk-serial {display: flex;flex-direction: column;align-items: center;background-color: white;padding-right: 0.2em;padding-left: 0.2em;position: relative;}#sk-container-id-2 div.sk-item {position: relative;z-index: 1;}#sk-container-id-2 div.sk-parallel {display: flex;align-items: stretch;justify-content: center;background-color: white;position: relative;}#sk-container-id-2 div.sk-item::before, #sk-container-id-2 div.sk-parallel-item::before {content: \"\";position: absolute;border-left: 1px solid gray;box-sizing: border-box;top: 0;bottom: 0;left: 50%;z-index: -1;}#sk-container-id-2 div.sk-parallel-item {display: flex;flex-direction: column;z-index: 1;position: relative;background-color: white;}#sk-container-id-2 div.sk-parallel-item:first-child::after {align-self: flex-end;width: 50%;}#sk-container-id-2 div.sk-parallel-item:last-child::after {align-self: flex-start;width: 50%;}#sk-container-id-2 div.sk-parallel-item:only-child::after {width: 0;}#sk-container-id-2 div.sk-dashed-wrapped {border: 1px dashed gray;margin: 0 0.4em 0.5em 0.4em;box-sizing: border-box;padding-bottom: 0.4em;background-color: white;}#sk-container-id-2 div.sk-label label {font-family: monospace;font-weight: bold;display: inline-block;line-height: 1.2em;}#sk-container-id-2 div.sk-label-container {text-align: center;}#sk-container-id-2 div.sk-container {/* jupyter's `normalize.less` sets `[hidden] { display: none; }` but bootstrap.min.css set `[hidden] { display: none !important; }` so we also need the `!important` here to be able to override the default hidden behavior on the sphinx rendered scikit-learn.org. See: https://github.com/scikit-learn/scikit-learn/issues/21755 */display: inline-block !important;position: relative;}#sk-container-id-2 div.sk-text-repr-fallback {display: none;}</style><div id=\"sk-container-id-2\" class=\"sk-top-container\"><div class=\"sk-text-repr-fallback\"><pre>LogisticRegression(C=0.5, random_state=111)</pre><b>In a Jupyter environment, please rerun this cell to show the HTML representation or trust the notebook. <br />On GitHub, the HTML representation is unable to render, please try loading this page with nbviewer.org.</b></div><div class=\"sk-container\" hidden><div class=\"sk-item\"><div class=\"sk-estimator sk-toggleable\"><input class=\"sk-toggleable__control sk-hidden--visually\" id=\"sk-estimator-id-2\" type=\"checkbox\" checked><label for=\"sk-estimator-id-2\" class=\"sk-toggleable__label sk-toggleable__label-arrow\">LogisticRegression</label><div class=\"sk-toggleable__content\"><pre>LogisticRegression(C=0.5, random_state=111)</pre></div></div></div></div></div>"
            ]
          },
          "metadata": {},
          "execution_count": 9
        }
      ]
    },
    {
      "cell_type": "markdown",
      "source": [
        "- 'C': 0.5, 'max_iter': 100, 'penalty': 'l2' 일 때 가장 성능이 좋다"
      ],
      "metadata": {
        "id": "dSBiBJg8NgJa"
      }
    },
    {
      "cell_type": "code",
      "source": [
        "model = log_tuning(X_train, y_train, params  =param2)\n",
        "y_pred = model.predict_proba(X_test)\n",
        "\n",
        "y_pred"
      ],
      "metadata": {
        "colab": {
          "base_uri": "https://localhost:8080/"
        },
        "id": "0yYageSxMqBW",
        "outputId": "85c47516-b96c-41ca-a522-6ebd40c3d0ce"
      },
      "execution_count": null,
      "outputs": [
        {
          "output_type": "stream",
          "name": "stdout",
          "text": [
            "{'C': 0.5, 'max_iter': 100, 'penalty': 'l2'}\n",
            "0.9967781557067271\n"
          ]
        },
        {
          "output_type": "execute_result",
          "data": {
            "text/plain": [
              "array([[7.10381018e-04, 9.99289619e-01],\n",
              "       [3.43808838e-04, 9.99656191e-01],\n",
              "       [4.82892191e-03, 9.95171078e-01],\n",
              "       [1.92332808e-01, 8.07667192e-01],\n",
              "       [4.90231121e-04, 9.99509769e-01],\n",
              "       [9.99976816e-01, 2.31840973e-05],\n",
              "       [2.07757937e-01, 7.92242063e-01],\n",
              "       [7.50657439e-01, 2.49342561e-01],\n",
              "       [2.39797234e-02, 9.76020277e-01],\n",
              "       [9.98376889e-01, 1.62311100e-03],\n",
              "       [9.88289488e-01, 1.17105116e-02],\n",
              "       [4.44696113e-01, 5.55303887e-01],\n",
              "       [1.11252860e-03, 9.98887471e-01],\n",
              "       [3.60219184e-04, 9.99639781e-01],\n",
              "       [1.52044569e-03, 9.98479554e-01],\n",
              "       [9.99958996e-01, 4.10042882e-05],\n",
              "       [6.22466979e-03, 9.93775330e-01],\n",
              "       [9.86332422e-01, 1.36675776e-02],\n",
              "       [5.21628097e-04, 9.99478372e-01],\n",
              "       [2.79693354e-04, 9.99720307e-01],\n",
              "       [3.64867902e-02, 9.63513210e-01],\n",
              "       [9.99999717e-01, 2.83153562e-07],\n",
              "       [2.18979327e-02, 9.78102067e-01],\n",
              "       [1.41305330e-03, 9.98586947e-01],\n",
              "       [1.25430604e-02, 9.87456940e-01],\n",
              "       [8.62831074e-01, 1.37168926e-01],\n",
              "       [2.75155418e-04, 9.99724845e-01],\n",
              "       [9.99996249e-01, 3.75086236e-06],\n",
              "       [9.99740229e-01, 2.59771303e-04],\n",
              "       [4.52992695e-02, 9.54700730e-01],\n",
              "       [4.59077654e-04, 9.99540922e-01],\n",
              "       [2.87489226e-04, 9.99712511e-01],\n",
              "       [1.38633887e-02, 9.86136611e-01],\n",
              "       [2.74223933e-04, 9.99725776e-01],\n",
              "       [8.54576055e-04, 9.99145424e-01],\n",
              "       [9.99980450e-01, 1.95503474e-05],\n",
              "       [7.56712440e-02, 9.24328756e-01],\n",
              "       [5.74954381e-03, 9.94250456e-01],\n",
              "       [6.94215749e-05, 9.99930578e-01],\n",
              "       [9.99999667e-01, 3.32848806e-07],\n",
              "       [9.93522359e-01, 6.47764079e-03],\n",
              "       [2.85708919e-02, 9.71429108e-01],\n",
              "       [9.99791578e-01, 2.08422322e-04],\n",
              "       [9.99982220e-01, 1.77796966e-05],\n",
              "       [9.99954691e-01, 4.53085008e-05],\n",
              "       [9.05400518e-05, 9.99909460e-01],\n",
              "       [9.99284948e-01, 7.15051963e-04],\n",
              "       [2.93903337e-03, 9.97060967e-01],\n",
              "       [4.08808378e-02, 9.59119162e-01],\n",
              "       [3.68405312e-03, 9.96315947e-01],\n",
              "       [2.95088150e-04, 9.99704912e-01],\n",
              "       [9.99999638e-01, 3.62420445e-07],\n",
              "       [1.23755638e-02, 9.87624436e-01],\n",
              "       [3.10490688e-02, 9.68950931e-01],\n",
              "       [1.28286566e-03, 9.98717134e-01],\n",
              "       [9.99989961e-01, 1.00389168e-05],\n",
              "       [2.83876444e-03, 9.97161236e-01],\n",
              "       [1.08497154e-01, 8.91502846e-01],\n",
              "       [8.82713681e-01, 1.17286319e-01],\n",
              "       [2.77142565e-01, 7.22857435e-01],\n",
              "       [2.70098900e-01, 7.29901100e-01],\n",
              "       [9.99978433e-01, 2.15668185e-05],\n",
              "       [1.03886021e-06, 9.99998961e-01],\n",
              "       [9.99999732e-01, 2.68061708e-07],\n",
              "       [9.92103726e-01, 7.89627360e-03],\n",
              "       [3.11543423e-04, 9.99688457e-01],\n",
              "       [1.28961336e-02, 9.87103866e-01],\n",
              "       [1.04136230e-05, 9.99989586e-01],\n",
              "       [9.87733575e-01, 1.22664250e-02],\n",
              "       [9.99999995e-01, 4.80176662e-09],\n",
              "       [1.38807509e-03, 9.98611925e-01],\n",
              "       [9.99661918e-01, 3.38082100e-04],\n",
              "       [9.99981636e-01, 1.83643150e-05],\n",
              "       [7.30878249e-05, 9.99926912e-01],\n",
              "       [5.85078756e-03, 9.94149212e-01],\n",
              "       [8.47099748e-02, 9.15290025e-01],\n",
              "       [4.74025871e-04, 9.99525974e-01],\n",
              "       [9.99754330e-01, 2.45670338e-04],\n",
              "       [1.78326048e-02, 9.82167395e-01],\n",
              "       [5.70693220e-01, 4.29306780e-01],\n",
              "       [5.50154479e-01, 4.49845521e-01],\n",
              "       [9.99900799e-01, 9.92013581e-05],\n",
              "       [3.05851803e-04, 9.99694148e-01],\n",
              "       [6.67894459e-02, 9.33210554e-01],\n",
              "       [2.88813586e-02, 9.71118641e-01],\n",
              "       [3.33341902e-01, 6.66658098e-01],\n",
              "       [9.97384448e-01, 2.61555165e-03],\n",
              "       [9.49989773e-01, 5.00102271e-02],\n",
              "       [1.81591807e-03, 9.98184082e-01],\n",
              "       [9.70597327e-01, 2.94026732e-02],\n",
              "       [9.96065376e-01, 3.93462353e-03],\n",
              "       [9.83671055e-01, 1.63289446e-02],\n",
              "       [2.41574204e-02, 9.75842580e-01],\n",
              "       [9.87716214e-01, 1.22837857e-02],\n",
              "       [9.99685840e-01, 3.14159809e-04],\n",
              "       [3.90294853e-02, 9.60970515e-01],\n",
              "       [2.60284832e-04, 9.99739715e-01],\n",
              "       [2.47765746e-05, 9.99975223e-01],\n",
              "       [9.99964778e-01, 3.52220665e-05],\n",
              "       [9.99570662e-01, 4.29338332e-04],\n",
              "       [4.43017182e-03, 9.95569828e-01],\n",
              "       [1.10813600e-02, 9.88918640e-01],\n",
              "       [9.98656782e-01, 1.34321775e-03],\n",
              "       [4.39750215e-02, 9.56024978e-01],\n",
              "       [4.10726908e-01, 5.89273092e-01],\n",
              "       [5.71093092e-03, 9.94289069e-01],\n",
              "       [4.79497536e-03, 9.95205025e-01],\n",
              "       [9.99999727e-01, 2.73322377e-07],\n",
              "       [1.54882320e-04, 9.99845118e-01],\n",
              "       [5.74962478e-03, 9.94250375e-01],\n",
              "       [4.89397958e-03, 9.95106020e-01],\n",
              "       [7.19287415e-02, 9.28071258e-01],\n",
              "       [2.09890915e-02, 9.79010909e-01],\n",
              "       [1.12671782e-04, 9.99887328e-01],\n",
              "       [9.99998965e-01, 1.03479781e-06],\n",
              "       [1.49937074e-02, 9.85006293e-01],\n",
              "       [1.20401007e-03, 9.98795990e-01],\n",
              "       [9.93323909e-01, 6.67609119e-03],\n",
              "       [9.99999972e-01, 2.83427282e-08],\n",
              "       [9.99673181e-01, 3.26818685e-04],\n",
              "       [9.99986024e-01, 1.39757330e-05],\n",
              "       [9.64154709e-05, 9.99903585e-01],\n",
              "       [1.00000000e+00, 1.09596608e-18],\n",
              "       [1.37000458e-02, 9.86299954e-01],\n",
              "       [2.52588404e-02, 9.74741160e-01],\n",
              "       [3.54825141e-02, 9.64517486e-01],\n",
              "       [5.38701022e-01, 4.61298978e-01],\n",
              "       [1.53645176e-01, 8.46354824e-01],\n",
              "       [2.05815969e-01, 7.94184031e-01],\n",
              "       [9.77290534e-01, 2.27094659e-02],\n",
              "       [3.77390916e-01, 6.22609084e-01],\n",
              "       [9.99453883e-01, 5.46117391e-04],\n",
              "       [1.77554256e-05, 9.99982245e-01],\n",
              "       [2.70724788e-02, 9.72927521e-01],\n",
              "       [5.51972051e-01, 4.48027949e-01],\n",
              "       [6.00076601e-03, 9.93999234e-01],\n",
              "       [1.52214157e-02, 9.84778584e-01],\n",
              "       [9.99852991e-01, 1.47008671e-04],\n",
              "       [1.98206761e-03, 9.98017932e-01],\n",
              "       [9.99977832e-01, 2.21677360e-05],\n",
              "       [2.26496190e-01, 7.73503810e-01],\n",
              "       [1.34576871e-01, 8.65423129e-01],\n",
              "       [9.99550619e-01, 4.49381036e-04],\n",
              "       [2.59181797e-01, 7.40818203e-01],\n",
              "       [2.37637949e-04, 9.99762362e-01],\n",
              "       [9.99947198e-01, 5.28022918e-05],\n",
              "       [9.93760502e-01, 6.23949821e-03],\n",
              "       [9.77234161e-01, 2.27658386e-02],\n",
              "       [1.63226292e-04, 9.99836774e-01],\n",
              "       [7.64106525e-05, 9.99923589e-01],\n",
              "       [6.72678891e-02, 9.32732111e-01],\n",
              "       [9.90888032e-01, 9.11196766e-03],\n",
              "       [6.85182936e-04, 9.99314817e-01],\n",
              "       [9.49358224e-01, 5.06417764e-02],\n",
              "       [1.93888093e-02, 9.80611191e-01],\n",
              "       [7.58209664e-01, 2.41790336e-01],\n",
              "       [4.65258759e-01, 5.34741241e-01],\n",
              "       [6.77622691e-03, 9.93223773e-01],\n",
              "       [3.19451011e-02, 9.68054899e-01],\n",
              "       [9.99987036e-01, 1.29642503e-05],\n",
              "       [1.06813527e-01, 8.93186473e-01],\n",
              "       [1.52330501e-01, 8.47669499e-01],\n",
              "       [2.23760226e-02, 9.77623977e-01],\n",
              "       [2.86227352e-03, 9.97137726e-01],\n",
              "       [1.57454350e-03, 9.98425456e-01],\n",
              "       [9.99642887e-01, 3.57113346e-04],\n",
              "       [9.97227992e-01, 2.77200802e-03],\n",
              "       [9.93304458e-01, 6.69554152e-03],\n",
              "       [9.99999651e-01, 3.49234194e-07],\n",
              "       [2.00328637e-02, 9.79967136e-01],\n",
              "       [4.36666659e-03, 9.95633333e-01]])"
            ]
          },
          "metadata": {},
          "execution_count": 10
        }
      ]
    }
  ]
}