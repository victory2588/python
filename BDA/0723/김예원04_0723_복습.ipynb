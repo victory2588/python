{
 "cells": [
  {
   "cell_type": "markdown",
   "metadata": {},
   "source": [
    "# 결정트리\n",
    "- 가지 형태로 나눠서 분류\n",
    "- 장점: 이해하기 쉽다. 스케일링, 정규화의 영향이 적다.\n",
    "- 단점: 트리가 깊어질수록 과적합 가능성이 높다. 실제로 잘 사용하지 않는다(인사이트 얻는 정도로만)"
   ]
  },
  {
   "cell_type": "markdown",
   "metadata": {},
   "source": [
    "# 어떤 기준으로 데이터를 나눠야 할까?\n",
    "- **데이터가 균일하게 나눠지도록!**\n",
    "- 데이터를 나누기 -> 균일도가 높은 데이터 세트를 선택하는 방식으로 차례로 나눠가는 것\n",
    "- 정보의 균일도를 측정하는 기준: 엔트로피 지수, 지니 지수"
   ]
  },
  {
   "cell_type": "markdown",
   "metadata": {},
   "source": [
    "## 엔트로피\n",
    "1. 데이터의 혼잡도, 무질서도\n",
    "2. 한 가지 값으로 균일할수록 엔트로피 값이 낮다.\n",
    "3. 사전 엔트로피와 사후 엔트로피를 비교하는 방식 -> IGR(Information Gain Ratio)"
   ]
  },
  {
   "cell_type": "code",
   "execution_count": 2,
   "metadata": {},
   "outputs": [],
   "source": [
    "import numpy as np\n",
    "import pandas as pd\n",
    "import matplotlib.pyplot as plt\n",
    "import seaborn as sns"
   ]
  },
  {
   "cell_type": "code",
   "execution_count": 3,
   "metadata": {},
   "outputs": [],
   "source": [
    "# 엔트로피 예시\n",
    "def entropy(x):\n",
    "    return (-x*np.log2(x)).sum()\n",
    "\n"
   ]
  },
  {
   "cell_type": "markdown",
   "metadata": {},
   "source": [
    "엔트로피 예시: 수업 출석률로 계산. 10번 중 7번 참석, 3번 불참 했을 경우"
   ]
  },
  {
   "cell_type": "code",
   "execution_count": 6,
   "metadata": {},
   "outputs": [
    {
     "name": "stdout",
     "output_type": "stream",
     "text": [
      "0.8812908992306927\n"
     ]
    }
   ],
   "source": [
    "t=entropy(0.7)\n",
    "f=entropy(0.3)\n",
    "print(t+f)"
   ]
  },
  {
   "cell_type": "markdown",
   "metadata": {},
   "source": [
    "엔트로피 예시: 수업 출석률로 계산. 10번 중 9번 참석, 1번 불참 했을 경우"
   ]
  },
  {
   "cell_type": "code",
   "execution_count": 7,
   "metadata": {},
   "outputs": [
    {
     "name": "stdout",
     "output_type": "stream",
     "text": [
      "0.4689955935892812\n"
     ]
    }
   ],
   "source": [
    "t=entropy(0.9)\n",
    "f=entropy(0.1)\n",
    "print(t+f)"
   ]
  },
  {
   "cell_type": "markdown",
   "metadata": {},
   "source": [
    "> **균일(참석이든 불참이든 한 가지 특성이 많은 것) 할 수록 엔트로피가 낮아진다.**"
   ]
  },
  {
   "cell_type": "markdown",
   "metadata": {},
   "source": [
    "## 지니 지수\n",
    "- 분류 작업에서의 불순도(데이터 집합의 혼잡도) 측정에 사용\n",
    "- 결정트리의 학습 과정에서 각 노드마다 지니 지수를 계산하여 최적의 분할을 결정\n",
    "- 지니 지수를 이용하여 불순도를 최소화하도록 트리를 구성함으로써 보다 정확한 예측을 할 수 있도록 하는 것\n",
    "- 계산법: 1 - (클래스1의 비율)^2 - (클래스2의 비율)^2 - ... - (클래스N의 비율)^2"
   ]
  },
  {
   "cell_type": "markdown",
   "metadata": {},
   "source": [
    "지니 지수 예시: 한 공간에 다른 반인 사람들이 모여 있을 경우"
   ]
  },
  {
   "cell_type": "code",
   "execution_count": 8,
   "metadata": {},
   "outputs": [
    {
     "data": {
      "text/html": [
       "<div>\n",
       "<style scoped>\n",
       "    .dataframe tbody tr th:only-of-type {\n",
       "        vertical-align: middle;\n",
       "    }\n",
       "\n",
       "    .dataframe tbody tr th {\n",
       "        vertical-align: top;\n",
       "    }\n",
       "\n",
       "    .dataframe thead th {\n",
       "        text-align: right;\n",
       "    }\n",
       "</style>\n",
       "<table border=\"1\" class=\"dataframe\">\n",
       "  <thead>\n",
       "    <tr style=\"text-align: right;\">\n",
       "      <th></th>\n",
       "      <th>중급반</th>\n",
       "      <th>기초반</th>\n",
       "    </tr>\n",
       "  </thead>\n",
       "  <tbody>\n",
       "    <tr>\n",
       "      <th>0</th>\n",
       "      <td>0</td>\n",
       "      <td>10</td>\n",
       "    </tr>\n",
       "    <tr>\n",
       "      <th>1</th>\n",
       "      <td>1</td>\n",
       "      <td>9</td>\n",
       "    </tr>\n",
       "    <tr>\n",
       "      <th>2</th>\n",
       "      <td>2</td>\n",
       "      <td>8</td>\n",
       "    </tr>\n",
       "    <tr>\n",
       "      <th>3</th>\n",
       "      <td>3</td>\n",
       "      <td>7</td>\n",
       "    </tr>\n",
       "    <tr>\n",
       "      <th>4</th>\n",
       "      <td>4</td>\n",
       "      <td>6</td>\n",
       "    </tr>\n",
       "  </tbody>\n",
       "</table>\n",
       "</div>"
      ],
      "text/plain": [
       "   중급반  기초반\n",
       "0    0   10\n",
       "1    1    9\n",
       "2    2    8\n",
       "3    3    7\n",
       "4    4    6"
      ]
     },
     "execution_count": 8,
     "metadata": {},
     "output_type": "execute_result"
    }
   ],
   "source": [
    "df_gn=pd.DataFrame({'중급반':[0,1,2,3,4],\n",
    "             '기초반':[10,9,8,7,6]})\n",
    "df_gn"
   ]
  },
  {
   "cell_type": "code",
   "execution_count": 11,
   "metadata": {},
   "outputs": [
    {
     "name": "stdout",
     "output_type": "stream",
     "text": [
      "0.0\n",
      "0.17999999999999994\n",
      "0.31999999999999984\n",
      "0.42000000000000004\n",
      "0.48\n"
     ]
    }
   ],
   "source": [
    "# 지니 지수 공식 이용\n",
    "print(1- ((0/10)**2 + (10/10)**2))    # 0\n",
    "print(1- ((1/10)**2 + (9/10)**2))     # 1\n",
    "print(1- ((2/10)**2 + (8/10)**2))     # 2\n",
    "print(1- ((3/10)**2 + (7/10)**2))     # 3\n",
    "print(1- ((4/10)**2 + (6/10)**2))     # 4"
   ]
  },
  {
   "cell_type": "markdown",
   "metadata": {},
   "source": [
    "> **균일하지 않을수록 지니 지수가 높아진다**"
   ]
  },
  {
   "cell_type": "markdown",
   "metadata": {},
   "source": [
    "## DT 알고리즘의 종류\n",
    "1. CART( Classification and Regression Tree)\n",
    "2. C4.5 C5.0\n",
    "3. CHAID (카이제곱분석 방법으로)\n",
    "\n",
    "- 이진분류/다중분류 + 수치형/범주형\n",
    "> 각각의 경우마다 사용되는 알고리즘이 다 달라진다\n",
    "\n",
    "> 기본적으로 디폴트는 **이진분류 CART** 방식! CART 지니계수로 진행한다."
   ]
  }
 ],
 "metadata": {
  "kernelspec": {
   "display_name": "Python 3",
   "language": "python",
   "name": "python3"
  },
  "language_info": {
   "codemirror_mode": {
    "name": "ipython",
    "version": 3
   },
   "file_extension": ".py",
   "mimetype": "text/x-python",
   "name": "python",
   "nbconvert_exporter": "python",
   "pygments_lexer": "ipython3",
   "version": "3.11.1"
  },
  "orig_nbformat": 4
 },
 "nbformat": 4,
 "nbformat_minor": 2
}
