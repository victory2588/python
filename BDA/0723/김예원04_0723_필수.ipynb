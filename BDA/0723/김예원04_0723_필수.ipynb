{
 "cells": [
  {
   "cell_type": "markdown",
   "metadata": {},
   "source": [
    "### 필수과제\n",
    "- 지니, 엔트로피지수 개념 정리하기\n",
    "- 위의 예시 코드 외에 새로운 예시를 만들어서 직접 계산해 보기"
   ]
  },
  {
   "cell_type": "markdown",
   "metadata": {},
   "source": [
    "# 엔트로피\n",
    "- 정보 이론에서 영감을 받은 개념, 데이터 집합의 혼잡도를 측정하는 지표\n",
    "- 결정트리에서 불순도를 측정하는 지표 중 하나\n",
    "- 불확실성이 높을수록 엔트로피 값이 크고, 불확실성이 낮을수록 엔트로피 값이 작아짐\n",
    "- 사전 엔트로피와 사후 엔트로피를 비교하는 방식 -> IGR(Information Gain Ratio)"
   ]
  },
  {
   "cell_type": "markdown",
   "metadata": {},
   "source": [
    "## IGR(Information Gain Ratio) - 정보 이득 비율\n",
    "- 결정트리 학습에서 특성을 선택할 때 사용되는 지표 중 하나\n",
    "- 데이터를 분할하는 과정에서 어떤 특성을 먼저 선택해야 할지를 결정할 때 정보 이득 비율을 활용\n",
    "- 장점: 불순도 측정에 있어서 엔트로피보다 더 균형있는 결과를 도출"
   ]
  },
  {
   "cell_type": "markdown",
   "metadata": {},
   "source": [
    "## 엔트로피 예시\n",
    "- 어떤 영화에 대한 관람자들의 성별을 보고 엔트로피 계산\n",
    "- 전체 관람자가 300명이고 그 중 남성이 100명 여성이 200명일 경우\n",
    "- 남성 = 100 / (100 + 200) = 0.33\n",
    "- 여성 = 200 / (100 + 200) = 0.67\n",
    "- -(0.33 * log2(0.33) + 0.67 * log2(0.67)) ≈ 0.92"
   ]
  },
  {
   "cell_type": "markdown",
   "metadata": {},
   "source": [
    "# 지니 지수\n",
    "- 분류 작업에서의 불순도(데이터 집합의 혼잡도) 측정에 사용\n",
    "- 결정트리의 학습 과정에서 각 노드마다 지니 지수를 계산하여 최적의 분할을 결정\n",
    "- 지니 지수를 이용하여 불순도를 최소화하도록 트리를 구성함으로써 보다 정확한 예측을 할 수 있도록 하는 것\n",
    "- 계산법: 1 - (클래스1의 비율)^2 - (클래스2의 비율)^2 - ... - (클래스N의 비율)^2"
   ]
  },
  {
   "cell_type": "markdown",
   "metadata": {},
   "source": [
    "## 지니 지수 예시\n",
    "- 어떤 영화에 대한 관람자들의 성별을 보고 엔트로피 계산\n",
    "- 전체 관람자가 300명이고 그 중 남성이 100명 여성이 200명일 경우\n",
    "- 1- ((1/3)**2 + (2/3)**2) ≈ 0.44\n"
   ]
  }
 ],
 "metadata": {
  "kernelspec": {
   "display_name": "Python 3",
   "language": "python",
   "name": "python3"
  },
  "language_info": {
   "codemirror_mode": {
    "name": "ipython",
    "version": 3
   },
   "file_extension": ".py",
   "mimetype": "text/x-python",
   "name": "python",
   "nbconvert_exporter": "python",
   "pygments_lexer": "ipython3",
   "version": "3.11.1"
  },
  "orig_nbformat": 4
 },
 "nbformat": 4,
 "nbformat_minor": 2
}
