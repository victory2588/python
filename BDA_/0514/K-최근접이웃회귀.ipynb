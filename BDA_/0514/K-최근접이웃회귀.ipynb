{
  "nbformat": 4,
  "nbformat_minor": 0,
  "metadata": {
    "colab": {
      "provenance": []
    },
    "kernelspec": {
      "name": "python3",
      "display_name": "Python 3"
    },
    "language_info": {
      "name": "python"
    }
  },
  "cells": [
    {
      "cell_type": "markdown",
      "source": [
        "# K-최근접 이웃 회귀 (K- Nearest Neighbors)\n",
        "- knn을 이용한 회귀\n",
        "- 거리기반의 가장 가까운 k개 이웃을 찾고 근처 k개의 정답의 평균을 계산해서 예측\n",
        "- 가중평균을 이용해서 거리가 가까울수록 데이터가 더 유사할 것이라 보고 가중치를 부여할 수도 있음\n",
        "- ex)\n",
        "- A 영화 / 평점 5.0 / x까지 거리 3.2\n",
        "- B 영화 / 평점 6.8 / x까지 거리는 10.5\n",
        "- C 영화 / 평점 9.2 / x까지 거리는 1.1 \n",
        "- 세 개중 더 가까운 곳에 가중치를 두기"
      ],
      "metadata": {
        "id": "hbeA2TglMIgC"
      }
    },
    {
      "cell_type": "code",
      "source": [
        "from sklearn.neighbors import KNeighborsRegressor"
      ],
      "metadata": {
        "id": "xMOeCSz3MM48"
      },
      "execution_count": 2,
      "outputs": []
    },
    {
      "cell_type": "code",
      "source": [
        "import numpy as np\n",
        "x1=np.arange(1,11)\n",
        "x=x1.reshape(-1,1)      # reshape를 왜 하는지?\n",
        "y=np.arange(1,11)*5"
      ],
      "metadata": {
        "id": "hRnA5dyCN8gK"
      },
      "execution_count": 3,
      "outputs": []
    },
    {
      "cell_type": "code",
      "source": [
        "x"
      ],
      "metadata": {
        "colab": {
          "base_uri": "https://localhost:8080/"
        },
        "id": "cjPgcx5ROFrd",
        "outputId": "d3526325-7029-4dfb-986e-b293c410b61a"
      },
      "execution_count": 4,
      "outputs": [
        {
          "output_type": "execute_result",
          "data": {
            "text/plain": [
              "array([[ 1],\n",
              "       [ 2],\n",
              "       [ 3],\n",
              "       [ 4],\n",
              "       [ 5],\n",
              "       [ 6],\n",
              "       [ 7],\n",
              "       [ 8],\n",
              "       [ 9],\n",
              "       [10]])"
            ]
          },
          "metadata": {},
          "execution_count": 4
        }
      ]
    },
    {
      "cell_type": "code",
      "source": [
        "import matplotlib.pyplot as plt\n",
        "plt.figure()\n",
        "plt.scatter(x,y)\n",
        "plt.show()"
      ],
      "metadata": {
        "id": "lFWl_gXBONI-",
        "outputId": "0368584d-9d03-4b80-ebb7-2afa08415eda",
        "colab": {
          "base_uri": "https://localhost:8080/",
          "height": 430
        }
      },
      "execution_count": 5,
      "outputs": [
        {
          "output_type": "display_data",
          "data": {
            "text/plain": [
              "<Figure size 640x480 with 1 Axes>"
            ],
            "image/png": "[encoded data removed]"
          },
          "metadata": {}
        }
      ]
    },
    {
      "cell_type": "code",
      "source": [
        "knn_model=KNeighborsRegressor(n_neighbors = 2).fit(x,y)\n",
        "print(knn_model.predict([[3]]))"
      ],
      "metadata": {
        "colab": {
          "base_uri": "https://localhost:8080/"
        },
        "id": "SzHtBuDbLySP",
        "outputId": "713f8da4-9d0f-436d-ae1c-fbfa311f560e"
      },
      "execution_count": 6,
      "outputs": [
        {
          "output_type": "stream",
          "name": "stdout",
          "text": [
            "[12.5]\n"
          ]
        }
      ]
    },
    {
      "cell_type": "markdown",
      "source": [
        "### knn의 한계\n",
        "1. 거리기반이다보니 기존에 나타난 데이터에서 벗어난 범위는 정확하게 예측하기가 어렵다. "
      ],
      "metadata": {
        "id": "G5Gg3eA-MCEV"
      }
    },
    {
      "cell_type": "markdown",
      "source": [
        "## 가중 평균을 주고 데이터 예측"
      ],
      "metadata": {
        "id": "iCPJvFF7MIKU"
      }
    },
    {
      "cell_type": "code",
      "source": [
        "knn_model= KNeighborsRegressor(n_neighbors = 2, weights = 'distance').fit(x,y)"
      ],
      "metadata": {
        "id": "NPALbxISMQos"
      },
      "execution_count": 7,
      "outputs": []
    },
    {
      "cell_type": "code",
      "source": [
        "print(knn_model.predict([[3]]))"
      ],
      "metadata": {
        "colab": {
          "base_uri": "https://localhost:8080/"
        },
        "id": "-shtGDIyMTNQ",
        "outputId": "b30b9147-60dc-447a-a5d0-b9b2f0536f51"
      },
      "execution_count": 8,
      "outputs": [
        {
          "output_type": "stream",
          "name": "stdout",
          "text": [
            "[15.]\n"
          ]
        }
      ]
    },
    {
      "cell_type": "markdown",
      "source": [
        "## 집값 데이터 분석 - boston"
      ],
      "metadata": {
        "id": "XZXSJ9l-Mhma"
      }
    },
    {
      "cell_type": "code",
      "source": [
        "import pandas as pd\n",
        "import numpy as np\n",
        "data_url = \"http://lib.stat.cmu.edu/datasets/boston\"\n",
        "raw_df = pd.read_csv(data_url, sep=\"\\s+\", skiprows=22, header=None)\n",
        "data = np.hstack([raw_df.values[::2, :], raw_df.values[1::2, :2]])\n",
        "target = raw_df.values[1::2, 2]\n",
        "#from sklearn.datasets import load_boston\n",
        "from sklearn.model_selection import train_test_split\n",
        "from sklearn.metrics import mean_squared_error\n",
        "from math import sqrt"
      ],
      "metadata": {
        "id": "WLvP_WiNMoZ4"
      },
      "execution_count": 40,
      "outputs": []
    },
    {
      "cell_type": "code",
      "source": [
        "raw_df.columns=['CRIM','ZN','INDUS','CHAS','NOX','RM','AGE','DIS','RAD',\t'TAX','PTRATIO']\n",
        "boston=raw_df.copy()        # 실습 때 쓴 데이터를 다운받을 수 없는 상황, B와 LSTAT 컬럼이 없음"
      ],
      "metadata": {
        "id": "JdMUY9EhNMWx"
      },
      "execution_count": 41,
      "outputs": []
    },
    {
      "cell_type": "code",
      "source": [
        "target=pd.DataFrame(target,columns=['target'])\n",
        "target"
      ],
      "metadata": {
        "colab": {
          "base_uri": "https://localhost:8080/",
          "height": 424
        },
        "id": "Cr_FlKkBNTR4",
        "outputId": "db91620b-994b-41fe-e3a3-690f9ee2c7d5"
      },
      "execution_count": 42,
      "outputs": [
        {
          "output_type": "execute_result",
          "data": {
            "text/plain": [
              "     target\n",
              "0      24.0\n",
              "1      21.6\n",
              "2      34.7\n",
              "3      33.4\n",
              "4      36.2\n",
              "..      ...\n",
              "501    22.4\n",
              "502    20.6\n",
              "503    23.9\n",
              "504    22.0\n",
              "505    11.9\n",
              "\n",
              "[506 rows x 1 columns]"
            ],
            "text/html": [
              "\n",
              "  <div id=\"df-9c9b9821-06ad-4d2f-bdc5-d6fef389851d\">\n",
              "    <div class=\"colab-df-container\">\n",
              "      <div>\n",
              "<style scoped>\n",
              "    .dataframe tbody tr th:only-of-type {\n",
              "        vertical-align: middle;\n",
              "    }\n",
              "\n",
              "    .dataframe tbody tr th {\n",
              "        vertical-align: top;\n",
              "    }\n",
              "\n",
              "    .dataframe thead th {\n",
              "        text-align: right;\n",
              "    }\n",
              "</style>\n",
              "<table border=\"1\" class=\"dataframe\">\n",
              "  <thead>\n",
              "    <tr style=\"text-align: right;\">\n",
              "      <th></th>\n",
              "      <th>target</th>\n",
              "    </tr>\n",
              "  </thead>\n",
              "  <tbody>\n",
              "    <tr>\n",
              "      <th>0</th>\n",
              "      <td>24.0</td>\n",
              "    </tr>\n",
              "    <tr>\n",
              "      <th>1</th>\n",
              "      <td>21.6</td>\n",
              "    </tr>\n",
              "    <tr>\n",
              "      <th>2</th>\n",
              "      <td>34.7</td>\n",
              "    </tr>\n",
              "    <tr>\n",
              "      <th>3</th>\n",
              "      <td>33.4</td>\n",
              "    </tr>\n",
              "    <tr>\n",
              "      <th>4</th>\n",
              "      <td>36.2</td>\n",
              "    </tr>\n",
              "    <tr>\n",
              "      <th>...</th>\n",
              "      <td>...</td>\n",
              "    </tr>\n",
              "    <tr>\n",
              "      <th>501</th>\n",
              "      <td>22.4</td>\n",
              "    </tr>\n",
              "    <tr>\n",
              "      <th>502</th>\n",
              "      <td>20.6</td>\n",
              "    </tr>\n",
              "    <tr>\n",
              "      <th>503</th>\n",
              "      <td>23.9</td>\n",
              "    </tr>\n",
              "    <tr>\n",
              "      <th>504</th>\n",
              "      <td>22.0</td>\n",
              "    </tr>\n",
              "    <tr>\n",
              "      <th>505</th>\n",
              "      <td>11.9</td>\n",
              "    </tr>\n",
              "  </tbody>\n",
              "</table>\n",
              "<p>506 rows × 1 columns</p>\n",
              "</div>\n",
              "      <button class=\"colab-df-convert\" onclick=\"convertToInteractive('df-9c9b9821-06ad-4d2f-bdc5-d6fef389851d')\"\n",
              "              title=\"Convert this dataframe to an interactive table.\"\n",
              "              style=\"display:none;\">\n",
              "        \n",
              "  <svg xmlns=\"http://www.w3.org/2000/svg\" height=\"24px\"viewBox=\"0 0 24 24\"\n",
              "       width=\"24px\">\n",
              "    <path d=\"M0 0h24v24H0V0z\" fill=\"none\"/>\n",
              "    <path d=\"M18.56 5.44l.94 2.06.94-2.06 2.06-.94-2.06-.94-.94-2.06-.94 2.06-2.06.94zm-11 1L8.5 8.5l.94-2.06 2.06-.94-2.06-.94L8.5 2.5l-.94 2.06-2.06.94zm10 10l.94 2.06.94-2.06 2.06-.94-2.06-.94-.94-2.06-.94 2.06-2.06.94z\"/><path d=\"M17.41 7.96l-1.37-1.37c-.4-.4-.92-.59-1.43-.59-.52 0-1.04.2-1.43.59L10.3 9.45l-7.72 7.72c-.78.78-.78 2.05 0 2.83L4 21.41c.39.39.9.59 1.41.59.51 0 1.02-.2 1.41-.59l7.78-7.78 2.81-2.81c.8-.78.8-2.07 0-2.86zM5.41 20L4 18.59l7.72-7.72 1.47 1.35L5.41 20z\"/>\n",
              "  </svg>\n",
              "      </button>\n",
              "      \n",
              "  <style>\n",
              "    .colab-df-container {\n",
              "      display:flex;\n",
              "      flex-wrap:wrap;\n",
              "      gap: 12px;\n",
              "    }\n",
              "\n",
              "    .colab-df-convert {\n",
              "      background-color: #E8F0FE;\n",
              "      border: none;\n",
              "      border-radius: 50%;\n",
              "      cursor: pointer;\n",
              "      display: none;\n",
              "      fill: #1967D2;\n",
              "      height: 32px;\n",
              "      padding: 0 0 0 0;\n",
              "      width: 32px;\n",
              "    }\n",
              "\n",
              "    .colab-df-convert:hover {\n",
              "      background-color: #E2EBFA;\n",
              "      box-shadow: 0px 1px 2px rgba(60, 64, 67, 0.3), 0px 1px 3px 1px rgba(60, 64, 67, 0.15);\n",
              "      fill: #174EA6;\n",
              "    }\n",
              "\n",
              "    [theme=dark] .colab-df-convert {\n",
              "      background-color: #3B4455;\n",
              "      fill: #D2E3FC;\n",
              "    }\n",
              "\n",
              "    [theme=dark] .colab-df-convert:hover {\n",
              "      background-color: #434B5C;\n",
              "      box-shadow: 0px 1px 3px 1px rgba(0, 0, 0, 0.15);\n",
              "      filter: drop-shadow(0px 1px 2px rgba(0, 0, 0, 0.3));\n",
              "      fill: #FFFFFF;\n",
              "    }\n",
              "  </style>\n",
              "\n",
              "      <script>\n",
              "        const buttonEl =\n",
              "          document.querySelector('#df-9c9b9821-06ad-4d2f-bdc5-d6fef389851d button.colab-df-convert');\n",
              "        buttonEl.style.display =\n",
              "          google.colab.kernel.accessAllowed ? 'block' : 'none';\n",
              "\n",
              "        async function convertToInteractive(key) {\n",
              "          const element = document.querySelector('#df-9c9b9821-06ad-4d2f-bdc5-d6fef389851d');\n",
              "          const dataTable =\n",
              "            await google.colab.kernel.invokeFunction('convertToInteractive',\n",
              "                                                     [key], {});\n",
              "          if (!dataTable) return;\n",
              "\n",
              "          const docLinkHtml = 'Like what you see? Visit the ' +\n",
              "            '<a target=\"_blank\" href=https://colab.research.google.com/notebooks/data_table.ipynb>data table notebook</a>'\n",
              "            + ' to learn more about interactive tables.';\n",
              "          element.innerHTML = '';\n",
              "          dataTable['output_type'] = 'display_data';\n",
              "          await google.colab.output.renderOutput(dataTable, element);\n",
              "          const docLink = document.createElement('div');\n",
              "          docLink.innerHTML = docLinkHtml;\n",
              "          element.appendChild(docLink);\n",
              "        }\n",
              "      </script>\n",
              "    </div>\n",
              "  </div>\n",
              "  "
            ]
          },
          "metadata": {},
          "execution_count": 42
        }
      ]
    },
    {
      "cell_type": "code",
      "source": [
        "boston=boston.dropna(axis=0).reset_index()\n",
        "\n",
        "df=pd.concat([boston,target],axis=1)"
      ],
      "metadata": {
        "id": "PlMJAcvSPQNR"
      },
      "execution_count": 43,
      "outputs": []
    },
    {
      "cell_type": "code",
      "source": [
        "df=df[['CRIM','ZN','INDUS','CHAS','NOX','RM','AGE','DIS','RAD',\t'TAX','PTRATIO','target']]\n",
        "df"
      ],
      "metadata": {
        "colab": {
          "base_uri": "https://localhost:8080/",
          "height": 424
        },
        "id": "bR2Mu--mQfni",
        "outputId": "83a6795e-abf8-483d-a1cf-e736866bba3a"
      },
      "execution_count": 45,
      "outputs": [
        {
          "output_type": "execute_result",
          "data": {
            "text/plain": [
              "        CRIM    ZN  INDUS  CHAS    NOX     RM   AGE     DIS  RAD    TAX  \\\n",
              "0    0.00632  18.0   2.31   0.0  0.538  6.575  65.2  4.0900  1.0  296.0   \n",
              "1    0.02731   0.0   7.07   0.0  0.469  6.421  78.9  4.9671  2.0  242.0   \n",
              "2    0.02729   0.0   7.07   0.0  0.469  7.185  61.1  4.9671  2.0  242.0   \n",
              "3    0.03237   0.0   2.18   0.0  0.458  6.998  45.8  6.0622  3.0  222.0   \n",
              "4    0.06905   0.0   2.18   0.0  0.458  7.147  54.2  6.0622  3.0  222.0   \n",
              "..       ...   ...    ...   ...    ...    ...   ...     ...  ...    ...   \n",
              "501  0.06263   0.0  11.93   0.0  0.573  6.593  69.1  2.4786  1.0  273.0   \n",
              "502  0.04527   0.0  11.93   0.0  0.573  6.120  76.7  2.2875  1.0  273.0   \n",
              "503  0.06076   0.0  11.93   0.0  0.573  6.976  91.0  2.1675  1.0  273.0   \n",
              "504  0.10959   0.0  11.93   0.0  0.573  6.794  89.3  2.3889  1.0  273.0   \n",
              "505  0.04741   0.0  11.93   0.0  0.573  6.030  80.8  2.5050  1.0  273.0   \n",
              "\n",
              "     PTRATIO  target  \n",
              "0       15.3    24.0  \n",
              "1       17.8    21.6  \n",
              "2       17.8    34.7  \n",
              "3       18.7    33.4  \n",
              "4       18.7    36.2  \n",
              "..       ...     ...  \n",
              "501     21.0    22.4  \n",
              "502     21.0    20.6  \n",
              "503     21.0    23.9  \n",
              "504     21.0    22.0  \n",
              "505     21.0    11.9  \n",
              "\n",
              "[506 rows x 12 columns]"
            ],
            "text/html": [
              "\n",
              "  <div id=\"df-f7e70e11-15e7-445e-9ff4-f744ec7c9500\">\n",
              "    <div class=\"colab-df-container\">\n",
              "      <div>\n",
              "<style scoped>\n",
              "    .dataframe tbody tr th:only-of-type {\n",
              "        vertical-align: middle;\n",
              "    }\n",
              "\n",
              "    .dataframe tbody tr th {\n",
              "        vertical-align: top;\n",
              "    }\n",
              "\n",
              "    .dataframe thead th {\n",
              "        text-align: right;\n",
              "    }\n",
              "</style>\n",
              "<table border=\"1\" class=\"dataframe\">\n",
              "  <thead>\n",
              "    <tr style=\"text-align: right;\">\n",
              "      <th></th>\n",
              "      <th>CRIM</th>\n",
              "      <th>ZN</th>\n",
              "      <th>INDUS</th>\n",
              "      <th>CHAS</th>\n",
              "      <th>NOX</th>\n",
              "      <th>RM</th>\n",
              "      <th>AGE</th>\n",
              "      <th>DIS</th>\n",
              "      <th>RAD</th>\n",
              "      <th>TAX</th>\n",
              "      <th>PTRATIO</th>\n",
              "      <th>target</th>\n",
              "    </tr>\n",
              "  </thead>\n",
              "  <tbody>\n",
              "    <tr>\n",
              "      <th>0</th>\n",
              "      <td>0.00632</td>\n",
              "      <td>18.0</td>\n",
              "      <td>2.31</td>\n",
              "      <td>0.0</td>\n",
              "      <td>0.538</td>\n",
              "      <td>6.575</td>\n",
              "      <td>65.2</td>\n",
              "      <td>4.0900</td>\n",
              "      <td>1.0</td>\n",
              "      <td>296.0</td>\n",
              "      <td>15.3</td>\n",
              "      <td>24.0</td>\n",
              "    </tr>\n",
              "    <tr>\n",
              "      <th>1</th>\n",
              "      <td>0.02731</td>\n",
              "      <td>0.0</td>\n",
              "      <td>7.07</td>\n",
              "      <td>0.0</td>\n",
              "      <td>0.469</td>\n",
              "      <td>6.421</td>\n",
              "      <td>78.9</td>\n",
              "      <td>4.9671</td>\n",
              "      <td>2.0</td>\n",
              "      <td>242.0</td>\n",
              "      <td>17.8</td>\n",
              "      <td>21.6</td>\n",
              "    </tr>\n",
              "    <tr>\n",
              "      <th>2</th>\n",
              "      <td>0.02729</td>\n",
              "      <td>0.0</td>\n",
              "      <td>7.07</td>\n",
              "      <td>0.0</td>\n",
              "      <td>0.469</td>\n",
              "      <td>7.185</td>\n",
              "      <td>61.1</td>\n",
              "      <td>4.9671</td>\n",
              "      <td>2.0</td>\n",
              "      <td>242.0</td>\n",
              "      <td>17.8</td>\n",
              "      <td>34.7</td>\n",
              "    </tr>\n",
              "    <tr>\n",
              "      <th>3</th>\n",
              "      <td>0.03237</td>\n",
              "      <td>0.0</td>\n",
              "      <td>2.18</td>\n",
              "      <td>0.0</td>\n",
              "      <td>0.458</td>\n",
              "      <td>6.998</td>\n",
              "      <td>45.8</td>\n",
              "      <td>6.0622</td>\n",
              "      <td>3.0</td>\n",
              "      <td>222.0</td>\n",
              "      <td>18.7</td>\n",
              "      <td>33.4</td>\n",
              "    </tr>\n",
              "    <tr>\n",
              "      <th>4</th>\n",
              "      <td>0.06905</td>\n",
              "      <td>0.0</td>\n",
              "      <td>2.18</td>\n",
              "      <td>0.0</td>\n",
              "      <td>0.458</td>\n",
              "      <td>7.147</td>\n",
              "      <td>54.2</td>\n",
              "      <td>6.0622</td>\n",
              "      <td>3.0</td>\n",
              "      <td>222.0</td>\n",
              "      <td>18.7</td>\n",
              "      <td>36.2</td>\n",
              "    </tr>\n",
              "    <tr>\n",
              "      <th>...</th>\n",
              "      <td>...</td>\n",
              "      <td>...</td>\n",
              "      <td>...</td>\n",
              "      <td>...</td>\n",
              "      <td>...</td>\n",
              "      <td>...</td>\n",
              "      <td>...</td>\n",
              "      <td>...</td>\n",
              "      <td>...</td>\n",
              "      <td>...</td>\n",
              "      <td>...</td>\n",
              "      <td>...</td>\n",
              "    </tr>\n",
              "    <tr>\n",
              "      <th>501</th>\n",
              "      <td>0.06263</td>\n",
              "      <td>0.0</td>\n",
              "      <td>11.93</td>\n",
              "      <td>0.0</td>\n",
              "      <td>0.573</td>\n",
              "      <td>6.593</td>\n",
              "      <td>69.1</td>\n",
              "      <td>2.4786</td>\n",
              "      <td>1.0</td>\n",
              "      <td>273.0</td>\n",
              "      <td>21.0</td>\n",
              "      <td>22.4</td>\n",
              "    </tr>\n",
              "    <tr>\n",
              "      <th>502</th>\n",
              "      <td>0.04527</td>\n",
              "      <td>0.0</td>\n",
              "      <td>11.93</td>\n",
              "      <td>0.0</td>\n",
              "      <td>0.573</td>\n",
              "      <td>6.120</td>\n",
              "      <td>76.7</td>\n",
              "      <td>2.2875</td>\n",
              "      <td>1.0</td>\n",
              "      <td>273.0</td>\n",
              "      <td>21.0</td>\n",
              "      <td>20.6</td>\n",
              "    </tr>\n",
              "    <tr>\n",
              "      <th>503</th>\n",
              "      <td>0.06076</td>\n",
              "      <td>0.0</td>\n",
              "      <td>11.93</td>\n",
              "      <td>0.0</td>\n",
              "      <td>0.573</td>\n",
              "      <td>6.976</td>\n",
              "      <td>91.0</td>\n",
              "      <td>2.1675</td>\n",
              "      <td>1.0</td>\n",
              "      <td>273.0</td>\n",
              "      <td>21.0</td>\n",
              "      <td>23.9</td>\n",
              "    </tr>\n",
              "    <tr>\n",
              "      <th>504</th>\n",
              "      <td>0.10959</td>\n",
              "      <td>0.0</td>\n",
              "      <td>11.93</td>\n",
              "      <td>0.0</td>\n",
              "      <td>0.573</td>\n",
              "      <td>6.794</td>\n",
              "      <td>89.3</td>\n",
              "      <td>2.3889</td>\n",
              "      <td>1.0</td>\n",
              "      <td>273.0</td>\n",
              "      <td>21.0</td>\n",
              "      <td>22.0</td>\n",
              "    </tr>\n",
              "    <tr>\n",
              "      <th>505</th>\n",
              "      <td>0.04741</td>\n",
              "      <td>0.0</td>\n",
              "      <td>11.93</td>\n",
              "      <td>0.0</td>\n",
              "      <td>0.573</td>\n",
              "      <td>6.030</td>\n",
              "      <td>80.8</td>\n",
              "      <td>2.5050</td>\n",
              "      <td>1.0</td>\n",
              "      <td>273.0</td>\n",
              "      <td>21.0</td>\n",
              "      <td>11.9</td>\n",
              "    </tr>\n",
              "  </tbody>\n",
              "</table>\n",
              "<p>506 rows × 12 columns</p>\n",
              "</div>\n",
              "      <button class=\"colab-df-convert\" onclick=\"convertToInteractive('df-f7e70e11-15e7-445e-9ff4-f744ec7c9500')\"\n",
              "              title=\"Convert this dataframe to an interactive table.\"\n",
              "              style=\"display:none;\">\n",
              "        \n",
              "  <svg xmlns=\"http://www.w3.org/2000/svg\" height=\"24px\"viewBox=\"0 0 24 24\"\n",
              "       width=\"24px\">\n",
              "    <path d=\"M0 0h24v24H0V0z\" fill=\"none\"/>\n",
              "    <path d=\"M18.56 5.44l.94 2.06.94-2.06 2.06-.94-2.06-.94-.94-2.06-.94 2.06-2.06.94zm-11 1L8.5 8.5l.94-2.06 2.06-.94-2.06-.94L8.5 2.5l-.94 2.06-2.06.94zm10 10l.94 2.06.94-2.06 2.06-.94-2.06-.94-.94-2.06-.94 2.06-2.06.94z\"/><path d=\"M17.41 7.96l-1.37-1.37c-.4-.4-.92-.59-1.43-.59-.52 0-1.04.2-1.43.59L10.3 9.45l-7.72 7.72c-.78.78-.78 2.05 0 2.83L4 21.41c.39.39.9.59 1.41.59.51 0 1.02-.2 1.41-.59l7.78-7.78 2.81-2.81c.8-.78.8-2.07 0-2.86zM5.41 20L4 18.59l7.72-7.72 1.47 1.35L5.41 20z\"/>\n",
              "  </svg>\n",
              "      </button>\n",
              "      \n",
              "  <style>\n",
              "    .colab-df-container {\n",
              "      display:flex;\n",
              "      flex-wrap:wrap;\n",
              "      gap: 12px;\n",
              "    }\n",
              "\n",
              "    .colab-df-convert {\n",
              "      background-color: #E8F0FE;\n",
              "      border: none;\n",
              "      border-radius: 50%;\n",
              "      cursor: pointer;\n",
              "      display: none;\n",
              "      fill: #1967D2;\n",
              "      height: 32px;\n",
              "      padding: 0 0 0 0;\n",
              "      width: 32px;\n",
              "    }\n",
              "\n",
              "    .colab-df-convert:hover {\n",
              "      background-color: #E2EBFA;\n",
              "      box-shadow: 0px 1px 2px rgba(60, 64, 67, 0.3), 0px 1px 3px 1px rgba(60, 64, 67, 0.15);\n",
              "      fill: #174EA6;\n",
              "    }\n",
              "\n",
              "    [theme=dark] .colab-df-convert {\n",
              "      background-color: #3B4455;\n",
              "      fill: #D2E3FC;\n",
              "    }\n",
              "\n",
              "    [theme=dark] .colab-df-convert:hover {\n",
              "      background-color: #434B5C;\n",
              "      box-shadow: 0px 1px 3px 1px rgba(0, 0, 0, 0.15);\n",
              "      filter: drop-shadow(0px 1px 2px rgba(0, 0, 0, 0.3));\n",
              "      fill: #FFFFFF;\n",
              "    }\n",
              "  </style>\n",
              "\n",
              "      <script>\n",
              "        const buttonEl =\n",
              "          document.querySelector('#df-f7e70e11-15e7-445e-9ff4-f744ec7c9500 button.colab-df-convert');\n",
              "        buttonEl.style.display =\n",
              "          google.colab.kernel.accessAllowed ? 'block' : 'none';\n",
              "\n",
              "        async function convertToInteractive(key) {\n",
              "          const element = document.querySelector('#df-f7e70e11-15e7-445e-9ff4-f744ec7c9500');\n",
              "          const dataTable =\n",
              "            await google.colab.kernel.invokeFunction('convertToInteractive',\n",
              "                                                     [key], {});\n",
              "          if (!dataTable) return;\n",
              "\n",
              "          const docLinkHtml = 'Like what you see? Visit the ' +\n",
              "            '<a target=\"_blank\" href=https://colab.research.google.com/notebooks/data_table.ipynb>data table notebook</a>'\n",
              "            + ' to learn more about interactive tables.';\n",
              "          element.innerHTML = '';\n",
              "          dataTable['output_type'] = 'display_data';\n",
              "          await google.colab.output.renderOutput(dataTable, element);\n",
              "          const docLink = document.createElement('div');\n",
              "          docLink.innerHTML = docLinkHtml;\n",
              "          element.appendChild(docLink);\n",
              "        }\n",
              "      </script>\n",
              "    </div>\n",
              "  </div>\n",
              "  "
            ]
          },
          "metadata": {},
          "execution_count": 45
        }
      ]
    },
    {
      "cell_type": "code",
      "source": [
        "X_train, x_test, y_train, y_test = train_test_split(data, target, test_size=0.2)"
      ],
      "metadata": {
        "id": "irupc_yNQ0HE"
      },
      "execution_count": 46,
      "outputs": []
    },
    {
      "cell_type": "code",
      "source": [
        "X_train"
      ],
      "metadata": {
        "colab": {
          "base_uri": "https://localhost:8080/"
        },
        "id": "JsYOHVAZRA5M",
        "outputId": "8a0c6975-f13d-46c9-a67f-1c3b94c5d47f"
      },
      "execution_count": 47,
      "outputs": [
        {
          "output_type": "execute_result",
          "data": {
            "text/plain": [
              "array([[1.2744e-01, 0.0000e+00, 6.9100e+00, ..., 1.7900e+01, 3.8541e+02,\n",
              "        4.8400e+00],\n",
              "       [4.2030e-02, 2.8000e+01, 1.5040e+01, ..., 1.8200e+01, 3.9501e+02,\n",
              "        8.1600e+00],\n",
              "       [3.0410e-02, 0.0000e+00, 5.1900e+00, ..., 2.0200e+01, 3.9481e+02,\n",
              "        1.0560e+01],\n",
              "       ...,\n",
              "       [1.7783e-01, 0.0000e+00, 9.6900e+00, ..., 1.9200e+01, 3.9577e+02,\n",
              "        1.5100e+01],\n",
              "       [1.6566e+00, 0.0000e+00, 1.9580e+01, ..., 1.4700e+01, 3.7280e+02,\n",
              "        1.4100e+01],\n",
              "       [5.4452e-01, 0.0000e+00, 2.1890e+01, ..., 2.1200e+01, 3.9690e+02,\n",
              "        1.8460e+01]])"
            ]
          },
          "metadata": {},
          "execution_count": 47
        }
      ]
    },
    {
      "cell_type": "markdown",
      "source": [
        "## 평가 지표 - RMSE\n",
        "- k값에 따른 변화 확인"
      ],
      "metadata": {
        "id": "-iObC4RpROen"
      }
    },
    {
      "cell_type": "code",
      "source": [
        "from sklearn import neighbors"
      ],
      "metadata": {
        "id": "AMOjCI0DRFix"
      },
      "execution_count": 48,
      "outputs": []
    },
    {
      "cell_type": "code",
      "source": [
        "rmse_val =[]\n",
        "for K in range(20):\n",
        "    K = K+1\n",
        "    model = neighbors.KNeighborsRegressor(n_neighbors = K,weights='distance')     # 가중평균\n",
        "    model.fit(X_train, y_train)\n",
        "    pred = model.predict(x_test)\n",
        "    error = sqrt(mean_squared_error(y_test,pred))\n",
        "    rmse_val.append(error)\n",
        "    print('RMSE value k',K,'=',error)\n",
        "print('가장최소 rmse',min(rmse_val), '가장 최소 k', rmse_val.index(min(rmse_val))+1)"
      ],
      "metadata": {
        "colab": {
          "base_uri": "https://localhost:8080/"
        },
        "id": "fuj7FBkzRXN9",
        "outputId": "efc26387-8602-4269-ca94-aa58997aff01"
      },
      "execution_count": 58,
      "outputs": [
        {
          "output_type": "stream",
          "name": "stdout",
          "text": [
            "RMSE value k 1 = 6.693814821366446\n",
            "RMSE value k 2 = 6.380824188042741\n",
            "RMSE value k 3 = 5.9630709986228085\n",
            "RMSE value k 4 = 5.602578162363255\n",
            "RMSE value k 5 = 5.525196562895132\n",
            "RMSE value k 6 = 5.533681546767543\n",
            "RMSE value k 7 = 5.536101763454209\n",
            "RMSE value k 8 = 5.582590975005214\n",
            "RMSE value k 9 = 5.611919360924164\n",
            "RMSE value k 10 = 5.707278113906254\n",
            "RMSE value k 11 = 5.805818931328756\n",
            "RMSE value k 12 = 5.831280051873655\n",
            "RMSE value k 13 = 5.866615679170571\n",
            "RMSE value k 14 = 5.9100956727555145\n",
            "RMSE value k 15 = 5.92726279414911\n",
            "RMSE value k 16 = 6.008023566757406\n",
            "RMSE value k 17 = 6.119144883063843\n",
            "RMSE value k 18 = 6.135835550930445\n",
            "RMSE value k 19 = 6.125160266750089\n",
            "RMSE value k 20 = 6.168953605111781\n",
            "가장최소 rmse 5.525196562895132 가장 최소 k 5\n"
          ]
        }
      ]
    },
    {
      "cell_type": "code",
      "source": [
        "curve = pd.DataFrame(rmse_val)\n",
        "curve.plot()"
      ],
      "metadata": {
        "colab": {
          "base_uri": "https://localhost:8080/",
          "height": 448
        },
        "id": "VZgmMS_HSAXZ",
        "outputId": "ec0899ac-9d1f-432e-c4ac-8e483484ade2"
      },
      "execution_count": 59,
      "outputs": [
        {
          "output_type": "execute_result",
          "data": {
            "text/plain": [
              "<Axes: >"
            ]
          },
          "metadata": {},
          "execution_count": 59
        },
        {
          "output_type": "display_data",
          "data": {
            "text/plain": [
              "<Figure size 640x480 with 1 Axes>"
            ],
            "image/png": "[encoded data removed]"
          },
          "metadata": {}
        }
      ]
    },
    {
      "cell_type": "markdown",
      "source": [
        "## 시각화"
      ],
      "metadata": {
        "id": "jlhggiQgSMKx"
      }
    },
    {
      "cell_type": "code",
      "source": [
        "import numpy as np\n",
        "import matplotlib.pyplot as plt\n",
        "from sklearn import neighbors\n",
        "\n",
        "np.random.seed(0)\n",
        "X = np.sort(5 * np.random.rand(40, 1), axis=0)\n",
        "T = np.linspace(0, 5, 500)[:, np.newaxis]\n",
        "y = np.sin(X).ravel()\n",
        "\n",
        "# Add noise to targets\n",
        "y[::5] += 1 * (0.5 - np.random.rand(8))"
      ],
      "metadata": {
        "id": "4QW64UECSNRA"
      },
      "execution_count": 60,
      "outputs": []
    },
    {
      "cell_type": "code",
      "source": [
        "n_neighbors = 5\n",
        "\n",
        "for i, weights in enumerate([\"uniform\", \"distance\"]):\n",
        "    knn = neighbors.KNeighborsRegressor(n_neighbors, weights=weights)\n",
        "    y_ = knn.fit(X, y).predict(T)\n",
        "\n",
        "    plt.subplot(2, 1, i + 1)\n",
        "    plt.scatter(X, y, color=\"darkorange\", label=\"data\")\n",
        "    plt.plot(T, y_, color=\"navy\", label=\"prediction\")\n",
        "    plt.axis(\"tight\")\n",
        "    plt.legend()\n",
        "    plt.title(\"KNeighborsRegressor (k = %i, weights = '%s')\" % (n_neighbors, weights))\n",
        "\n",
        "plt.tight_layout()\n",
        "plt.show()"
      ],
      "metadata": {
        "colab": {
          "base_uri": "https://localhost:8080/",
          "height": 486
        },
        "id": "JGJxW8udSQHz",
        "outputId": "773191f0-5aad-497c-ba04-3e1e3b50eca4"
      },
      "execution_count": 61,
      "outputs": [
        {
          "output_type": "display_data",
          "data": {
            "text/plain": [
              "<Figure size 640x480 with 2 Axes>"
            ],
            "image/png": "[encoded data removed]"
          },
          "metadata": {}
        }
      ]
    },
    {
      "cell_type": "markdown",
      "source": [
        "### 거리 계산 방식 변경\n",
        "- 민코프스키 거리\n",
        "- 유클리디안 거리\n",
        "- 쳬비셰프거리"
      ],
      "metadata": {
        "id": "SyQsNqGXSXNW"
      }
    },
    {
      "cell_type": "code",
      "source": [
        "# 민코프스키 거리 - 가장 최소 rmse 가짐\n",
        "rmse_val =[]\n",
        "for K in range(20):\n",
        "    K = K+1\n",
        "    model = neighbors.KNeighborsRegressor(n_neighbors = K,weights='distance',p=1)\n",
        "    model.fit(X_train, y_train)\n",
        "    pred = model.predict(x_test)\n",
        "    error = sqrt(mean_squared_error(y_test,pred))\n",
        "    rmse_val.append(error)\n",
        "    print('RMSE value k',K,'=',error)\n",
        "print('가장최소 rmse',min(rmse_val))"
      ],
      "metadata": {
        "colab": {
          "base_uri": "https://localhost:8080/"
        },
        "id": "ieYsMefJSbBU",
        "outputId": "a947cdd2-33dc-45f4-ee9a-e5b60e516d25"
      },
      "execution_count": 62,
      "outputs": [
        {
          "output_type": "stream",
          "name": "stdout",
          "text": [
            "RMSE value k 1 = 6.141461472614466\n",
            "RMSE value k 2 = 5.393932310638778\n",
            "RMSE value k 3 = 5.245870199541819\n",
            "RMSE value k 4 = 5.147800328082349\n",
            "RMSE value k 5 = 4.975700471558504\n",
            "RMSE value k 6 = 4.985434752881027\n",
            "RMSE value k 7 = 4.987551511910933\n",
            "RMSE value k 8 = 5.034205568785697\n",
            "RMSE value k 9 = 5.115025139452238\n",
            "RMSE value k 10 = 5.181290907393281\n",
            "RMSE value k 11 = 5.237325855426631\n",
            "RMSE value k 12 = 5.3125716439413715\n",
            "RMSE value k 13 = 5.371519191499192\n",
            "RMSE value k 14 = 5.402513005453905\n",
            "RMSE value k 15 = 5.454508881592082\n",
            "RMSE value k 16 = 5.532116650619012\n",
            "RMSE value k 17 = 5.600026865527533\n",
            "RMSE value k 18 = 5.623608018949974\n",
            "RMSE value k 19 = 5.641687870041087\n",
            "RMSE value k 20 = 5.672283519863834\n",
            "가장최소 rmse 4.975700471558504\n"
          ]
        }
      ]
    },
    {
      "cell_type": "code",
      "source": [
        "#유클리디안 거리 \n",
        "rmse_val =[]\n",
        "for K in range(20):\n",
        "    K = K+1\n",
        "    model = neighbors.KNeighborsRegressor(n_neighbors = K,weights='distance',p=2)\n",
        "    model.fit(X_train, y_train)\n",
        "    pred = model.predict(x_test)\n",
        "    error = sqrt(mean_squared_error(y_test,pred))\n",
        "    rmse_val.append(error)\n",
        "    print('RMSE value k',K,'=',error)\n",
        "print('가장최소 rmse',min(rmse_val))"
      ],
      "metadata": {
        "colab": {
          "base_uri": "https://localhost:8080/"
        },
        "id": "Vy_NHykSSfpy",
        "outputId": "382753e3-4b76-4b17-8aa3-b5c46662d144"
      },
      "execution_count": 64,
      "outputs": [
        {
          "output_type": "stream",
          "name": "stdout",
          "text": [
            "RMSE value k 1 = 6.693814821366446\n",
            "RMSE value k 2 = 6.380824188042741\n",
            "RMSE value k 3 = 5.9630709986228085\n",
            "RMSE value k 4 = 5.602578162363255\n",
            "RMSE value k 5 = 5.525196562895132\n",
            "RMSE value k 6 = 5.533681546767543\n",
            "RMSE value k 7 = 5.536101763454209\n",
            "RMSE value k 8 = 5.582590975005214\n",
            "RMSE value k 9 = 5.611919360924164\n",
            "RMSE value k 10 = 5.707278113906254\n",
            "RMSE value k 11 = 5.805818931328756\n",
            "RMSE value k 12 = 5.831280051873655\n",
            "RMSE value k 13 = 5.866615679170571\n",
            "RMSE value k 14 = 5.9100956727555145\n",
            "RMSE value k 15 = 5.92726279414911\n",
            "RMSE value k 16 = 6.008023566757406\n",
            "RMSE value k 17 = 6.119144883063843\n",
            "RMSE value k 18 = 6.135835550930445\n",
            "RMSE value k 19 = 6.125160266750089\n",
            "RMSE value k 20 = 6.168953605111781\n",
            "가장최소 rmse 5.525196562895132\n"
          ]
        }
      ]
    },
    {
      "cell_type": "code",
      "source": [
        "#쳬비셰프거리\n",
        "rmse_val =[]\n",
        "for K in range(20):\n",
        "    K = K+1\n",
        "    model = neighbors.KNeighborsRegressor(n_neighbors = K,weights='distance',p=3)\n",
        "    model.fit(X_train, y_train)\n",
        "    pred = model.predict(x_test)\n",
        "    error = sqrt(mean_squared_error(y_test,pred))\n",
        "    rmse_val.append(error)\n",
        "    print('RMSE value k',K,'=',error)\n",
        "print('가장최소 rmse',min(rmse_val))"
      ],
      "metadata": {
        "colab": {
          "base_uri": "https://localhost:8080/"
        },
        "id": "YXcEBelkSliE",
        "outputId": "f6650485-cd0b-4e0d-b862-990184d105b7"
      },
      "execution_count": 65,
      "outputs": [
        {
          "output_type": "stream",
          "name": "stdout",
          "text": [
            "RMSE value k 1 = 6.913782767549378\n",
            "RMSE value k 2 = 6.643051620358276\n",
            "RMSE value k 3 = 6.307041306022343\n",
            "RMSE value k 4 = 6.0069001984761465\n",
            "RMSE value k 5 = 5.877828764537981\n",
            "RMSE value k 6 = 5.920498589626609\n",
            "RMSE value k 7 = 5.863550908847311\n",
            "RMSE value k 8 = 5.810951722674219\n",
            "RMSE value k 9 = 5.85377269142935\n",
            "RMSE value k 10 = 5.980058976651154\n",
            "RMSE value k 11 = 6.00495175257204\n",
            "RMSE value k 12 = 6.011095354672008\n",
            "RMSE value k 13 = 6.114742488955943\n",
            "RMSE value k 14 = 6.173283600684073\n",
            "RMSE value k 15 = 6.196272781052407\n",
            "RMSE value k 16 = 6.278396252132605\n",
            "RMSE value k 17 = 6.304173400023197\n",
            "RMSE value k 18 = 6.355632823519072\n",
            "RMSE value k 19 = 6.448478287761988\n",
            "RMSE value k 20 = 6.44686765234158\n",
            "가장최소 rmse 5.810951722674219\n"
          ]
        }
      ]
    }
  ]
}