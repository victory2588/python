{
 "cells": [
  {
   "attachments": {},
   "cell_type": "markdown",
   "metadata": {},
   "source": [
    "### N-gram: 문자열에서 N개의 연속된 요소를 추출하는 방법"
   ]
  },
  {
   "cell_type": "code",
   "execution_count": 3,
   "metadata": {},
   "outputs": [
    {
     "name": "stdout",
     "output_type": "stream",
     "text": [
      "He\n",
      "el\n",
      "ll\n",
      "lo\n"
     ]
    }
   ],
   "source": [
    "# 글자 단위\n",
    "word=input(\"문자를 입력하세요: \")\n",
    "\n",
    "for i in range(len(word)-1):\n",
    "    print(word[i],word[i+1],sep='')  # ''을 구분자로 출력"
   ]
  },
  {
   "cell_type": "code",
   "execution_count": 6,
   "metadata": {},
   "outputs": [
    {
     "data": {
      "text/plain": [
       "['my', 'name', 'is', 'yewon']"
      ]
     },
     "execution_count": 6,
     "metadata": {},
     "output_type": "execute_result"
    }
   ],
   "source": [
    "# 단어 단위\n",
    "text=input(\"문장을 입력하세요: \")\n",
    "words=text.split()  # 공백을 기준으로 분리하여 words 변수에 넣기\n",
    "\n",
    "for i in range()\n"
   ]
  },
  {
   "cell_type": "code",
   "execution_count": 10,
   "metadata": {},
   "outputs": [
    {
     "name": "stdout",
     "output_type": "stream",
     "text": [
      "my name\n",
      "name is\n",
      "is yewon\n"
     ]
    }
   ],
   "source": [
    "# 문장 단위\n",
    "text='my name is yewon'\n",
    "words=text.split()\n",
    "\n",
    "for i in range(len(words)-1):\n",
    "    print(words[i],words[i+1],sep=' ')"
   ]
  },
  {
   "attachments": {},
   "cell_type": "markdown",
   "metadata": {},
   "source": [
    "- zip 함수로 2-gram 만들기"
   ]
  },
  {
   "cell_type": "code",
   "execution_count": 11,
   "metadata": {},
   "outputs": [
    {
     "name": "stdout",
     "output_type": "stream",
     "text": [
      "he\n",
      "el\n",
      "ll\n",
      "lo\n"
     ]
    }
   ],
   "source": [
    "text='hello'\n",
    "\n",
    "# zip: 반복 가능한 객체의 각 요소를 튜플로 묶어줌.\n",
    "two_gram=zip(text,text[1:])  # hello 와 ello 를 하나씩 짝지어서 저장했다고 보면 됨\n",
    "for i in two_gram:\n",
    "    print(i[0],i[1],sep='')"
   ]
  },
  {
   "cell_type": "code",
   "execution_count": 14,
   "metadata": {},
   "outputs": [
    {
     "data": {
      "text/plain": [
       "[('h', 'e', 'l'), ('e', 'l', 'l'), ('l', 'l', 'o')]"
      ]
     },
     "execution_count": 14,
     "metadata": {},
     "output_type": "execute_result"
    }
   ],
   "source": [
    "# zip + 리스트 표현식으로 더 간단하게!\n",
    "text='hello'\n",
    "[text[i:] for i in range(3)] # 아까 zip에 넣었던 문자열 형태가 됨\n",
    "\n",
    "list(zip(*[text[i:] for i in range(3)]))  # 리스트의 각 요소를 콤마로 구분해서 넣어주려면 * 사용! <<매우 중요"
   ]
  }
 ],
 "metadata": {
  "kernelspec": {
   "display_name": "Python 3",
   "language": "python",
   "name": "python3"
  },
  "language_info": {
   "codemirror_mode": {
    "name": "ipython",
    "version": 3
   },
   "file_extension": ".py",
   "mimetype": "text/x-python",
   "name": "python",
   "nbconvert_exporter": "python",
   "pygments_lexer": "ipython3",
   "version": "3.10.9"
  },
  "orig_nbformat": 4,
  "vscode": {
   "interpreter": {
    "hash": "253cd15c32ffb283b0558be93b097dc27093fe6b891853f454fa08d2f15e4a97"
   }
  }
 },
 "nbformat": 4,
 "nbformat_minor": 2
}
