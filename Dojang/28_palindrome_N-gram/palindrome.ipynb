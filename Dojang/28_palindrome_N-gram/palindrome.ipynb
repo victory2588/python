{
 "cells": [
  {
   "attachments": {},
   "cell_type": "markdown",
   "metadata": {},
   "source": [
    "### 회문\n",
    "- 순서를 거꾸로 읽어도 제대로 읽은 것과 같은 단어와 문장\n",
    "- 유전자 염기서열 분석에서 많이 쓰임"
   ]
  },
  {
   "cell_type": "code",
   "execution_count": 10,
   "metadata": {},
   "outputs": [],
   "source": [
    "# 내가 짠 코드\n",
    "\n",
    "a=input(\"단어를 입력하세요\")\n",
    "for i in range(len(a)//2):\n",
    "    if (a[i]==a[-(i+1)]):\n",
    "        print(a[i],a[-(i+1)])\n",
    "        print(True)\n",
    "    else:\n",
    "        print(False)\n",
    "        "
   ]
  },
  {
   "cell_type": "code",
   "execution_count": 12,
   "metadata": {},
   "outputs": [
    {
     "name": "stdout",
     "output_type": "stream",
     "text": [
      "False\n"
     ]
    }
   ],
   "source": [
    "word=input(\"단어를 입력하세요: \")\n",
    "\n",
    "is_pal=True\n",
    "for i in range(len(word)//2):\n",
    "    if word[i] != word[-(i+1)]:\n",
    "        is_pal=False\n",
    "        break\n",
    "\n",
    "print(is_pal)\n"
   ]
  },
  {
   "attachments": {},
   "cell_type": "markdown",
   "metadata": {},
   "source": [
    "- 하지만 이렇게 하면 문자열을 일일이 비교하게 되어 번거로움\n",
    "-> 시퀀스 뒤집기로 문자 검사!"
   ]
  },
  {
   "cell_type": "code",
   "execution_count": 14,
   "metadata": {},
   "outputs": [
    {
     "name": "stdout",
     "output_type": "stream",
     "text": [
      "True\n"
     ]
    }
   ],
   "source": [
    "word=input(\"단어를 입력하세요: \")\n",
    "\n",
    "print(word==word[::-1])  # [::-1] 은 문자열 전체에서 인덱스를 1씩 감소시키면서 요소를 가져옴"
   ]
  },
  {
   "attachments": {},
   "cell_type": "markdown",
   "metadata": {},
   "source": [
    "- 리스트의 reversed 사용"
   ]
  },
  {
   "cell_type": "code",
   "execution_count": 15,
   "metadata": {},
   "outputs": [
    {
     "data": {
      "text/plain": [
       "True"
      ]
     },
     "execution_count": 15,
     "metadata": {},
     "output_type": "execute_result"
    }
   ],
   "source": [
    "word=input(\"단어를 입력하세요: \")\n",
    "list(word)==list(reversed(word))"
   ]
  }
 ],
 "metadata": {
  "kernelspec": {
   "display_name": "Python 3",
   "language": "python",
   "name": "python3"
  },
  "language_info": {
   "codemirror_mode": {
    "name": "ipython",
    "version": 3
   },
   "file_extension": ".py",
   "mimetype": "text/x-python",
   "name": "python",
   "nbconvert_exporter": "python",
   "pygments_lexer": "ipython3",
   "version": "3.10.9"
  },
  "orig_nbformat": 4,
  "vscode": {
   "interpreter": {
    "hash": "253cd15c32ffb283b0558be93b097dc27093fe6b891853f454fa08d2f15e4a97"
   }
  }
 },
 "nbformat": 4,
 "nbformat_minor": 2
}
