{
 "cells": [
  {
   "attachments": {},
   "cell_type": "markdown",
   "metadata": {},
   "source": [
    "### 함수\n",
    "- 코드의 용도 구분 가능\n",
    "- 코드 재사용 가능\n",
    "- 실수를 줄일 수 있음"
   ]
  },
  {
   "cell_type": "code",
   "execution_count": 2,
   "metadata": {},
   "outputs": [
    {
     "name": "stdout",
     "output_type": "stream",
     "text": [
      "hello haha\n"
     ]
    }
   ],
   "source": [
    "# 함수 만들기\n",
    "def hello():\n",
    "    print('hello haha')\n",
    "\n",
    "# 함수 호출\n",
    "hello()"
   ]
  },
  {
   "cell_type": "code",
   "execution_count": 8,
   "metadata": {},
   "outputs": [
    {
     "name": "stdout",
     "output_type": "stream",
     "text": [
      "이 함수는 a와 b를 더한 뒤 결과를 반환하는 함수이다.\n",
      "7\n"
     ]
    }
   ],
   "source": [
    "def add(a,b):\n",
    "    \"\"\"이 함수는 a와 b를 더한 뒤 결과를 반환하는 함수이다.\"\"\"  # 함수에 대한 설명을 넣는 독스트링! 큰 따옴표 3개로 사용하자.\n",
    "    print(a+b)\n",
    "\n",
    "print(add.__doc__) # 함수의 독스트링(설명) 출력\n",
    "add(2,5)"
   ]
  },
  {
   "attachments": {},
   "cell_type": "markdown",
   "metadata": {},
   "source": [
    "- return 사용"
   ]
  },
  {
   "cell_type": "code",
   "execution_count": 10,
   "metadata": {},
   "outputs": [
    {
     "data": {
      "text/plain": [
       "16"
      ]
     },
     "execution_count": 10,
     "metadata": {},
     "output_type": "execute_result"
    }
   ],
   "source": [
    "def add(a,b):\n",
    "    \"\"\"이 함수는 a와 b를 더한 뒤 결과를 반환하는 함수이다.\"\"\"  # 함수에 대한 설명을 넣는 독스트링! 큰 따옴표 3개로 사용하자.\n",
    "    return a+b  # 반환.\n",
    "\n",
    "x=add(6,10)\n",
    "x"
   ]
  },
  {
   "cell_type": "code",
   "execution_count": 12,
   "metadata": {},
   "outputs": [
    {
     "name": "stdout",
     "output_type": "stream",
     "text": [
      "5입니다\n"
     ]
    }
   ],
   "source": [
    "# return 을 함수에서 빠져나오는 데에 사용할 수 있음.\n",
    "def not_ten(a):\n",
    "    if a==10:\n",
    "        return\n",
    "    print(a, '입니다',sep='')\n",
    "\n",
    "not_ten(5)\n",
    "not_ten(10)"
   ]
  },
  {
   "cell_type": "code",
   "execution_count": 15,
   "metadata": {},
   "outputs": [
    {
     "name": "stdout",
     "output_type": "stream",
     "text": [
      "50\n",
      "-30\n"
     ]
    }
   ],
   "source": [
    "# 여러 개의 값을 반환\n",
    "def add_sub(a,b):\n",
    "    return a+b,a-b\n",
    "\n",
    "x,y=add_sub(10,40)\n",
    "print(x)\n",
    "print(y)"
   ]
  },
  {
   "cell_type": "code",
   "execution_count": 16,
   "metadata": {},
   "outputs": [
    {
     "data": {
      "text/plain": [
       "[50, -30]"
      ]
     },
     "execution_count": 16,
     "metadata": {},
     "output_type": "execute_result"
    }
   ],
   "source": [
    "# return으로 값을 여러 개 반환하면 실제로는 튜플이 반환됨. -> 튜플이 변수 여러 개에 할당되는 특성을 이용한 것(언패킹)\n",
    "## return으로 바로 리스트 반환도 가능!!\n",
    "\n",
    "def add_sub(a,b):\n",
    "    return [a+b,a-b]\n",
    "\n",
    "add_sub(10,40)"
   ]
  }
 ],
 "metadata": {
  "kernelspec": {
   "display_name": "Python 3",
   "language": "python",
   "name": "python3"
  },
  "language_info": {
   "codemirror_mode": {
    "name": "ipython",
    "version": 3
   },
   "file_extension": ".py",
   "mimetype": "text/x-python",
   "name": "python",
   "nbconvert_exporter": "python",
   "pygments_lexer": "ipython3",
   "version": "3.10.9"
  },
  "orig_nbformat": 4,
  "vscode": {
   "interpreter": {
    "hash": "253cd15c32ffb283b0558be93b097dc27093fe6b891853f454fa08d2f15e4a97"
   }
  }
 },
 "nbformat": 4,
 "nbformat_minor": 2
}
