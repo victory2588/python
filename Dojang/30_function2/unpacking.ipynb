{
 "cells": [
  {
   "attachments": {},
   "cell_type": "markdown",
   "metadata": {},
   "source": [
    "### 리스트 풀기 -> *"
   ]
  },
  {
   "cell_type": "code",
   "execution_count": 1,
   "metadata": {},
   "outputs": [],
   "source": [
    "x=[10,20,30]\n",
    "\n",
    "def print_numbers1(a,b,c):\n",
    "    print(a)\n",
    "    print(b)\n",
    "    print(c)\n"
   ]
  },
  {
   "cell_type": "code",
   "execution_count": 2,
   "metadata": {},
   "outputs": [
    {
     "name": "stdout",
     "output_type": "stream",
     "text": [
      "10\n",
      "20\n",
      "30\n"
     ]
    }
   ],
   "source": [
    "print_numbers1(*x)  # 일일이 풀어넣지 않아도 *를 쓰면 하나씩 들어간다는 뜻인듯?"
   ]
  },
  {
   "attachments": {},
   "cell_type": "markdown",
   "metadata": {},
   "source": [
    "### 가변 인수\n",
    "- 위치 인수 + 리스트 언패킹 => 가변 인수"
   ]
  },
  {
   "cell_type": "code",
   "execution_count": 3,
   "metadata": {},
   "outputs": [
    {
     "name": "stdout",
     "output_type": "stream",
     "text": [
      "10\n",
      "10\n",
      "20\n",
      "30\n",
      "40\n"
     ]
    }
   ],
   "source": [
    "def print_numbers2(*args):\n",
    "    for arg in args:\n",
    "        print(arg)\n",
    "\n",
    "print_numbers2(10)\n",
    "print_numbers2(10,20,30,40)"
   ]
  },
  {
   "attachments": {},
   "cell_type": "markdown",
   "metadata": {},
   "source": [
    "- 고정 인수와 가변 인수를 함께 사용하기"
   ]
  },
  {
   "cell_type": "code",
   "execution_count": 5,
   "metadata": {},
   "outputs": [
    {
     "name": "stdout",
     "output_type": "stream",
     "text": [
      "1\n",
      "()\n",
      "1\n",
      "(10, 20)\n",
      "10\n",
      "(20, 30)\n"
     ]
    }
   ],
   "source": [
    "def print_numbers3(a,*args):\n",
    "    print(a)\n",
    "    print(args)\n",
    "\n",
    "print_numbers3(1)\n",
    "print_numbers3(1,10,20)\n",
    "print_numbers3(*[10,20,30])\n",
    "\n",
    "# 하지만!!! *args 는 맨 뒤에 있어야 함. 무조건."
   ]
  },
  {
   "attachments": {},
   "cell_type": "markdown",
   "metadata": {},
   "source": [
    "### 키워드 인수\n",
    "- 인수의 순서와 용도를 기억하지 않아도 사용 가능"
   ]
  },
  {
   "cell_type": "code",
   "execution_count": 7,
   "metadata": {},
   "outputs": [
    {
     "name": "stdout",
     "output_type": "stream",
     "text": [
      "이름:  홍길동\n",
      "나이:  30\n",
      "주소:  서울시 종로구\n",
      "이름:  홍길동\n",
      "나이:  30\n",
      "주소:  서울시 종로구\n"
     ]
    }
   ],
   "source": [
    "def personal_info(name,age,address):\n",
    "    print('이름: ',name)\n",
    "    print('나이: ',age)\n",
    "    print('주소: ',address)\n",
    "\n",
    "personal_info(name='홍길동',age='30',address='서울시 종로구')\n",
    "personal_info(age='30',name='홍길동',address='서울시 종로구')"
   ]
  },
  {
   "attachments": {},
   "cell_type": "markdown",
   "metadata": {},
   "source": [
    "- 딕셔너리를 사용해 키워드 인수로 값 넣기 -> 딕셔너리 언패킹은 **\n",
    "- *을 한 번 쓰면 키를 사용한다는 뜻이 됨"
   ]
  },
  {
   "cell_type": "code",
   "execution_count": 13,
   "metadata": {},
   "outputs": [
    {
     "name": "stdout",
     "output_type": "stream",
     "text": [
      "이름:  김하나\n",
      "나이:  30\n",
      "주소:  서울시 강동구\n",
      "name age address\n"
     ]
    }
   ],
   "source": [
    "x={'name':'김하나','age':30,'address':'서울시 강동구'}\n",
    "personal_info(**x)\n",
    "\n",
    "print(*x)"
   ]
  },
  {
   "attachments": {},
   "cell_type": "markdown",
   "metadata": {},
   "source": [
    "### 위치 인수와 키워드 인수 함께 사용 -> 예를 들어 print"
   ]
  },
  {
   "cell_type": "code",
   "execution_count": 14,
   "metadata": {},
   "outputs": [
    {
     "name": "stdout",
     "output_type": "stream",
     "text": [
      "1:2:3"
     ]
    }
   ],
   "source": [
    "def custom_print(*args,**kwargs):\n",
    "    print(*args,**kwargs)\n",
    "\n",
    "custom_print(1,2,3,sep=':',end='')"
   ]
  },
  {
   "attachments": {},
   "cell_type": "markdown",
   "metadata": {},
   "source": [
    "### 초기값이 지정된 매개변수의 위치"
   ]
  },
  {
   "cell_type": "code",
   "execution_count": null,
   "metadata": {},
   "outputs": [],
   "source": [
    "# 초기값이 지정되지 않은 변수를 앞에, 지정된 변수를 뒤에 놓기!\n",
    "def personal_info(name,age,address='비공개'):\n",
    "    print('이름: ',name)\n",
    "    print('나이: ',age)\n",
    "    print('주소: ',address)"
   ]
  }
 ],
 "metadata": {
  "kernelspec": {
   "display_name": "Python 3",
   "language": "python",
   "name": "python3"
  },
  "language_info": {
   "codemirror_mode": {
    "name": "ipython",
    "version": 3
   },
   "file_extension": ".py",
   "mimetype": "text/x-python",
   "name": "python",
   "nbconvert_exporter": "python",
   "pygments_lexer": "ipython3",
   "version": "3.10.10"
  },
  "orig_nbformat": 4,
  "vscode": {
   "interpreter": {
    "hash": "0883bfc5a3fb9ef9c6e839b7cdd52edd79392d9ad6aeb38e3ef8c7c96744f808"
   }
  }
 },
 "nbformat": 4,
 "nbformat_minor": 2
}
