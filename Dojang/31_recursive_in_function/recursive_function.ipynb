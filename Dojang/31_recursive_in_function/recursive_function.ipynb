{
 "cells": [
  {
   "attachments": {},
   "cell_type": "markdown",
   "metadata": {},
   "source": [
    "### 재귀호출\n",
    "- 꼭 종료 조건이 있어야 함"
   ]
  },
  {
   "cell_type": "code",
   "execution_count": 1,
   "metadata": {},
   "outputs": [
    {
     "name": "stdout",
     "output_type": "stream",
     "text": [
      "Hello  5\n",
      "Hello  4\n",
      "Hello  3\n",
      "Hello  2\n",
      "Hello  1\n"
     ]
    }
   ],
   "source": [
    "def hello(count):\n",
    "    if count==0:\n",
    "        return\n",
    "    print('Hello ',count)\n",
    "    \n",
    "    count-=1\n",
    "    hello(count)\n",
    "\n",
    "hello(5)"
   ]
  },
  {
   "cell_type": "code",
   "execution_count": 2,
   "metadata": {},
   "outputs": [
    {
     "name": "stdout",
     "output_type": "stream",
     "text": [
      "120\n"
     ]
    }
   ],
   "source": [
    "def factorial(n):\n",
    "    if n==1:\n",
    "        return 1\n",
    "    return n*factorial(n-1)\n",
    "\n",
    "print(factorial(5))\n",
    "\n",
    "# 반환값이 핵심! n-1을 계속 전달하다가 n이 1일 때 1을 반환하면서 아래에서 위로 계산"
   ]
  }
 ],
 "metadata": {
  "kernelspec": {
   "display_name": "Python 3",
   "language": "python",
   "name": "python3"
  },
  "language_info": {
   "codemirror_mode": {
    "name": "ipython",
    "version": 3
   },
   "file_extension": ".py",
   "mimetype": "text/x-python",
   "name": "python",
   "nbconvert_exporter": "python",
   "pygments_lexer": "ipython3",
   "version": "3.10.10"
  },
  "orig_nbformat": 4,
  "vscode": {
   "interpreter": {
    "hash": "0883bfc5a3fb9ef9c6e839b7cdd52edd79392d9ad6aeb38e3ef8c7c96744f808"
   }
  }
 },
 "nbformat": 4,
 "nbformat_minor": 2
}
