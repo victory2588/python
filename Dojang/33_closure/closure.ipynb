{
 "cells": [
  {
   "attachments": {},
   "cell_type": "markdown",
   "metadata": {},
   "source": [
    "### 클로저\n",
    "- 변수에 '프로그램의 흐름' 저장\n",
    "- 지역 변수 + 코드를 묶어서 사용하고 싶을 때 활용\n",
    "- 클로저에 속한 지역 변수는 바깥에서 직접 접근할 수 없으므로, 데이터를 숨기고 싶을 때 활용"
   ]
  },
  {
   "cell_type": "code",
   "execution_count": 1,
   "metadata": {},
   "outputs": [
    {
     "name": "stdout",
     "output_type": "stream",
     "text": [
      "8 11 14 17 20\n"
     ]
    }
   ],
   "source": [
    "def calc():\n",
    "    a=3\n",
    "    b=5\n",
    "    def mul_add(x):\n",
    "        return a*x+b\n",
    "    return mul_add  # return 으로 함수 자체를 반환(이름만 반환해야 함. 괄호 X)\n",
    "\n",
    "c=calc()  # calc 호출 후 반환 값 c에 저장\n",
    "          # calc에서 mul_add 를 반환했으므로, c에는 함수 mul_add가 들어감\n",
    "print(c(1),c(2),c(3),c(4),c(5))"
   ]
  },
  {
   "attachments": {},
   "cell_type": "markdown",
   "metadata": {},
   "source": [
    "### lambda로 클로저 만들기"
   ]
  },
  {
   "cell_type": "code",
   "execution_count": null,
   "metadata": {},
   "outputs": [],
   "source": [
    "def calc():\n",
    "    a=3\n",
    "    b=5\n",
    "    return lambda x:a*x+b  # 람다를 활용하면 클로저를 간단하게 만들 수 있음\n",
    "\n",
    "c=calc()\n",
    "print(c(1),c(2),c(3),c(4),c(5))"
   ]
  },
  {
   "attachments": {},
   "cell_type": "markdown",
   "metadata": {},
   "source": [
    "### 클로저의 지역 변수 변경"
   ]
  },
  {
   "cell_type": "code",
   "execution_count": null,
   "metadata": {},
   "outputs": [],
   "source": [
    "def calc():\n",
    "    a=3\n",
    "    b=5\n",
    "    total=0\n",
    "    def mul_add(x):\n",
    "        nonlocal total\n",
    "        total=total+a*x+b\n",
    "        print(total)\n",
    "    return mul_add\n",
    "\n",
    "c=calc()\n",
    "c(1)\n",
    "c(2)\n",
    "c(3)"
   ]
  }
 ],
 "metadata": {
  "kernelspec": {
   "display_name": "Python 3",
   "language": "python",
   "name": "python3"
  },
  "language_info": {
   "codemirror_mode": {
    "name": "ipython",
    "version": 3
   },
   "file_extension": ".py",
   "mimetype": "text/x-python",
   "name": "python",
   "nbconvert_exporter": "python",
   "pygments_lexer": "ipython3",
   "version": "3.10.9"
  },
  "orig_nbformat": 4
 },
 "nbformat": 4,
 "nbformat_minor": 2
}
