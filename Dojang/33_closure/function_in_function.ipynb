{
 "cells": [
  {
   "attachments": {},
   "cell_type": "markdown",
   "metadata": {},
   "source": [
    "### 함수 안의 함수"
   ]
  },
  {
   "cell_type": "code",
   "execution_count": 1,
   "metadata": {},
   "outputs": [
    {
     "name": "stdout",
     "output_type": "stream",
     "text": [
      "Hello, world!\n"
     ]
    }
   ],
   "source": [
    "def print_hello():\n",
    "    hello = 'Hello, world!'\n",
    "    def print_message():\n",
    "        print(hello)\n",
    "    print_message()\n",
    " \n",
    "print_hello()"
   ]
  },
  {
   "attachments": {},
   "cell_type": "markdown",
   "metadata": {},
   "source": [
    "### nonlocal\n",
    "- 현재 함수의 바깥에 있는 지역 변수의 값 변경"
   ]
  },
  {
   "cell_type": "code",
   "execution_count": 2,
   "metadata": {},
   "outputs": [
    {
     "name": "stdout",
     "output_type": "stream",
     "text": [
      "20\n"
     ]
    }
   ],
   "source": [
    "def A():\n",
    "    x=10\n",
    "    def B():\n",
    "        nonlocal x\n",
    "        x=20\n",
    "    B()\n",
    "    print(x)\n",
    "\n",
    "A()"
   ]
  },
  {
   "attachments": {},
   "cell_type": "markdown",
   "metadata": {},
   "source": [
    "- nonlocal 이 변수를 찾는 순서\n",
    "    - 가장 가까운 함수부터 찾음"
   ]
  },
  {
   "cell_type": "code",
   "execution_count": 4,
   "metadata": {},
   "outputs": [
    {
     "name": "stdout",
     "output_type": "stream",
     "text": [
      "50\n",
      "400\n"
     ]
    }
   ],
   "source": [
    "def A():\n",
    "    x=10\n",
    "    y=100\n",
    "    def B():\n",
    "        x=20\n",
    "        def C():\n",
    "            nonlocal x  # 가장 가까운 x가 함수 B()의 x 이다.\n",
    "            nonlocal y\n",
    "            x=x+30\n",
    "            y=y+300\n",
    "            print(x)\n",
    "            print(y)\n",
    "        C()\n",
    "    B()\n",
    "\n",
    "A()\n",
    "\n",
    "# 하지만 실무에서는 이렇게 함수를 만들지 않음.\n",
    "## 변수 이름도 안 겹치게 하는게 보통"
   ]
  }
 ],
 "metadata": {
  "kernelspec": {
   "display_name": "Python 3",
   "language": "python",
   "name": "python3"
  },
  "language_info": {
   "codemirror_mode": {
    "name": "ipython",
    "version": 3
   },
   "file_extension": ".py",
   "mimetype": "text/x-python",
   "name": "python",
   "nbconvert_exporter": "python",
   "pygments_lexer": "ipython3",
   "version": "3.10.9"
  },
  "orig_nbformat": 4
 },
 "nbformat": 4,
 "nbformat_minor": 2
}
