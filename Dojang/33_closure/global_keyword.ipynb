{
 "cells": [
  {
   "attachments": {},
   "cell_type": "markdown",
   "metadata": {},
   "source": [
    "### 함수 안에서 전역 변수의 값 변경하기 -> global 사용"
   ]
  },
  {
   "cell_type": "code",
   "execution_count": 2,
   "metadata": {},
   "outputs": [
    {
     "name": "stdout",
     "output_type": "stream",
     "text": [
      "20\n",
      "20\n"
     ]
    }
   ],
   "source": [
    "x = 10          # 전역 변수\n",
    "def foo():\n",
    "    global x    # 전역 변수 x를 사용하겠다고 설정\n",
    "    x = 20      # x는 전역 변수\n",
    "    print(x)    # 전역 변수 출력\n",
    " \n",
    "foo()\n",
    "print(x)        # 전역 변수 출력"
   ]
  },
  {
   "cell_type": "code",
   "execution_count": 5,
   "metadata": {},
   "outputs": [
    {
     "name": "stdout",
     "output_type": "stream",
     "text": [
      "20\n",
      "20\n"
     ]
    }
   ],
   "source": [
    "# 전역 변수가 없을 때 함수 안에서 global을 사용하면, 해당 변수는 전역 변수가 됨\n",
    "\n",
    "def foo():\n",
    "    global x\n",
    "    x=20\n",
    "    print(x)\n",
    "\n",
    "foo()\n",
    "print(x)"
   ]
  },
  {
   "attachments": {},
   "cell_type": "markdown",
   "metadata": {},
   "source": [
    "### 네임스페이스\n",
    "- 모든 변수는 namespace에 저장됨\n",
    "- locals() 로 현재 네임스페이스를 딕셔너리 형태로 출력"
   ]
  },
  {
   "cell_type": "code",
   "execution_count": 9,
   "metadata": {},
   "outputs": [
    {
     "name": "stdout",
     "output_type": "stream",
     "text": [
      "{'x': 10, 'y': 20}\n"
     ]
    }
   ],
   "source": [
    "def foo():\n",
    "    x=10\n",
    "    y=20\n",
    "    print(locals())  # 지역 범위 내에서 네임스페이스를 출력했으므로 지역 네임스페이스 가져옴\n",
    "\n",
    "foo()"
   ]
  }
 ],
 "metadata": {
  "kernelspec": {
   "display_name": "Python 3",
   "language": "python",
   "name": "python3"
  },
  "language_info": {
   "codemirror_mode": {
    "name": "ipython",
    "version": 3
   },
   "file_extension": ".py",
   "mimetype": "text/x-python",
   "name": "python",
   "nbconvert_exporter": "python",
   "pygments_lexer": "ipython3",
   "version": "3.10.9"
  },
  "orig_nbformat": 4
 },
 "nbformat": 4,
 "nbformat_minor": 2
}
