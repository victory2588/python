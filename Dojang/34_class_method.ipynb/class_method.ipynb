{
 "cells": [
  {
   "attachments": {},
   "cell_type": "markdown",
   "metadata": {},
   "source": [
    "### 클래스와 메서드 만들기\n",
    "- 클래스는 class에 클래스 이름을 지정하고 :(콜론)을 붙인 뒤 다음 줄부터 def로 메서드를 작성\n",
    "- 메서드의 첫 번째 매개변수는 반드시 self를 지정해야 함."
   ]
  },
  {
   "cell_type": "code",
   "execution_count": 2,
   "metadata": {},
   "outputs": [
    {
     "name": "stdout",
     "output_type": "stream",
     "text": [
      "Hello\n"
     ]
    }
   ],
   "source": [
    "class Person:\n",
    "    def greeting(self):\n",
    "        print('Hello')\n",
    "\n",
    "\n",
    "james=Person()\n",
    "james.greeting()"
   ]
  },
  {
   "attachments": {},
   "cell_type": "markdown",
   "metadata": {},
   "source": [
    "- 파이썬에서는 자료형도 클래스임(int, list, dict 등)"
   ]
  },
  {
   "cell_type": "code",
   "execution_count": 3,
   "metadata": {},
   "outputs": [
    {
     "data": {
      "text/plain": [
       "True"
      ]
     },
     "execution_count": 3,
     "metadata": {},
     "output_type": "execute_result"
    }
   ],
   "source": [
    "# 특정 클래스의 인스턴스인지 확인하기\n",
    "isinstance(james,Person)"
   ]
  },
  {
   "attachments": {},
   "cell_type": "markdown",
   "metadata": {},
   "source": [
    "### 속성 만들기"
   ]
  },
  {
   "cell_type": "code",
   "execution_count": 5,
   "metadata": {},
   "outputs": [
    {
     "name": "stdout",
     "output_type": "stream",
     "text": [
      "안녕하세요.\n"
     ]
    }
   ],
   "source": [
    "# __init__ 메서드는 인스턴스를 만들 때 호출되는 특별한 메소드\n",
    "class Person:\n",
    "    def __init__(self):  # self에 들어가는 값은 Person()\n",
    "        self.hello='안녕하세요.'  # hello 라는 변수에 안녕하세요를 넣은 것\n",
    "    \n",
    "    def greeting(self):  # self에 들어가는 값은 james\n",
    "        print(self.hello)\n",
    "    \n",
    "\n",
    "park=Person()\n",
    "park.greeting()"
   ]
  },
  {
   "cell_type": "code",
   "execution_count": 10,
   "metadata": {},
   "outputs": [
    {
     "data": {
      "text/plain": [
       "'마리아'"
      ]
     },
     "execution_count": 10,
     "metadata": {},
     "output_type": "execute_result"
    }
   ],
   "source": [
    "# 인스턴스 생성 후 속성 추가\n",
    "\n",
    "class Person:\n",
    "    pass            # 빈 클래스 생성\n",
    "\n",
    "maria=Person()\n",
    "maria.name='마리아'  # 이렇게 하면 해당 인스턴스에만 생성\n",
    "maria.name"
   ]
  },
  {
   "cell_type": "code",
   "execution_count": 11,
   "metadata": {},
   "outputs": [],
   "source": [
    "# 특정 속성만 허용하고 다른 속성은 제한 -> __slots__ 사용\n",
    "class Person:\n",
    "    __slots__=['name','age']  # name, age 만 허용(다른 속성은 생성 제한)\n",
    "\n",
    "maria = Person()\n",
    "maria.name = '마리아'                     # 허용된 속성\n",
    "maria.age = 20                            # 허용된 속성\n",
    "# maria.address = '서울시 서초구 반포동'    # 허용되지 않은 속성은 추가할 때 에러가 발생함"
   ]
  },
  {
   "attachments": {},
   "cell_type": "markdown",
   "metadata": {},
   "source": [
    "### 인스턴스 생성 시 값 받기"
   ]
  },
  {
   "cell_type": "code",
   "execution_count": 9,
   "metadata": {},
   "outputs": [
    {
     "name": "stdout",
     "output_type": "stream",
     "text": [
      "안녕하세요. 저는 마리아입니다.\n",
      "이름: 마리아\n",
      "나이: 30\n",
      "주소: 서울시 종로구\n"
     ]
    }
   ],
   "source": [
    "class Person:\n",
    "    def __init__(self, name, age, address):\n",
    "        self.hello='안녕하세요.'\n",
    "        self.name=name\n",
    "        self.age=age\n",
    "        self.address=address\n",
    "    \n",
    "    def greeting(self):\n",
    "        print('{0} 저는 {1}입니다.'.format(self.hello,self.name))\n",
    "\n",
    "maria=Person('마리아','30','서울시 종로구')\n",
    "maria.greeting()\n",
    "\n",
    "print('이름:', maria.name)\n",
    "print('나이:', maria.age)\n",
    "print('주소:', maria.address)"
   ]
  },
  {
   "cell_type": "code",
   "execution_count": null,
   "metadata": {},
   "outputs": [],
   "source": [
    "# 인스턴스 생성 시 위치 인수, 키워드 인수 사용\n",
    "\n",
    "# 위치 인수\n",
    "class Person:\n",
    "    def __init__(self, *args):\n",
    "        self.name = args[0]\n",
    "        self.age = args[1]\n",
    "        self.address = args[2]\n",
    " \n",
    "maria = Person(*['마리아', 20, '서울시 서초구 반포동'])\n",
    "\n",
    "# 키워드 인수\n",
    "class Person:\n",
    "    def __init__(self, **kwargs):    # 키워드 인수\n",
    "        self.name = kwargs['name']\n",
    "        self.age = kwargs['age']\n",
    "        self.address = kwargs['address']\n",
    " \n",
    "maria1 = Person(name='마리아', age=20, address='서울시 서초구 반포동')\n",
    "maria2 = Person(**{'name': '마리아', 'age': 20, 'address': '서울시 서초구 반포동'})"
   ]
  },
  {
   "attachments": {},
   "cell_type": "markdown",
   "metadata": {},
   "source": [
    "### 비공개 속성 사용하기"
   ]
  },
  {
   "cell_type": "code",
   "execution_count": 13,
   "metadata": {},
   "outputs": [],
   "source": [
    "class Person:\n",
    "    def __init__(self, name, age, address,wallet):\n",
    "        self.hello = '안녕하세요.'\n",
    "        self.name = name\n",
    "        self.age = age\n",
    "        self.address = address\n",
    "        self.__wallet = wallet  # 변수 앞에 __를 붙여서 비공개 속성으로 만듦\n",
    "                                # 비공개 속성은 '클래스 안의 메소드'에서만 접근 가능\n",
    "                                \n",
    "    def pay(self, amount):\n",
    "        self.__wallet -= amount   # 비공개 속성은 클래스 안의 메서드에서만 접근할 수 있음\n",
    "        print('이제 {0}원 남았네요.'.format(self.__wallet))    \n",
    "\n",
    "maria = Person('마리아', 20, '서울시 서초구 반포동', 10000)\n",
    "#maria.__wallet -= 10000    # 클래스 바깥에서 비공개 속성에 접근하면 에러가 발생함"
   ]
  }
 ],
 "metadata": {
  "kernelspec": {
   "display_name": "Python 3",
   "language": "python",
   "name": "python3"
  },
  "language_info": {
   "codemirror_mode": {
    "name": "ipython",
    "version": 3
   },
   "file_extension": ".py",
   "mimetype": "text/x-python",
   "name": "python",
   "nbconvert_exporter": "python",
   "pygments_lexer": "ipython3",
   "version": "3.10.10"
  },
  "orig_nbformat": 4
 },
 "nbformat": 4,
 "nbformat_minor": 2
}
