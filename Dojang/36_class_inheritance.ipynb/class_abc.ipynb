{
 "cells": [
  {
   "attachments": {},
   "cell_type": "markdown",
   "metadata": {},
   "source": [
    "### 추상 클래스(abstract class)\n",
    "- 메서드의 목록만 가진 클래스\n",
    "- 상속 받는 클래스에서 구현하도록 강제하는 클래스\n",
    "- 추상 클래스는 인스턴스로 만들 수 없음"
   ]
  },
  {
   "cell_type": "code",
   "execution_count": 1,
   "metadata": {},
   "outputs": [
    {
     "name": "stdout",
     "output_type": "stream",
     "text": [
      "공부하기\n"
     ]
    }
   ],
   "source": [
    "from abc import *\n",
    "\n",
    "class StudentBase(metaclass=ABCMeta):\n",
    "    @abstractmethod\n",
    "    def study(self):\n",
    "        pass\n",
    "\n",
    "    @abstractmethod\n",
    "    def go_to_school(self):\n",
    "        pass\n",
    "\n",
    "class Student(StudentBase):\n",
    "    def study(self):\n",
    "        print('공부하기')\n",
    "    def go_to_school(self):\n",
    "        print('학교가기')\n",
    "        \n",
    "james = Student()\n",
    "james.study()\n"
   ]
  }
 ],
 "metadata": {
  "kernelspec": {
   "display_name": "Python 3",
   "language": "python",
   "name": "python3"
  },
  "language_info": {
   "codemirror_mode": {
    "name": "ipython",
    "version": 3
   },
   "file_extension": ".py",
   "mimetype": "text/x-python",
   "name": "python",
   "nbconvert_exporter": "python",
   "pygments_lexer": "ipython3",
   "version": "3.10.9"
  },
  "orig_nbformat": 4
 },
 "nbformat": 4,
 "nbformat_minor": 2
}
