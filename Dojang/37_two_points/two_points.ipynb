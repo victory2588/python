{
 "cells": [
  {
   "attachments": {},
   "cell_type": "markdown",
   "metadata": {},
   "source": [
    "### 두 점 사이의 거리 구하기\n",
    "- 피타고라스의 정리 이용"
   ]
  },
  {
   "cell_type": "code",
   "execution_count": 1,
   "metadata": {},
   "outputs": [
    {
     "name": "stdout",
     "output_type": "stream",
     "text": [
      "p1: 30 20\n",
      "p2: 60 50\n"
     ]
    }
   ],
   "source": [
    "# 클래스로 점 구현\n",
    "class Point2D:\n",
    "    def __init__(self,x,y):\n",
    "        self.x=x\n",
    "        self.y=y\n",
    "\n",
    "p1=Point2D(30,20)\n",
    "p2=Point2D(60,50)\n",
    "\n",
    "print('p1: {0} {1}'.format(p1.x,p1.y))\n",
    "print('p2: {0} {1}'.format(p2.x,p2.y))"
   ]
  },
  {
   "cell_type": "code",
   "execution_count": 2,
   "metadata": {},
   "outputs": [
    {
     "name": "stdout",
     "output_type": "stream",
     "text": [
      "42.42640687119285\n"
     ]
    }
   ],
   "source": [
    "# sqrt 함수 -> 루트 구현\n",
    "import math\n",
    "\n",
    "a=p2.x-p1.x\n",
    "b=p2.y-p1.y\n",
    "\n",
    "c=math.sqrt((a*a)+(b*b))  # (a * a) + (b * b)의 제곱근을 구함\n",
    "print(c)"
   ]
  },
  {
   "attachments": {},
   "cell_type": "markdown",
   "metadata": {},
   "source": [
    "### namedtuple  ???? 잘 모르겠음\n",
    "- 각 요소에 이름 지정 가능\n",
    "- 자료형 이름과 요소의 이름을 지정하면 클래스를 생성해줌"
   ]
  },
  {
   "cell_type": "code",
   "execution_count": 3,
   "metadata": {},
   "outputs": [
    {
     "name": "stdout",
     "output_type": "stream",
     "text": [
      "42.42640687119285\n"
     ]
    }
   ],
   "source": [
    "import math\n",
    "import collections\n",
    "\n",
    "Point2D=collections.namedtuple('Point2D',['x','y'])  # namedtuple로 점 표현\n",
    "\n",
    "p1=Point2D(30,20)\n",
    "p2=Point2D(60,50)\n",
    "\n",
    "a = p1.x - p2.x    # 선 a의 길이\n",
    "b = p1.y - p2.y    # 선 b의 길이\n",
    " \n",
    "c = math.sqrt((a * a) + (b * b))\n",
    "print(c)"
   ]
  }
 ],
 "metadata": {
  "kernelspec": {
   "display_name": "Python 3",
   "language": "python",
   "name": "python3"
  },
  "language_info": {
   "codemirror_mode": {
    "name": "ipython",
    "version": 3
   },
   "file_extension": ".py",
   "mimetype": "text/x-python",
   "name": "python",
   "nbconvert_exporter": "python",
   "pygments_lexer": "ipython3",
   "version": "3.10.10"
  },
  "orig_nbformat": 4
 },
 "nbformat": 4,
 "nbformat_minor": 2
}
