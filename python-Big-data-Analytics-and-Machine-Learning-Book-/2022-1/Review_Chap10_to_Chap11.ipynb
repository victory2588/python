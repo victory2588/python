{
 "cells": [
  {
   "cell_type": "markdown",
   "id": "0c4b6879",
   "metadata": {},
   "source": [
    "## Chap 10. 스몰데이터 통계 Excercise"
   ]
  },
  {
   "cell_type": "markdown",
   "id": "de137d54",
   "metadata": {},
   "source": [
    "## 참고사항 1 - 통계절차\n",
    "- 통계분석방법 선정\n",
    "- 분석하고자 하는 목적에 따른 귀무가설(영가설)과 대립가설 설정 \n",
    "- 분석도구(SPSS,R등) 검정통계량 실행 및 확인\n",
    "- 유의수준(α) 결정 : 0.1, 0.05, 0.01\n",
    "- 유의확률(P) 확인\n",
    "- 유의확률과 유의수준 비교 (< α)\n",
    "- 귀무가설 과 대립가설 선택\n",
    "- 분석 결론\n"
   ]
  },
  {
   "cell_type": "markdown",
   "id": "8eb3cb87",
   "metadata": {},
   "source": [
    "> T-TEST(T검정 활용) "
   ]
  },
  {
   "cell_type": "markdown",
   "id": "3249e0aa",
   "metadata": {},
   "source": [
    "### 참고사항 2\n",
    "T-Test란?<br> \n",
    "- 두 집단의 평균을 비교하는 통계적 검정 방법\n",
    "\n",
    "P-value<br>\n",
    "- P < α = 0.05<br>\n",
    "(오류 5% 이하, 95% 이상 진실)<p>\n",
    "- P >= α = 0.05<br>\n",
    "(오류 5% 이상, 95% 이하 진실)"
   ]
  },
  {
   "cell_type": "code",
   "execution_count": 1,
   "id": "052bbc26",
   "metadata": {},
   "outputs": [
    {
     "name": "stdout",
     "output_type": "stream",
     "text": [
      "t검정 통계량 = 0.423, pvalue = 0.677\n"
     ]
    }
   ],
   "source": [
    "import numpy          # 표본집단을 랜덤값으로 생성하기 위해서 사용\n",
    "from scipy import stats  # t검정 수행을 위한 패키지 (내장)\n",
    "\n",
    "#1) 학생 키에 대한 리스트 구성 (랜덤배치)\n",
    "\n",
    "#height_list = numpy.random.randint(low=162, high=182, size=20)\n",
    "height_list = numpy.array([169, 167, 175, 166, 162, 180, 172, 162, 173, 162, 181, 175, 181, 181, 162, 165, 172, 176, 167, 165])\n",
    "height_list\n",
    "\n",
    "#2) T 테스트 수행\n",
    "\n",
    "#귀무가설이 참인 경우 학생들의 평균 키는 170cm와 차이가 없다. 그러므로 평균키는 170다.\n",
    "\n",
    "#귀무가설이 거짓인 경우 학생들의 평균 키는 170cm와 차이가 있다. 그러므로 평균은 170가 아니다.\n",
    "\n",
    "#대립가설이 참인 경우 - 관측된 p-value가 0.05보다 작은 경우 귀무가설을 기각한다.\n",
    "\n",
    "tTestResult = stats.ttest_1samp(height_list, 170)\n",
    "tTestResult\n",
    "\n",
    "#3)  결과 출력 \n",
    "\n",
    "#귀무 가설이 맞거나 틀린 것을 증명하려면 어떤 증거가 있어야 한다. 이 증거에 해당하는 숫자를 검정 통계량(test statistics)라고 한다.\n",
    "\n",
    "print('t검정 통계량 = %.3f, pvalue = %.3f'%(tTestResult))  \n",
    "\n",
    "\n",
    "#t검정 통계량 = 0.423, pvalue = 0.677"
   ]
  },
  {
   "cell_type": "code",
   "execution_count": 3,
   "id": "74a8236d",
   "metadata": {},
   "outputs": [
    {
     "data": {
      "text/plain": [
       "Ttest_indResult(statistic=-1.8253194633881713, pvalue=0.07582039848129221)"
      ]
     },
     "execution_count": 3,
     "metadata": {},
     "output_type": "execute_result"
    }
   ],
   "source": [
    "import numpy          # 표본집단을 랜덤값으로 생성하기 위해서 사용\n",
    "from scipy import stats  # t검정 수행을 위한 패키지 (내장)\n",
    "\n",
    "#group1Heights = numpy.random.randint(low=157, high=178, size=20)\n",
    "group1Heights = numpy.array([162, 168, 169, 165, 166, 168, 162, 172, 157, 173, 158, 169, 164, 170, 163, 175, 177, 162, 175, 177])\n",
    "\n",
    "#group2Heights = numpy.random.randint(low=162, high=182, size=20)\n",
    "group2Heights = numpy.array([180, 181, 163, 164, 174, 169, 164, 172, 162, 171, 180, 168, 164, 169, 169, 178, 177, 167, 179, 172])\n",
    "\n",
    "tTestResult= stats.ttest_ind(group1Heights, group2Heights)\n",
    "tTestResult\n",
    "\n",
    "#p-value가 0.05보다 작은 경우 귀무가설을 기각하고 대립가설 채택\n",
    "#Ttest_indResult(statistic=-1.8253194633881713, pvalue=0.07582039848129221)"
   ]
  },
  {
   "cell_type": "code",
   "execution_count": 4,
   "id": "d12de44c",
   "metadata": {},
   "outputs": [
    {
     "data": {
      "text/plain": [
       "Ttest_relResult(statistic=2.381679710269089, pvalue=0.027844775777660064)"
      ]
     },
     "execution_count": 4,
     "metadata": {},
     "output_type": "execute_result"
    }
   ],
   "source": [
    "import numpy          # 표본집단을 랜덤값으로 생성하기 위해서 사용\n",
    "from scipy import stats  # t검정 수행을 위한 패키지 (내장)\n",
    "\n",
    "\n",
    "# 복용전 몸무게에 대한 랜덤 값 배치\n",
    "#beforeWeights = numpy.random.randint(low=60, high=90, size=20)\n",
    "beforeWeights = numpy.array([80, 82, 76, 82, 65, 73, 77, 78, 61, 81, 80, 70, 60, 83, 89, 84, 85, 81, 67, 60])\n",
    "\n",
    "\n",
    "# 복용 후 몸무게를 가정한 데이터 변조\n",
    "tmp_list = []\n",
    "for i in beforeWeights:\n",
    "    tmp_list.append(i * numpy.random.normal(0.99,0.02)) #random.normal ??\n",
    "    \n",
    "afterWeights = numpy.array(tmp_list)\n",
    "afterWeights\n",
    "\n",
    "\n",
    "tTestResult= stats.ttest_rel(beforeWeights, afterWeights)\n",
    "tTestResult\n",
    "\n",
    "#Ttest_relResult(statistic=3.278149526008354, pvalue=0.003955230626284828)"
   ]
  },
  {
   "cell_type": "markdown",
   "id": "851b4cb0",
   "metadata": {},
   "source": [
    "> 시각화"
   ]
  },
  {
   "cell_type": "code",
   "execution_count": 5,
   "id": "ae94f51e",
   "metadata": {},
   "outputs": [
    {
     "data": {
      "image/png": "[encoded data removed]",
      "text/plain": [
       "<Figure size 576x432 with 1 Axes>"
      ]
     },
     "metadata": {
      "needs_background": "light"
     },
     "output_type": "display_data"
    },
    {
     "data": {
      "text/plain": [
       "Power_divergenceResult(statistic=454.81159986847393, pvalue=1.7334684263715945e-99)"
      ]
     },
     "execution_count": 5,
     "metadata": {},
     "output_type": "execute_result"
    }
   ],
   "source": [
    "#연구가설은 대립가설로 하고 진행\n",
    "from pandas import DataFrame\n",
    "\n",
    "xo, xe = [24, 378, 251], [271, 180, 202]\n",
    "xc = DataFrame([xo, xe], columns=['Item A', 'Item B', 'Item C'], index=['Obs', 'Exp'])\n",
    "xc\n",
    "\n",
    "#bar plot을 작성\n",
    "\n",
    "import matplotlib.pyplot as plt\n",
    "%matplotlib inline\n",
    "\n",
    "ax = xc.plot(kind='bar', title='Number of Items', figsize=(8, 6))\n",
    "ax.set_ylabel('value')\n",
    "plt.grid(color='darkgray')\n",
    "plt.show()\n",
    "\n",
    "#from scipy.stats의 chisquare()를 이용하여 카이제곱 검정을 실행\n",
    "\n",
    "from scipy.stats import chisquare\n",
    "\n",
    "result = chisquare(xo, f_exp=xe)\n",
    "result\n",
    "\n",
    "#p-value가 1.7334684263715945e-99로 유의수준 0.05보다 아주 작은 값이므로 귀무가설을 기각하고 대립가설을 지지\n",
    "\n",
    "#즉 연구가설이 지지"
   ]
  },
  {
   "cell_type": "markdown",
   "id": "343a6b0d",
   "metadata": {},
   "source": [
    "## Chap 11. 통계에서 머신러닝으로 Excercise"
   ]
  },
  {
   "cell_type": "markdown",
   "id": "3c53e088",
   "metadata": {},
   "source": [
    "> 상관분석"
   ]
  },
  {
   "cell_type": "code",
   "execution_count": 3,
   "id": "dda2ed4b",
   "metadata": {},
   "outputs": [
    {
     "data": {
      "text/html": [
       "<div>\n",
       "<style scoped>\n",
       "    .dataframe tbody tr th:only-of-type {\n",
       "        vertical-align: middle;\n",
       "    }\n",
       "\n",
       "    .dataframe tbody tr th {\n",
       "        vertical-align: top;\n",
       "    }\n",
       "\n",
       "    .dataframe thead th {\n",
       "        text-align: right;\n",
       "    }\n",
       "</style>\n",
       "<table border=\"1\" class=\"dataframe\">\n",
       "  <thead>\n",
       "    <tr style=\"text-align: right;\">\n",
       "      <th></th>\n",
       "      <th>student_no</th>\n",
       "      <th>class</th>\n",
       "      <th>science</th>\n",
       "      <th>english</th>\n",
       "      <th>math</th>\n",
       "      <th>sex</th>\n",
       "    </tr>\n",
       "  </thead>\n",
       "  <tbody>\n",
       "    <tr>\n",
       "      <th>0</th>\n",
       "      <td>1</td>\n",
       "      <td>A</td>\n",
       "      <td>92</td>\n",
       "      <td>98</td>\n",
       "      <td>97</td>\n",
       "      <td>m</td>\n",
       "    </tr>\n",
       "    <tr>\n",
       "      <th>1</th>\n",
       "      <td>2</td>\n",
       "      <td>A</td>\n",
       "      <td>62</td>\n",
       "      <td>66</td>\n",
       "      <td>65</td>\n",
       "      <td>w</td>\n",
       "    </tr>\n",
       "    <tr>\n",
       "      <th>2</th>\n",
       "      <td>3</td>\n",
       "      <td>A</td>\n",
       "      <td>81</td>\n",
       "      <td>86</td>\n",
       "      <td>84</td>\n",
       "      <td>w</td>\n",
       "    </tr>\n",
       "    <tr>\n",
       "      <th>3</th>\n",
       "      <td>4</td>\n",
       "      <td>A</td>\n",
       "      <td>73</td>\n",
       "      <td>72</td>\n",
       "      <td>71</td>\n",
       "      <td>m</td>\n",
       "    </tr>\n",
       "    <tr>\n",
       "      <th>4</th>\n",
       "      <td>5</td>\n",
       "      <td>B</td>\n",
       "      <td>65</td>\n",
       "      <td>66</td>\n",
       "      <td>69</td>\n",
       "      <td>w</td>\n",
       "    </tr>\n",
       "    <tr>\n",
       "      <th>5</th>\n",
       "      <td>6</td>\n",
       "      <td>B</td>\n",
       "      <td>86</td>\n",
       "      <td>89</td>\n",
       "      <td>87</td>\n",
       "      <td>m</td>\n",
       "    </tr>\n",
       "    <tr>\n",
       "      <th>6</th>\n",
       "      <td>7</td>\n",
       "      <td>B</td>\n",
       "      <td>91</td>\n",
       "      <td>90</td>\n",
       "      <td>92</td>\n",
       "      <td>m</td>\n",
       "    </tr>\n",
       "    <tr>\n",
       "      <th>7</th>\n",
       "      <td>8</td>\n",
       "      <td>B</td>\n",
       "      <td>77</td>\n",
       "      <td>78</td>\n",
       "      <td>76</td>\n",
       "      <td>w</td>\n",
       "    </tr>\n",
       "    <tr>\n",
       "      <th>8</th>\n",
       "      <td>9</td>\n",
       "      <td>C</td>\n",
       "      <td>95</td>\n",
       "      <td>98</td>\n",
       "      <td>99</td>\n",
       "      <td>w</td>\n",
       "    </tr>\n",
       "    <tr>\n",
       "      <th>9</th>\n",
       "      <td>10</td>\n",
       "      <td>C</td>\n",
       "      <td>83</td>\n",
       "      <td>82</td>\n",
       "      <td>85</td>\n",
       "      <td>w</td>\n",
       "    </tr>\n",
       "  </tbody>\n",
       "</table>\n",
       "</div>"
      ],
      "text/plain": [
       "   student_no class  science  english  math sex\n",
       "0           1     A       92       98    97   m\n",
       "1           2     A       62       66    65   w\n",
       "2           3     A       81       86    84   w\n",
       "3           4     A       73       72    71   m\n",
       "4           5     B       65       66    69   w\n",
       "5           6     B       86       89    87   m\n",
       "6           7     B       91       90    92   m\n",
       "7           8     B       77       78    76   w\n",
       "8           9     C       95       98    99   w\n",
       "9          10     C       83       82    85   w"
      ]
     },
     "execution_count": 3,
     "metadata": {},
     "output_type": "execute_result"
    }
   ],
   "source": [
    "#판다스 라이브러리 불러오기\n",
    "import pandas as pd \n",
    "import matplotlib as mpl\n",
    "import matplotlib.pylab as plt\n",
    "import numpy as np    \n",
    "import seaborn as sns \n",
    "\n",
    "#데이터불러오기\n",
    "file_path= 'C:/Users/victo/anaconda3/python/실습데이터/exam_sample_cor.csv'\n",
    "\n",
    "#pandas 라이브러리의 read_csv()함수로 데이터프레임 변환 \n",
    "df = pd.read_csv(file_path)\n",
    "df"
   ]
  },
  {
   "cell_type": "code",
   "execution_count": 13,
   "id": "543c155a",
   "metadata": {},
   "outputs": [],
   "source": [
    "# font setting\n",
    "plt.rc(\"font\", family=\"Malgun Gothic\")"
   ]
  },
  {
   "cell_type": "code",
   "execution_count": 16,
   "id": "2480f3c5",
   "metadata": {},
   "outputs": [
    {
     "data": {
      "text/plain": [
       "<matplotlib.collections.PathCollection at 0x1ab1c021940>"
      ]
     },
     "execution_count": 16,
     "metadata": {},
     "output_type": "execute_result"
    },
    {
     "data": {
      "image/png": "[encoded data removed]",
      "text/plain": [
       "<Figure size 432x288 with 1 Axes>"
      ]
     },
     "metadata": {
      "needs_background": "light"
     },
     "output_type": "display_data"
    }
   ],
   "source": [
    "# 두 연속형 변수 스캐터플롯 그리기, 산점도는 연속형 변수(x, y)에 유용함\n",
    "plt.title(\"<과학점수-수학점수 분포>\")\n",
    "plt.xlabel(\"과학점수\")\n",
    "plt.ylabel(\"수학점수\")\n",
    "plt.scatter(df.science, df.math)"
   ]
  },
  {
   "cell_type": "code",
   "execution_count": 17,
   "id": "5ca1d686",
   "metadata": {},
   "outputs": [
    {
     "data": {
      "text/html": [
       "<div>\n",
       "<style scoped>\n",
       "    .dataframe tbody tr th:only-of-type {\n",
       "        vertical-align: middle;\n",
       "    }\n",
       "\n",
       "    .dataframe tbody tr th {\n",
       "        vertical-align: top;\n",
       "    }\n",
       "\n",
       "    .dataframe thead th {\n",
       "        text-align: right;\n",
       "    }\n",
       "</style>\n",
       "<table border=\"1\" class=\"dataframe\">\n",
       "  <thead>\n",
       "    <tr style=\"text-align: right;\">\n",
       "      <th></th>\n",
       "      <th>student_no</th>\n",
       "      <th>science</th>\n",
       "      <th>english</th>\n",
       "      <th>math</th>\n",
       "    </tr>\n",
       "  </thead>\n",
       "  <tbody>\n",
       "    <tr>\n",
       "      <th>student_no</th>\n",
       "      <td>1.000000</td>\n",
       "      <td>0.334156</td>\n",
       "      <td>0.180978</td>\n",
       "      <td>0.264716</td>\n",
       "    </tr>\n",
       "    <tr>\n",
       "      <th>science</th>\n",
       "      <td>0.334156</td>\n",
       "      <td>1.000000</td>\n",
       "      <td>0.976411</td>\n",
       "      <td>0.982180</td>\n",
       "    </tr>\n",
       "    <tr>\n",
       "      <th>english</th>\n",
       "      <td>0.180978</td>\n",
       "      <td>0.976411</td>\n",
       "      <td>1.000000</td>\n",
       "      <td>0.984986</td>\n",
       "    </tr>\n",
       "    <tr>\n",
       "      <th>math</th>\n",
       "      <td>0.264716</td>\n",
       "      <td>0.982180</td>\n",
       "      <td>0.984986</td>\n",
       "      <td>1.000000</td>\n",
       "    </tr>\n",
       "  </tbody>\n",
       "</table>\n",
       "</div>"
      ],
      "text/plain": [
       "            student_no   science   english      math\n",
       "student_no    1.000000  0.334156  0.180978  0.264716\n",
       "science       0.334156  1.000000  0.976411  0.982180\n",
       "english       0.180978  0.976411  1.000000  0.984986\n",
       "math          0.264716  0.982180  0.984986  1.000000"
      ]
     },
     "execution_count": 17,
     "metadata": {},
     "output_type": "execute_result"
    }
   ],
   "source": [
    "# 상관계수 확인\n",
    "# 상관계수 - 연속형의 경우 pearson법을 활용, 범주형은 spearman\n",
    "corr = df.corr() #(method = 'pearson')\n",
    "corr"
   ]
  },
  {
   "cell_type": "markdown",
   "id": "8a3913ab",
   "metadata": {},
   "source": [
    "> 상관 시각화"
   ]
  },
  {
   "cell_type": "code",
   "execution_count": 21,
   "id": "7578a092",
   "metadata": {},
   "outputs": [
    {
     "data": {
      "text/plain": [
       "<AxesSubplot:>"
      ]
     },
     "execution_count": 21,
     "metadata": {},
     "output_type": "execute_result"
    },
    {
     "data": {
      "image/png": "[encoded data removed]",
      "text/plain": [
       "<Figure size 432x288 with 2 Axes>"
      ]
     },
     "metadata": {
      "needs_background": "light"
     },
     "output_type": "display_data"
    }
   ],
   "source": [
    "# 히트맵으로 상관도 시각화\n",
    "sns.heatmap(data = df.corr() , annot=True, fmt = '.2f', linewidths=.5, cmap='Blues')"
   ]
  },
  {
   "cell_type": "code",
   "execution_count": 19,
   "id": "bc711d25",
   "metadata": {},
   "outputs": [
    {
     "name": "stderr",
     "output_type": "stream",
     "text": [
      "<ipython-input-19-5fc1982eca6c>:6: DeprecationWarning: `np.bool` is a deprecated alias for the builtin `bool`. To silence this warning, use `bool` by itself. Doing this will not modify any behavior and is safe. If you specifically wanted the numpy scalar type, use `np.bool_` here.\n",
      "Deprecated in NumPy 1.20; for more details and guidance: https://numpy.org/devdocs/release/1.20.0-notes.html#deprecations\n",
      "  mask = np.zeros_like(df1, dtype=np.bool)\n",
      "C:\\Users\\green\\anaconda3\\lib\\site-packages\\matplotlib\\backends\\backend_agg.py:238: RuntimeWarning: Glyph 8722 missing from current font.\n",
      "  font.set_text(s, 0.0, flags=flags)\n",
      "C:\\Users\\green\\anaconda3\\lib\\site-packages\\matplotlib\\backends\\backend_agg.py:201: RuntimeWarning: Glyph 8722 missing from current font.\n",
      "  font.set_text(s, 0, flags=flags)\n"
     ]
    },
    {
     "data": {
      "text/plain": [
       "<AxesSubplot:>"
      ]
     },
     "execution_count": 19,
     "metadata": {},
     "output_type": "execute_result"
    },
    {
     "data": {
      "image/png": "[encoded data removed]",
      "text/plain": [
       "<Figure size 504x504 with 2 Axes>"
      ]
     },
     "metadata": {
      "needs_background": "light"
     },
     "output_type": "display_data"
    }
   ],
   "source": [
    "df1 = df.corr()\n",
    "# 그림 사이즈 지정\n",
    "fig, ax = plt.subplots( figsize=(7,7) )\n",
    "\n",
    "# 삼각형 마스크를 만든다(위 삼각형 True, 아래 삼각형 False)\n",
    "mask = np.zeros_like(df1, dtype=np.bool)\n",
    "mask[np.triu_indices_from(mask)] = True\n",
    "\n",
    "# 히트맵을 그린다\n",
    "sns.heatmap(df1, cmap = 'RdYlBu_r', \n",
    "            annot = True,   # 실제 값을 표시한다\n",
    "            mask=mask,      # 표시하지 않을 마스크 부분을 지정한다\n",
    "            linewidths=.5,  # 경계면 실선으로 구분하기\n",
    "            cbar_kws={\"shrink\": .5},# 컬러바 크기 절반으로 줄이기\n",
    "            vmin = -1,vmax = 1 )  # 컬러바 범위 -1 ~ 1"
   ]
  },
  {
   "cell_type": "code",
   "execution_count": 22,
   "id": "d3ab7ad7",
   "metadata": {},
   "outputs": [
    {
     "data": {
      "text/plain": [
       "<seaborn.matrix.ClusterGrid at 0x1ab1c23e0a0>"
      ]
     },
     "execution_count": 22,
     "metadata": {},
     "output_type": "execute_result"
    },
    {
     "data": {
      "image/png": "[encoded data removed]",
      "text/plain": [
       "<Figure size 720x720 with 4 Axes>"
      ]
     },
     "metadata": {
      "needs_background": "light"
     },
     "output_type": "display_data"
    }
   ],
   "source": [
    "df1 = df.corr()\n",
    "sns.clustermap(df1, annot = True,      # 실제 값 화면에 나타내기\n",
    "               cmap = 'RdYlBu_r',  # Red, Yellow, Blue 색상으로 표시\n",
    "               vmin = -1, vmax = 1, #컬러차트 -1 ~ 1 범위로 표시\n",
    "              )"
   ]
  },
  {
   "cell_type": "markdown",
   "id": "4c24cc72",
   "metadata": {},
   "source": [
    "> 단순 선형회귀"
   ]
  },
  {
   "cell_type": "code",
   "execution_count": 23,
   "id": "e44003e6",
   "metadata": {},
   "outputs": [
    {
     "data": {
      "text/html": [
       "<div>\n",
       "<style scoped>\n",
       "    .dataframe tbody tr th:only-of-type {\n",
       "        vertical-align: middle;\n",
       "    }\n",
       "\n",
       "    .dataframe tbody tr th {\n",
       "        vertical-align: top;\n",
       "    }\n",
       "\n",
       "    .dataframe thead th {\n",
       "        text-align: right;\n",
       "    }\n",
       "</style>\n",
       "<table border=\"1\" class=\"dataframe\">\n",
       "  <thead>\n",
       "    <tr style=\"text-align: right;\">\n",
       "      <th></th>\n",
       "      <th>student_no</th>\n",
       "      <th>class</th>\n",
       "      <th>science</th>\n",
       "      <th>english</th>\n",
       "      <th>math</th>\n",
       "      <th>sex</th>\n",
       "    </tr>\n",
       "  </thead>\n",
       "  <tbody>\n",
       "    <tr>\n",
       "      <th>0</th>\n",
       "      <td>1</td>\n",
       "      <td>A</td>\n",
       "      <td>92</td>\n",
       "      <td>98</td>\n",
       "      <td>97</td>\n",
       "      <td>m</td>\n",
       "    </tr>\n",
       "    <tr>\n",
       "      <th>1</th>\n",
       "      <td>2</td>\n",
       "      <td>A</td>\n",
       "      <td>62</td>\n",
       "      <td>66</td>\n",
       "      <td>65</td>\n",
       "      <td>w</td>\n",
       "    </tr>\n",
       "    <tr>\n",
       "      <th>2</th>\n",
       "      <td>3</td>\n",
       "      <td>A</td>\n",
       "      <td>81</td>\n",
       "      <td>86</td>\n",
       "      <td>84</td>\n",
       "      <td>w</td>\n",
       "    </tr>\n",
       "    <tr>\n",
       "      <th>3</th>\n",
       "      <td>4</td>\n",
       "      <td>A</td>\n",
       "      <td>73</td>\n",
       "      <td>72</td>\n",
       "      <td>71</td>\n",
       "      <td>m</td>\n",
       "    </tr>\n",
       "    <tr>\n",
       "      <th>4</th>\n",
       "      <td>5</td>\n",
       "      <td>B</td>\n",
       "      <td>65</td>\n",
       "      <td>66</td>\n",
       "      <td>69</td>\n",
       "      <td>w</td>\n",
       "    </tr>\n",
       "    <tr>\n",
       "      <th>5</th>\n",
       "      <td>6</td>\n",
       "      <td>B</td>\n",
       "      <td>86</td>\n",
       "      <td>89</td>\n",
       "      <td>87</td>\n",
       "      <td>m</td>\n",
       "    </tr>\n",
       "    <tr>\n",
       "      <th>6</th>\n",
       "      <td>7</td>\n",
       "      <td>B</td>\n",
       "      <td>91</td>\n",
       "      <td>90</td>\n",
       "      <td>92</td>\n",
       "      <td>m</td>\n",
       "    </tr>\n",
       "    <tr>\n",
       "      <th>7</th>\n",
       "      <td>8</td>\n",
       "      <td>B</td>\n",
       "      <td>77</td>\n",
       "      <td>78</td>\n",
       "      <td>76</td>\n",
       "      <td>w</td>\n",
       "    </tr>\n",
       "    <tr>\n",
       "      <th>8</th>\n",
       "      <td>9</td>\n",
       "      <td>C</td>\n",
       "      <td>95</td>\n",
       "      <td>98</td>\n",
       "      <td>99</td>\n",
       "      <td>w</td>\n",
       "    </tr>\n",
       "    <tr>\n",
       "      <th>9</th>\n",
       "      <td>10</td>\n",
       "      <td>C</td>\n",
       "      <td>83</td>\n",
       "      <td>82</td>\n",
       "      <td>85</td>\n",
       "      <td>w</td>\n",
       "    </tr>\n",
       "  </tbody>\n",
       "</table>\n",
       "</div>"
      ],
      "text/plain": [
       "   student_no class  science  english  math sex\n",
       "0           1     A       92       98    97   m\n",
       "1           2     A       62       66    65   w\n",
       "2           3     A       81       86    84   w\n",
       "3           4     A       73       72    71   m\n",
       "4           5     B       65       66    69   w\n",
       "5           6     B       86       89    87   m\n",
       "6           7     B       91       90    92   m\n",
       "7           8     B       77       78    76   w\n",
       "8           9     C       95       98    99   w\n",
       "9          10     C       83       82    85   w"
      ]
     },
     "execution_count": 23,
     "metadata": {},
     "output_type": "execute_result"
    }
   ],
   "source": [
    "#판다스 라이브러리 불러오기\n",
    "import pandas as pd \n",
    "import matplotlib as mpl\n",
    "import matplotlib.pylab as plt\n",
    "import numpy as np    \n",
    "import seaborn as sns \n",
    "\n",
    "#데이터불러오기\n",
    "file_path= 'C:/Rtest/exam_sample_cor.csv'\n",
    "\n",
    "#read csv()함수로 데이터프레임 변환 \n",
    "df = pd.read_csv(file_path)\n",
    "df"
   ]
  },
  {
   "cell_type": "code",
   "execution_count": 26,
   "id": "40940c20",
   "metadata": {},
   "outputs": [
    {
     "data": {
      "text/plain": [
       "<seaborn.axisgrid.FacetGrid at 0x1ab1c8f10a0>"
      ]
     },
     "execution_count": 26,
     "metadata": {},
     "output_type": "execute_result"
    },
    {
     "data": {
      "image/png": "[encoded data removed]",
      "text/plain": [
       "<Figure size 360x360 with 1 Axes>"
      ]
     },
     "metadata": {
      "needs_background": "light"
     },
     "output_type": "display_data"
    }
   ],
   "source": [
    "# sns의 lmplot활용(lm은 linear model)\n",
    "sns.lmplot(x='science', y='math',data=df)"
   ]
  },
  {
   "cell_type": "code",
   "execution_count": 27,
   "id": "ff89bf25",
   "metadata": {},
   "outputs": [
    {
     "name": "stderr",
     "output_type": "stream",
     "text": [
      "C:\\Users\\green\\anaconda3\\lib\\site-packages\\scipy\\stats\\stats.py:1603: UserWarning: kurtosistest only valid for n>=20 ... continuing anyway, n=10\n",
      "  warnings.warn(\"kurtosistest only valid for n>=20 ... continuing \"\n"
     ]
    },
    {
     "data": {
      "text/html": [
       "<table class=\"simpletable\">\n",
       "<caption>OLS Regression Results</caption>\n",
       "<tr>\n",
       "  <th>Dep. Variable:</th>          <td>math</td>       <th>  R-squared:         </th> <td>   0.965</td>\n",
       "</tr>\n",
       "<tr>\n",
       "  <th>Model:</th>                   <td>OLS</td>       <th>  Adj. R-squared:    </th> <td>   0.960</td>\n",
       "</tr>\n",
       "<tr>\n",
       "  <th>Method:</th>             <td>Least Squares</td>  <th>  F-statistic:       </th> <td>   218.5</td>\n",
       "</tr>\n",
       "<tr>\n",
       "  <th>Date:</th>             <td>Sun, 22 May 2022</td> <th>  Prob (F-statistic):</th> <td>4.32e-07</td>\n",
       "</tr>\n",
       "<tr>\n",
       "  <th>Time:</th>                 <td>19:20:32</td>     <th>  Log-Likelihood:    </th> <td> -21.673</td>\n",
       "</tr>\n",
       "<tr>\n",
       "  <th>No. Observations:</th>      <td>    10</td>      <th>  AIC:               </th> <td>   47.35</td>\n",
       "</tr>\n",
       "<tr>\n",
       "  <th>Df Residuals:</th>          <td>     8</td>      <th>  BIC:               </th> <td>   47.95</td>\n",
       "</tr>\n",
       "<tr>\n",
       "  <th>Df Model:</th>              <td>     1</td>      <th>                     </th>     <td> </td>   \n",
       "</tr>\n",
       "<tr>\n",
       "  <th>Covariance Type:</th>      <td>nonrobust</td>    <th>                     </th>     <td> </td>   \n",
       "</tr>\n",
       "</table>\n",
       "<table class=\"simpletable\">\n",
       "<tr>\n",
       "      <td></td>         <th>coef</th>     <th>std err</th>      <th>t</th>      <th>P>|t|</th>  <th>[0.025</th>    <th>0.975]</th>  \n",
       "</tr>\n",
       "<tr>\n",
       "  <th>Intercept</th> <td>   -0.7527</td> <td>    5.682</td> <td>   -0.132</td> <td> 0.898</td> <td>  -13.855</td> <td>   12.349</td>\n",
       "</tr>\n",
       "<tr>\n",
       "  <th>science</th>   <td>    1.0342</td> <td>    0.070</td> <td>   14.781</td> <td> 0.000</td> <td>    0.873</td> <td>    1.196</td>\n",
       "</tr>\n",
       "</table>\n",
       "<table class=\"simpletable\">\n",
       "<tr>\n",
       "  <th>Omnibus:</th>       <td> 1.170</td> <th>  Durbin-Watson:     </th> <td>   2.261</td>\n",
       "</tr>\n",
       "<tr>\n",
       "  <th>Prob(Omnibus):</th> <td> 0.557</td> <th>  Jarque-Bera (JB):  </th> <td>   0.811</td>\n",
       "</tr>\n",
       "<tr>\n",
       "  <th>Skew:</th>          <td>-0.402</td> <th>  Prob(JB):          </th> <td>   0.667</td>\n",
       "</tr>\n",
       "<tr>\n",
       "  <th>Kurtosis:</th>      <td> 1.859</td> <th>  Cond. No.          </th> <td>    618.</td>\n",
       "</tr>\n",
       "</table><br/><br/>Notes:<br/>[1] Standard Errors assume that the covariance matrix of the errors is correctly specified."
      ],
      "text/plain": [
       "<class 'statsmodels.iolib.summary.Summary'>\n",
       "\"\"\"\n",
       "                            OLS Regression Results                            \n",
       "==============================================================================\n",
       "Dep. Variable:                   math   R-squared:                       0.965\n",
       "Model:                            OLS   Adj. R-squared:                  0.960\n",
       "Method:                 Least Squares   F-statistic:                     218.5\n",
       "Date:                Sun, 22 May 2022   Prob (F-statistic):           4.32e-07\n",
       "Time:                        19:20:32   Log-Likelihood:                -21.673\n",
       "No. Observations:                  10   AIC:                             47.35\n",
       "Df Residuals:                       8   BIC:                             47.95\n",
       "Df Model:                           1                                         \n",
       "Covariance Type:            nonrobust                                         \n",
       "==============================================================================\n",
       "                 coef    std err          t      P>|t|      [0.025      0.975]\n",
       "------------------------------------------------------------------------------\n",
       "Intercept     -0.7527      5.682     -0.132      0.898     -13.855      12.349\n",
       "science        1.0342      0.070     14.781      0.000       0.873       1.196\n",
       "==============================================================================\n",
       "Omnibus:                        1.170   Durbin-Watson:                   2.261\n",
       "Prob(Omnibus):                  0.557   Jarque-Bera (JB):                0.811\n",
       "Skew:                          -0.402   Prob(JB):                        0.667\n",
       "Kurtosis:                       1.859   Cond. No.                         618.\n",
       "==============================================================================\n",
       "\n",
       "Notes:\n",
       "[1] Standard Errors assume that the covariance matrix of the errors is correctly specified.\n",
       "\"\"\""
      ]
     },
     "execution_count": 27,
     "metadata": {},
     "output_type": "execute_result"
    }
   ],
   "source": [
    "# 회귀분석을 위해 종속(Y=수학), 독립(X=과학)\n",
    "# 과학점수를 알면 수학점수를 예상 할 수 있다. \n",
    "# 단순선형회귀 모형 \n",
    "import statsmodels.api as sm\n",
    "lin_reg = sm.OLS.from_formula(\"math ~ science\", df).fit()  #종속 ~ 독립 변수 순서\n",
    "lin_reg.summary()"
   ]
  },
  {
   "cell_type": "markdown",
   "id": "fe368d89",
   "metadata": {},
   "source": [
    "> 로지스틱(Logistic) 회귀 - 두가지의 값만 갖는 경우"
   ]
  },
  {
   "cell_type": "code",
   "execution_count": 30,
   "id": "b40feb8d",
   "metadata": {},
   "outputs": [
    {
     "name": "stderr",
     "output_type": "stream",
     "text": [
      "C:\\Users\\green\\anaconda3\\lib\\site-packages\\numpy\\lib\\nanfunctions.py:1389: RuntimeWarning: All-NaN slice encountered\n",
      "  result = np.apply_along_axis(_nanquantile_1d, axis, a, q,\n"
     ]
    },
    {
     "data": {
      "text/plain": [
       "<seaborn.axisgrid.FacetGrid at 0x1ab1ec677c0>"
      ]
     },
     "execution_count": 30,
     "metadata": {},
     "output_type": "execute_result"
    },
    {
     "data": {
      "image/png": "[encoded data removed]",
      "text/plain": [
       "<Figure size 360x360 with 1 Axes>"
      ]
     },
     "metadata": {
      "needs_background": "light"
     },
     "output_type": "display_data"
    }
   ],
   "source": [
    "import pandas as pd           #판다스\n",
    "import seaborn as sns          #시본 \n",
    "import numpy as np           #넘파이\n",
    "\n",
    "# DataFrame 생성\n",
    "passtest = [0,0,0,0,0,1,1,1,1,1]\n",
    "score = [51, 64, 60, 50, 68, 80, 90, 92, 99,83]\n",
    "df = pd.DataFrame({\"passtest\": passtest, \"score\": score, } )\n",
    "df.head()\n",
    "\n",
    "#상관분석\n",
    "sns.lmplot(x='score', y='passtest',data=df, logistic=True)  #lmplot은 선형회귀"
   ]
  },
  {
   "cell_type": "code",
   "execution_count": 31,
   "id": "3b7296d0",
   "metadata": {},
   "outputs": [
    {
     "name": "stderr",
     "output_type": "stream",
     "text": [
      "C:\\Users\\green\\anaconda3\\lib\\site-packages\\matplotlib\\backends\\backend_agg.py:238: RuntimeWarning: Glyph 8722 missing from current font.\n",
      "  font.set_text(s, 0.0, flags=flags)\n",
      "C:\\Users\\green\\anaconda3\\lib\\site-packages\\matplotlib\\backends\\backend_agg.py:201: RuntimeWarning: Glyph 8722 missing from current font.\n",
      "  font.set_text(s, 0, flags=flags)\n"
     ]
    },
    {
     "data": {
      "image/png": "[encoded data removed]",
      "text/plain": [
       "<Figure size 432x288 with 1 Axes>"
      ]
     },
     "metadata": {
      "needs_background": "light"
     },
     "output_type": "display_data"
    }
   ],
   "source": [
    "#  a는 1, b는 0임을 가정한 그래프입니다.\n",
    "import numpy as np # 넘파이 사용\n",
    "import matplotlib.pyplot as plt # 맷플롯립 사용\n",
    "def sigmoid(x):\n",
    "    return 1/(1+np.exp(-x))\n",
    "x = np.arange(-5.0, 5.0, 0.1)\n",
    "y = sigmoid(x)\n",
    "\n",
    "plt.plot(x, y, 'g')\n",
    "plt.plot([0,0],[1.0,0.0], ':') # 가운데 점선 추가\n",
    "plt.title('Sigmoid Function')\n",
    "plt.show()"
   ]
  },
  {
   "cell_type": "code",
   "execution_count": 32,
   "id": "3afb0535",
   "metadata": {},
   "outputs": [
    {
     "name": "stderr",
     "output_type": "stream",
     "text": [
      "C:\\Users\\green\\anaconda3\\lib\\site-packages\\matplotlib\\backends\\backend_agg.py:238: RuntimeWarning: Glyph 8722 missing from current font.\n",
      "  font.set_text(s, 0.0, flags=flags)\n",
      "C:\\Users\\green\\anaconda3\\lib\\site-packages\\matplotlib\\backends\\backend_agg.py:201: RuntimeWarning: Glyph 8722 missing from current font.\n",
      "  font.set_text(s, 0, flags=flags)\n"
     ]
    },
    {
     "data": {
      "image/png": "[encoded data removed]",
      "text/plain": [
       "<Figure size 432x288 with 1 Axes>"
      ]
     },
     "metadata": {
      "needs_background": "light"
     },
     "output_type": "display_data"
    }
   ],
   "source": [
    "def sigmoid(x):\n",
    "    return 1/(1+np.exp(-x))\n",
    "x = np.arange(-5.0, 5.0, 0.1)\n",
    "y1 = sigmoid(0.5*x)  #시그모이드 함수가 뭐지?\n",
    "y2 = sigmoid(x)\n",
    "y3 = sigmoid(2*x)\n",
    "\n",
    "plt.plot(x, y1, 'r', linestyle='--') # W의 값이 0.5일때\n",
    "plt.plot(x, y2, 'g') # W의 값이 1일때\n",
    "plt.plot(x, y3, 'b', linestyle='--') # W의 값이 2일때\n",
    "plt.plot([0,0],[1.0,0.0], ':') # 가운데 점선 추가\n",
    "plt.title('Sigmoid Function')\n",
    "plt.show()"
   ]
  },
  {
   "cell_type": "code",
   "execution_count": 33,
   "id": "c71f77ad",
   "metadata": {},
   "outputs": [
    {
     "name": "stderr",
     "output_type": "stream",
     "text": [
      "C:\\Users\\green\\anaconda3\\lib\\site-packages\\matplotlib\\backends\\backend_agg.py:238: RuntimeWarning: Glyph 8722 missing from current font.\n",
      "  font.set_text(s, 0.0, flags=flags)\n",
      "C:\\Users\\green\\anaconda3\\lib\\site-packages\\matplotlib\\backends\\backend_agg.py:201: RuntimeWarning: Glyph 8722 missing from current font.\n",
      "  font.set_text(s, 0, flags=flags)\n"
     ]
    },
    {
     "data": {
      "image/png": "[encoded data removed]",
      "text/plain": [
       "<Figure size 432x288 with 1 Axes>"
      ]
     },
     "metadata": {
      "needs_background": "light"
     },
     "output_type": "display_data"
    }
   ],
   "source": [
    "def sigmoid(x):\n",
    "    return 1/(1+np.exp(-x))\n",
    "x = np.arange(-5.0, 5.0, 0.1)\n",
    "y1 = sigmoid(x+0.5)\n",
    "y2 = sigmoid(x+1)\n",
    "y3 = sigmoid(x+1.5)\n",
    "\n",
    "plt.plot(x, y1, 'r', linestyle='--') # x + 0.5\n",
    "plt.plot(x, y2, 'g') # x + 1\n",
    "plt.plot(x, y3, 'b', linestyle='--') # x + 1.5\n",
    "plt.plot([0,0],[1.0,0.0], ':') # 가운데 점선 추가\n",
    "plt.title('Sigmoid Function')\n",
    "plt.show()"
   ]
  }
 ],
 "metadata": {
  "kernelspec": {
   "display_name": "Python 3 (ipykernel)",
   "language": "python",
   "name": "python3"
  },
  "language_info": {
   "codemirror_mode": {
    "name": "ipython",
    "version": 3
   },
   "file_extension": ".py",
   "mimetype": "text/x-python",
   "name": "python",
   "nbconvert_exporter": "python",
   "pygments_lexer": "ipython3",
   "version": "3.9.12"
  }
 },
 "nbformat": 4,
 "nbformat_minor": 5
}
