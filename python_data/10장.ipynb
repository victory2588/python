{
 "cells": [
  {
   "cell_type": "code",
   "execution_count": 4,
   "metadata": {},
   "outputs": [
    {
     "name": "stdout",
     "output_type": "stream",
     "text": [
      "t검정 통계량 = 0.423, pvalue = 0.677\n"
     ]
    }
   ],
   "source": [
    "import numpy          # 표본집단을 랜덤값으로 생성하기 위해서 사용\n",
    "from scipy import stats  # t검정 수행을 위한 패키지 (내장)\n",
    "\n",
    "#1) 학생 키에 대한 리스트 구성 (랜덤배치)\n",
    "\n",
    "#height_list = numpy.random.randint(low=162, high=182, size=20)\n",
    "height_list = numpy.array([169, 167, 175, 166, 162, 180, 172, 162, 173, 162, 181, 175, 181, 181, 162, 165, 172, 176, 167, 165])\n",
    "height_list\n",
    "\n",
    "#2) T 테스트 수행\n",
    "\n",
    "#귀무가설이 참인 경우 학생들의 평균 키는 170cm와 차이가 없다. 그러므로 평균키는 170다.\n",
    "\n",
    "#귀무가설이 거짓인 경우 학생들의 평균 키는 170cm와 차이가 있다. 그러므로 평균은 170가 아니다.\n",
    "\n",
    "#대립가설이 참인 경우 - 관측된 p-value가 0.05보다 작은 경우 귀무가설을 기각한다.\n",
    "\n",
    "\n",
    "tTestResult = stats.ttest_1samp(height_list, 170)\n",
    "tTestResult\n",
    "\n",
    "#3)  결과 출력 \n",
    "\n",
    "#귀무 가설이 맞거나 틀린 것을 증명하려면 어떤 증거가 있어야 한다. 이 증거에 해당하는 숫자를 검정 통계량(test statistics)라고 한다.\n",
    "\n",
    "print('t검정 통계량 = %.3f, pvalue = %.3f'%(tTestResult))  \n",
    "\n",
    "\n",
    "#t검정 통계량 = 0.423, pvalue = 0.677\n"
   ]
  },
  {
   "cell_type": "code",
   "execution_count": 10,
   "metadata": {},
   "outputs": [
    {
     "data": {
      "text/plain": [
       "Ttest_indResult(statistic=-1.8253194633881713, pvalue=0.07582039848129221)"
      ]
     },
     "execution_count": 10,
     "metadata": {},
     "output_type": "execute_result"
    }
   ],
   "source": [
    "import numpy          # 표본집단을 랜덤값으로 생성하기 위해서 사용\n",
    "from scipy import stats  # t검정 수행을 위한 패키지 (내장)\n",
    "\n",
    "#group1Heights = numpy.random.randint(low=157, high=178, size=20)\n",
    "group1Heights = numpy.array([162, 168, 169, 165, 166, 168, 162, 172, 157, 173, 158, 169, 164, 170, 163, 175, 177, 162, 175, 177])\n",
    "\n",
    "#group2Heights = numpy.random.randint(low=162, high=182, size=20)\n",
    "group2Heights = numpy.array([180, 181, 163, 164, 174, 169, 164, 172, 162, 171, 180, 168, 164, 169, 169, 178, 177, 167, 179, 172])\n",
    "\n",
    "tTestResult= stats.ttest_ind(group1Heights, group2Heights)\n",
    "tTestResult\n",
    "\n",
    "\n",
    "#p-value가 0.05보다 작은 경우 귀무가설을 기각하고 대립가설 채택\n",
    "#Ttest_indResult(statistic=-1.8253194633881713, pvalue=0.07582039848129221)\n"
   ]
  },
  {
   "cell_type": "code",
   "execution_count": 12,
   "metadata": {},
   "outputs": [
    {
     "data": {
      "text/plain": [
       "Ttest_relResult(statistic=3.278149526008354, pvalue=0.003955230626284828)"
      ]
     },
     "execution_count": 12,
     "metadata": {},
     "output_type": "execute_result"
    }
   ],
   "source": [
    "import numpy          # 표본집단을 랜덤값으로 생성하기 위해서 사용\n",
    "from scipy import stats  # t검정 수행을 위한 패키지 (내장)\n",
    "\n",
    "\n",
    "# 복용전 몸무게에 대한 랜덤 값 배치\n",
    "#beforeWeights = numpy.random.randint(low=60, high=90, size=20)\n",
    "beforeWeights = numpy.array([80, 82, 76, 82, 65, 73, 77, 78, 61, 81, 80, 70, 60, 83, 89, 84, 85, 81, 67, 60])\n",
    "\n",
    "\n",
    "# 복용 후 몸무게를 가정한 데이터 변조\n",
    "tmp_list = []\n",
    "for i in beforeWeights:\n",
    "    tmp_list.append(i * numpy.random.normal(0.99,0.02))\n",
    "    \n",
    "afterWeights = numpy.array(tmp_list)\n",
    "afterWeights\n",
    "\n",
    "\n",
    "tTestResult= stats.ttest_rel(beforeWeights, afterWeights)\n",
    "tTestResult\n",
    "\n",
    "#Ttest_relResult(statistic=3.278149526008354, pvalue=0.003955230626284828)\n",
    "\n"
   ]
  },
  {
   "cell_type": "code",
   "execution_count": 13,
   "metadata": {},
   "outputs": [
    {
     "data": {
      "image/png": "[encoded data removed]",
      "text/plain": [
       "<Figure size 576x432 with 1 Axes>"
      ]
     },
     "metadata": {
      "needs_background": "light"
     },
     "output_type": "display_data"
    },
    {
     "data": {
      "text/plain": [
       "Power_divergenceResult(statistic=454.81159986847393, pvalue=1.7334684263715945e-99)"
      ]
     },
     "execution_count": 13,
     "metadata": {},
     "output_type": "execute_result"
    }
   ],
   "source": [
    "#연구가설은 대립가설로 하고 진행\n",
    "from pandas import DataFrame\n",
    "\n",
    "xo, xe = [24, 378, 251], [271, 180, 202]\n",
    "xc = DataFrame([xo, xe], columns=['Item A', 'Item B', 'Item C'], index=['Obs', 'Exp'])\n",
    "xc\n",
    "\n",
    "#bar plot을 작성\n",
    "\n",
    "import matplotlib.pyplot as plt\n",
    "%matplotlib inline\n",
    "\n",
    "ax = xc.plot(kind='bar', title='Number of Items', figsize=(8, 6))\n",
    "ax.set_ylabel('value')\n",
    "plt.grid(color='darkgray')\n",
    "plt.show()\n",
    "\n",
    "#from scipy.stats의 chisquare()를 이용하여 카이제곱 검정을 실행\n",
    "\n",
    "from scipy.stats import chisquare\n",
    "\n",
    "result = chisquare(xo, f_exp=xe)\n",
    "result\n",
    "\n",
    "#p-value가 1.7334684263715945e-99로 유의수준 0.05보다 아주 작은 값이므로 귀무가설을 기각하고 대립가설을 지지\n",
    "\n",
    "#즉 연구가설이 지지\n"
   ]
  },
  {
   "cell_type": "code",
   "execution_count": null,
   "metadata": {},
   "outputs": [],
   "source": []
  }
 ],
 "metadata": {
  "kernelspec": {
   "display_name": "Python 3",
   "language": "python",
   "name": "python3"
  },
  "language_info": {
   "codemirror_mode": {
    "name": "ipython",
    "version": 3
   },
   "file_extension": ".py",
   "mimetype": "text/x-python",
   "name": "python",
   "nbconvert_exporter": "python",
   "pygments_lexer": "ipython3",
   "version": "3.7.4"
  }
 },
 "nbformat": 4,
 "nbformat_minor": 2
}
