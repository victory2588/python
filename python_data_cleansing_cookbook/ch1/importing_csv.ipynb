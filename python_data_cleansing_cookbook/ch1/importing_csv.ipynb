{
 "cells": [
  {
   "cell_type": "code",
   "execution_count": 2,
   "metadata": {},
   "outputs": [],
   "source": [
    "import pandas as pd\n",
    "pd.options.display.float_format='{:,.2f}'.format    # pandas 옵션들은 모두 pd.options 아래에 있다.\n",
    "pd.set_option('display.width',85)\n",
    "pd.set_option('display.max_columns',8)"
   ]
  },
  {
   "cell_type": "code",
   "execution_count": 3,
   "metadata": {},
   "outputs": [],
   "source": [
    "landtemps=pd.read_csv('C:/data-cleansing-main/Chapter01/data/landtempssample.csv',\n",
    "                      names=['stationid','year','month','avgtemp','latitude','longitude','elevation','station','countryid','country'],\n",
    "                      skiprows=1,                       # skiprows를 이용해 1행을 건너뛴다.\n",
    "                      parse_dates=[['month','year']],   # month와 year을 사용해서 판다스 날짜 열을 만들고, 날짜 데이터로 변환\n",
    "                      low_memory=False)                 # 메모리를 적게 사용하도록 하는 low_memory는 False로 설정한다."
   ]
  },
  {
   "cell_type": "code",
   "execution_count": 24,
   "metadata": {},
   "outputs": [
    {
     "name": "stdout",
     "output_type": "stream",
     "text": [
      "measuredate    datetime64[ns]\n",
      "stationid              object\n",
      "avgtemp               float64\n",
      "latitude              float64\n",
      "longitude             float64\n",
      "elevation             float64\n",
      "station                object\n",
      "countryid              object\n",
      "country                object\n",
      "dtype: object\n",
      "(100000, 9)\n",
      "        avgtemp   latitude  longitude  elevation\n",
      "count 85,554.00 100,000.00 100,000.00 100,000.00\n",
      "mean      10.92      35.08     -38.12     565.56\n",
      "std       11.52      23.55      84.30   1,073.65\n",
      "min      -70.70     -90.00    -179.98    -350.00\n",
      "25%        3.46      33.19    -101.66      64.00\n",
      "50%       12.22      40.79     -79.57     240.80\n",
      "75%       19.57      47.42      17.53     644.70\n",
      "max       39.95      82.52     179.75   9,999.00\n"
     ]
    }
   ],
   "source": [
    "print(landtemps.dtypes)     # 각 열의 데이터 타입\n",
    "print(landtemps.shape)      # 몇 행 몇 열인지\n",
    "print(landtemps.describe()) # 각 행 별로 요약 통계 보기"
   ]
  },
  {
   "cell_type": "code",
   "execution_count": 25,
   "metadata": {},
   "outputs": [
    {
     "data": {
      "text/plain": [
       "count   85,554.00\n",
       "mean        10.92\n",
       "std         11.52\n",
       "min        -70.70\n",
       "25%          3.46\n",
       "50%         12.22\n",
       "75%         19.57\n",
       "max         39.95\n",
       "Name: avgtemp, dtype: float64"
      ]
     },
     "execution_count": 25,
     "metadata": {},
     "output_type": "execute_result"
    }
   ],
   "source": [
    "landtemps.rename(columns={'month_year':'measuredate'},inplace=True)     # month_year 열의 이름을 measuredate로 바꿈\n",
    "pd.set_option('display.max_columns',10)                                 # 열 전부 보이게 하기\n",
    "\n",
    "landtemps['avgtemp'].describe()                                         # avgtemp열의 요약 통계 보기"
   ]
  },
  {
   "cell_type": "code",
   "execution_count": 26,
   "metadata": {},
   "outputs": [
    {
     "data": {
      "text/plain": [
       "measuredate        0\n",
       "stationid          0\n",
       "avgtemp        14446\n",
       "latitude           0\n",
       "longitude          0\n",
       "elevation          0\n",
       "station            0\n",
       "countryid          0\n",
       "country            5\n",
       "dtype: int64"
      ]
     },
     "execution_count": 26,
     "metadata": {},
     "output_type": "execute_result"
    }
   ],
   "source": [
    "landtemps.isna().sum()      # 각 열에 결측값이 있는지 확인, 메소드 두 개를 체이닝 한 것->불필요한 객체가 만들어지지 않음"
   ]
  },
  {
   "cell_type": "code",
   "execution_count": 27,
   "metadata": {},
   "outputs": [
    {
     "data": {
      "text/plain": [
       "(85554, 9)"
      ]
     },
     "execution_count": 27,
     "metadata": {},
     "output_type": "execute_result"
    }
   ],
   "source": [
    "landtemps.dropna(subset=['avgtemp'],        # avgtemp가 누락된 행을 드롭한다, subset에 dropna메서드를 수행할 레이블을 지정\n",
    "                 inplace=True)              # inplace의 기본값은 False인데, False일 경우 변경사항 유지가 안 됨\n",
    "landtemps.shape                             # avgtemp가 누락된 행을 드롭하고 남은 행만 출력"
   ]
  }
 ],
 "metadata": {
  "kernelspec": {
   "display_name": "Python 3",
   "language": "python",
   "name": "python3"
  },
  "language_info": {
   "codemirror_mode": {
    "name": "ipython",
    "version": 3
   },
   "file_extension": ".py",
   "mimetype": "text/x-python",
   "name": "python",
   "nbconvert_exporter": "python",
   "pygments_lexer": "ipython3",
   "version": "3.10.9"
  },
  "orig_nbformat": 4,
  "vscode": {
   "interpreter": {
    "hash": "253cd15c32ffb283b0558be93b097dc27093fe6b891853f454fa08d2f15e4a97"
   }
  }
 },
 "nbformat": 4,
 "nbformat_minor": 2
}
