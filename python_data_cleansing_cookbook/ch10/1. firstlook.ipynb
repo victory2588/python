{
 "cells": [
  {
   "attachments": {},
   "cell_type": "markdown",
   "metadata": {},
   "source": [
    "# 10장 - 사용자 정의 함수와 클래스로 데이터 정제 자동화\n",
    "- 일상적인 데이터 정제 작업을 수행하는 모듈 작성"
   ]
  },
  {
   "attachments": {},
   "cell_type": "markdown",
   "metadata": {},
   "source": [
    "## 데이터를 처음 살펴보는 함수 - 모든 데이터에 공통\n",
    "1. 행, 열의 개수 확인\n",
    "2. 열의 자료형 확인\n",
    "3. 처음 몇 행 확인\n",
    "4. 인덱스 및 고유 식별자 확인"
   ]
  },
  {
   "cell_type": "code",
   "execution_count": 1,
   "metadata": {},
   "outputs": [],
   "source": [
    "import pandas as pd\n",
    "import os\n",
    "import sys\n",
    "\n",
    "nls97=pd.read_csv('C:/data-cleansing-main/Chapter10/data/nls97f.csv')"
   ]
  },
  {
   "cell_type": "code",
   "execution_count": 6,
   "metadata": {},
   "outputs": [
    {
     "data": {
      "text/plain": [
       "<module 'basicdescriptives' from 'C:\\\\python\\\\python-1\\\\python_data_cleansing_cookbook\\\\helperfunctions\\\\basicdescriptives.py'>"
      ]
     },
     "execution_count": 6,
     "metadata": {},
     "output_type": "execute_result"
    }
   ],
   "source": [
    "os.chdir('C:\\python\\python-1\\python_data_cleansing_cookbook\\helperfunctions')\n",
    "import basicdescriptives as bd      # 왜 밑줄 쳐지지?\n",
    "import importlib\n",
    "importlib.reload(bd)"
   ]
  },
  {
   "cell_type": "code",
   "execution_count": 7,
   "metadata": {},
   "outputs": [
    {
     "name": "stdout",
     "output_type": "stream",
     "text": [
      "head:    personid  gender  birthmonth  birthyear  highestgradecompleted  \\\n",
      "0    100061  Female           5       1980                   13.0   \n",
      "1    100139    Male           9       1983                   12.0   \n",
      "2    100284    Male          11       1984                    7.0   \n",
      "3    100292    Male           4       1982                    NaN   \n",
      "4    100583    Male           1       1980                   13.0   \n",
      "\n",
      "   maritalstatus  childathome  childnotathome  wageincome  \\\n",
      "0        Married          4.0             0.0     12500.0   \n",
      "1        Married          2.0             0.0    120000.0   \n",
      "2  Never-married          1.0             0.0     58000.0   \n",
      "3            NaN          NaN             NaN         NaN   \n",
      "4        Married          4.0             0.0     30000.0   \n",
      "\n",
      "         weeklyhrscomputer  ...      colenroct13      colenrfeb14  \\\n",
      "0  10 hours or more a week  ...  1. Not enrolled  1. Not enrolled   \n",
      "1      1 to 3 hours a week  ...  1. Not enrolled  1. Not enrolled   \n",
      "2                     None  ...  1. Not enrolled  1. Not enrolled   \n",
      "3                      NaN  ...  1. Not enrolled  1. Not enrolled   \n",
      "4  Less than 1 hour a week  ...  1. Not enrolled  1. Not enrolled   \n",
      "\n",
      "       colenroct14      colenrfeb15      colenroct15      colenrfeb16  \\\n",
      "0  1. Not enrolled  1. Not enrolled  1. Not enrolled  1. Not enrolled   \n",
      "1  1. Not enrolled  1. Not enrolled  1. Not enrolled  1. Not enrolled   \n",
      "2  1. Not enrolled  1. Not enrolled  1. Not enrolled  1. Not enrolled   \n",
      "3  1. Not enrolled  1. Not enrolled  1. Not enrolled              NaN   \n",
      "4  1. Not enrolled  1. Not enrolled  1. Not enrolled  1. Not enrolled   \n",
      "\n",
      "       colenroct16      colenrfeb17      colenroct17 originalid  \n",
      "0  1. Not enrolled  1. Not enrolled  1. Not enrolled       8245  \n",
      "1  1. Not enrolled  1. Not enrolled  1. Not enrolled       3962  \n",
      "2  1. Not enrolled  1. Not enrolled  1. Not enrolled       3571  \n",
      "3              NaN              NaN              NaN       2979  \n",
      "4  1. Not enrolled  1. Not enrolled  1. Not enrolled       8511  \n",
      "\n",
      "[5 rows x 90 columns]\n",
      "\n",
      "dtypes: personid                   int64\n",
      "gender                    object\n",
      "birthmonth                 int64\n",
      "birthyear                  int64\n",
      "highestgradecompleted    float64\n",
      "                          ...   \n",
      "colenrfeb16               object\n",
      "colenroct16               object\n",
      "colenrfeb17               object\n",
      "colenroct17               object\n",
      "originalid                 int64\n",
      "Length: 90, dtype: object\n",
      "\n",
      "nrows: 8984\n",
      "\n",
      "ncols: 90\n",
      "\n",
      "index: RangeIndex(start=0, stop=8984, step=1)\n"
     ]
    }
   ],
   "source": [
    "dfinfo=bd.getfirstlook(nls97)\n",
    "bd.displaydict(dfinfo)"
   ]
  },
  {
   "cell_type": "code",
   "execution_count": 8,
   "metadata": {},
   "outputs": [
    {
     "name": "stdout",
     "output_type": "stream",
     "text": [
      "head:    personid  gender  birthmonth  birthyear  highestgradecompleted  \\\n",
      "0    100061  Female           5       1980                   13.0   \n",
      "1    100139    Male           9       1983                   12.0   \n",
      "\n",
      "  maritalstatus  childathome  childnotathome  wageincome  \\\n",
      "0       Married          4.0             0.0     12500.0   \n",
      "1       Married          2.0             0.0    120000.0   \n",
      "\n",
      "         weeklyhrscomputer  ...      colenroct13      colenrfeb14  \\\n",
      "0  10 hours or more a week  ...  1. Not enrolled  1. Not enrolled   \n",
      "1      1 to 3 hours a week  ...  1. Not enrolled  1. Not enrolled   \n",
      "\n",
      "       colenroct14      colenrfeb15      colenroct15      colenrfeb16  \\\n",
      "0  1. Not enrolled  1. Not enrolled  1. Not enrolled  1. Not enrolled   \n",
      "1  1. Not enrolled  1. Not enrolled  1. Not enrolled  1. Not enrolled   \n",
      "\n",
      "       colenroct16      colenrfeb17      colenroct17 originalid  \n",
      "0  1. Not enrolled  1. Not enrolled  1. Not enrolled       8245  \n",
      "1  1. Not enrolled  1. Not enrolled  1. Not enrolled       3962  \n",
      "\n",
      "[2 rows x 90 columns]\n",
      "\n",
      "dtypes: personid                   int64\n",
      "gender                    object\n",
      "birthmonth                 int64\n",
      "birthyear                  int64\n",
      "highestgradecompleted    float64\n",
      "                          ...   \n",
      "colenrfeb16               object\n",
      "colenroct16               object\n",
      "colenrfeb17               object\n",
      "colenroct17               object\n",
      "originalid                 int64\n",
      "Length: 90, dtype: object\n",
      "\n",
      "nrows: 8984\n",
      "\n",
      "ncols: 90\n",
      "\n",
      "index: RangeIndex(start=0, stop=8984, step=1)\n",
      "\n",
      "uniqueids: 8984\n"
     ]
    }
   ],
   "source": [
    "dfinfo=bd.getfirstlook(nls97,2,'originalid')\n",
    "bd.displaydict(dfinfo)"
   ]
  },
  {
   "cell_type": "code",
   "execution_count": 9,
   "metadata": {},
   "outputs": [
    {
     "data": {
      "text/plain": [
       "8984"
      ]
     },
     "execution_count": 9,
     "metadata": {},
     "output_type": "execute_result"
    }
   ],
   "source": [
    "dfinfo['nrows']"
   ]
  },
  {
   "cell_type": "code",
   "execution_count": 10,
   "metadata": {},
   "outputs": [
    {
     "data": {
      "text/plain": [
       "personid                   int64\n",
       "gender                    object\n",
       "birthmonth                 int64\n",
       "birthyear                  int64\n",
       "highestgradecompleted    float64\n",
       "                          ...   \n",
       "colenrfeb16               object\n",
       "colenroct16               object\n",
       "colenrfeb17               object\n",
       "colenroct17               object\n",
       "originalid                 int64\n",
       "Length: 90, dtype: object"
      ]
     },
     "execution_count": 10,
     "metadata": {},
     "output_type": "execute_result"
    }
   ],
   "source": [
    "dfinfo['dtypes']"
   ]
  },
  {
   "cell_type": "code",
   "execution_count": 11,
   "metadata": {},
   "outputs": [
    {
     "data": {
      "text/plain": [
       "True"
      ]
     },
     "execution_count": 11,
     "metadata": {},
     "output_type": "execute_result"
    }
   ],
   "source": [
    "dfinfo['nrows']==dfinfo['uniqueids']"
   ]
  },
  {
   "attachments": {},
   "cell_type": "markdown",
   "metadata": {},
   "source": [
    "### getfirstlook 함수 살펴보기"
   ]
  },
  {
   "cell_type": "code",
   "execution_count": null,
   "metadata": {},
   "outputs": [],
   "source": [
    "def getfirstlook(df,nrows=5,uniqueids=None):                # 인자로 전달된 데이터프레임에 관한 유용한 정보를 담은 딕셔너리 반환\n",
    "    out={}\n",
    "    out['head']=df.head(nrows)\n",
    "    out['dtypes']=df.dtypes\n",
    "    out['nrows']=df.shape[0]\n",
    "    out['ncols']=df.shape[1]\n",
    "    out['index']=df.index\n",
    "\n",
    "    if (uniqueids is not None):\n",
    "        out['uniqueids']=df[uniqueids].nunique()            # uniqueids 매개변수를 값으로 전달하면, 해당 열에 유일값이 몇 개 있는지 알 수 있다.\n",
    "    return out\n",
    "\n",
    "\n",
    "def displaydict(dicttodisplay):                             # 딕셔너리로 반환된 값을 예쁘게 보여주는 함수\n",
    "    print(*(': '.join(map(str,x))\n",
    "            for x in dicttodisplay.items()), sep='\\n\\n')"
   ]
  }
 ],
 "metadata": {
  "kernelspec": {
   "display_name": "Python 3",
   "language": "python",
   "name": "python3"
  },
  "language_info": {
   "codemirror_mode": {
    "name": "ipython",
    "version": 3
   },
   "file_extension": ".py",
   "mimetype": "text/x-python",
   "name": "python",
   "nbconvert_exporter": "python",
   "pygments_lexer": "ipython3",
   "version": "3.10.9"
  },
  "orig_nbformat": 4
 },
 "nbformat": 4,
 "nbformat_minor": 2
}
