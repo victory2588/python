{
 "cells": [
  {
   "attachments": {},
   "cell_type": "markdown",
   "metadata": {},
   "source": [
    "## 누락값 찾기\n",
    "- 변수별로 누락값이 얼마나 있는지\n",
    "- 누락된 이유가 무엇인지\n",
    "- 누락된 변수를 어떻게 대체할 수 있는지\n",
    "- 열 방향으로 한 번, 행 방향으로 한 번!"
   ]
  },
  {
   "cell_type": "code",
   "execution_count": 35,
   "metadata": {},
   "outputs": [],
   "source": [
    "import pandas as pd\n",
    "import numpy as np\n",
    "import matplotlib.pyplot as plt\n",
    "pd.set_option('display.max_columns',None)\n",
    "\n",
    "covidtotals=pd.read_csv('C:/data-cleansing-main/Chapter04/data/covidtotalswithmissings.csv')       # lastdate 컬럼을 날짜 형식으로 변환, 불러올 때만 할 수 있나?\n",
    "totvars = ['location','total_cases','total_deaths','total_cases_pm','total_deaths_pm']                          # 사례 열의 리스트\n",
    "demovars = ['population','pop_density','median_age','gdp_per_capita','hosp_beds']                               # 인구통계 열의 리스트\n",
    "covidtotals.set_index('iso_code',inplace=True)\n"
   ]
  },
  {
   "cell_type": "code",
   "execution_count": 36,
   "metadata": {},
   "outputs": [
    {
     "data": {
      "text/plain": [
       "population         0\n",
       "pop_density       12\n",
       "median_age        24\n",
       "gdp_per_capita    28\n",
       "hosp_beds         46\n",
       "dtype: int64"
      ]
     },
     "execution_count": 36,
     "metadata": {},
     "output_type": "execute_result"
    }
   ],
   "source": [
    "covidtotals[demovars].isnull().sum()        # axis=0 으로 설정해, 열 방향으로 누락값 개수 확인, isnull 과 isna는 같은건가?\n"
   ]
  },
  {
   "cell_type": "code",
   "execution_count": 37,
   "metadata": {},
   "outputs": [
    {
     "data": {
      "text/plain": [
       "0    156\n",
       "1     24\n",
       "2     12\n",
       "3     10\n",
       "4      8\n",
       "dtype: int64"
      ]
     },
     "execution_count": 37,
     "metadata": {},
     "output_type": "execute_result"
    }
   ],
   "source": [
    "demovarsmisscnt=covidtotals[demovars].isnull().sum(axis=1)      # axis=1 로 설정해, 행 방향으로 누락값 개수 확인. 행 방향이므로 각 행마다 누락된 열이 몇 개인지 알 수 있음\n",
    "demovarsmisscnt.value_counts()          # 누락된 열 개수가 같은 행끼리 카운트"
   ]
  },
  {
   "cell_type": "code",
   "execution_count": 38,
   "metadata": {},
   "outputs": [
    {
     "data": {
      "text/html": [
       "<div>\n",
       "<style scoped>\n",
       "    .dataframe tbody tr th:only-of-type {\n",
       "        vertical-align: middle;\n",
       "    }\n",
       "\n",
       "    .dataframe tbody tr th {\n",
       "        vertical-align: top;\n",
       "    }\n",
       "\n",
       "    .dataframe thead th {\n",
       "        text-align: right;\n",
       "    }\n",
       "</style>\n",
       "<table border=\"1\" class=\"dataframe\">\n",
       "  <thead>\n",
       "    <tr style=\"text-align: right;\">\n",
       "      <th>iso_code</th>\n",
       "      <th>AND</th>\n",
       "      <th>AIA</th>\n",
       "      <th>BES</th>\n",
       "      <th>VGB</th>\n",
       "      <th>FRO</th>\n",
       "    </tr>\n",
       "  </thead>\n",
       "  <tbody>\n",
       "    <tr>\n",
       "      <th>location</th>\n",
       "      <td>Andorra</td>\n",
       "      <td>Anguilla</td>\n",
       "      <td>Bonaire Sint Eustatius and Saba</td>\n",
       "      <td>British Virgin Islands</td>\n",
       "      <td>Faeroe Islands</td>\n",
       "    </tr>\n",
       "    <tr>\n",
       "      <th>population</th>\n",
       "      <td>77265.0</td>\n",
       "      <td>15002.0</td>\n",
       "      <td>26221.0</td>\n",
       "      <td>30237.0</td>\n",
       "      <td>48865.0</td>\n",
       "    </tr>\n",
       "    <tr>\n",
       "      <th>pop_density</th>\n",
       "      <td>163.755</td>\n",
       "      <td>NaN</td>\n",
       "      <td>NaN</td>\n",
       "      <td>207.973</td>\n",
       "      <td>35.308</td>\n",
       "    </tr>\n",
       "    <tr>\n",
       "      <th>median_age</th>\n",
       "      <td>NaN</td>\n",
       "      <td>NaN</td>\n",
       "      <td>NaN</td>\n",
       "      <td>NaN</td>\n",
       "      <td>NaN</td>\n",
       "    </tr>\n",
       "    <tr>\n",
       "      <th>gdp_per_capita</th>\n",
       "      <td>NaN</td>\n",
       "      <td>NaN</td>\n",
       "      <td>NaN</td>\n",
       "      <td>NaN</td>\n",
       "      <td>NaN</td>\n",
       "    </tr>\n",
       "    <tr>\n",
       "      <th>hosp_beds</th>\n",
       "      <td>NaN</td>\n",
       "      <td>NaN</td>\n",
       "      <td>NaN</td>\n",
       "      <td>NaN</td>\n",
       "      <td>NaN</td>\n",
       "    </tr>\n",
       "  </tbody>\n",
       "</table>\n",
       "</div>"
      ],
      "text/plain": [
       "iso_code            AND       AIA                              BES  \\\n",
       "location        Andorra  Anguilla  Bonaire Sint Eustatius and Saba   \n",
       "population      77265.0   15002.0                          26221.0   \n",
       "pop_density     163.755       NaN                              NaN   \n",
       "median_age          NaN       NaN                              NaN   \n",
       "gdp_per_capita      NaN       NaN                              NaN   \n",
       "hosp_beds           NaN       NaN                              NaN   \n",
       "\n",
       "iso_code                           VGB             FRO  \n",
       "location        British Virgin Islands  Faeroe Islands  \n",
       "population                     30237.0         48865.0  \n",
       "pop_density                    207.973          35.308  \n",
       "median_age                         NaN             NaN  \n",
       "gdp_per_capita                     NaN             NaN  \n",
       "hosp_beds                          NaN             NaN  "
      ]
     },
     "execution_count": 38,
     "metadata": {},
     "output_type": "execute_result"
    }
   ],
   "source": [
    "# 인구통계 데이터가 3가지 이상 누락된 국가 나열\n",
    "covidtotals.loc[demovarsmisscnt>=3,['location']+demovars].head(5).T"
   ]
  },
  {
   "cell_type": "code",
   "execution_count": 39,
   "metadata": {},
   "outputs": [
    {
     "data": {
      "text/plain": [
       "location           0\n",
       "total_cases        0\n",
       "total_deaths       0\n",
       "total_cases_pm     1\n",
       "total_deaths_pm    1\n",
       "dtype: int64"
      ]
     },
     "execution_count": 39,
     "metadata": {},
     "output_type": "execute_result"
    }
   ],
   "source": [
    "# 코로나19 사례 데이터에서 누락값 찾기\n",
    "covidtotals[totvars].isnull().sum()"
   ]
  },
  {
   "cell_type": "code",
   "execution_count": 40,
   "metadata": {},
   "outputs": [
    {
     "data": {
      "text/html": [
       "<div>\n",
       "<style scoped>\n",
       "    .dataframe tbody tr th:only-of-type {\n",
       "        vertical-align: middle;\n",
       "    }\n",
       "\n",
       "    .dataframe tbody tr th {\n",
       "        vertical-align: top;\n",
       "    }\n",
       "\n",
       "    .dataframe thead th {\n",
       "        text-align: right;\n",
       "    }\n",
       "</style>\n",
       "<table border=\"1\" class=\"dataframe\">\n",
       "  <thead>\n",
       "    <tr style=\"text-align: right;\">\n",
       "      <th>iso_code</th>\n",
       "      <th>HKG</th>\n",
       "    </tr>\n",
       "  </thead>\n",
       "  <tbody>\n",
       "    <tr>\n",
       "      <th>lastdate</th>\n",
       "      <td>2020-05-26</td>\n",
       "    </tr>\n",
       "    <tr>\n",
       "      <th>location</th>\n",
       "      <td>Hong Kong</td>\n",
       "    </tr>\n",
       "    <tr>\n",
       "      <th>total_cases</th>\n",
       "      <td>0</td>\n",
       "    </tr>\n",
       "    <tr>\n",
       "      <th>total_deaths</th>\n",
       "      <td>0</td>\n",
       "    </tr>\n",
       "    <tr>\n",
       "      <th>total_cases_pm</th>\n",
       "      <td>NaN</td>\n",
       "    </tr>\n",
       "    <tr>\n",
       "      <th>total_deaths_pm</th>\n",
       "      <td>NaN</td>\n",
       "    </tr>\n",
       "    <tr>\n",
       "      <th>population</th>\n",
       "      <td>7496988.0</td>\n",
       "    </tr>\n",
       "    <tr>\n",
       "      <th>pop_density</th>\n",
       "      <td>7039.714</td>\n",
       "    </tr>\n",
       "    <tr>\n",
       "      <th>median_age</th>\n",
       "      <td>44.8</td>\n",
       "    </tr>\n",
       "    <tr>\n",
       "      <th>gdp_per_capita</th>\n",
       "      <td>56054.92</td>\n",
       "    </tr>\n",
       "    <tr>\n",
       "      <th>hosp_beds</th>\n",
       "      <td>NaN</td>\n",
       "    </tr>\n",
       "  </tbody>\n",
       "</table>\n",
       "</div>"
      ],
      "text/plain": [
       "iso_code                HKG\n",
       "lastdate         2020-05-26\n",
       "location          Hong Kong\n",
       "total_cases               0\n",
       "total_deaths              0\n",
       "total_cases_pm          NaN\n",
       "total_deaths_pm         NaN\n",
       "population        7496988.0\n",
       "pop_density        7039.714\n",
       "median_age             44.8\n",
       "gdp_per_capita     56054.92\n",
       "hosp_beds               NaN"
      ]
     },
     "execution_count": 40,
     "metadata": {},
     "output_type": "execute_result"
    }
   ],
   "source": [
    "totvarmisscnt=covidtotals[totvars].isnull().sum(axis=1)\n",
    "totvarmisscnt.value_counts()\n",
    "\n",
    "covidtotals.loc[totvarmisscnt>0].T"
   ]
  },
  {
   "cell_type": "code",
   "execution_count": 45,
   "metadata": {},
   "outputs": [
    {
     "data": {
      "text/plain": [
       "location           0\n",
       "total_cases        0\n",
       "total_deaths       0\n",
       "total_cases_pm     0\n",
       "total_deaths_pm    0\n",
       "dtype: int64"
      ]
     },
     "execution_count": 45,
     "metadata": {},
     "output_type": "execute_result"
    }
   ],
   "source": [
    "# fillna로 홍콩의 누락된 사례 데이터 채우기\n",
    "covidtotals.total_cases_pm.fillna(covidtotals.total_cases/(covidtotals.population/1000000),inplace=True)            # 올바른 논리를 작성해서 결측값을 채우는 것이 중요\n",
    "covidtotals.total_deaths_pm.fillna(covidtotals.total_deaths/(covidtotals.population/1000000),inplace=True)\n",
    "\n",
    "covidtotals[totvars].isnull().sum()"
   ]
  }
 ],
 "metadata": {
  "kernelspec": {
   "display_name": "Python 3",
   "language": "python",
   "name": "python3"
  },
  "language_info": {
   "codemirror_mode": {
    "name": "ipython",
    "version": 3
   },
   "file_extension": ".py",
   "mimetype": "text/x-python",
   "name": "python",
   "nbconvert_exporter": "python",
   "pygments_lexer": "ipython3",
   "version": "3.10.9"
  },
  "orig_nbformat": 4
 },
 "nbformat": 4,
 "nbformat_minor": 2
}
