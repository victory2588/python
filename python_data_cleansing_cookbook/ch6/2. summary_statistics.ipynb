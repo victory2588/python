{
 "cells": [
  {
   "attachments": {},
   "cell_type": "markdown",
   "metadata": {},
   "source": [
    "## 판다스 시리즈에 대한 요약통계\n",
    "- mean, median, max, min, quantile, describe 등\n",
    "- 시리즈의 모든 값에 대해 사용 가능, 선택한 값에 대해서만도 사용 가능"
   ]
  },
  {
   "cell_type": "code",
   "execution_count": 1,
   "metadata": {},
   "outputs": [],
   "source": [
    "import pandas as pd\n",
    "import numpy as np\n",
    "\n",
    "nls97=pd.read_csv('C:/data-cleansing-main/Chapter06/data/nls97b.csv')\n",
    "nls97.set_index('personid',inplace=True)"
   ]
  },
  {
   "cell_type": "code",
   "execution_count": 3,
   "metadata": {},
   "outputs": [
    {
     "data": {
      "text/plain": [
       "count    6004.000000\n",
       "mean        2.818408\n",
       "std         0.616357\n",
       "min         0.100000\n",
       "25%         2.430000\n",
       "50%         2.860000\n",
       "75%         3.260000\n",
       "max         4.170000\n",
       "Name: gpaoverall, dtype: float64"
      ]
     },
     "execution_count": 3,
     "metadata": {},
     "output_type": "execute_result"
    }
   ],
   "source": [
    "gpaoverall=nls97.gpaoverall\n",
    "\n",
    "gpaoverall.mean()\n",
    "gpaoverall.describe()"
   ]
  },
  {
   "cell_type": "code",
   "execution_count": 5,
   "metadata": {},
   "outputs": [
    {
     "data": {
      "text/plain": [
       "0.1    2.02\n",
       "0.2    2.31\n",
       "0.3    2.52\n",
       "0.4    2.70\n",
       "0.5    2.86\n",
       "0.6    3.01\n",
       "0.7    3.17\n",
       "0.8    3.36\n",
       "0.9    3.60\n",
       "1.0    4.17\n",
       "Name: gpaoverall, dtype: float64"
      ]
     },
     "execution_count": 5,
     "metadata": {},
     "output_type": "execute_result"
    }
   ],
   "source": [
    "gpaoverall.quantile(np.arange(0.1,1.1,0.1))         # np.arange로 리스트를 만든 후 넣기"
   ]
  },
  {
   "cell_type": "code",
   "execution_count": 9,
   "metadata": {},
   "outputs": [
    {
     "data": {
      "text/plain": [
       "personid\n",
       "100061    3.06\n",
       "100292    3.45\n",
       "101526    3.37\n",
       "101527    3.26\n",
       "102125    3.14\n",
       "          ... \n",
       "997812    3.43\n",
       "998472    3.03\n",
       "998556    3.07\n",
       "999031    3.14\n",
       "999291    3.11\n",
       "Name: gpaoverall, Length: 1679, dtype: float64"
      ]
     },
     "execution_count": 9,
     "metadata": {},
     "output_type": "execute_result"
    }
   ],
   "source": [
    "# 시리즈의 부분 집합에 대한 기술\n",
    "gpaoverall.loc[gpaoverall.between(3,3.5)]           # gpaoverall이 3~3.5인 행만 뽑기\n",
    "gpaoverall.loc[gpaoverall.between(3,3.5)].count()"
   ]
  },
  {
   "cell_type": "code",
   "execution_count": 15,
   "metadata": {},
   "outputs": [
    {
     "data": {
      "text/plain": [
       "personid\n",
       "768938    1.60\n",
       "183050    1.97\n",
       "563047    1.45\n",
       "417745    1.71\n",
       "761055    1.90\n",
       "Name: gpaoverall, dtype: float64"
      ]
     },
     "execution_count": 15,
     "metadata": {},
     "output_type": "execute_result"
    }
   ],
   "source": [
    "gpaoverall.loc[(gpaoverall<2) | (gpaoverall>4)].sample(5,random_state=1)            # sample로 샘플 뽑기"
   ]
  },
  {
   "cell_type": "code",
   "execution_count": 22,
   "metadata": {},
   "outputs": [
    {
     "data": {
      "text/plain": [
       "count     60.00\n",
       "min        3.98\n",
       "max        4.17\n",
       "median     4.00\n",
       "Name: gpaoverall, dtype: float64"
      ]
     },
     "execution_count": 22,
     "metadata": {},
     "output_type": "execute_result"
    }
   ],
   "source": [
    "gpaoverall.loc[gpaoverall>gpaoverall.quantile(0.99)].agg(['count','min','max','median'])                        # 상위 1프로에 드는 점수의 agg\n"
   ]
  },
  {
   "cell_type": "code",
   "execution_count": 26,
   "metadata": {},
   "outputs": [
    {
     "data": {
      "text/plain": [
       "2980"
      ]
     },
     "execution_count": 26,
     "metadata": {},
     "output_type": "execute_result"
    }
   ],
   "source": [
    "# 전체 값에 걸쳐 조건 테스트\n",
    "(gpaoverall>4).any()            # gpa가 4를 넘는 사람이 있는가? 하나만 있어도 TRUE\n",
    "(gpaoverall>=0).all()           # 모든 사람의 gpa가 0 이상인가?\n",
    "(gpaoverall>=0).sum()           # gpa가 0 이상인 사람 수의 합\n",
    "gpaoverall.isna().sum()         # gpa 값이 없는 사람 수"
   ]
  },
  {
   "attachments": {},
   "cell_type": "markdown",
   "metadata": {},
   "source": [
    "### 시리즈에서 서로 다른 열의 값을 기준으로 부분 집합의 기술통계 내기"
   ]
  },
  {
   "cell_type": "code",
   "execution_count": 33,
   "metadata": {},
   "outputs": [
    {
     "data": {
      "text/plain": [
       "2.7201434159061284"
      ]
     },
     "execution_count": 33,
     "metadata": {},
     "output_type": "execute_result"
    }
   ],
   "source": [
    "nls97.loc[nls97.wageincome > nls97.wageincome.quantile(0.75),'gpaoverall'].mean()       # 임금소득이 75백분위수를 넘는 개인의 gpa평균\n",
    "# nls97.loc[nls97.wageincome.quantile(0.75),'gpaoverall'].mean() 왜 이건 안 되지..?\n",
    "nls97.loc[nls97.wageincome < nls97.wageincome.quantile(0.25),'gpaoverall'].mean()       # 임금소득이 25백분위수 미만인 개인의 gpa평균"
   ]
  },
  {
   "attachments": {},
   "cell_type": "markdown",
   "metadata": {},
   "source": [
    "### 범주 데이터를 포함하는 시리즈에 대한 기술과 빈도 표시"
   ]
  },
  {
   "cell_type": "code",
   "execution_count": 34,
   "metadata": {},
   "outputs": [
    {
     "data": {
      "text/plain": [
       "count        6672\n",
       "unique          5\n",
       "top       Married\n",
       "freq         3066\n",
       "Name: maritalstatus, dtype: object"
      ]
     },
     "execution_count": 34,
     "metadata": {},
     "output_type": "execute_result"
    }
   ],
   "source": [
    "nls97.maritalstatus.describe()      # 범주형 데이터에 대해서도 describe를 쓸 수 있는데, value_count를 더 많이 쓴다."
   ]
  },
  {
   "cell_type": "code",
   "execution_count": 35,
   "metadata": {},
   "outputs": [
    {
     "data": {
      "text/plain": [
       "Married          3066\n",
       "Never-married    2766\n",
       "Divorced          663\n",
       "Separated         154\n",
       "Widowed            23\n",
       "Name: maritalstatus, dtype: int64"
      ]
     },
     "execution_count": 35,
     "metadata": {},
     "output_type": "execute_result"
    }
   ],
   "source": [
    "nls97.maritalstatus.value_counts()"
   ]
  }
 ],
 "metadata": {
  "kernelspec": {
   "display_name": "Python 3",
   "language": "python",
   "name": "python3"
  },
  "language_info": {
   "codemirror_mode": {
    "name": "ipython",
    "version": 3
   },
   "file_extension": ".py",
   "mimetype": "text/x-python",
   "name": "python",
   "nbconvert_exporter": "python",
   "pygments_lexer": "ipython3",
   "version": "3.10.9"
  },
  "orig_nbformat": 4
 },
 "nbformat": 4,
 "nbformat_minor": 2
}
