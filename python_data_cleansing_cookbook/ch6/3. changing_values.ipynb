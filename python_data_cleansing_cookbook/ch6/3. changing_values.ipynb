{
 "cells": [
  {
   "attachments": {},
   "cell_type": "markdown",
   "metadata": {},
   "source": [
    "## 시리즈 값 변경\n",
    "- 시리즈의 값을 얻거나, 값을 갱신할 수 있다.\n",
    "- 값 갱신은 값을 얻는 법과 크게 다르지 않다."
   ]
  },
  {
   "attachments": {},
   "cell_type": "markdown",
   "metadata": {},
   "source": [
    "> loc,iloc 접근자를 데이터프레임에 사용. 시리즈에 사용하면 경고 뜸"
   ]
  },
  {
   "cell_type": "code",
   "execution_count": 3,
   "metadata": {},
   "outputs": [],
   "source": [
    "import pandas as pd\n",
    "\n",
    "nls97=pd.read_csv('C:/data-cleansing-main/Chapter06/data/nls97b.csv')\n",
    "nls97.set_index('personid',inplace=True)"
   ]
  },
  {
   "cell_type": "code",
   "execution_count": 5,
   "metadata": {},
   "outputs": [
    {
     "data": {
      "text/plain": [
       "personid\n",
       "100061    306.0\n",
       "100139      NaN\n",
       "100284      NaN\n",
       "100292    345.0\n",
       "100583    291.0\n",
       "          ...  \n",
       "999291    311.0\n",
       "999406    217.0\n",
       "999543      NaN\n",
       "999698      NaN\n",
       "999963    378.0\n",
       "Name: gpaoverall, Length: 8984, dtype: float64"
      ]
     },
     "execution_count": 5,
     "metadata": {},
     "output_type": "execute_result"
    }
   ],
   "source": [
    "gpaoverall100=nls97.gpaoverall*100\n",
    "gpaoverall100"
   ]
  },
  {
   "attachments": {},
   "cell_type": "markdown",
   "metadata": {},
   "source": [
    "### loc 접근자를 사용한 값 변경"
   ]
  },
  {
   "cell_type": "code",
   "execution_count": 6,
   "metadata": {},
   "outputs": [
    {
     "data": {
      "text/plain": [
       "personid\n",
       "100061    3.00\n",
       "100139    0.00\n",
       "100284    0.00\n",
       "100292    0.00\n",
       "100583    2.91\n",
       "Name: gpaoverall, dtype: float64"
      ]
     },
     "execution_count": 6,
     "metadata": {},
     "output_type": "execute_result"
    }
   ],
   "source": [
    "nls97.loc[[100061],'gpaoverall']=3\n",
    "nls97.loc[[100139,100284,100292],'gpaoverall']=0\n",
    "nls97.gpaoverall.head()"
   ]
  },
  {
   "cell_type": "code",
   "execution_count": 10,
   "metadata": {},
   "outputs": [
    {
     "data": {
      "text/plain": [
       "personid\n",
       "100061    2.816885\n",
       "100139    2.816885\n",
       "100284    2.816885\n",
       "100292    2.816885\n",
       "100583    2.910000\n",
       "Name: gpaoverall, dtype: float64"
      ]
     },
     "execution_count": 10,
     "metadata": {},
     "output_type": "execute_result"
    }
   ],
   "source": [
    "# loc 접근자를 사용해 요약통계 값 설정\n",
    "nls97.loc[100061:100292,'gpaoverall']=nls97.gpaoverall.mean()\n",
    "nls97.gpaoverall.head(5)"
   ]
  },
  {
   "attachments": {},
   "cell_type": "markdown",
   "metadata": {},
   "source": [
    "### iloc 접근자를 사용한 값 설정"
   ]
  },
  {
   "cell_type": "code",
   "execution_count": 13,
   "metadata": {},
   "outputs": [
    {
     "data": {
      "text/plain": [
       "personid\n",
       "100061    2.00\n",
       "100139    1.00\n",
       "100284    1.00\n",
       "100292    1.00\n",
       "100583    2.91\n",
       "Name: gpaoverall, dtype: float64"
      ]
     },
     "execution_count": 13,
     "metadata": {},
     "output_type": "execute_result"
    }
   ],
   "source": [
    "nls97.iloc[0,13]=2              # iloc[행, 열]  0행과 13열(gpaoverall이려나)의 값 선택\n",
    "nls97.iloc[1:4,13]=1\n",
    "nls97.gpaoverall.head()"
   ]
  },
  {
   "attachments": {},
   "cell_type": "markdown",
   "metadata": {},
   "source": [
    "### 덧셈 연산자를 사용해 여러 시리즈의 값 설정"
   ]
  },
  {
   "cell_type": "code",
   "execution_count": 8,
   "metadata": {},
   "outputs": [
    {
     "data": {
      "text/plain": [
       "0.0       23\n",
       "1.0     1364\n",
       "2.0     1729\n",
       "3.0     1020\n",
       "4.0      420\n",
       "5.0      149\n",
       "6.0       55\n",
       "7.0       21\n",
       "8.0        7\n",
       "9.0        1\n",
       "12.0       2\n",
       "Name: childnum, dtype: int64"
      ]
     },
     "execution_count": 8,
     "metadata": {},
     "output_type": "execute_result"
    }
   ],
   "source": [
    "nls97['childnum']=nls97.childathome+nls97.childnotathome\n",
    "nls97.childnum.value_counts().sort_index()"
   ]
  },
  {
   "attachments": {},
   "cell_type": "markdown",
   "metadata": {},
   "source": [
    "### 필터링 후 조건에 맞는 값 모두 변경"
   ]
  },
  {
   "cell_type": "code",
   "execution_count": 14,
   "metadata": {},
   "outputs": [
    {
     "data": {
      "text/plain": [
       "personid\n",
       "312410    4.17\n",
       "639701    4.11\n",
       "850001    4.10\n",
       "279096    4.08\n",
       "620216    4.07\n",
       "Name: gpaoverall, dtype: float64"
      ]
     },
     "execution_count": 14,
     "metadata": {},
     "output_type": "execute_result"
    }
   ],
   "source": [
    "nls97.gpaoverall.nlargest()                     # nlargest: 데이터를 내림차순 정렬 후, 위에서 n개의 행을 출력하는 메서드"
   ]
  },
  {
   "cell_type": "code",
   "execution_count": 15,
   "metadata": {},
   "outputs": [
    {
     "data": {
      "text/plain": [
       "personid\n",
       "112756    4.0\n",
       "119784    4.0\n",
       "160193    4.0\n",
       "250666    4.0\n",
       "271961    4.0\n",
       "Name: gpaoverall, dtype: float64"
      ]
     },
     "execution_count": 15,
     "metadata": {},
     "output_type": "execute_result"
    }
   ],
   "source": [
    "nls97.loc[nls97.gpaoverall>4,'gpaoverall']=4\n",
    "nls97.gpaoverall.nlargest()"
   ]
  },
  {
   "attachments": {},
   "cell_type": "markdown",
   "metadata": {},
   "source": [
    "## 추가 정보\n",
    "- nls97.loc[[100061],'gpaoverall'] 은 시리즈를 반환\n",
    "- nls97.loc[[100061],['gpaoverall']] 은 데이터프레임 반환 (????)\n",
    "\n",
    "loc 접근자의 두 번째 인자가 문자열이면 시리즈 반환, 리스트이면 데이터프레임 반환"
   ]
  }
 ],
 "metadata": {
  "kernelspec": {
   "display_name": "Python 3",
   "language": "python",
   "name": "python3"
  },
  "language_info": {
   "codemirror_mode": {
    "name": "ipython",
    "version": 3
   },
   "file_extension": ".py",
   "mimetype": "text/x-python",
   "name": "python",
   "nbconvert_exporter": "python",
   "pygments_lexer": "ipython3",
   "version": "3.10.9"
  },
  "orig_nbformat": 4
 },
 "nbformat": 4,
 "nbformat_minor": 2
}
