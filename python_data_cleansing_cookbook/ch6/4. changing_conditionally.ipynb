{
 "cells": [
  {
   "attachments": {},
   "cell_type": "markdown",
   "metadata": {},
   "source": [
    "## 조건에 따른 시리즈 값 변경"
   ]
  },
  {
   "cell_type": "code",
   "execution_count": 1,
   "metadata": {},
   "outputs": [],
   "source": [
    "import pandas as pd\n",
    "import numpy as np\n",
    "\n",
    "nls97=pd.read_csv('C:/data-cleansing-main/Chapter06/data/nls97b.csv')\n",
    "nls97.set_index('personid',inplace=True)\n",
    "landtemps=pd.read_csv('C:/data-cleansing-main/Chapter06/data/landtemps2019avgs.csv')"
   ]
  },
  {
   "attachments": {},
   "cell_type": "markdown",
   "metadata": {},
   "source": [
    "### 넘파이 - where\n",
    "- 범주형 시리즈 생성"
   ]
  },
  {
   "cell_type": "code",
   "execution_count": 2,
   "metadata": {},
   "outputs": [
    {
     "data": {
      "text/plain": [
       "0.2      48.0\n",
       "0.4     190.5\n",
       "0.6     393.2\n",
       "0.8    1066.8\n",
       "1.0    9999.0\n",
       "Name: elevation, dtype: float64"
      ]
     },
     "execution_count": 2,
     "metadata": {},
     "output_type": "execute_result"
    }
   ],
   "source": [
    "landtemps.elevation.quantile(np.arange(0.2,1.1,0.2))"
   ]
  },
  {
   "cell_type": "code",
   "execution_count": 5,
   "metadata": {},
   "outputs": [
    {
     "data": {
      "text/html": [
       "<div>\n",
       "<style scoped>\n",
       "    .dataframe tbody tr th:only-of-type {\n",
       "        vertical-align: middle;\n",
       "    }\n",
       "\n",
       "    .dataframe tbody tr th {\n",
       "        vertical-align: top;\n",
       "    }\n",
       "\n",
       "    .dataframe thead th {\n",
       "        text-align: right;\n",
       "    }\n",
       "</style>\n",
       "<table border=\"1\" class=\"dataframe\">\n",
       "  <thead>\n",
       "    <tr style=\"text-align: right;\">\n",
       "      <th></th>\n",
       "      <th>count</th>\n",
       "      <th>min</th>\n",
       "      <th>max</th>\n",
       "    </tr>\n",
       "    <tr>\n",
       "      <th>elevation_group</th>\n",
       "      <th></th>\n",
       "      <th></th>\n",
       "      <th></th>\n",
       "    </tr>\n",
       "  </thead>\n",
       "  <tbody>\n",
       "    <tr>\n",
       "      <th>High</th>\n",
       "      <td>2409</td>\n",
       "      <td>1067.0</td>\n",
       "      <td>9999.0</td>\n",
       "    </tr>\n",
       "    <tr>\n",
       "      <th>Low</th>\n",
       "      <td>9686</td>\n",
       "      <td>-350.0</td>\n",
       "      <td>1066.8</td>\n",
       "    </tr>\n",
       "  </tbody>\n",
       "</table>\n",
       "</div>"
      ],
      "text/plain": [
       "                 count     min     max\n",
       "elevation_group                       \n",
       "High              2409  1067.0  9999.0\n",
       "Low               9686  -350.0  1066.8"
      ]
     },
     "execution_count": 5,
     "metadata": {},
     "output_type": "execute_result"
    }
   ],
   "source": [
    "# where 함수를 사용해 두 값을 포함하는 범주형 시리즈 생성\n",
    "landtemps['elevation_group']=np.where(landtemps.elevation > landtemps.elevation.quantile(0.8),'High','Low')\n",
    "landtemps.elevation_group=landtemps.elevation_group.astype('category')\n",
    "landtemps.groupby(['elevation_group'])['elevation'].agg(['count','min','max'])"
   ]
  },
  {
   "cell_type": "code",
   "execution_count": 6,
   "metadata": {},
   "outputs": [
    {
     "data": {
      "text/html": [
       "<div>\n",
       "<style scoped>\n",
       "    .dataframe tbody tr th:only-of-type {\n",
       "        vertical-align: middle;\n",
       "    }\n",
       "\n",
       "    .dataframe tbody tr th {\n",
       "        vertical-align: top;\n",
       "    }\n",
       "\n",
       "    .dataframe thead th {\n",
       "        text-align: right;\n",
       "    }\n",
       "</style>\n",
       "<table border=\"1\" class=\"dataframe\">\n",
       "  <thead>\n",
       "    <tr style=\"text-align: right;\">\n",
       "      <th></th>\n",
       "      <th>count</th>\n",
       "      <th>min</th>\n",
       "      <th>max</th>\n",
       "    </tr>\n",
       "    <tr>\n",
       "      <th>elevation_group</th>\n",
       "      <th></th>\n",
       "      <th></th>\n",
       "      <th></th>\n",
       "    </tr>\n",
       "  </thead>\n",
       "  <tbody>\n",
       "    <tr>\n",
       "      <th>High</th>\n",
       "      <td>2409</td>\n",
       "      <td>1067.0</td>\n",
       "      <td>9999.0</td>\n",
       "    </tr>\n",
       "    <tr>\n",
       "      <th>Low</th>\n",
       "      <td>6056</td>\n",
       "      <td>-350.0</td>\n",
       "      <td>271.3</td>\n",
       "    </tr>\n",
       "    <tr>\n",
       "      <th>Median</th>\n",
       "      <td>3630</td>\n",
       "      <td>271.4</td>\n",
       "      <td>1066.8</td>\n",
       "    </tr>\n",
       "  </tbody>\n",
       "</table>\n",
       "</div>"
      ],
      "text/plain": [
       "                 count     min     max\n",
       "elevation_group                       \n",
       "High              2409  1067.0  9999.0\n",
       "Low               6056  -350.0   271.3\n",
       "Median            3630   271.4  1066.8"
      ]
     },
     "execution_count": 6,
     "metadata": {},
     "output_type": "execute_result"
    }
   ],
   "source": [
    "# where 함수를 사용해 세 값을 포함하는 범주형 시리즈 생성\n",
    "landtemps['elevation_group']=np.where(landtemps.elevation > landtemps.elevation.quantile(0.8),'High',\n",
    "                                      np.where(landtemps.elevation > landtemps.elevation.median(),'Median','Low'))      # where 안에서 또 where 사용\n",
    "landtemps.elevation_group=landtemps.elevation_group.astype('category')\n",
    "landtemps.groupby(['elevation_group'])['elevation'].agg(['count','min','max'])"
   ]
  },
  {
   "attachments": {},
   "cell_type": "markdown",
   "metadata": {},
   "source": [
    "### 넘파이 - select  ??? 잘 모르겠음\n",
    "- 조건의 리스트 평가"
   ]
  },
  {
   "cell_type": "code",
   "execution_count": 9,
   "metadata": {},
   "outputs": [
    {
     "data": {
      "text/html": [
       "<div>\n",
       "<style scoped>\n",
       "    .dataframe tbody tr th:only-of-type {\n",
       "        vertical-align: middle;\n",
       "    }\n",
       "\n",
       "    .dataframe tbody tr th {\n",
       "        vertical-align: top;\n",
       "    }\n",
       "\n",
       "    .dataframe thead th {\n",
       "        text-align: right;\n",
       "    }\n",
       "</style>\n",
       "<table border=\"1\" class=\"dataframe\">\n",
       "  <thead>\n",
       "    <tr style=\"text-align: right;\">\n",
       "      <th></th>\n",
       "      <th>hsachieve</th>\n",
       "      <th>gpaoverall</th>\n",
       "      <th>highestdegree</th>\n",
       "    </tr>\n",
       "    <tr>\n",
       "      <th>personid</th>\n",
       "      <th></th>\n",
       "      <th></th>\n",
       "      <th></th>\n",
       "    </tr>\n",
       "  </thead>\n",
       "  <tbody>\n",
       "    <tr>\n",
       "      <th>100061</th>\n",
       "      <td>4. Did Okay</td>\n",
       "      <td>3.06</td>\n",
       "      <td>2. High School</td>\n",
       "    </tr>\n",
       "    <tr>\n",
       "      <th>100139</th>\n",
       "      <td>4. Did Okay</td>\n",
       "      <td>NaN</td>\n",
       "      <td>2. High School</td>\n",
       "    </tr>\n",
       "    <tr>\n",
       "      <th>100284</th>\n",
       "      <td>2. No Diploma</td>\n",
       "      <td>NaN</td>\n",
       "      <td>0. None</td>\n",
       "    </tr>\n",
       "    <tr>\n",
       "      <th>100292</th>\n",
       "      <td>4. Did Okay</td>\n",
       "      <td>3.45</td>\n",
       "      <td>4. Bachelors</td>\n",
       "    </tr>\n",
       "    <tr>\n",
       "      <th>100583</th>\n",
       "      <td>4. Did Okay</td>\n",
       "      <td>2.91</td>\n",
       "      <td>2. High School</td>\n",
       "    </tr>\n",
       "  </tbody>\n",
       "</table>\n",
       "</div>"
      ],
      "text/plain": [
       "              hsachieve  gpaoverall   highestdegree\n",
       "personid                                           \n",
       "100061      4. Did Okay        3.06  2. High School\n",
       "100139      4. Did Okay         NaN  2. High School\n",
       "100284    2. No Diploma         NaN         0. None\n",
       "100292      4. Did Okay        3.45    4. Bachelors\n",
       "100583      4. Did Okay        2.91  2. High School"
      ]
     },
     "execution_count": 9,
     "metadata": {},
     "output_type": "execute_result"
    }
   ],
   "source": [
    "test=[(nls97.gpaoverall<2) & (nls97.highestdegree=='0. None'), nls97.highestdegree=='0. None', nls97.gpaoverall<2]\n",
    "result = ['1. Low GPA and No Diploma','2. No Diploma','3. Low GPA']\n",
    "nls97['hsachieve']=np.select(test,result,'4. Did Okay')\n",
    "nls97[['hsachieve','gpaoverall','highestdegree']].head()"
   ]
  },
  {
   "cell_type": "code",
   "execution_count": 11,
   "metadata": {},
   "outputs": [
    {
     "data": {
      "text/plain": [
       "1. Low GPA and No Diploma      95\n",
       "2. No Diploma                 858\n",
       "3. Low GPA                    459\n",
       "4. Did Okay                  7572\n",
       "Name: hsachieve, dtype: int64"
      ]
     },
     "execution_count": 11,
     "metadata": {},
     "output_type": "execute_result"
    }
   ],
   "source": [
    "nls97.hsachieve.value_counts().sort_index()"
   ]
  },
  {
   "attachments": {},
   "cell_type": "markdown",
   "metadata": {},
   "source": [
    "### 💥lambda 를 사용해 여러 개의 열을 한 문장으로 테스트"
   ]
  },
  {
   "cell_type": "code",
   "execution_count": 15,
   "metadata": {},
   "outputs": [
    {
     "data": {
      "text/plain": [
       "False    5085\n",
       "True     3899\n",
       "Name: baenrollment, dtype: int64"
      ]
     },
     "execution_count": 15,
     "metadata": {},
     "output_type": "execute_result"
    }
   ],
   "source": [
    "nls97['baenrollment']=nls97.filter(like='colenr').apply(lambda x:x.str[0:1]=='3').any(axis=1)       # colenr 열에는 매년 2~10월의 개인별 학적 상태가 있음. \n",
    "nls97.baenrollment.value_counts()"
   ]
  },
  {
   "attachments": {},
   "cell_type": "markdown",
   "metadata": {},
   "source": [
    "### 여러 시리즈의 값을 바탕으로 값을 할당하는 함수 생성"
   ]
  },
  {
   "cell_type": "code",
   "execution_count": 17,
   "metadata": {},
   "outputs": [],
   "source": [
    "def getsleepdeprivedreason(row):\n",
    "  sleepdeprivedreason = \"Unknown\"\n",
    "  if (row.nightlyhrssleep>=6):\n",
    "    sleepdeprivedreason = \"Not Sleep Deprived\"\n",
    "  elif (row.nightlyhrssleep>0):\n",
    "    if (row.weeksworked16+row.weeksworked17 < 80):\n",
    "      if (row.childathome>2):\n",
    "        sleepdeprivedreason = \"Child Rearing\"\n",
    "      else:\n",
    "        sleepdeprivedreason = \"Other Reasons\"\n",
    "    else:\n",
    "      if (row.wageincome>=62000 or row.highestgradecompleted>=16):\n",
    "        sleepdeprivedreason = \"Work Pressure\"\n",
    "      else:\n",
    "        sleepdeprivedreason = \"Income Pressure\"\n",
    "  else:\n",
    "    sleepdeprivedreason = \"Unknown\"\n",
    "  return sleepdeprivedreason"
   ]
  },
  {
   "cell_type": "code",
   "execution_count": 18,
   "metadata": {},
   "outputs": [
    {
     "data": {
      "text/plain": [
       "Not Sleep Deprived    5595\n",
       "Unknown               2286\n",
       "Income Pressure        462\n",
       "Work Pressure          281\n",
       "Other Reasons          272\n",
       "Child Rearing           88\n",
       "Name: sleepdeprivedreason, dtype: int64"
      ]
     },
     "execution_count": 18,
     "metadata": {},
     "output_type": "execute_result"
    }
   ],
   "source": [
    "# apply를 사용해 전체 행에 대해 함수 실행\n",
    "nls97['sleepdeprivedreason']=nls97.apply(getsleepdeprivedreason,axis=1)     # axis=1을 지정하면, 데이터프레임의 각 행을 함수로 보냄\n",
    "nls97.sleepdeprivedreason=nls97.sleepdeprivedreason.astype('category')      # object를 category로 바꿔 메모리 사용을 줄임\n",
    "nls97.sleepdeprivedreason.value_counts()"
   ]
  }
 ],
 "metadata": {
  "kernelspec": {
   "display_name": "Python 3",
   "language": "python",
   "name": "python3"
  },
  "language_info": {
   "codemirror_mode": {
    "name": "ipython",
    "version": 3
   },
   "file_extension": ".py",
   "mimetype": "text/x-python",
   "name": "python",
   "nbconvert_exporter": "python",
   "pygments_lexer": "ipython3",
   "version": "3.10.9"
  },
  "orig_nbformat": 4
 },
 "nbformat": 4,
 "nbformat_minor": 2
}
