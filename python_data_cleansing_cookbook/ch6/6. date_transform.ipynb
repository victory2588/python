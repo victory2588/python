{
 "cells": [
  {
   "attachments": {},
   "cell_type": "markdown",
   "metadata": {},
   "source": [
    "## 날짜 다루기\n",
    "- 날짜 값 파싱 -> 날짜 범위 체크 -> 누락된 날짜 대치 -> 시간 간격 계산\n",
    "- 판다스를 사용해 날짜 값 파싱 후 datetime 값을 얻었다면 절반은 온 것!"
   ]
  },
  {
   "cell_type": "code",
   "execution_count": 1,
   "metadata": {},
   "outputs": [],
   "source": [
    "import pandas as pd\n",
    "import numpy as np\n",
    "from datetime import datetime\n",
    "\n",
    "covidcases=pd.read_csv('C:/data-cleansing-main/Chapter06/data/covidcases720.csv')\n",
    "nls97=pd.read_csv('C:/data-cleansing-main/Chapter06/data/nls97c.csv')\n",
    "nls97.set_index('personid',inplace=True)"
   ]
  },
  {
   "cell_type": "code",
   "execution_count": 3,
   "metadata": {},
   "outputs": [
    {
     "data": {
      "text/plain": [
       "birthmonth    1\n",
       "birthyear     0\n",
       "dtype: int64"
      ]
     },
     "execution_count": 3,
     "metadata": {},
     "output_type": "execute_result"
    }
   ],
   "source": [
    "nls97[['birthmonth','birthyear']].isnull().sum()        # 생월에 결측값이 하나 존재"
   ]
  },
  {
   "cell_type": "code",
   "execution_count": 4,
   "metadata": {},
   "outputs": [
    {
     "data": {
      "text/plain": [
       "1.0     815\n",
       "2.0     693\n",
       "3.0     760\n",
       "4.0     659\n",
       "5.0     689\n",
       "6.0     720\n",
       "7.0     762\n",
       "8.0     782\n",
       "9.0     839\n",
       "10.0    765\n",
       "11.0    763\n",
       "12.0    736\n",
       "Name: birthmonth, dtype: int64"
      ]
     },
     "execution_count": 4,
     "metadata": {},
     "output_type": "execute_result"
    }
   ],
   "source": [
    "nls97.birthmonth.value_counts().sort_index()"
   ]
  },
  {
   "cell_type": "code",
   "execution_count": 5,
   "metadata": {},
   "outputs": [
    {
     "data": {
      "text/plain": [
       "1980    1691\n",
       "1981    1874\n",
       "1982    1841\n",
       "1983    1807\n",
       "1984    1771\n",
       "Name: birthyear, dtype: int64"
      ]
     },
     "execution_count": 5,
     "metadata": {},
     "output_type": "execute_result"
    }
   ],
   "source": [
    "nls97.birthyear.value_counts().sort_index()"
   ]
  },
  {
   "cell_type": "code",
   "execution_count": 7,
   "metadata": {},
   "outputs": [],
   "source": [
    "nls97.birthmonth.fillna(int(nls97.birthmonth.mean()),inplace=True)      # birthmonth의 평균을 정수로 반올림한 값으로 대치. 6월"
   ]
  },
  {
   "attachments": {},
   "cell_type": "markdown",
   "metadata": {},
   "source": [
    "### 판다스 to_datetime 사용\n",
    "- 딕셔너리 값 전달 가능, year/month/day 키 필요"
   ]
  },
  {
   "cell_type": "code",
   "execution_count": 13,
   "metadata": {},
   "outputs": [
    {
     "data": {
      "text/plain": [
       "birthmonth    0\n",
       "birthyear     0\n",
       "birthdate     0\n",
       "dtype: int64"
      ]
     },
     "execution_count": 13,
     "metadata": {},
     "output_type": "execute_result"
    }
   ],
   "source": [
    "nls97['birthdate']=pd.to_datetime(dict(year=nls97.birthyear, month=nls97.birthmonth, day=15))       # 딕셔너리 값 전달\n",
    "nls97[['birthmonth','birthyear','birthdate']].isna().sum()"
   ]
  },
  {
   "cell_type": "code",
   "execution_count": 17,
   "metadata": {},
   "outputs": [
    {
     "data": {
      "text/plain": [
       "personid\n",
       "100061   1980-05-15\n",
       "100139   1983-09-15\n",
       "100284   1984-11-15\n",
       "100292   1982-04-15\n",
       "100583   1980-06-15\n",
       "            ...    \n",
       "999291   1981-04-15\n",
       "999406   1982-07-15\n",
       "999543   1984-08-15\n",
       "999698   1983-05-15\n",
       "999963   1982-09-15\n",
       "Name: birthdate, Length: 8984, dtype: datetime64[ns]"
      ]
     },
     "execution_count": 17,
     "metadata": {},
     "output_type": "execute_result"
    }
   ],
   "source": [
    "nls97['birthdate']"
   ]
  },
  {
   "attachments": {},
   "cell_type": "markdown",
   "metadata": {},
   "source": [
    "### datetime열을 사용해 연령 값 계산"
   ]
  },
  {
   "cell_type": "code",
   "execution_count": 22,
   "metadata": {},
   "outputs": [
    {
     "data": {
      "text/html": [
       "<div>\n",
       "<style scoped>\n",
       "    .dataframe tbody tr th:only-of-type {\n",
       "        vertical-align: middle;\n",
       "    }\n",
       "\n",
       "    .dataframe tbody tr th {\n",
       "        vertical-align: top;\n",
       "    }\n",
       "\n",
       "    .dataframe thead th {\n",
       "        text-align: right;\n",
       "    }\n",
       "</style>\n",
       "<table border=\"1\" class=\"dataframe\">\n",
       "  <thead>\n",
       "    <tr style=\"text-align: right;\">\n",
       "      <th></th>\n",
       "      <th>age</th>\n",
       "      <th>birthdate</th>\n",
       "    </tr>\n",
       "    <tr>\n",
       "      <th>personid</th>\n",
       "      <th></th>\n",
       "      <th></th>\n",
       "    </tr>\n",
       "  </thead>\n",
       "  <tbody>\n",
       "    <tr>\n",
       "      <th>100061</th>\n",
       "      <td>40</td>\n",
       "      <td>1980-05-15</td>\n",
       "    </tr>\n",
       "    <tr>\n",
       "      <th>100139</th>\n",
       "      <td>36</td>\n",
       "      <td>1983-09-15</td>\n",
       "    </tr>\n",
       "    <tr>\n",
       "      <th>100284</th>\n",
       "      <td>35</td>\n",
       "      <td>1984-11-15</td>\n",
       "    </tr>\n",
       "    <tr>\n",
       "      <th>100292</th>\n",
       "      <td>38</td>\n",
       "      <td>1982-04-15</td>\n",
       "    </tr>\n",
       "    <tr>\n",
       "      <th>100583</th>\n",
       "      <td>40</td>\n",
       "      <td>1980-06-15</td>\n",
       "    </tr>\n",
       "  </tbody>\n",
       "</table>\n",
       "</div>"
      ],
      "text/plain": [
       "          age  birthdate\n",
       "personid                \n",
       "100061     40 1980-05-15\n",
       "100139     36 1983-09-15\n",
       "100284     35 1984-11-15\n",
       "100292     38 1982-04-15\n",
       "100583     40 1980-06-15"
      ]
     },
     "execution_count": 22,
     "metadata": {},
     "output_type": "execute_result"
    }
   ],
   "source": [
    "# 시작 날짜와 끝 날짜를 받아서 나이를 계산하는 함수 정의\n",
    "def calcage(startdate,enddate):\n",
    "    age=enddate.year-startdate.year\n",
    "    if (enddate.month<startdate.month or enddate.month==startdate.month and enddate.day<startdate.day):\n",
    "        age=age-1\n",
    "    return age\n",
    "\n",
    "rundate=pd.to_datetime('2020-07-20')\n",
    "nls97['age']=nls97.apply(lambda x:calcage(x.birthdate,rundate),axis=1)\n",
    "nls97.loc[100061:100583,['age','birthdate']]"
   ]
  },
  {
   "attachments": {},
   "cell_type": "markdown",
   "metadata": {},
   "source": [
    "### 문자형인 컬럼을 날짜형으로 바꾸기"
   ]
  },
  {
   "cell_type": "code",
   "execution_count": 27,
   "metadata": {},
   "outputs": [
    {
     "data": {
      "text/plain": [
       "iso_code                            object\n",
       "continent                           object\n",
       "location                            object\n",
       "casedate                            object\n",
       "total_cases                        float64\n",
       "new_cases                          float64\n",
       "total_deaths                       float64\n",
       "new_deaths                         float64\n",
       "total_cases_per_million            float64\n",
       "new_cases_per_million              float64\n",
       "total_deaths_per_million           float64\n",
       "new_deaths_per_million             float64\n",
       "total_tests                        float64\n",
       "new_tests                          float64\n",
       "total_tests_per_thousand           float64\n",
       "new_tests_per_thousand             float64\n",
       "new_tests_smoothed                 float64\n",
       "new_tests_smoothed_per_thousand    float64\n",
       "tests_units                         object\n",
       "stringency_index                   float64\n",
       "population                         float64\n",
       "population_density                 float64\n",
       "median_age                         float64\n",
       "aged_65_older                      float64\n",
       "aged_70_older                      float64\n",
       "gdp_per_capita                     float64\n",
       "extreme_poverty                    float64\n",
       "cvd_death_rate                     float64\n",
       "diabetes_prevalence                float64\n",
       "female_smokers                     float64\n",
       "male_smokers                       float64\n",
       "handwashing_facilities             float64\n",
       "hospital_beds_per_thousand         float64\n",
       "life_expectancy                    float64\n",
       "region                              object\n",
       "dtype: object"
      ]
     },
     "execution_count": 27,
     "metadata": {},
     "output_type": "execute_result"
    }
   ],
   "source": [
    "covidcases.dtypes       # casedate 컬럼이 object형"
   ]
  },
  {
   "cell_type": "code",
   "execution_count": 29,
   "metadata": {},
   "outputs": [
    {
     "data": {
      "text/plain": [
       "iso_code                                   object\n",
       "continent                                  object\n",
       "location                                   object\n",
       "casedate                           datetime64[ns]\n",
       "total_cases                               float64\n",
       "new_cases                                 float64\n",
       "total_deaths                              float64\n",
       "new_deaths                                float64\n",
       "total_cases_per_million                   float64\n",
       "new_cases_per_million                     float64\n",
       "total_deaths_per_million                  float64\n",
       "new_deaths_per_million                    float64\n",
       "total_tests                               float64\n",
       "new_tests                                 float64\n",
       "total_tests_per_thousand                  float64\n",
       "new_tests_per_thousand                    float64\n",
       "new_tests_smoothed                        float64\n",
       "new_tests_smoothed_per_thousand           float64\n",
       "tests_units                                object\n",
       "stringency_index                          float64\n",
       "population                                float64\n",
       "population_density                        float64\n",
       "median_age                                float64\n",
       "aged_65_older                             float64\n",
       "aged_70_older                             float64\n",
       "gdp_per_capita                            float64\n",
       "extreme_poverty                           float64\n",
       "cvd_death_rate                            float64\n",
       "diabetes_prevalence                       float64\n",
       "female_smokers                            float64\n",
       "male_smokers                              float64\n",
       "handwashing_facilities                    float64\n",
       "hospital_beds_per_thousand                float64\n",
       "life_expectancy                           float64\n",
       "region                                     object\n",
       "dtype: object"
      ]
     },
     "execution_count": 29,
     "metadata": {},
     "output_type": "execute_result"
    }
   ],
   "source": [
    "covidcases['casedate']=pd.to_datetime(covidcases.casedate,format='%Y-%m-%d')\n",
    "covidcases.dtypes"
   ]
  },
  {
   "cell_type": "code",
   "execution_count": 30,
   "metadata": {},
   "outputs": [
    {
     "name": "stderr",
     "output_type": "stream",
     "text": [
      "C:\\Users\\victo\\AppData\\Local\\Temp\\ipykernel_784\\3118086987.py:1: FutureWarning: Treating datetime data as categorical rather than numeric in `.describe` is deprecated and will be removed in a future version of pandas. Specify `datetime_is_numeric=True` to silence this warning and adopt the future behavior now.\n",
      "  covidcases.casedate.describe()\n"
     ]
    },
    {
     "data": {
      "text/plain": [
       "count                   29529\n",
       "unique                    195\n",
       "top       2020-05-17 00:00:00\n",
       "freq                      209\n",
       "first     2019-12-31 00:00:00\n",
       "last      2020-07-12 00:00:00\n",
       "Name: casedate, dtype: object"
      ]
     },
     "execution_count": 30,
     "metadata": {},
     "output_type": "execute_result"
    }
   ],
   "source": [
    "covidcases.casedate.describe()"
   ]
  },
  {
   "attachments": {},
   "cell_type": "markdown",
   "metadata": {},
   "source": [
    "### 날짜 간격을 포착하는 timedelta 객체 생성(?)"
   ]
  },
  {
   "cell_type": "code",
   "execution_count": 31,
   "metadata": {},
   "outputs": [
    {
     "data": {
      "text/plain": [
       "count                         29529\n",
       "mean     56 days 00:15:12.892410850\n",
       "std      47 days 00:35:41.813685246\n",
       "min              -62 days +00:00:00\n",
       "25%                21 days 00:00:00\n",
       "50%                57 days 00:00:00\n",
       "75%                92 days 00:00:00\n",
       "max               194 days 00:00:00\n",
       "Name: dayssincefirstcase, dtype: object"
      ]
     },
     "execution_count": 31,
     "metadata": {},
     "output_type": "execute_result"
    }
   ],
   "source": [
    "firstcase = covidcases.loc[covidcases.new_cases>0,['location','casedate']].sort_values(['location','casedate']).\\\n",
    "  drop_duplicates(['location'], keep='first').rename(columns={'casedate':'firstcasedate'})\n",
    "covidcases = pd.merge(covidcases, firstcase, left_on=['location'], right_on=['location'], how=\"left\")\n",
    "covidcases['dayssincefirstcase'] = covidcases.casedate - covidcases.firstcasedate\n",
    "covidcases.dayssincefirstcase.describe()"
   ]
  },
  {
   "attachments": {},
   "cell_type": "markdown",
   "metadata": {},
   "source": [
    "> 최초 확진자가 발생하기 62일 전부터 보고를 시작한 나라가 있음을 알 수 있다."
   ]
  }
 ],
 "metadata": {
  "kernelspec": {
   "display_name": "Python 3",
   "language": "python",
   "name": "python3"
  },
  "language_info": {
   "codemirror_mode": {
    "name": "ipython",
    "version": 3
   },
   "file_extension": ".py",
   "mimetype": "text/x-python",
   "name": "python",
   "nbconvert_exporter": "python",
   "pygments_lexer": "ipython3",
   "version": "3.10.9"
  },
  "orig_nbformat": 4
 },
 "nbformat": 4,
 "nbformat_minor": 2
}
