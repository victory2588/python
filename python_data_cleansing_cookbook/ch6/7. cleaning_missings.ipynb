{
 "cells": [
  {
   "attachments": {},
   "cell_type": "markdown",
   "metadata": {},
   "source": [
    "## 누락 데이터 식별과 정제\n",
    "- 평균으로 채우기, 이웃값의 정방향 채우기 등 누락 데이터를 처리하는 모든 전략 탐구"
   ]
  },
  {
   "cell_type": "code",
   "execution_count": 1,
   "metadata": {},
   "outputs": [],
   "source": [
    "import pandas as pd\n",
    "\n",
    "nls97=pd.read_csv('C:/data-cleansing-main/Chapter06/data/nls97c.csv')\n",
    "nls97.set_index('personid',inplace=True)"
   ]
  },
  {
   "cell_type": "code",
   "execution_count": 25,
   "metadata": {},
   "outputs": [],
   "source": [
    "schoolrecordlist = ['satverbal','satmath','gpaoverall','gpaenglish','gpamath','gpascience','highestdegree','highestgradecompleted']\n",
    "\n",
    "demolist = ['maritalstatus','childathome','childnotathome','wageincome','weeklyhrscomputer','weeklyhrstv','nightlyhrssleep']\n",
    "schoolrecord = nls97[schoolrecordlist]\n",
    "demo=nls97[demolist]"
   ]
  },
  {
   "cell_type": "code",
   "execution_count": 27,
   "metadata": {},
   "outputs": [
    {
     "data": {
      "text/plain": [
       "(8984, 7)"
      ]
     },
     "execution_count": 27,
     "metadata": {},
     "output_type": "execute_result"
    }
   ],
   "source": [
    "schoolrecord.shape\n",
    "demo.shape"
   ]
  },
  {
   "cell_type": "code",
   "execution_count": 28,
   "metadata": {},
   "outputs": [
    {
     "data": {
      "text/plain": [
       "satverbal                7578\n",
       "satmath                  7577\n",
       "gpaoverall               2980\n",
       "gpaenglish               3186\n",
       "gpamath                  3218\n",
       "gpascience               3300\n",
       "highestdegree              31\n",
       "highestgradecompleted    2321\n",
       "dtype: int64"
      ]
     },
     "execution_count": 28,
     "metadata": {},
     "output_type": "execute_result"
    }
   ],
   "source": [
    "schoolrecord.isna().sum(axis=0)             # 각 열에 있는 누락값의 개수"
   ]
  },
  {
   "cell_type": "code",
   "execution_count": 29,
   "metadata": {},
   "outputs": [
    {
     "data": {
      "text/plain": [
       "0    1087\n",
       "1     312\n",
       "2    3210\n",
       "3    1102\n",
       "4     176\n",
       "5     101\n",
       "6    2039\n",
       "7     946\n",
       "8      11\n",
       "dtype: int64"
      ]
     },
     "execution_count": 29,
     "metadata": {},
     "output_type": "execute_result"
    }
   ],
   "source": [
    "misscnt=schoolrecord.isna().sum(axis=1)     # 각 행에 있는 누락값의 개수\n",
    "misscnt.value_counts().sort_index()"
   ]
  },
  {
   "cell_type": "code",
   "execution_count": 16,
   "metadata": {},
   "outputs": [
    {
     "data": {
      "text/html": [
       "<div>\n",
       "<style scoped>\n",
       "    .dataframe tbody tr th:only-of-type {\n",
       "        vertical-align: middle;\n",
       "    }\n",
       "\n",
       "    .dataframe tbody tr th {\n",
       "        vertical-align: top;\n",
       "    }\n",
       "\n",
       "    .dataframe thead th {\n",
       "        text-align: right;\n",
       "    }\n",
       "</style>\n",
       "<table border=\"1\" class=\"dataframe\">\n",
       "  <thead>\n",
       "    <tr style=\"text-align: right;\">\n",
       "      <th>personid</th>\n",
       "      <th>101705</th>\n",
       "      <th>102061</th>\n",
       "      <th>102648</th>\n",
       "      <th>104627</th>\n",
       "    </tr>\n",
       "  </thead>\n",
       "  <tbody>\n",
       "    <tr>\n",
       "      <th>satverbal</th>\n",
       "      <td>NaN</td>\n",
       "      <td>NaN</td>\n",
       "      <td>NaN</td>\n",
       "      <td>NaN</td>\n",
       "    </tr>\n",
       "    <tr>\n",
       "      <th>satmath</th>\n",
       "      <td>NaN</td>\n",
       "      <td>NaN</td>\n",
       "      <td>NaN</td>\n",
       "      <td>NaN</td>\n",
       "    </tr>\n",
       "    <tr>\n",
       "      <th>gpaoverall</th>\n",
       "      <td>NaN</td>\n",
       "      <td>NaN</td>\n",
       "      <td>NaN</td>\n",
       "      <td>NaN</td>\n",
       "    </tr>\n",
       "    <tr>\n",
       "      <th>gpaenglish</th>\n",
       "      <td>NaN</td>\n",
       "      <td>NaN</td>\n",
       "      <td>NaN</td>\n",
       "      <td>NaN</td>\n",
       "    </tr>\n",
       "    <tr>\n",
       "      <th>gpamath</th>\n",
       "      <td>NaN</td>\n",
       "      <td>NaN</td>\n",
       "      <td>NaN</td>\n",
       "      <td>NaN</td>\n",
       "    </tr>\n",
       "    <tr>\n",
       "      <th>gpascience</th>\n",
       "      <td>NaN</td>\n",
       "      <td>NaN</td>\n",
       "      <td>NaN</td>\n",
       "      <td>NaN</td>\n",
       "    </tr>\n",
       "    <tr>\n",
       "      <th>highestdegree</th>\n",
       "      <td>1. GED</td>\n",
       "      <td>0. None</td>\n",
       "      <td>1. GED</td>\n",
       "      <td>0. None</td>\n",
       "    </tr>\n",
       "    <tr>\n",
       "      <th>highestgradecompleted</th>\n",
       "      <td>NaN</td>\n",
       "      <td>NaN</td>\n",
       "      <td>NaN</td>\n",
       "      <td>NaN</td>\n",
       "    </tr>\n",
       "  </tbody>\n",
       "</table>\n",
       "</div>"
      ],
      "text/plain": [
       "personid               101705   102061  102648   104627\n",
       "satverbal                 NaN      NaN     NaN      NaN\n",
       "satmath                   NaN      NaN     NaN      NaN\n",
       "gpaoverall                NaN      NaN     NaN      NaN\n",
       "gpaenglish                NaN      NaN     NaN      NaN\n",
       "gpamath                   NaN      NaN     NaN      NaN\n",
       "gpascience                NaN      NaN     NaN      NaN\n",
       "highestdegree          1. GED  0. None  1. GED  0. None\n",
       "highestgradecompleted     NaN      NaN     NaN      NaN"
      ]
     },
     "execution_count": 16,
     "metadata": {},
     "output_type": "execute_result"
    }
   ],
   "source": [
    "schoolrecord.loc[misscnt>=7].head(4).T          # 이렇게가 되는구나..?"
   ]
  },
  {
   "cell_type": "code",
   "execution_count": 30,
   "metadata": {},
   "outputs": [],
   "source": [
    "schoolrecord=schoolrecord.dropna(thresh=2)      # 비누락값이 2개 이하인 행이 삭제됨"
   ]
  },
  {
   "cell_type": "code",
   "execution_count": 31,
   "metadata": {},
   "outputs": [
    {
     "data": {
      "text/plain": [
       "0    1087\n",
       "1     312\n",
       "2    3210\n",
       "3    1102\n",
       "4     176\n",
       "5     101\n",
       "6    2039\n",
       "dtype: int64"
      ]
     },
     "execution_count": 31,
     "metadata": {},
     "output_type": "execute_result"
    }
   ],
   "source": [
    "schoolrecord.isna().sum(axis=1).value_counts().sort_index()"
   ]
  },
  {
   "attachments": {},
   "cell_type": "markdown",
   "metadata": {},
   "source": [
    "### 평균값으로 채우기"
   ]
  },
  {
   "cell_type": "code",
   "execution_count": 32,
   "metadata": {},
   "outputs": [
    {
     "data": {
      "text/plain": [
       "0"
      ]
     },
     "execution_count": 32,
     "metadata": {},
     "output_type": "execute_result"
    }
   ],
   "source": [
    "gpamean=int(schoolrecord.gpaoverall.mean())\n",
    "\n",
    "schoolrecord.gpaoverall.fillna(gpamean,inplace=True)\n",
    "schoolrecord.gpaoverall.isna().sum()"
   ]
  },
  {
   "attachments": {},
   "cell_type": "markdown",
   "metadata": {},
   "source": [
    "### 정방향 채우기: fillna의 ffill옵션을 사용해 누락값 이전에 나온 가장 가까운 비누락값으로 대체\n",
    "- 가장 가깝다는게 뭐지?\n",
    "- 데이터 값들이 인접한 행과 공통점이 있다는 근거가 있다면, 정방향 채우기를 추천"
   ]
  },
  {
   "cell_type": "code",
   "execution_count": 34,
   "metadata": {},
   "outputs": [
    {
     "data": {
      "text/plain": [
       "personid\n",
       "100061     12500.0\n",
       "100139    120000.0\n",
       "100284     58000.0\n",
       "100292         NaN\n",
       "100583     30000.0\n",
       "Name: wageincome, dtype: float64"
      ]
     },
     "execution_count": 34,
     "metadata": {},
     "output_type": "execute_result"
    }
   ],
   "source": [
    "demo.wageincome.head().T"
   ]
  },
  {
   "cell_type": "code",
   "execution_count": 36,
   "metadata": {},
   "outputs": [
    {
     "data": {
      "text/plain": [
       "personid\n",
       "100061     12500.0\n",
       "100139    120000.0\n",
       "100284     58000.0\n",
       "100292     58000.0\n",
       "100583     30000.0\n",
       "Name: wageincome, dtype: float64"
      ]
     },
     "execution_count": 36,
     "metadata": {},
     "output_type": "execute_result"
    }
   ],
   "source": [
    "nls97.wageincome.fillna(method='ffill',inplace=True)\n",
    "demo=nls97[demolist]\n",
    "demo.wageincome.head().T"
   ]
  },
  {
   "attachments": {},
   "cell_type": "markdown",
   "metadata": {},
   "source": [
    "### 그룹별 평균으로 채우기\n",
    "- 관심 변수가 그룹 소속에 따라 상당한 차이를 보인다면 그룹 평균을추천"
   ]
  },
  {
   "cell_type": "code",
   "execution_count": 37,
   "metadata": {},
   "outputs": [
    {
     "data": {
      "text/html": [
       "<div>\n",
       "<style scoped>\n",
       "    .dataframe tbody tr th:only-of-type {\n",
       "        vertical-align: middle;\n",
       "    }\n",
       "\n",
       "    .dataframe tbody tr th {\n",
       "        vertical-align: top;\n",
       "    }\n",
       "\n",
       "    .dataframe thead th {\n",
       "        text-align: right;\n",
       "    }\n",
       "</style>\n",
       "<table border=\"1\" class=\"dataframe\">\n",
       "  <thead>\n",
       "    <tr style=\"text-align: right;\">\n",
       "      <th></th>\n",
       "      <th>highestdegree</th>\n",
       "      <th>weeksworked17</th>\n",
       "    </tr>\n",
       "    <tr>\n",
       "      <th>personid</th>\n",
       "      <th></th>\n",
       "      <th></th>\n",
       "    </tr>\n",
       "  </thead>\n",
       "  <tbody>\n",
       "    <tr>\n",
       "      <th>100061</th>\n",
       "      <td>2. High School</td>\n",
       "      <td>48.0</td>\n",
       "    </tr>\n",
       "    <tr>\n",
       "      <th>100139</th>\n",
       "      <td>2. High School</td>\n",
       "      <td>52.0</td>\n",
       "    </tr>\n",
       "    <tr>\n",
       "      <th>100284</th>\n",
       "      <td>0. None</td>\n",
       "      <td>0.0</td>\n",
       "    </tr>\n",
       "    <tr>\n",
       "      <th>100292</th>\n",
       "      <td>4. Bachelors</td>\n",
       "      <td>NaN</td>\n",
       "    </tr>\n",
       "    <tr>\n",
       "      <th>100583</th>\n",
       "      <td>2. High School</td>\n",
       "      <td>52.0</td>\n",
       "    </tr>\n",
       "  </tbody>\n",
       "</table>\n",
       "</div>"
      ],
      "text/plain": [
       "           highestdegree  weeksworked17\n",
       "personid                               \n",
       "100061    2. High School           48.0\n",
       "100139    2. High School           52.0\n",
       "100284           0. None            0.0\n",
       "100292      4. Bachelors            NaN\n",
       "100583    2. High School           52.0"
      ]
     },
     "execution_count": 37,
     "metadata": {},
     "output_type": "execute_result"
    }
   ],
   "source": [
    "nls97[['highestdegree','weeksworked17']].head()"
   ]
  },
  {
   "cell_type": "code",
   "execution_count": 41,
   "metadata": {},
   "outputs": [
    {
     "data": {
      "text/html": [
       "<div>\n",
       "<style scoped>\n",
       "    .dataframe tbody tr th:only-of-type {\n",
       "        vertical-align: middle;\n",
       "    }\n",
       "\n",
       "    .dataframe tbody tr th {\n",
       "        vertical-align: top;\n",
       "    }\n",
       "\n",
       "    .dataframe thead th {\n",
       "        text-align: right;\n",
       "    }\n",
       "</style>\n",
       "<table border=\"1\" class=\"dataframe\">\n",
       "  <thead>\n",
       "    <tr style=\"text-align: right;\">\n",
       "      <th></th>\n",
       "      <th>highestdegree</th>\n",
       "      <th>weeksworked17</th>\n",
       "      <th>meanweeksworked17</th>\n",
       "    </tr>\n",
       "    <tr>\n",
       "      <th>personid</th>\n",
       "      <th></th>\n",
       "      <th></th>\n",
       "      <th></th>\n",
       "    </tr>\n",
       "  </thead>\n",
       "  <tbody>\n",
       "    <tr>\n",
       "      <th>100061</th>\n",
       "      <td>2. High School</td>\n",
       "      <td>48.000000</td>\n",
       "      <td>38.150469</td>\n",
       "    </tr>\n",
       "    <tr>\n",
       "      <th>100139</th>\n",
       "      <td>2. High School</td>\n",
       "      <td>52.000000</td>\n",
       "      <td>38.150469</td>\n",
       "    </tr>\n",
       "    <tr>\n",
       "      <th>100284</th>\n",
       "      <td>0. None</td>\n",
       "      <td>0.000000</td>\n",
       "      <td>28.719608</td>\n",
       "    </tr>\n",
       "    <tr>\n",
       "      <th>100292</th>\n",
       "      <td>4. Bachelors</td>\n",
       "      <td>43.565574</td>\n",
       "      <td>43.565574</td>\n",
       "    </tr>\n",
       "    <tr>\n",
       "      <th>100583</th>\n",
       "      <td>2. High School</td>\n",
       "      <td>52.000000</td>\n",
       "      <td>38.150469</td>\n",
       "    </tr>\n",
       "  </tbody>\n",
       "</table>\n",
       "</div>"
      ],
      "text/plain": [
       "           highestdegree  weeksworked17  meanweeksworked17\n",
       "personid                                                  \n",
       "100061    2. High School      48.000000          38.150469\n",
       "100139    2. High School      52.000000          38.150469\n",
       "100284           0. None       0.000000          28.719608\n",
       "100292      4. Bachelors      43.565574          43.565574\n",
       "100583    2. High School      52.000000          38.150469"
      ]
     },
     "execution_count": 41,
     "metadata": {},
     "output_type": "execute_result"
    }
   ],
   "source": [
    "workbydegree=nls97.groupby(['highestdegree'])['weeksworked17'].mean().reset_index().rename(columns={'weeksworked17':'meanweeksworked17'})\n",
    "nls97=nls97.reset_index().merge(workbydegree,left_on=['highestdegree'],right_on=['highestdegree'],how='left').set_index('personid')\n",
    "nls97.weeksworked17.fillna(nls97.meanweeksworked17,inplace=True)\n",
    "nls97[['highestdegree','weeksworked17','meanweeksworked17']].head()"
   ]
  }
 ],
 "metadata": {
  "kernelspec": {
   "display_name": "Python 3",
   "language": "python",
   "name": "python3"
  },
  "language_info": {
   "codemirror_mode": {
    "name": "ipython",
    "version": 3
   },
   "file_extension": ".py",
   "mimetype": "text/x-python",
   "name": "python",
   "nbconvert_exporter": "python",
   "pygments_lexer": "ipython3",
   "version": "3.10.9"
  },
  "orig_nbformat": 4
 },
 "nbformat": 4,
 "nbformat_minor": 2
}
