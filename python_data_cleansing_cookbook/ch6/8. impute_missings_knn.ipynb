{
 "cells": [
  {
   "attachments": {},
   "cell_type": "markdown",
   "metadata": {},
   "source": [
    "## K-최근접 이웃으로 누락값 대치\n",
    "- 직관적이고 실행하기 쉬워, 변수와 관측값이 많지 않을 때 사용하기 좋다.\n",
    "- 어떤 값으로 채울지 결정하는 데에 이용된다.\n",
    "- 범주형 데이터의 누락값도 이걸로 대치가 되나?\n"
   ]
  },
  {
   "cell_type": "code",
   "execution_count": 1,
   "metadata": {},
   "outputs": [],
   "source": [
    "import pandas as pd\n",
    "from sklearn.impute import KNNImputer\n",
    "\n",
    "nls97=pd.read_csv('C:/data-cleansing-main/Chapter06/data/nls97c.csv')\n",
    "nls97.set_index('personid',inplace=True)"
   ]
  },
  {
   "cell_type": "code",
   "execution_count": 2,
   "metadata": {},
   "outputs": [],
   "source": [
    "schoolrecordlist = ['satverbal','satmath','gpaoverall','gpaenglish','gpamath','gpascience','highestgradecompleted']\n",
    "schoolrecord = nls97[schoolrecordlist]\n",
    "\n",
    "# KNNImputer 모듈을 초기화하고 누락값 대치\n",
    "impKNN=KNNImputer(n_neighbors=5)\n",
    "newvalues=impKNN.fit_transform(schoolrecord)                                                # KNN을 적용해 얻은 값\n",
    "\n",
    "schoolrecordimp=pd.DataFrame(newvalues,columns=schoolrecordlist,index=schoolrecord.index)   # KNN을 적용해 얻은 값, 컬럼 이름, 인덱스를 가지고 새로운 데이터프레임 생성"
   ]
  },
  {
   "cell_type": "code",
   "execution_count": 9,
   "metadata": {},
   "outputs": [
    {
     "data": {
      "text/plain": [
       "array([[446.   , 460.   ,   3.06 , ..., 280.   , 315.   ,  13.   ],\n",
       "       [412.   , 470.   ,   2.346, ..., 218.   , 247.8  ,  12.   ],\n",
       "       [290.8  , 285.2  ,   2.548, ..., 244.6  , 258.   ,   7.   ],\n",
       "       ...,\n",
       "       [412.   , 470.   ,   2.346, ..., 218.   , 247.8  ,  12.   ],\n",
       "       [412.   , 470.   ,   2.346, ..., 218.   , 247.8  ,  12.   ],\n",
       "       [460.   , 660.   ,   3.78 , ..., 343.   , 333.   ,  17.   ]])"
      ]
     },
     "execution_count": 9,
     "metadata": {},
     "output_type": "execute_result"
    }
   ],
   "source": [
    "newvalues"
   ]
  },
  {
   "cell_type": "code",
   "execution_count": 3,
   "metadata": {},
   "outputs": [
    {
     "data": {
      "text/html": [
       "<div>\n",
       "<style scoped>\n",
       "    .dataframe tbody tr th:only-of-type {\n",
       "        vertical-align: middle;\n",
       "    }\n",
       "\n",
       "    .dataframe tbody tr th {\n",
       "        vertical-align: top;\n",
       "    }\n",
       "\n",
       "    .dataframe thead th {\n",
       "        text-align: right;\n",
       "    }\n",
       "</style>\n",
       "<table border=\"1\" class=\"dataframe\">\n",
       "  <thead>\n",
       "    <tr style=\"text-align: right;\">\n",
       "      <th>personid</th>\n",
       "      <th>100061</th>\n",
       "      <th>100139</th>\n",
       "      <th>100284</th>\n",
       "      <th>100292</th>\n",
       "      <th>100583</th>\n",
       "    </tr>\n",
       "  </thead>\n",
       "  <tbody>\n",
       "    <tr>\n",
       "      <th>satverbal</th>\n",
       "      <td>NaN</td>\n",
       "      <td>NaN</td>\n",
       "      <td>NaN</td>\n",
       "      <td>NaN</td>\n",
       "      <td>NaN</td>\n",
       "    </tr>\n",
       "    <tr>\n",
       "      <th>satmath</th>\n",
       "      <td>NaN</td>\n",
       "      <td>NaN</td>\n",
       "      <td>NaN</td>\n",
       "      <td>NaN</td>\n",
       "      <td>NaN</td>\n",
       "    </tr>\n",
       "    <tr>\n",
       "      <th>gpaoverall</th>\n",
       "      <td>3.06</td>\n",
       "      <td>NaN</td>\n",
       "      <td>NaN</td>\n",
       "      <td>3.45</td>\n",
       "      <td>2.91</td>\n",
       "    </tr>\n",
       "    <tr>\n",
       "      <th>gpaenglish</th>\n",
       "      <td>350.00</td>\n",
       "      <td>NaN</td>\n",
       "      <td>NaN</td>\n",
       "      <td>345.00</td>\n",
       "      <td>283.00</td>\n",
       "    </tr>\n",
       "    <tr>\n",
       "      <th>gpamath</th>\n",
       "      <td>280.00</td>\n",
       "      <td>NaN</td>\n",
       "      <td>NaN</td>\n",
       "      <td>370.00</td>\n",
       "      <td>285.00</td>\n",
       "    </tr>\n",
       "    <tr>\n",
       "      <th>gpascience</th>\n",
       "      <td>315.00</td>\n",
       "      <td>NaN</td>\n",
       "      <td>NaN</td>\n",
       "      <td>300.00</td>\n",
       "      <td>240.00</td>\n",
       "    </tr>\n",
       "    <tr>\n",
       "      <th>highestgradecompleted</th>\n",
       "      <td>13.00</td>\n",
       "      <td>12.0</td>\n",
       "      <td>7.0</td>\n",
       "      <td>NaN</td>\n",
       "      <td>13.00</td>\n",
       "    </tr>\n",
       "  </tbody>\n",
       "</table>\n",
       "</div>"
      ],
      "text/plain": [
       "personid               100061  100139  100284  100292  100583\n",
       "satverbal                 NaN     NaN     NaN     NaN     NaN\n",
       "satmath                   NaN     NaN     NaN     NaN     NaN\n",
       "gpaoverall               3.06     NaN     NaN    3.45    2.91\n",
       "gpaenglish             350.00     NaN     NaN  345.00  283.00\n",
       "gpamath                280.00     NaN     NaN  370.00  285.00\n",
       "gpascience             315.00     NaN     NaN  300.00  240.00\n",
       "highestgradecompleted   13.00    12.0     7.0     NaN   13.00"
      ]
     },
     "execution_count": 3,
     "metadata": {},
     "output_type": "execute_result"
    }
   ],
   "source": [
    "schoolrecord.head().T"
   ]
  },
  {
   "cell_type": "code",
   "execution_count": 4,
   "metadata": {},
   "outputs": [
    {
     "data": {
      "text/html": [
       "<div>\n",
       "<style scoped>\n",
       "    .dataframe tbody tr th:only-of-type {\n",
       "        vertical-align: middle;\n",
       "    }\n",
       "\n",
       "    .dataframe tbody tr th {\n",
       "        vertical-align: top;\n",
       "    }\n",
       "\n",
       "    .dataframe thead th {\n",
       "        text-align: right;\n",
       "    }\n",
       "</style>\n",
       "<table border=\"1\" class=\"dataframe\">\n",
       "  <thead>\n",
       "    <tr style=\"text-align: right;\">\n",
       "      <th>personid</th>\n",
       "      <th>100061</th>\n",
       "      <th>100139</th>\n",
       "      <th>100284</th>\n",
       "      <th>100292</th>\n",
       "      <th>100583</th>\n",
       "    </tr>\n",
       "  </thead>\n",
       "  <tbody>\n",
       "    <tr>\n",
       "      <th>satverbal</th>\n",
       "      <td>446.00</td>\n",
       "      <td>412.000</td>\n",
       "      <td>290.800</td>\n",
       "      <td>534.00</td>\n",
       "      <td>414.00</td>\n",
       "    </tr>\n",
       "    <tr>\n",
       "      <th>satmath</th>\n",
       "      <td>460.00</td>\n",
       "      <td>470.000</td>\n",
       "      <td>285.200</td>\n",
       "      <td>560.00</td>\n",
       "      <td>454.00</td>\n",
       "    </tr>\n",
       "    <tr>\n",
       "      <th>gpaoverall</th>\n",
       "      <td>3.06</td>\n",
       "      <td>2.346</td>\n",
       "      <td>2.548</td>\n",
       "      <td>3.45</td>\n",
       "      <td>2.91</td>\n",
       "    </tr>\n",
       "    <tr>\n",
       "      <th>gpaenglish</th>\n",
       "      <td>350.00</td>\n",
       "      <td>232.400</td>\n",
       "      <td>136.000</td>\n",
       "      <td>345.00</td>\n",
       "      <td>283.00</td>\n",
       "    </tr>\n",
       "    <tr>\n",
       "      <th>gpamath</th>\n",
       "      <td>280.00</td>\n",
       "      <td>218.000</td>\n",
       "      <td>244.600</td>\n",
       "      <td>370.00</td>\n",
       "      <td>285.00</td>\n",
       "    </tr>\n",
       "    <tr>\n",
       "      <th>gpascience</th>\n",
       "      <td>315.00</td>\n",
       "      <td>247.800</td>\n",
       "      <td>258.000</td>\n",
       "      <td>300.00</td>\n",
       "      <td>240.00</td>\n",
       "    </tr>\n",
       "    <tr>\n",
       "      <th>highestgradecompleted</th>\n",
       "      <td>13.00</td>\n",
       "      <td>12.000</td>\n",
       "      <td>7.000</td>\n",
       "      <td>9.80</td>\n",
       "      <td>13.00</td>\n",
       "    </tr>\n",
       "  </tbody>\n",
       "</table>\n",
       "</div>"
      ],
      "text/plain": [
       "personid               100061   100139   100284  100292  100583\n",
       "satverbal              446.00  412.000  290.800  534.00  414.00\n",
       "satmath                460.00  470.000  285.200  560.00  454.00\n",
       "gpaoverall               3.06    2.346    2.548    3.45    2.91\n",
       "gpaenglish             350.00  232.400  136.000  345.00  283.00\n",
       "gpamath                280.00  218.000  244.600  370.00  285.00\n",
       "gpascience             315.00  247.800  258.000  300.00  240.00\n",
       "highestgradecompleted   13.00   12.000    7.000    9.80   13.00"
      ]
     },
     "execution_count": 4,
     "metadata": {},
     "output_type": "execute_result"
    }
   ],
   "source": [
    "schoolrecordimp.head().T"
   ]
  },
  {
   "cell_type": "code",
   "execution_count": 5,
   "metadata": {},
   "outputs": [
    {
     "data": {
      "text/html": [
       "<div>\n",
       "<style scoped>\n",
       "    .dataframe tbody tr th:only-of-type {\n",
       "        vertical-align: middle;\n",
       "    }\n",
       "\n",
       "    .dataframe tbody tr th {\n",
       "        vertical-align: top;\n",
       "    }\n",
       "\n",
       "    .dataframe thead th {\n",
       "        text-align: right;\n",
       "    }\n",
       "</style>\n",
       "<table border=\"1\" class=\"dataframe\">\n",
       "  <thead>\n",
       "    <tr style=\"text-align: right;\">\n",
       "      <th></th>\n",
       "      <th>gpaoverall</th>\n",
       "      <th>highestgradecompleted</th>\n",
       "    </tr>\n",
       "  </thead>\n",
       "  <tbody>\n",
       "    <tr>\n",
       "      <th>mean</th>\n",
       "      <td>2.818408</td>\n",
       "      <td>14.059883</td>\n",
       "    </tr>\n",
       "    <tr>\n",
       "      <th>count</th>\n",
       "      <td>6004.000000</td>\n",
       "      <td>6663.000000</td>\n",
       "    </tr>\n",
       "  </tbody>\n",
       "</table>\n",
       "</div>"
      ],
      "text/plain": [
       "        gpaoverall  highestgradecompleted\n",
       "mean      2.818408              14.059883\n",
       "count  6004.000000            6663.000000"
      ]
     },
     "execution_count": 5,
     "metadata": {},
     "output_type": "execute_result"
    }
   ],
   "source": [
    "# 요약통계 비교\n",
    "schoolrecord[['gpaoverall','highestgradecompleted']].agg(['mean','count'])"
   ]
  },
  {
   "cell_type": "code",
   "execution_count": 6,
   "metadata": {},
   "outputs": [
    {
     "data": {
      "text/html": [
       "<div>\n",
       "<style scoped>\n",
       "    .dataframe tbody tr th:only-of-type {\n",
       "        vertical-align: middle;\n",
       "    }\n",
       "\n",
       "    .dataframe tbody tr th {\n",
       "        vertical-align: top;\n",
       "    }\n",
       "\n",
       "    .dataframe thead th {\n",
       "        text-align: right;\n",
       "    }\n",
       "</style>\n",
       "<table border=\"1\" class=\"dataframe\">\n",
       "  <thead>\n",
       "    <tr style=\"text-align: right;\">\n",
       "      <th></th>\n",
       "      <th>gpaoverall</th>\n",
       "      <th>highestgradecompleted</th>\n",
       "    </tr>\n",
       "  </thead>\n",
       "  <tbody>\n",
       "    <tr>\n",
       "      <th>mean</th>\n",
       "      <td>2.775159</td>\n",
       "      <td>13.505609</td>\n",
       "    </tr>\n",
       "    <tr>\n",
       "      <th>count</th>\n",
       "      <td>8984.000000</td>\n",
       "      <td>8984.000000</td>\n",
       "    </tr>\n",
       "  </tbody>\n",
       "</table>\n",
       "</div>"
      ],
      "text/plain": [
       "        gpaoverall  highestgradecompleted\n",
       "mean      2.775159              13.505609\n",
       "count  8984.000000            8984.000000"
      ]
     },
     "execution_count": 6,
     "metadata": {},
     "output_type": "execute_result"
    }
   ],
   "source": [
    "schoolrecordimp[['gpaoverall','highestgradecompleted']].agg(['mean','count'])"
   ]
  }
 ],
 "metadata": {
  "kernelspec": {
   "display_name": "Python 3",
   "language": "python",
   "name": "python3"
  },
  "language_info": {
   "codemirror_mode": {
    "name": "ipython",
    "version": 3
   },
   "file_extension": ".py",
   "mimetype": "text/x-python",
   "name": "python",
   "nbconvert_exporter": "python",
   "pygments_lexer": "ipython3",
   "version": "3.10.9"
  },
  "orig_nbformat": 4
 },
 "nbformat": 4,
 "nbformat_minor": 2
}
