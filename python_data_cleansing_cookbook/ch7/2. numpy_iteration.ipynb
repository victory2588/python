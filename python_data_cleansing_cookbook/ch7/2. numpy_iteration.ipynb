{
 "cells": [
  {
   "attachments": {},
   "cell_type": "markdown",
   "metadata": {},
   "source": [
    "## 넘파이 배열의 그룹별 요약 계산"
   ]
  },
  {
   "cell_type": "code",
   "execution_count": 1,
   "metadata": {},
   "outputs": [],
   "source": [
    "import pandas as pd\n",
    "import numpy as np\n",
    "\n",
    "coviddaily=pd.read_csv('C:/data-cleansing-main/Chapter07/data/coviddaily720.csv',parse_dates=['casedate'])\n",
    "ltbrazil=pd.read_csv('C:/data-cleansing-main/Chapter07/data/ltbrazil.csv')"
   ]
  },
  {
   "cell_type": "code",
   "execution_count": 8,
   "metadata": {},
   "outputs": [],
   "source": [
    "loclist=coviddaily.location.unique().tolist()       # tolist: array를 list로 전환"
   ]
  },
  {
   "cell_type": "code",
   "execution_count": 15,
   "metadata": {},
   "outputs": [],
   "source": [
    "rowlist=[]\n",
    "casevalues=coviddaily[['location','new_cases']].to_numpy()\n",
    "\n",
    "for locitem in loclist:\n",
    "    cases=[casevalues[j][1] for j in range(len(casevalues))\n",
    "           if casevalues[j][0]==locitem]\n",
    "    rowlist.append(sum(cases))"
   ]
  },
  {
   "cell_type": "code",
   "execution_count": 19,
   "metadata": {},
   "outputs": [
    {
     "data": {
      "text/plain": [
       "[34451.0, 3371.0, 18712.0, 855.0, 483.0]"
      ]
     },
     "execution_count": 19,
     "metadata": {},
     "output_type": "execute_result"
    }
   ],
   "source": [
    "len(rowlist)\n",
    "len(loclist)\n",
    "rowlist[0:5]"
   ]
  },
  {
   "cell_type": "code",
   "execution_count": 20,
   "metadata": {},
   "outputs": [
    {
     "data": {
      "text/html": [
       "<div>\n",
       "<style scoped>\n",
       "    .dataframe tbody tr th:only-of-type {\n",
       "        vertical-align: middle;\n",
       "    }\n",
       "\n",
       "    .dataframe tbody tr th {\n",
       "        vertical-align: top;\n",
       "    }\n",
       "\n",
       "    .dataframe thead th {\n",
       "        text-align: right;\n",
       "    }\n",
       "</style>\n",
       "<table border=\"1\" class=\"dataframe\">\n",
       "  <thead>\n",
       "    <tr style=\"text-align: right;\">\n",
       "      <th></th>\n",
       "      <th>location</th>\n",
       "      <th>casetotals</th>\n",
       "    </tr>\n",
       "  </thead>\n",
       "  <tbody>\n",
       "    <tr>\n",
       "      <th>0</th>\n",
       "      <td>Afghanistan</td>\n",
       "      <td>34451.0</td>\n",
       "    </tr>\n",
       "    <tr>\n",
       "      <th>1</th>\n",
       "      <td>Albania</td>\n",
       "      <td>3371.0</td>\n",
       "    </tr>\n",
       "    <tr>\n",
       "      <th>2</th>\n",
       "      <td>Algeria</td>\n",
       "      <td>18712.0</td>\n",
       "    </tr>\n",
       "    <tr>\n",
       "      <th>3</th>\n",
       "      <td>Andorra</td>\n",
       "      <td>855.0</td>\n",
       "    </tr>\n",
       "    <tr>\n",
       "      <th>4</th>\n",
       "      <td>Angola</td>\n",
       "      <td>483.0</td>\n",
       "    </tr>\n",
       "  </tbody>\n",
       "</table>\n",
       "</div>"
      ],
      "text/plain": [
       "      location  casetotals\n",
       "0  Afghanistan     34451.0\n",
       "1      Albania      3371.0\n",
       "2      Algeria     18712.0\n",
       "3      Andorra       855.0\n",
       "4       Angola       483.0"
      ]
     },
     "execution_count": 20,
     "metadata": {},
     "output_type": "execute_result"
    }
   ],
   "source": [
    "casetotals=pd.DataFrame(zip(loclist,rowlist),columns=['location','casetotals'])\n",
    "casetotals[0:5]"
   ]
  },
  {
   "cell_type": "code",
   "execution_count": 21,
   "metadata": {},
   "outputs": [],
   "source": [
    "ltbrazil=ltbrazil.sort_values(['station','month'])\n",
    "ltbrazil=ltbrazil.dropna(subset=['temperature'])"
   ]
  },
  {
   "cell_type": "code",
   "execution_count": 23,
   "metadata": {},
   "outputs": [
    {
     "data": {
      "text/plain": [
       "[{'station': 'ALTAMIRA', 'avgtemp': 28.310000000000002, 'stationcnt': 5},\n",
       " {'station': 'ALTA_FLORESTA_AERO',\n",
       "  'avgtemp': 29.433636363636367,\n",
       "  'stationcnt': 11},\n",
       " {'station': 'ARAXA', 'avgtemp': 21.612499999999997, 'stationcnt': 4},\n",
       " {'station': 'BACABAL', 'avgtemp': 29.75, 'stationcnt': 4},\n",
       " {'station': 'BAGE', 'avgtemp': 20.366666666666664, 'stationcnt': 9}]"
      ]
     },
     "execution_count": 23,
     "metadata": {},
     "output_type": "execute_result"
    }
   ],
   "source": [
    "prevstation = 'ZZZ'\n",
    "prevtemp = 0\n",
    "rowlist = []\n",
    "tempvalues = ltbrazil[['station','temperature']].to_numpy()\n",
    "for j in range(len(tempvalues)):\n",
    "  station = tempvalues[j][0]\n",
    "  temperature = tempvalues[j][1]\n",
    "  if (prevstation!=station):\n",
    "    if (prevstation!='ZZZ'):\n",
    "      rowlist.append({'station':prevstation, 'avgtemp':tempcnt/stationcnt, 'stationcnt':stationcnt})\n",
    "    tempcnt = 0\n",
    "    stationcnt = 0\n",
    "    prevstation = station\n",
    "  \n",
    "  if ((0 <= abs(temperature-prevtemp) <= 3) or (stationcnt==0)):\n",
    "    tempcnt += temperature\n",
    "    stationcnt += 1\n",
    "  \n",
    "  prevtemp = temperature\n",
    "rowlist.append({'station':prevstation, 'avgtemp':tempcnt/stationcnt, 'stationcnt':stationcnt})\n",
    "\n",
    "rowlist[0:5]"
   ]
  },
  {
   "cell_type": "code",
   "execution_count": 24,
   "metadata": {},
   "outputs": [
    {
     "data": {
      "text/html": [
       "<div>\n",
       "<style scoped>\n",
       "    .dataframe tbody tr th:only-of-type {\n",
       "        vertical-align: middle;\n",
       "    }\n",
       "\n",
       "    .dataframe tbody tr th {\n",
       "        vertical-align: top;\n",
       "    }\n",
       "\n",
       "    .dataframe thead th {\n",
       "        text-align: right;\n",
       "    }\n",
       "</style>\n",
       "<table border=\"1\" class=\"dataframe\">\n",
       "  <thead>\n",
       "    <tr style=\"text-align: right;\">\n",
       "      <th></th>\n",
       "      <th>station</th>\n",
       "      <th>avgtemp</th>\n",
       "      <th>stationcnt</th>\n",
       "    </tr>\n",
       "  </thead>\n",
       "  <tbody>\n",
       "    <tr>\n",
       "      <th>0</th>\n",
       "      <td>ALTAMIRA</td>\n",
       "      <td>28.310000</td>\n",
       "      <td>5</td>\n",
       "    </tr>\n",
       "    <tr>\n",
       "      <th>1</th>\n",
       "      <td>ALTA_FLORESTA_AERO</td>\n",
       "      <td>29.433636</td>\n",
       "      <td>11</td>\n",
       "    </tr>\n",
       "    <tr>\n",
       "      <th>2</th>\n",
       "      <td>ARAXA</td>\n",
       "      <td>21.612500</td>\n",
       "      <td>4</td>\n",
       "    </tr>\n",
       "    <tr>\n",
       "      <th>3</th>\n",
       "      <td>BACABAL</td>\n",
       "      <td>29.750000</td>\n",
       "      <td>4</td>\n",
       "    </tr>\n",
       "    <tr>\n",
       "      <th>4</th>\n",
       "      <td>BAGE</td>\n",
       "      <td>20.366667</td>\n",
       "      <td>9</td>\n",
       "    </tr>\n",
       "  </tbody>\n",
       "</table>\n",
       "</div>"
      ],
      "text/plain": [
       "              station    avgtemp  stationcnt\n",
       "0            ALTAMIRA  28.310000           5\n",
       "1  ALTA_FLORESTA_AERO  29.433636          11\n",
       "2               ARAXA  21.612500           4\n",
       "3             BACABAL  29.750000           4\n",
       "4                BAGE  20.366667           9"
      ]
     },
     "execution_count": 24,
     "metadata": {},
     "output_type": "execute_result"
    }
   ],
   "source": [
    "ltbrazilavgs=pd.DataFrame(rowlist)\n",
    "ltbrazilavgs.head()"
   ]
  },
  {
   "attachments": {},
   "cell_type": "markdown",
   "metadata": {},
   "source": [
    "## 정리\n",
    "1. 데이터를 순회할 필요가 있을 때, 넘파이 배열을 사용하는 것이 일반적으로 더 빠르다."
   ]
  }
 ],
 "metadata": {
  "kernelspec": {
   "display_name": "Python 3",
   "language": "python",
   "name": "python3"
  },
  "language_info": {
   "codemirror_mode": {
    "name": "ipython",
    "version": 3
   },
   "file_extension": ".py",
   "mimetype": "text/x-python",
   "name": "python",
   "nbconvert_exporter": "python",
   "pygments_lexer": "ipython3",
   "version": "3.10.9"
  },
  "orig_nbformat": 4
 },
 "nbformat": 4,
 "nbformat_minor": 2
}
