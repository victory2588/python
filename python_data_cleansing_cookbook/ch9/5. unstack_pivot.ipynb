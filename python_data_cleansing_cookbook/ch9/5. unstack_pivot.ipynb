{
 "cells": [
  {
   "attachments": {},
   "cell_type": "markdown",
   "metadata": {},
   "source": [
    "## unstack과 pivot을 사용해 데이터를 넓은 포멧으로 리셰이핑\n",
    "- 타이디한 데이터를 그렇지 못하게 바꿔야할 때도 있다 -> 관계형 데이터를 잘 다루지 못할 때, 정해진 포맷에 맞춰야 할 때\n",
    "- stack <-> unstack / melt <-> pivot"
   ]
  },
  {
   "cell_type": "code",
   "execution_count": 1,
   "metadata": {},
   "outputs": [],
   "source": [
    "import pandas as pd\n",
    " \n",
    "nls97=pd.read_csv('C:/data-cleansing-main/Chapter09/data/nls97f.csv')\n",
    "nls97.set_index('originalid',inplace=True)"
   ]
  },
  {
   "cell_type": "code",
   "execution_count": 2,
   "metadata": {},
   "outputs": [
    {
     "data": {
      "text/plain": [
       "originalid               \n",
       "1           weeksworked00    53.0\n",
       "            weeksworked01    52.0\n",
       "            weeksworked02     NaN\n",
       "            weeksworked03    42.0\n",
       "            weeksworked04    52.0\n",
       "2           weeksworked00    51.0\n",
       "            weeksworked01    52.0\n",
       "            weeksworked02    44.0\n",
       "            weeksworked03    45.0\n",
       "            weeksworked04    52.0\n",
       "dtype: float64"
      ]
     },
     "execution_count": 2,
     "metadata": {},
     "output_type": "execute_result"
    }
   ],
   "source": [
    "weeksworkedcols = ['weeksworked00','weeksworked01','weeksworked02','weeksworked03','weeksworked04']\n",
    "weeksworkedstacked=nls97[weeksworkedcols].stack(dropna=False)\n",
    "weeksworkedstacked.loc[[1,2]]"
   ]
  },
  {
   "cell_type": "code",
   "execution_count": 4,
   "metadata": {},
   "outputs": [
    {
     "data": {
      "text/html": [
       "<div>\n",
       "<style scoped>\n",
       "    .dataframe tbody tr th:only-of-type {\n",
       "        vertical-align: middle;\n",
       "    }\n",
       "\n",
       "    .dataframe tbody tr th {\n",
       "        vertical-align: top;\n",
       "    }\n",
       "\n",
       "    .dataframe thead th {\n",
       "        text-align: right;\n",
       "    }\n",
       "</style>\n",
       "<table border=\"1\" class=\"dataframe\">\n",
       "  <thead>\n",
       "    <tr style=\"text-align: right;\">\n",
       "      <th></th>\n",
       "      <th>originalid</th>\n",
       "      <th>year</th>\n",
       "      <th>weeksworked</th>\n",
       "    </tr>\n",
       "  </thead>\n",
       "  <tbody>\n",
       "    <tr>\n",
       "      <th>377</th>\n",
       "      <td>1</td>\n",
       "      <td>weeksworked00</td>\n",
       "      <td>53.0</td>\n",
       "    </tr>\n",
       "    <tr>\n",
       "      <th>9361</th>\n",
       "      <td>1</td>\n",
       "      <td>weeksworked01</td>\n",
       "      <td>52.0</td>\n",
       "    </tr>\n",
       "    <tr>\n",
       "      <th>18345</th>\n",
       "      <td>1</td>\n",
       "      <td>weeksworked02</td>\n",
       "      <td>NaN</td>\n",
       "    </tr>\n",
       "    <tr>\n",
       "      <th>27329</th>\n",
       "      <td>1</td>\n",
       "      <td>weeksworked03</td>\n",
       "      <td>42.0</td>\n",
       "    </tr>\n",
       "    <tr>\n",
       "      <th>36313</th>\n",
       "      <td>1</td>\n",
       "      <td>weeksworked04</td>\n",
       "      <td>52.0</td>\n",
       "    </tr>\n",
       "    <tr>\n",
       "      <th>8980</th>\n",
       "      <td>2</td>\n",
       "      <td>weeksworked00</td>\n",
       "      <td>51.0</td>\n",
       "    </tr>\n",
       "    <tr>\n",
       "      <th>17964</th>\n",
       "      <td>2</td>\n",
       "      <td>weeksworked01</td>\n",
       "      <td>52.0</td>\n",
       "    </tr>\n",
       "    <tr>\n",
       "      <th>26948</th>\n",
       "      <td>2</td>\n",
       "      <td>weeksworked02</td>\n",
       "      <td>44.0</td>\n",
       "    </tr>\n",
       "    <tr>\n",
       "      <th>35932</th>\n",
       "      <td>2</td>\n",
       "      <td>weeksworked03</td>\n",
       "      <td>45.0</td>\n",
       "    </tr>\n",
       "    <tr>\n",
       "      <th>44916</th>\n",
       "      <td>2</td>\n",
       "      <td>weeksworked04</td>\n",
       "      <td>52.0</td>\n",
       "    </tr>\n",
       "  </tbody>\n",
       "</table>\n",
       "</div>"
      ],
      "text/plain": [
       "       originalid           year  weeksworked\n",
       "377             1  weeksworked00         53.0\n",
       "9361            1  weeksworked01         52.0\n",
       "18345           1  weeksworked02          NaN\n",
       "27329           1  weeksworked03         42.0\n",
       "36313           1  weeksworked04         52.0\n",
       "8980            2  weeksworked00         51.0\n",
       "17964           2  weeksworked01         52.0\n",
       "26948           2  weeksworked02         44.0\n",
       "35932           2  weeksworked03         45.0\n",
       "44916           2  weeksworked04         52.0"
      ]
     },
     "execution_count": 4,
     "metadata": {},
     "output_type": "execute_result"
    }
   ],
   "source": [
    "# 데이터 녹이기\n",
    "weeksworkedmelted=nls97.reset_index().loc[:,['originalid']+weeksworkedcols].\\\n",
    "    melt(id_vars=['originalid'],value_vars=weeksworkedcols,var_name='year',value_name='weeksworked')\n",
    "\n",
    "weeksworkedmelted.loc[weeksworkedmelted.originalid.isin([1,2])].sort_values(['originalid','year'])"
   ]
  },
  {
   "attachments": {},
   "cell_type": "markdown",
   "metadata": {},
   "source": [
    "### unstack 사용"
   ]
  },
  {
   "cell_type": "code",
   "execution_count": 5,
   "metadata": {},
   "outputs": [
    {
     "data": {
      "text/html": [
       "<div>\n",
       "<style scoped>\n",
       "    .dataframe tbody tr th:only-of-type {\n",
       "        vertical-align: middle;\n",
       "    }\n",
       "\n",
       "    .dataframe tbody tr th {\n",
       "        vertical-align: top;\n",
       "    }\n",
       "\n",
       "    .dataframe thead th {\n",
       "        text-align: right;\n",
       "    }\n",
       "</style>\n",
       "<table border=\"1\" class=\"dataframe\">\n",
       "  <thead>\n",
       "    <tr style=\"text-align: right;\">\n",
       "      <th></th>\n",
       "      <th>weeksworked00</th>\n",
       "      <th>weeksworked01</th>\n",
       "      <th>weeksworked02</th>\n",
       "      <th>weeksworked03</th>\n",
       "      <th>weeksworked04</th>\n",
       "    </tr>\n",
       "    <tr>\n",
       "      <th>originalid</th>\n",
       "      <th></th>\n",
       "      <th></th>\n",
       "      <th></th>\n",
       "      <th></th>\n",
       "      <th></th>\n",
       "    </tr>\n",
       "  </thead>\n",
       "  <tbody>\n",
       "    <tr>\n",
       "      <th>1</th>\n",
       "      <td>53.0</td>\n",
       "      <td>52.0</td>\n",
       "      <td>NaN</td>\n",
       "      <td>42.0</td>\n",
       "      <td>52.0</td>\n",
       "    </tr>\n",
       "    <tr>\n",
       "      <th>2</th>\n",
       "      <td>51.0</td>\n",
       "      <td>52.0</td>\n",
       "      <td>44.0</td>\n",
       "      <td>45.0</td>\n",
       "      <td>52.0</td>\n",
       "    </tr>\n",
       "  </tbody>\n",
       "</table>\n",
       "</div>"
      ],
      "text/plain": [
       "            weeksworked00  weeksworked01  weeksworked02  weeksworked03  \\\n",
       "originalid                                                               \n",
       "1                    53.0           52.0            NaN           42.0   \n",
       "2                    51.0           52.0           44.0           45.0   \n",
       "\n",
       "            weeksworked04  \n",
       "originalid                 \n",
       "1                    52.0  \n",
       "2                    52.0  "
      ]
     },
     "execution_count": 5,
     "metadata": {},
     "output_type": "execute_result"
    }
   ],
   "source": [
    "weeksworked=weeksworkedstacked.unstack()\n",
    "weeksworked.loc[[1,2]]"
   ]
  },
  {
   "attachments": {},
   "cell_type": "markdown",
   "metadata": {},
   "source": [
    "### pivot 사용\n",
    "1. index: 인덱스 열\n",
    "2. columns: 값을 열의 이름으로 추가할 열\n",
    "3. values: 넓은 포맷으로 되돌릴 열들의 이름"
   ]
  },
  {
   "cell_type": "code",
   "execution_count": 20,
   "metadata": {},
   "outputs": [
    {
     "data": {
      "text/html": [
       "<div>\n",
       "<style scoped>\n",
       "    .dataframe tbody tr th:only-of-type {\n",
       "        vertical-align: middle;\n",
       "    }\n",
       "\n",
       "    .dataframe tbody tr th {\n",
       "        vertical-align: top;\n",
       "    }\n",
       "\n",
       "    .dataframe thead th {\n",
       "        text-align: right;\n",
       "    }\n",
       "</style>\n",
       "<table border=\"1\" class=\"dataframe\">\n",
       "  <thead>\n",
       "    <tr style=\"text-align: right;\">\n",
       "      <th></th>\n",
       "      <th>originalid</th>\n",
       "      <th>weeksworked00</th>\n",
       "      <th>weeksworked01</th>\n",
       "      <th>weeksworked02</th>\n",
       "      <th>weeksworked03</th>\n",
       "      <th>weeksworked04</th>\n",
       "    </tr>\n",
       "  </thead>\n",
       "  <tbody>\n",
       "    <tr>\n",
       "      <th>0</th>\n",
       "      <td>1</td>\n",
       "      <td>53.0</td>\n",
       "      <td>52.0</td>\n",
       "      <td>NaN</td>\n",
       "      <td>42.0</td>\n",
       "      <td>52.0</td>\n",
       "    </tr>\n",
       "    <tr>\n",
       "      <th>1</th>\n",
       "      <td>2</td>\n",
       "      <td>51.0</td>\n",
       "      <td>52.0</td>\n",
       "      <td>44.0</td>\n",
       "      <td>45.0</td>\n",
       "      <td>52.0</td>\n",
       "    </tr>\n",
       "  </tbody>\n",
       "</table>\n",
       "</div>"
      ],
      "text/plain": [
       "   originalid  weeksworked00  weeksworked01  weeksworked02  weeksworked03  \\\n",
       "0           1           53.0           52.0            NaN           42.0   \n",
       "1           2           51.0           52.0           44.0           45.0   \n",
       "\n",
       "   weeksworked04  \n",
       "0           52.0  \n",
       "1           52.0  "
      ]
     },
     "execution_count": 20,
     "metadata": {},
     "output_type": "execute_result"
    }
   ],
   "source": [
    "weeksworked=weeksworkedmelted.pivot(index='originalid',columns='year',values=['weeksworked']).reset_index()\n",
    "\n",
    "weeksworked.columns=['originalid']+[col[1] for col in weeksworked.columns[1:]]     # 그 결과로 다중 수준의 열 이름 반환, 두 번째를 꺼냄으로 이를 수정할 수 있음\n",
    "weeksworked.loc[weeksworked.originalid.isin([1,2])]"
   ]
  }
 ],
 "metadata": {
  "kernelspec": {
   "display_name": "Python 3",
   "language": "python",
   "name": "python3"
  },
  "language_info": {
   "codemirror_mode": {
    "name": "ipython",
    "version": 3
   },
   "file_extension": ".py",
   "mimetype": "text/x-python",
   "name": "python",
   "nbconvert_exporter": "python",
   "pygments_lexer": "ipython3",
   "version": "3.10.9"
  },
  "orig_nbformat": 4
 },
 "nbformat": 4,
 "nbformat_minor": 2
}
